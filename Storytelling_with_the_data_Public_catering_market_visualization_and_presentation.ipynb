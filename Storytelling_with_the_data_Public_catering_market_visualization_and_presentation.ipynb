{
  "nbformat": 4,
  "nbformat_minor": 0,
  "metadata": {
    "ExecuteTimeLog": [
      {
        "duration": 448,
        "start_time": "2021-07-15T07:35:54.660Z"
      },
      {
        "duration": 1920,
        "start_time": "2021-07-15T07:36:10.323Z"
      },
      {
        "duration": 315,
        "start_time": "2021-07-15T07:36:12.246Z"
      },
      {
        "duration": 18,
        "start_time": "2021-07-15T07:36:12.564Z"
      },
      {
        "duration": 15,
        "start_time": "2021-07-15T07:36:12.585Z"
      },
      {
        "duration": 25,
        "start_time": "2021-07-15T07:36:12.603Z"
      },
      {
        "duration": 15,
        "start_time": "2021-07-15T07:36:12.631Z"
      },
      {
        "duration": 39,
        "start_time": "2021-07-15T07:36:12.649Z"
      },
      {
        "duration": 37,
        "start_time": "2021-07-15T07:36:12.691Z"
      },
      {
        "duration": 19,
        "start_time": "2021-07-15T07:36:12.731Z"
      },
      {
        "duration": 37,
        "start_time": "2021-07-15T07:36:12.753Z"
      },
      {
        "duration": 35,
        "start_time": "2021-07-15T07:36:12.792Z"
      },
      {
        "duration": 23,
        "start_time": "2021-07-15T07:36:12.829Z"
      },
      {
        "duration": 47,
        "start_time": "2021-07-15T07:36:12.855Z"
      },
      {
        "duration": 3,
        "start_time": "2021-07-15T07:36:12.904Z"
      },
      {
        "duration": 22,
        "start_time": "2021-07-15T07:36:12.909Z"
      },
      {
        "duration": 10,
        "start_time": "2021-07-15T07:36:12.933Z"
      },
      {
        "duration": 42,
        "start_time": "2021-07-15T07:36:12.946Z"
      },
      {
        "duration": 27,
        "start_time": "2021-07-15T07:36:12.990Z"
      },
      {
        "duration": 1079,
        "start_time": "2021-07-15T07:36:13.019Z"
      },
      {
        "duration": 674,
        "start_time": "2021-07-15T07:36:14.103Z"
      },
      {
        "duration": 27,
        "start_time": "2021-07-15T07:36:14.779Z"
      },
      {
        "duration": 534,
        "start_time": "2021-07-15T07:36:14.808Z"
      },
      {
        "duration": 112,
        "start_time": "2021-07-15T07:36:15.233Z"
      },
      {
        "duration": 113,
        "start_time": "2021-07-15T07:36:15.234Z"
      },
      {
        "duration": 106,
        "start_time": "2021-07-15T07:36:15.242Z"
      },
      {
        "duration": 106,
        "start_time": "2021-07-15T07:36:15.244Z"
      },
      {
        "duration": 106,
        "start_time": "2021-07-15T07:36:15.246Z"
      },
      {
        "duration": 107,
        "start_time": "2021-07-15T07:36:15.247Z"
      },
      {
        "duration": 105,
        "start_time": "2021-07-15T07:36:15.250Z"
      },
      {
        "duration": 106,
        "start_time": "2021-07-15T07:36:15.251Z"
      },
      {
        "duration": 105,
        "start_time": "2021-07-15T07:36:15.253Z"
      },
      {
        "duration": 103,
        "start_time": "2021-07-15T07:36:15.257Z"
      },
      {
        "duration": 102,
        "start_time": "2021-07-15T07:36:15.259Z"
      },
      {
        "duration": 102,
        "start_time": "2021-07-15T07:36:15.260Z"
      },
      {
        "duration": 102,
        "start_time": "2021-07-15T07:36:15.261Z"
      },
      {
        "duration": 103,
        "start_time": "2021-07-15T07:36:15.262Z"
      },
      {
        "duration": 103,
        "start_time": "2021-07-15T07:36:15.263Z"
      },
      {
        "duration": 103,
        "start_time": "2021-07-15T07:36:15.264Z"
      },
      {
        "duration": 102,
        "start_time": "2021-07-15T07:36:15.266Z"
      },
      {
        "duration": 666,
        "start_time": "2021-07-15T07:38:10.795Z"
      },
      {
        "duration": 4,
        "start_time": "2021-07-15T07:38:47.922Z"
      },
      {
        "duration": 338,
        "start_time": "2021-07-15T07:39:15.056Z"
      },
      {
        "duration": 719,
        "start_time": "2021-07-15T07:41:54.794Z"
      },
      {
        "duration": 1879,
        "start_time": "2021-07-15T07:42:06.047Z"
      },
      {
        "duration": 279,
        "start_time": "2021-07-15T07:42:07.928Z"
      },
      {
        "duration": 19,
        "start_time": "2021-07-15T07:42:08.210Z"
      },
      {
        "duration": 12,
        "start_time": "2021-07-15T07:42:08.231Z"
      },
      {
        "duration": 58,
        "start_time": "2021-07-15T07:42:08.246Z"
      },
      {
        "duration": 16,
        "start_time": "2021-07-15T07:42:08.306Z"
      },
      {
        "duration": 9,
        "start_time": "2021-07-15T07:42:08.325Z"
      },
      {
        "duration": 63,
        "start_time": "2021-07-15T07:42:08.336Z"
      },
      {
        "duration": 19,
        "start_time": "2021-07-15T07:42:08.403Z"
      },
      {
        "duration": 10,
        "start_time": "2021-07-15T07:42:08.426Z"
      },
      {
        "duration": 28,
        "start_time": "2021-07-15T07:42:08.439Z"
      },
      {
        "duration": 21,
        "start_time": "2021-07-15T07:42:08.485Z"
      },
      {
        "duration": 21,
        "start_time": "2021-07-15T07:42:08.508Z"
      },
      {
        "duration": 3,
        "start_time": "2021-07-15T07:42:08.531Z"
      },
      {
        "duration": 14,
        "start_time": "2021-07-15T07:42:08.537Z"
      },
      {
        "duration": 11,
        "start_time": "2021-07-15T07:42:08.586Z"
      },
      {
        "duration": 14,
        "start_time": "2021-07-15T07:42:08.600Z"
      },
      {
        "duration": 20,
        "start_time": "2021-07-15T07:42:08.616Z"
      },
      {
        "duration": 1085,
        "start_time": "2021-07-15T07:42:08.638Z"
      },
      {
        "duration": 641,
        "start_time": "2021-07-15T07:42:09.726Z"
      },
      {
        "duration": 30,
        "start_time": "2021-07-15T07:42:10.370Z"
      },
      {
        "duration": 538,
        "start_time": "2021-07-15T07:42:10.402Z"
      },
      {
        "duration": -1786,
        "start_time": "2021-07-15T07:42:12.729Z"
      },
      {
        "duration": -1795,
        "start_time": "2021-07-15T07:42:12.740Z"
      },
      {
        "duration": -1795,
        "start_time": "2021-07-15T07:42:12.741Z"
      },
      {
        "duration": -1796,
        "start_time": "2021-07-15T07:42:12.744Z"
      },
      {
        "duration": -1797,
        "start_time": "2021-07-15T07:42:12.746Z"
      },
      {
        "duration": -1798,
        "start_time": "2021-07-15T07:42:12.749Z"
      },
      {
        "duration": -1801,
        "start_time": "2021-07-15T07:42:12.754Z"
      },
      {
        "duration": -1801,
        "start_time": "2021-07-15T07:42:12.755Z"
      },
      {
        "duration": -1801,
        "start_time": "2021-07-15T07:42:12.757Z"
      },
      {
        "duration": -1801,
        "start_time": "2021-07-15T07:42:12.758Z"
      },
      {
        "duration": -1802,
        "start_time": "2021-07-15T07:42:12.761Z"
      },
      {
        "duration": -1802,
        "start_time": "2021-07-15T07:42:12.762Z"
      },
      {
        "duration": -1803,
        "start_time": "2021-07-15T07:42:12.765Z"
      },
      {
        "duration": -1807,
        "start_time": "2021-07-15T07:42:12.770Z"
      },
      {
        "duration": -1807,
        "start_time": "2021-07-15T07:42:12.772Z"
      },
      {
        "duration": -1808,
        "start_time": "2021-07-15T07:42:12.774Z"
      },
      {
        "duration": -1807,
        "start_time": "2021-07-15T07:42:12.775Z"
      },
      {
        "duration": -1808,
        "start_time": "2021-07-15T07:42:12.777Z"
      },
      {
        "duration": 21,
        "start_time": "2021-07-15T07:42:34.578Z"
      },
      {
        "duration": 616,
        "start_time": "2021-07-15T07:42:37.669Z"
      },
      {
        "duration": 2229,
        "start_time": "2021-07-15T07:43:01.549Z"
      },
      {
        "duration": 523,
        "start_time": "2021-07-15T07:43:03.781Z"
      },
      {
        "duration": 18,
        "start_time": "2021-07-15T07:43:04.307Z"
      },
      {
        "duration": 12,
        "start_time": "2021-07-15T07:43:04.328Z"
      },
      {
        "duration": 58,
        "start_time": "2021-07-15T07:43:04.344Z"
      },
      {
        "duration": 15,
        "start_time": "2021-07-15T07:43:04.405Z"
      },
      {
        "duration": 14,
        "start_time": "2021-07-15T07:43:04.422Z"
      },
      {
        "duration": 61,
        "start_time": "2021-07-15T07:43:04.440Z"
      },
      {
        "duration": 20,
        "start_time": "2021-07-15T07:43:04.504Z"
      },
      {
        "duration": 28,
        "start_time": "2021-07-15T07:43:04.526Z"
      },
      {
        "duration": 41,
        "start_time": "2021-07-15T07:43:04.557Z"
      },
      {
        "duration": 26,
        "start_time": "2021-07-15T07:43:04.601Z"
      },
      {
        "duration": 22,
        "start_time": "2021-07-15T07:43:04.630Z"
      },
      {
        "duration": 3,
        "start_time": "2021-07-15T07:43:04.654Z"
      },
      {
        "duration": 39,
        "start_time": "2021-07-15T07:43:04.659Z"
      },
      {
        "duration": 11,
        "start_time": "2021-07-15T07:43:04.701Z"
      },
      {
        "duration": 19,
        "start_time": "2021-07-15T07:43:04.714Z"
      },
      {
        "duration": 51,
        "start_time": "2021-07-15T07:43:04.736Z"
      },
      {
        "duration": 1035,
        "start_time": "2021-07-15T07:43:04.789Z"
      },
      {
        "duration": 646,
        "start_time": "2021-07-15T07:43:05.826Z"
      },
      {
        "duration": 26,
        "start_time": "2021-07-15T07:43:06.475Z"
      },
      {
        "duration": 3,
        "start_time": "2021-07-15T07:43:06.503Z"
      },
      {
        "duration": 23,
        "start_time": "2021-07-15T07:43:06.512Z"
      },
      {
        "duration": 531,
        "start_time": "2021-07-15T07:43:06.538Z"
      },
      {
        "duration": 31,
        "start_time": "2021-07-15T07:43:07.071Z"
      },
      {
        "duration": 506,
        "start_time": "2021-07-15T07:43:07.104Z"
      },
      {
        "duration": 15,
        "start_time": "2021-07-15T07:43:07.613Z"
      },
      {
        "duration": 30,
        "start_time": "2021-07-15T07:43:07.631Z"
      },
      {
        "duration": 700,
        "start_time": "2021-07-15T07:43:07.685Z"
      },
      {
        "duration": 505,
        "start_time": "2021-07-15T07:43:08.388Z"
      },
      {
        "duration": 23,
        "start_time": "2021-07-15T07:43:08.896Z"
      },
      {
        "duration": 446,
        "start_time": "2021-07-15T07:43:08.923Z"
      },
      {
        "duration": 24,
        "start_time": "2021-07-15T07:43:09.372Z"
      },
      {
        "duration": 6,
        "start_time": "2021-07-15T07:43:09.399Z"
      },
      {
        "duration": 218,
        "start_time": "2021-07-15T07:43:09.408Z"
      },
      {
        "duration": 14,
        "start_time": "2021-07-15T07:43:09.629Z"
      },
      {
        "duration": 46,
        "start_time": "2021-07-15T07:43:09.645Z"
      },
      {
        "duration": 3,
        "start_time": "2021-07-15T07:43:09.694Z"
      },
      {
        "duration": 489,
        "start_time": "2021-07-15T07:43:09.699Z"
      },
      {
        "duration": 555,
        "start_time": "2021-07-15T07:43:10.191Z"
      },
      {
        "duration": 80,
        "start_time": "2021-07-15T08:50:52.122Z"
      },
      {
        "duration": 67,
        "start_time": "2021-07-15T08:51:33.518Z"
      },
      {
        "duration": 69,
        "start_time": "2021-07-15T08:52:14.111Z"
      },
      {
        "duration": 562,
        "start_time": "2021-07-15T09:01:18.575Z"
      },
      {
        "duration": 351,
        "start_time": "2021-07-15T09:02:46.482Z"
      },
      {
        "duration": 92,
        "start_time": "2021-07-15T09:03:07.934Z"
      },
      {
        "duration": 83,
        "start_time": "2021-07-15T09:04:10.073Z"
      },
      {
        "duration": 5,
        "start_time": "2021-07-15T10:17:59.294Z"
      },
      {
        "duration": 305,
        "start_time": "2021-07-15T10:18:20.491Z"
      },
      {
        "duration": 425,
        "start_time": "2021-07-15T10:21:57.131Z"
      },
      {
        "duration": 310,
        "start_time": "2021-07-15T10:25:40.296Z"
      },
      {
        "duration": 345,
        "start_time": "2021-07-15T10:25:46.660Z"
      },
      {
        "duration": 168,
        "start_time": "2021-07-15T10:27:02.507Z"
      },
      {
        "duration": 173,
        "start_time": "2021-07-15T10:28:04.823Z"
      },
      {
        "duration": 179,
        "start_time": "2021-07-15T10:28:51.990Z"
      },
      {
        "duration": 317,
        "start_time": "2021-07-15T10:29:13.531Z"
      },
      {
        "duration": 70,
        "start_time": "2021-07-15T10:36:17.650Z"
      },
      {
        "duration": 60,
        "start_time": "2021-07-15T10:36:41.019Z"
      },
      {
        "duration": 7644,
        "start_time": "2021-07-15T10:37:37.596Z"
      },
      {
        "duration": 40,
        "start_time": "2021-07-15T10:38:27.925Z"
      },
      {
        "duration": 306,
        "start_time": "2021-07-15T10:42:08.109Z"
      },
      {
        "duration": 41,
        "start_time": "2021-07-15T10:42:18.730Z"
      },
      {
        "duration": 21,
        "start_time": "2021-07-15T10:47:42.740Z"
      },
      {
        "duration": 23,
        "start_time": "2021-07-15T10:47:57.622Z"
      },
      {
        "duration": 1947,
        "start_time": "2021-07-15T10:48:10.276Z"
      },
      {
        "duration": 342,
        "start_time": "2021-07-15T10:48:12.226Z"
      },
      {
        "duration": 17,
        "start_time": "2021-07-15T10:48:12.571Z"
      },
      {
        "duration": 15,
        "start_time": "2021-07-15T10:48:12.591Z"
      },
      {
        "duration": 24,
        "start_time": "2021-07-15T10:48:12.608Z"
      },
      {
        "duration": 16,
        "start_time": "2021-07-15T10:48:12.635Z"
      },
      {
        "duration": 10,
        "start_time": "2021-07-15T10:48:12.686Z"
      },
      {
        "duration": 35,
        "start_time": "2021-07-15T10:48:12.699Z"
      },
      {
        "duration": 19,
        "start_time": "2021-07-15T10:48:12.737Z"
      },
      {
        "duration": 6,
        "start_time": "2021-07-15T10:48:12.786Z"
      },
      {
        "duration": 24,
        "start_time": "2021-07-15T10:48:12.795Z"
      },
      {
        "duration": 20,
        "start_time": "2021-07-15T10:48:12.822Z"
      },
      {
        "duration": 53,
        "start_time": "2021-07-15T10:48:12.845Z"
      },
      {
        "duration": 3,
        "start_time": "2021-07-15T10:48:12.901Z"
      },
      {
        "duration": 18,
        "start_time": "2021-07-15T10:48:12.906Z"
      },
      {
        "duration": 10,
        "start_time": "2021-07-15T10:48:12.927Z"
      },
      {
        "duration": 13,
        "start_time": "2021-07-15T10:48:12.939Z"
      },
      {
        "duration": 16,
        "start_time": "2021-07-15T10:48:12.985Z"
      },
      {
        "duration": 1026,
        "start_time": "2021-07-15T10:48:13.004Z"
      },
      {
        "duration": 671,
        "start_time": "2021-07-15T10:48:14.033Z"
      },
      {
        "duration": 24,
        "start_time": "2021-07-15T10:48:14.706Z"
      },
      {
        "duration": 200,
        "start_time": "2021-07-15T10:48:14.733Z"
      },
      {
        "duration": 21,
        "start_time": "2021-07-15T10:48:14.938Z"
      },
      {
        "duration": 549,
        "start_time": "2021-07-15T10:48:14.962Z"
      },
      {
        "duration": 20,
        "start_time": "2021-07-15T10:48:15.513Z"
      },
      {
        "duration": 523,
        "start_time": "2021-07-15T10:48:15.535Z"
      },
      {
        "duration": 26,
        "start_time": "2021-07-15T10:48:16.061Z"
      },
      {
        "duration": 23,
        "start_time": "2021-07-15T10:48:16.089Z"
      },
      {
        "duration": 729,
        "start_time": "2021-07-15T10:48:16.115Z"
      },
      {
        "duration": 495,
        "start_time": "2021-07-15T10:48:16.846Z"
      },
      {
        "duration": 22,
        "start_time": "2021-07-15T10:48:17.344Z"
      },
      {
        "duration": 448,
        "start_time": "2021-07-15T10:48:17.385Z"
      },
      {
        "duration": 14,
        "start_time": "2021-07-15T10:48:17.836Z"
      },
      {
        "duration": 4,
        "start_time": "2021-07-15T10:48:17.854Z"
      },
      {
        "duration": 225,
        "start_time": "2021-07-15T10:48:17.885Z"
      },
      {
        "duration": 15,
        "start_time": "2021-07-15T10:48:18.113Z"
      },
      {
        "duration": 10,
        "start_time": "2021-07-15T10:48:18.131Z"
      },
      {
        "duration": 9,
        "start_time": "2021-07-15T10:48:18.143Z"
      },
      {
        "duration": 33,
        "start_time": "2021-07-15T10:48:18.154Z"
      },
      {
        "duration": 899,
        "start_time": "2021-07-15T10:48:18.189Z"
      },
      {
        "duration": 67,
        "start_time": "2021-07-15T10:48:19.090Z"
      },
      {
        "duration": 601,
        "start_time": "2021-07-15T10:48:19.159Z"
      },
      {
        "duration": -100,
        "start_time": "2021-07-15T10:48:19.862Z"
      },
      {
        "duration": 27,
        "start_time": "2021-07-15T10:48:44.874Z"
      },
      {
        "duration": 620,
        "start_time": "2021-07-15T10:48:46.924Z"
      },
      {
        "duration": 468,
        "start_time": "2021-07-15T10:48:53.429Z"
      },
      {
        "duration": 68,
        "start_time": "2021-07-15T10:48:57.240Z"
      },
      {
        "duration": 116,
        "start_time": "2021-07-15T10:49:00.534Z"
      },
      {
        "duration": 42,
        "start_time": "2021-07-15T10:49:09.949Z"
      },
      {
        "duration": 88,
        "start_time": "2021-07-15T10:50:13.974Z"
      },
      {
        "duration": 54,
        "start_time": "2021-07-15T10:59:34.318Z"
      },
      {
        "duration": 85,
        "start_time": "2021-07-15T10:59:49.259Z"
      },
      {
        "duration": 1907,
        "start_time": "2021-07-15T11:22:23.014Z"
      },
      {
        "duration": 366,
        "start_time": "2021-07-15T11:22:24.924Z"
      },
      {
        "duration": 17,
        "start_time": "2021-07-15T11:22:25.293Z"
      },
      {
        "duration": 22,
        "start_time": "2021-07-15T11:22:25.312Z"
      },
      {
        "duration": 26,
        "start_time": "2021-07-15T11:22:25.337Z"
      },
      {
        "duration": 16,
        "start_time": "2021-07-15T11:22:25.386Z"
      },
      {
        "duration": 8,
        "start_time": "2021-07-15T11:22:25.404Z"
      },
      {
        "duration": 36,
        "start_time": "2021-07-15T11:22:25.415Z"
      },
      {
        "duration": 46,
        "start_time": "2021-07-15T11:22:25.455Z"
      },
      {
        "duration": 6,
        "start_time": "2021-07-15T11:22:25.505Z"
      },
      {
        "duration": 27,
        "start_time": "2021-07-15T11:22:25.514Z"
      },
      {
        "duration": 51,
        "start_time": "2021-07-15T11:22:25.543Z"
      },
      {
        "duration": 22,
        "start_time": "2021-07-15T11:22:25.596Z"
      },
      {
        "duration": 3,
        "start_time": "2021-07-15T11:22:25.620Z"
      },
      {
        "duration": 15,
        "start_time": "2021-07-15T11:22:25.625Z"
      },
      {
        "duration": 42,
        "start_time": "2021-07-15T11:22:25.643Z"
      },
      {
        "duration": 13,
        "start_time": "2021-07-15T11:22:25.688Z"
      },
      {
        "duration": 18,
        "start_time": "2021-07-15T11:22:25.704Z"
      },
      {
        "duration": 1160,
        "start_time": "2021-07-15T11:22:25.725Z"
      },
      {
        "duration": 622,
        "start_time": "2021-07-15T11:22:26.887Z"
      },
      {
        "duration": 19,
        "start_time": "2021-07-15T11:22:27.511Z"
      },
      {
        "duration": 202,
        "start_time": "2021-07-15T11:22:27.532Z"
      },
      {
        "duration": 20,
        "start_time": "2021-07-15T11:22:27.736Z"
      },
      {
        "duration": 521,
        "start_time": "2021-07-15T11:22:27.758Z"
      },
      {
        "duration": 20,
        "start_time": "2021-07-15T11:22:28.281Z"
      },
      {
        "duration": 536,
        "start_time": "2021-07-15T11:22:28.303Z"
      },
      {
        "duration": 14,
        "start_time": "2021-07-15T11:22:28.844Z"
      },
      {
        "duration": 42,
        "start_time": "2021-07-15T11:22:28.860Z"
      },
      {
        "duration": 722,
        "start_time": "2021-07-15T11:22:28.905Z"
      },
      {
        "duration": 515,
        "start_time": "2021-07-15T11:22:29.629Z"
      },
      {
        "duration": 39,
        "start_time": "2021-07-15T11:22:30.146Z"
      },
      {
        "duration": 558,
        "start_time": "2021-07-15T11:22:30.188Z"
      },
      {
        "duration": 14,
        "start_time": "2021-07-15T11:22:30.750Z"
      },
      {
        "duration": 5,
        "start_time": "2021-07-15T11:22:30.784Z"
      },
      {
        "duration": 223,
        "start_time": "2021-07-15T11:22:30.791Z"
      },
      {
        "duration": 15,
        "start_time": "2021-07-15T11:22:31.017Z"
      },
      {
        "duration": 9,
        "start_time": "2021-07-15T11:22:31.035Z"
      },
      {
        "duration": 12,
        "start_time": "2021-07-15T11:22:31.046Z"
      },
      {
        "duration": 24,
        "start_time": "2021-07-15T11:22:31.061Z"
      },
      {
        "duration": 1123,
        "start_time": "2021-07-15T11:22:31.088Z"
      },
      {
        "duration": 80,
        "start_time": "2021-07-15T11:22:32.214Z"
      },
      {
        "duration": 3,
        "start_time": "2021-07-15T11:22:32.296Z"
      },
      {
        "duration": 15,
        "start_time": "2021-07-15T11:22:32.302Z"
      },
      {
        "duration": 65,
        "start_time": "2021-07-15T11:25:14.602Z"
      },
      {
        "duration": 683,
        "start_time": "2021-07-15T11:26:22.609Z"
      },
      {
        "duration": 31,
        "start_time": "2021-07-15T11:45:43.623Z"
      },
      {
        "duration": 540,
        "start_time": "2021-07-15T11:45:53.749Z"
      },
      {
        "duration": 109,
        "start_time": "2021-07-15T11:48:04.282Z"
      },
      {
        "duration": 31,
        "start_time": "2021-07-15T11:48:11.472Z"
      },
      {
        "duration": 111,
        "start_time": "2021-07-15T11:48:27.129Z"
      },
      {
        "duration": 105,
        "start_time": "2021-07-15T11:48:46.881Z"
      },
      {
        "duration": 146,
        "start_time": "2021-07-15T11:48:51.673Z"
      },
      {
        "duration": 31,
        "start_time": "2021-07-15T11:50:01.908Z"
      },
      {
        "duration": 509,
        "start_time": "2021-07-15T11:50:15.834Z"
      },
      {
        "duration": 518,
        "start_time": "2021-07-15T11:55:31.308Z"
      },
      {
        "duration": 501,
        "start_time": "2021-07-15T11:56:41.473Z"
      },
      {
        "duration": 443,
        "start_time": "2021-07-15T11:56:49.086Z"
      },
      {
        "duration": 642,
        "start_time": "2021-07-15T11:57:38.325Z"
      },
      {
        "duration": 58,
        "start_time": "2021-07-15T11:58:14.502Z"
      },
      {
        "duration": 25,
        "start_time": "2021-07-15T12:01:06.850Z"
      },
      {
        "duration": 130,
        "start_time": "2021-07-15T12:10:05.613Z"
      },
      {
        "duration": 16,
        "start_time": "2021-07-15T12:11:07.726Z"
      },
      {
        "duration": 25,
        "start_time": "2021-07-15T12:11:22.953Z"
      },
      {
        "duration": 607,
        "start_time": "2021-07-15T12:13:51.848Z"
      },
      {
        "duration": 438,
        "start_time": "2021-07-15T12:15:02.560Z"
      },
      {
        "duration": 355,
        "start_time": "2021-07-15T12:16:20.806Z"
      },
      {
        "duration": 53,
        "start_time": "2021-07-15T12:17:45.627Z"
      },
      {
        "duration": 52,
        "start_time": "2021-07-15T12:20:16.614Z"
      },
      {
        "duration": 54,
        "start_time": "2021-07-15T12:20:25.453Z"
      },
      {
        "duration": 53,
        "start_time": "2021-07-15T12:22:33.335Z"
      },
      {
        "duration": 50,
        "start_time": "2021-07-15T12:25:49.969Z"
      },
      {
        "duration": 299,
        "start_time": "2021-07-15T12:31:20.103Z"
      },
      {
        "duration": 25,
        "start_time": "2021-07-15T12:31:30.596Z"
      },
      {
        "duration": 861,
        "start_time": "2021-07-15T12:33:59.532Z"
      },
      {
        "duration": 69,
        "start_time": "2021-07-15T12:34:07.195Z"
      },
      {
        "duration": 23,
        "start_time": "2021-07-15T12:34:11.410Z"
      },
      {
        "duration": 458,
        "start_time": "2021-07-15T12:34:16.842Z"
      },
      {
        "duration": 78,
        "start_time": "2021-07-15T12:34:21.585Z"
      },
      {
        "duration": 22,
        "start_time": "2021-07-15T12:49:11.962Z"
      },
      {
        "duration": 473,
        "start_time": "2021-07-15T12:55:24.642Z"
      },
      {
        "duration": 68,
        "start_time": "2021-07-15T13:06:20.916Z"
      },
      {
        "duration": 366,
        "start_time": "2021-07-15T13:06:38.472Z"
      },
      {
        "duration": 51,
        "start_time": "2021-07-15T13:06:46.799Z"
      },
      {
        "duration": 41,
        "start_time": "2021-07-15T13:09:09.525Z"
      },
      {
        "duration": 333,
        "start_time": "2021-07-15T13:10:44.438Z"
      },
      {
        "duration": 51,
        "start_time": "2021-07-15T13:11:26.651Z"
      },
      {
        "duration": 15,
        "start_time": "2021-07-15T13:31:10.867Z"
      },
      {
        "duration": 15,
        "start_time": "2021-07-15T13:42:01.135Z"
      },
      {
        "duration": 46,
        "start_time": "2021-07-15T13:44:37.850Z"
      },
      {
        "duration": 46,
        "start_time": "2021-07-15T13:44:41.920Z"
      },
      {
        "duration": 56,
        "start_time": "2021-07-15T13:45:20.565Z"
      },
      {
        "duration": 10,
        "start_time": "2021-07-15T13:51:51.750Z"
      },
      {
        "duration": 435,
        "start_time": "2021-07-15T13:52:29.533Z"
      },
      {
        "duration": 306,
        "start_time": "2021-07-15T13:53:51.478Z"
      },
      {
        "duration": 7,
        "start_time": "2021-07-15T13:54:52.486Z"
      },
      {
        "duration": 6,
        "start_time": "2021-07-15T13:55:56.201Z"
      },
      {
        "duration": 13,
        "start_time": "2021-07-15T14:06:24.298Z"
      },
      {
        "duration": 773,
        "start_time": "2021-07-15T18:59:20.859Z"
      },
      {
        "duration": 659,
        "start_time": "2021-07-15T19:00:51.202Z"
      },
      {
        "duration": 750,
        "start_time": "2021-07-15T19:05:44.113Z"
      },
      {
        "duration": 1133,
        "start_time": "2021-07-15T19:06:19.298Z"
      },
      {
        "duration": 648,
        "start_time": "2021-07-15T19:08:33.554Z"
      },
      {
        "duration": 937,
        "start_time": "2021-07-15T19:09:43.221Z"
      },
      {
        "duration": 674,
        "start_time": "2021-07-15T19:12:51.463Z"
      },
      {
        "duration": 662,
        "start_time": "2021-07-15T19:13:26.842Z"
      },
      {
        "duration": 642,
        "start_time": "2021-07-15T19:13:43.438Z"
      },
      {
        "duration": 9,
        "start_time": "2021-07-15T19:18:56.982Z"
      },
      {
        "duration": 1900,
        "start_time": "2021-07-15T19:27:07.331Z"
      },
      {
        "duration": 252,
        "start_time": "2021-07-15T19:27:09.233Z"
      },
      {
        "duration": 21,
        "start_time": "2021-07-15T19:27:09.488Z"
      },
      {
        "duration": 23,
        "start_time": "2021-07-15T19:27:09.512Z"
      },
      {
        "duration": 50,
        "start_time": "2021-07-15T19:27:09.538Z"
      },
      {
        "duration": 19,
        "start_time": "2021-07-15T19:27:09.591Z"
      },
      {
        "duration": 11,
        "start_time": "2021-07-15T19:27:09.612Z"
      },
      {
        "duration": 72,
        "start_time": "2021-07-15T19:27:09.629Z"
      },
      {
        "duration": 25,
        "start_time": "2021-07-15T19:27:09.704Z"
      },
      {
        "duration": 6,
        "start_time": "2021-07-15T19:27:09.731Z"
      },
      {
        "duration": 49,
        "start_time": "2021-07-15T19:27:09.740Z"
      },
      {
        "duration": 20,
        "start_time": "2021-07-15T19:27:09.791Z"
      },
      {
        "duration": 20,
        "start_time": "2021-07-15T19:27:09.814Z"
      },
      {
        "duration": 3,
        "start_time": "2021-07-15T19:27:09.837Z"
      },
      {
        "duration": 46,
        "start_time": "2021-07-15T19:27:09.843Z"
      },
      {
        "duration": 10,
        "start_time": "2021-07-15T19:27:09.891Z"
      },
      {
        "duration": 13,
        "start_time": "2021-07-15T19:27:09.904Z"
      },
      {
        "duration": 21,
        "start_time": "2021-07-15T19:27:09.919Z"
      },
      {
        "duration": 1082,
        "start_time": "2021-07-15T19:27:09.942Z"
      },
      {
        "duration": 730,
        "start_time": "2021-07-15T19:27:11.028Z"
      },
      {
        "duration": 35,
        "start_time": "2021-07-15T19:27:11.760Z"
      },
      {
        "duration": 190,
        "start_time": "2021-07-15T19:27:11.798Z"
      },
      {
        "duration": 20,
        "start_time": "2021-07-15T19:27:11.994Z"
      },
      {
        "duration": 520,
        "start_time": "2021-07-15T19:27:12.017Z"
      },
      {
        "duration": 20,
        "start_time": "2021-07-15T19:27:12.540Z"
      },
      {
        "duration": 525,
        "start_time": "2021-07-15T19:27:12.563Z"
      },
      {
        "duration": 14,
        "start_time": "2021-07-15T19:27:13.091Z"
      },
      {
        "duration": 28,
        "start_time": "2021-07-15T19:27:13.107Z"
      },
      {
        "duration": 739,
        "start_time": "2021-07-15T19:27:13.137Z"
      },
      {
        "duration": 503,
        "start_time": "2021-07-15T19:27:13.879Z"
      },
      {
        "duration": 26,
        "start_time": "2021-07-15T19:27:14.387Z"
      },
      {
        "duration": 451,
        "start_time": "2021-07-15T19:27:14.416Z"
      },
      {
        "duration": 24,
        "start_time": "2021-07-15T19:27:14.870Z"
      },
      {
        "duration": 10,
        "start_time": "2021-07-15T19:27:14.896Z"
      },
      {
        "duration": 226,
        "start_time": "2021-07-15T19:27:14.909Z"
      },
      {
        "duration": 26,
        "start_time": "2021-07-15T19:27:15.138Z"
      },
      {
        "duration": 4,
        "start_time": "2021-07-15T19:27:15.186Z"
      },
      {
        "duration": 1075,
        "start_time": "2021-07-15T19:27:15.193Z"
      },
      {
        "duration": 73,
        "start_time": "2021-07-15T19:27:16.272Z"
      },
      {
        "duration": 42,
        "start_time": "2021-07-15T19:27:16.348Z"
      },
      {
        "duration": 98,
        "start_time": "2021-07-15T19:27:16.393Z"
      },
      {
        "duration": 645,
        "start_time": "2021-07-15T19:27:16.494Z"
      },
      {
        "duration": 4,
        "start_time": "2021-07-15T19:27:17.142Z"
      },
      {
        "duration": 77,
        "start_time": "2021-07-15T19:27:17.149Z"
      },
      {
        "duration": 11,
        "start_time": "2021-07-15T19:27:17.229Z"
      },
      {
        "duration": 10,
        "start_time": "2021-07-15T19:27:17.243Z"
      },
      {
        "duration": 36,
        "start_time": "2021-07-15T19:27:17.255Z"
      },
      {
        "duration": 675,
        "start_time": "2021-07-15T19:27:17.293Z"
      },
      {
        "duration": 15,
        "start_time": "2021-07-15T19:27:17.970Z"
      },
      {
        "duration": 377,
        "start_time": "2021-07-15T19:41:09.737Z"
      },
      {
        "duration": 337,
        "start_time": "2021-07-15T19:46:29.276Z"
      },
      {
        "duration": 394,
        "start_time": "2021-07-15T19:46:38.305Z"
      },
      {
        "duration": 430,
        "start_time": "2021-07-15T19:46:48.627Z"
      },
      {
        "duration": 484,
        "start_time": "2021-07-15T19:48:17.566Z"
      },
      {
        "duration": 458,
        "start_time": "2021-07-15T19:48:27.455Z"
      },
      {
        "duration": 446,
        "start_time": "2021-07-15T19:48:36.361Z"
      },
      {
        "duration": 452,
        "start_time": "2021-07-15T19:49:05.632Z"
      },
      {
        "duration": 563,
        "start_time": "2021-07-15T19:50:45.134Z"
      },
      {
        "duration": 7,
        "start_time": "2021-07-15T19:51:21.574Z"
      },
      {
        "duration": 2035,
        "start_time": "2021-07-16T08:57:28.090Z"
      },
      {
        "duration": 383,
        "start_time": "2021-07-16T08:57:30.128Z"
      },
      {
        "duration": 18,
        "start_time": "2021-07-16T08:57:30.514Z"
      },
      {
        "duration": 21,
        "start_time": "2021-07-16T08:57:30.535Z"
      },
      {
        "duration": 44,
        "start_time": "2021-07-16T08:57:30.561Z"
      },
      {
        "duration": 20,
        "start_time": "2021-07-16T08:57:30.608Z"
      },
      {
        "duration": 12,
        "start_time": "2021-07-16T08:57:30.631Z"
      },
      {
        "duration": 71,
        "start_time": "2021-07-16T08:57:30.649Z"
      },
      {
        "duration": 19,
        "start_time": "2021-07-16T08:57:30.724Z"
      },
      {
        "duration": 38,
        "start_time": "2021-07-16T08:57:30.747Z"
      },
      {
        "duration": 25,
        "start_time": "2021-07-16T08:57:30.788Z"
      },
      {
        "duration": 23,
        "start_time": "2021-07-16T08:57:30.815Z"
      },
      {
        "duration": 57,
        "start_time": "2021-07-16T08:57:30.841Z"
      },
      {
        "duration": 4,
        "start_time": "2021-07-16T08:57:30.901Z"
      },
      {
        "duration": 39,
        "start_time": "2021-07-16T08:57:30.907Z"
      },
      {
        "duration": 24,
        "start_time": "2021-07-16T08:57:30.948Z"
      },
      {
        "duration": 19,
        "start_time": "2021-07-16T08:57:30.975Z"
      },
      {
        "duration": 36,
        "start_time": "2021-07-16T08:57:30.997Z"
      },
      {
        "duration": 1189,
        "start_time": "2021-07-16T08:57:31.036Z"
      },
      {
        "duration": 845,
        "start_time": "2021-07-16T08:57:32.227Z"
      },
      {
        "duration": 32,
        "start_time": "2021-07-16T08:57:33.074Z"
      },
      {
        "duration": 222,
        "start_time": "2021-07-16T08:57:33.109Z"
      },
      {
        "duration": 20,
        "start_time": "2021-07-16T08:57:33.336Z"
      },
      {
        "duration": 676,
        "start_time": "2021-07-16T08:57:33.359Z"
      },
      {
        "duration": 48,
        "start_time": "2021-07-16T08:57:34.038Z"
      },
      {
        "duration": 547,
        "start_time": "2021-07-16T08:57:34.088Z"
      },
      {
        "duration": 20,
        "start_time": "2021-07-16T08:57:34.638Z"
      },
      {
        "duration": 48,
        "start_time": "2021-07-16T08:57:34.660Z"
      },
      {
        "duration": 753,
        "start_time": "2021-07-16T08:57:34.710Z"
      },
      {
        "duration": 506,
        "start_time": "2021-07-16T08:57:35.466Z"
      },
      {
        "duration": 31,
        "start_time": "2021-07-16T08:57:35.975Z"
      },
      {
        "duration": 638,
        "start_time": "2021-07-16T08:57:36.009Z"
      },
      {
        "duration": 14,
        "start_time": "2021-07-16T08:57:36.650Z"
      },
      {
        "duration": 21,
        "start_time": "2021-07-16T08:57:36.667Z"
      },
      {
        "duration": 234,
        "start_time": "2021-07-16T08:57:36.691Z"
      },
      {
        "duration": 28,
        "start_time": "2021-07-16T08:57:36.928Z"
      },
      {
        "duration": 3,
        "start_time": "2021-07-16T08:57:36.959Z"
      },
      {
        "duration": 1096,
        "start_time": "2021-07-16T08:57:36.986Z"
      },
      {
        "duration": 68,
        "start_time": "2021-07-16T08:57:38.085Z"
      },
      {
        "duration": 38,
        "start_time": "2021-07-16T08:57:38.156Z"
      },
      {
        "duration": 101,
        "start_time": "2021-07-16T08:57:38.197Z"
      },
      {
        "duration": 485,
        "start_time": "2021-07-16T08:57:38.301Z"
      },
      {
        "duration": 4,
        "start_time": "2021-07-16T08:57:38.789Z"
      },
      {
        "duration": 59,
        "start_time": "2021-07-16T08:57:38.795Z"
      },
      {
        "duration": 31,
        "start_time": "2021-07-16T08:57:38.857Z"
      },
      {
        "duration": 7,
        "start_time": "2021-07-16T08:57:38.890Z"
      },
      {
        "duration": 8,
        "start_time": "2021-07-16T08:57:38.900Z"
      },
      {
        "duration": 695,
        "start_time": "2021-07-16T08:57:38.910Z"
      },
      {
        "duration": 8,
        "start_time": "2021-07-16T08:57:39.608Z"
      },
      {
        "duration": 496,
        "start_time": "2021-07-16T08:57:39.618Z"
      },
      {
        "duration": 452,
        "start_time": "2021-07-16T08:57:40.116Z"
      },
      {
        "duration": 426,
        "start_time": "2021-07-16T08:58:25.838Z"
      },
      {
        "duration": 1637,
        "start_time": "2021-07-16T09:31:01.439Z"
      },
      {
        "duration": 26,
        "start_time": "2021-07-16T09:31:33.061Z"
      },
      {
        "duration": -202,
        "start_time": "2021-07-16T09:33:31.348Z"
      },
      {
        "duration": 7578,
        "start_time": "2021-07-16T09:33:38.874Z"
      },
      {
        "duration": 26,
        "start_time": "2021-07-16T09:34:26.452Z"
      },
      {
        "duration": 14151,
        "start_time": "2021-07-16T09:35:11.694Z"
      },
      {
        "duration": 979,
        "start_time": "2021-07-16T09:35:51.030Z"
      },
      {
        "duration": 382,
        "start_time": "2021-07-16T09:37:24.650Z"
      },
      {
        "duration": 866,
        "start_time": "2021-07-16T09:37:36.839Z"
      },
      {
        "duration": 12,
        "start_time": "2021-07-16T09:38:01.180Z"
      },
      {
        "duration": 880,
        "start_time": "2021-07-16T09:38:07.748Z"
      },
      {
        "duration": 1105,
        "start_time": "2021-07-16T09:51:12.151Z"
      },
      {
        "duration": 1974,
        "start_time": "2021-07-16T09:51:35.951Z"
      },
      {
        "duration": 215,
        "start_time": "2021-07-16T09:51:37.929Z"
      },
      {
        "duration": 18,
        "start_time": "2021-07-16T09:51:38.147Z"
      },
      {
        "duration": 20,
        "start_time": "2021-07-16T09:51:38.168Z"
      },
      {
        "duration": 24,
        "start_time": "2021-07-16T09:51:38.191Z"
      },
      {
        "duration": 17,
        "start_time": "2021-07-16T09:51:38.218Z"
      },
      {
        "duration": 10,
        "start_time": "2021-07-16T09:51:38.237Z"
      },
      {
        "duration": 70,
        "start_time": "2021-07-16T09:51:38.250Z"
      },
      {
        "duration": 21,
        "start_time": "2021-07-16T09:51:38.324Z"
      },
      {
        "duration": 7,
        "start_time": "2021-07-16T09:51:38.347Z"
      },
      {
        "duration": 47,
        "start_time": "2021-07-16T09:51:38.357Z"
      },
      {
        "duration": 21,
        "start_time": "2021-07-16T09:51:38.406Z"
      },
      {
        "duration": 21,
        "start_time": "2021-07-16T09:51:38.430Z"
      },
      {
        "duration": 32,
        "start_time": "2021-07-16T09:51:38.453Z"
      },
      {
        "duration": 14,
        "start_time": "2021-07-16T09:51:38.487Z"
      },
      {
        "duration": 10,
        "start_time": "2021-07-16T09:51:38.503Z"
      },
      {
        "duration": 14,
        "start_time": "2021-07-16T09:51:38.515Z"
      },
      {
        "duration": 56,
        "start_time": "2021-07-16T09:51:38.531Z"
      },
      {
        "duration": 1065,
        "start_time": "2021-07-16T09:51:38.589Z"
      },
      {
        "duration": 758,
        "start_time": "2021-07-16T09:51:39.656Z"
      },
      {
        "duration": 20,
        "start_time": "2021-07-16T09:51:40.417Z"
      },
      {
        "duration": 204,
        "start_time": "2021-07-16T09:51:40.440Z"
      },
      {
        "duration": 38,
        "start_time": "2021-07-16T09:51:40.652Z"
      },
      {
        "duration": 521,
        "start_time": "2021-07-16T09:51:40.694Z"
      },
      {
        "duration": 23,
        "start_time": "2021-07-16T09:51:41.218Z"
      },
      {
        "duration": 544,
        "start_time": "2021-07-16T09:51:41.244Z"
      },
      {
        "duration": 14,
        "start_time": "2021-07-16T09:51:41.791Z"
      },
      {
        "duration": 24,
        "start_time": "2021-07-16T09:51:41.807Z"
      },
      {
        "duration": 747,
        "start_time": "2021-07-16T09:51:41.833Z"
      },
      {
        "duration": 507,
        "start_time": "2021-07-16T09:51:42.586Z"
      },
      {
        "duration": 11,
        "start_time": "2021-07-16T09:51:43.095Z"
      },
      {
        "duration": 1310,
        "start_time": "2021-07-16T09:51:43.108Z"
      },
      {
        "duration": -155,
        "start_time": "2021-07-16T09:51:44.576Z"
      },
      {
        "duration": -155,
        "start_time": "2021-07-16T09:51:44.577Z"
      },
      {
        "duration": -155,
        "start_time": "2021-07-16T09:51:44.579Z"
      },
      {
        "duration": -156,
        "start_time": "2021-07-16T09:51:44.582Z"
      },
      {
        "duration": -155,
        "start_time": "2021-07-16T09:51:44.583Z"
      },
      {
        "duration": -155,
        "start_time": "2021-07-16T09:51:44.585Z"
      },
      {
        "duration": -154,
        "start_time": "2021-07-16T09:51:44.586Z"
      },
      {
        "duration": -154,
        "start_time": "2021-07-16T09:51:44.588Z"
      },
      {
        "duration": -153,
        "start_time": "2021-07-16T09:51:44.589Z"
      },
      {
        "duration": -152,
        "start_time": "2021-07-16T09:51:44.590Z"
      },
      {
        "duration": -152,
        "start_time": "2021-07-16T09:51:44.592Z"
      },
      {
        "duration": -151,
        "start_time": "2021-07-16T09:51:44.593Z"
      },
      {
        "duration": -150,
        "start_time": "2021-07-16T09:51:44.594Z"
      },
      {
        "duration": -111,
        "start_time": "2021-07-16T09:51:44.595Z"
      },
      {
        "duration": -110,
        "start_time": "2021-07-16T09:51:44.597Z"
      },
      {
        "duration": -109,
        "start_time": "2021-07-16T09:51:44.598Z"
      },
      {
        "duration": -109,
        "start_time": "2021-07-16T09:51:44.600Z"
      },
      {
        "duration": -107,
        "start_time": "2021-07-16T09:51:44.601Z"
      },
      {
        "duration": -106,
        "start_time": "2021-07-16T09:51:44.602Z"
      },
      {
        "duration": -105,
        "start_time": "2021-07-16T09:51:44.603Z"
      },
      {
        "duration": -104,
        "start_time": "2021-07-16T09:51:44.604Z"
      },
      {
        "duration": 570,
        "start_time": "2021-07-16T09:57:35.768Z"
      },
      {
        "duration": 99,
        "start_time": "2021-07-16T09:58:01.657Z"
      },
      {
        "duration": 103,
        "start_time": "2021-07-16T09:58:07.575Z"
      },
      {
        "duration": 121,
        "start_time": "2021-07-16T09:58:23.801Z"
      },
      {
        "duration": 655,
        "start_time": "2021-07-16T09:58:58.805Z"
      },
      {
        "duration": 538,
        "start_time": "2021-07-16T09:59:20.003Z"
      },
      {
        "duration": 709,
        "start_time": "2021-07-16T10:04:16.352Z"
      },
      {
        "duration": 742,
        "start_time": "2021-07-16T10:04:35.893Z"
      },
      {
        "duration": 804,
        "start_time": "2021-07-16T10:08:12.725Z"
      },
      {
        "duration": 402,
        "start_time": "2021-07-16T10:10:21.074Z"
      },
      {
        "duration": 452,
        "start_time": "2021-07-16T10:11:21.264Z"
      },
      {
        "duration": 1119,
        "start_time": "2021-07-16T10:37:33.977Z"
      },
      {
        "duration": 1083,
        "start_time": "2021-07-16T10:38:59.902Z"
      },
      {
        "duration": 15,
        "start_time": "2021-07-16T10:39:36.185Z"
      },
      {
        "duration": 19,
        "start_time": "2021-07-16T10:40:34.753Z"
      },
      {
        "duration": 507,
        "start_time": "2021-07-16T10:41:39.186Z"
      },
      {
        "duration": 27,
        "start_time": "2021-07-16T10:42:29.381Z"
      },
      {
        "duration": 4,
        "start_time": "2021-07-16T10:43:07.135Z"
      },
      {
        "duration": 838,
        "start_time": "2021-07-16T10:44:00.534Z"
      },
      {
        "duration": 18,
        "start_time": "2021-07-16T10:45:30.232Z"
      },
      {
        "duration": 497,
        "start_time": "2021-07-16T10:45:32.730Z"
      },
      {
        "duration": 567,
        "start_time": "2021-07-16T10:47:08.861Z"
      },
      {
        "duration": 480,
        "start_time": "2021-07-16T10:47:38.832Z"
      },
      {
        "duration": 464,
        "start_time": "2021-07-16T10:55:00.206Z"
      },
      {
        "duration": 463,
        "start_time": "2021-07-16T10:55:07.411Z"
      },
      {
        "duration": 649,
        "start_time": "2021-07-16T10:55:21.474Z"
      },
      {
        "duration": 603,
        "start_time": "2021-07-16T10:55:35.763Z"
      },
      {
        "duration": 544,
        "start_time": "2021-07-16T11:07:04.078Z"
      },
      {
        "duration": 9,
        "start_time": "2021-07-16T11:13:50.714Z"
      },
      {
        "duration": 113,
        "start_time": "2021-07-16T11:20:25.447Z"
      },
      {
        "duration": 178,
        "start_time": "2021-07-16T11:21:06.004Z"
      },
      {
        "duration": 499,
        "start_time": "2021-07-16T11:22:39.213Z"
      },
      {
        "duration": 490,
        "start_time": "2021-07-16T11:25:26.319Z"
      },
      {
        "duration": 499,
        "start_time": "2021-07-16T11:26:09.024Z"
      },
      {
        "duration": 514,
        "start_time": "2021-07-16T11:26:28.678Z"
      },
      {
        "duration": 320,
        "start_time": "2021-07-16T11:26:56.166Z"
      },
      {
        "duration": 4,
        "start_time": "2021-07-16T11:27:40.991Z"
      },
      {
        "duration": 326,
        "start_time": "2021-07-16T11:27:40.998Z"
      },
      {
        "duration": 12,
        "start_time": "2021-07-16T11:27:41.327Z"
      },
      {
        "duration": 22,
        "start_time": "2021-07-16T11:27:41.342Z"
      },
      {
        "duration": 37,
        "start_time": "2021-07-16T11:27:41.367Z"
      },
      {
        "duration": 7,
        "start_time": "2021-07-16T11:27:41.407Z"
      },
      {
        "duration": 11,
        "start_time": "2021-07-16T11:27:41.416Z"
      },
      {
        "duration": 68,
        "start_time": "2021-07-16T11:27:41.431Z"
      },
      {
        "duration": 20,
        "start_time": "2021-07-16T11:27:41.502Z"
      },
      {
        "duration": 9,
        "start_time": "2021-07-16T11:27:41.525Z"
      },
      {
        "duration": 29,
        "start_time": "2021-07-16T11:27:41.536Z"
      },
      {
        "duration": 25,
        "start_time": "2021-07-16T11:27:41.587Z"
      },
      {
        "duration": 25,
        "start_time": "2021-07-16T11:27:41.615Z"
      },
      {
        "duration": 10,
        "start_time": "2021-07-16T11:27:41.642Z"
      },
      {
        "duration": 11,
        "start_time": "2021-07-16T11:27:41.686Z"
      },
      {
        "duration": 15,
        "start_time": "2021-07-16T11:27:41.699Z"
      },
      {
        "duration": 377,
        "start_time": "2021-07-16T11:27:41.716Z"
      },
      {
        "duration": 390,
        "start_time": "2021-07-16T11:27:42.095Z"
      },
      {
        "duration": 503,
        "start_time": "2021-07-16T11:27:42.488Z"
      },
      {
        "duration": 21,
        "start_time": "2021-07-16T11:27:42.994Z"
      },
      {
        "duration": 199,
        "start_time": "2021-07-16T11:27:43.018Z"
      },
      {
        "duration": 20,
        "start_time": "2021-07-16T11:27:43.220Z"
      },
      {
        "duration": 545,
        "start_time": "2021-07-16T11:27:43.246Z"
      },
      {
        "duration": 20,
        "start_time": "2021-07-16T11:27:43.794Z"
      },
      {
        "duration": 527,
        "start_time": "2021-07-16T11:27:43.817Z"
      },
      {
        "duration": 14,
        "start_time": "2021-07-16T11:27:44.346Z"
      },
      {
        "duration": 43,
        "start_time": "2021-07-16T11:27:44.362Z"
      },
      {
        "duration": 722,
        "start_time": "2021-07-16T11:27:44.408Z"
      },
      {
        "duration": 662,
        "start_time": "2021-07-16T11:27:45.132Z"
      },
      {
        "duration": 19,
        "start_time": "2021-07-16T11:27:45.797Z"
      },
      {
        "duration": 644,
        "start_time": "2021-07-16T11:27:45.818Z"
      },
      {
        "duration": 36,
        "start_time": "2021-07-16T11:27:46.464Z"
      },
      {
        "duration": 547,
        "start_time": "2021-07-16T11:27:46.503Z"
      },
      {
        "duration": 16,
        "start_time": "2021-07-16T11:27:47.053Z"
      },
      {
        "duration": 3,
        "start_time": "2021-07-16T11:27:47.087Z"
      },
      {
        "duration": 232,
        "start_time": "2021-07-16T11:27:47.093Z"
      },
      {
        "duration": 25,
        "start_time": "2021-07-16T11:27:47.327Z"
      },
      {
        "duration": 30,
        "start_time": "2021-07-16T11:27:47.355Z"
      },
      {
        "duration": 586,
        "start_time": "2021-07-16T11:27:47.388Z"
      },
      {
        "duration": 66,
        "start_time": "2021-07-16T11:27:47.976Z"
      },
      {
        "duration": 41,
        "start_time": "2021-07-16T11:27:48.045Z"
      },
      {
        "duration": 83,
        "start_time": "2021-07-16T11:27:48.089Z"
      },
      {
        "duration": 459,
        "start_time": "2021-07-16T11:27:48.185Z"
      },
      {
        "duration": 4,
        "start_time": "2021-07-16T11:27:48.646Z"
      },
      {
        "duration": 74,
        "start_time": "2021-07-16T11:27:48.652Z"
      },
      {
        "duration": 10,
        "start_time": "2021-07-16T11:27:48.729Z"
      },
      {
        "duration": 7,
        "start_time": "2021-07-16T11:27:48.742Z"
      },
      {
        "duration": 36,
        "start_time": "2021-07-16T11:27:48.751Z"
      },
      {
        "duration": 662,
        "start_time": "2021-07-16T11:27:48.790Z"
      },
      {
        "duration": 7,
        "start_time": "2021-07-16T11:27:49.455Z"
      },
      {
        "duration": 483,
        "start_time": "2021-07-16T11:27:49.465Z"
      },
      {
        "duration": 461,
        "start_time": "2021-07-16T11:27:49.951Z"
      },
      {
        "duration": 423,
        "start_time": "2021-07-16T11:28:40.818Z"
      },
      {
        "duration": 867,
        "start_time": "2021-07-16T11:29:08.420Z"
      },
      {
        "duration": 867,
        "start_time": "2021-07-16T11:30:08.918Z"
      },
      {
        "duration": 429,
        "start_time": "2021-07-16T11:30:45.942Z"
      },
      {
        "duration": 651,
        "start_time": "2021-07-16T11:32:37.652Z"
      },
      {
        "duration": 480,
        "start_time": "2021-07-16T11:33:23.570Z"
      },
      {
        "duration": 660,
        "start_time": "2021-07-16T11:42:57.707Z"
      },
      {
        "duration": 513,
        "start_time": "2021-07-16T11:43:11.329Z"
      },
      {
        "duration": 451,
        "start_time": "2021-07-16T11:43:20.320Z"
      },
      {
        "duration": 774,
        "start_time": "2021-07-16T11:43:57.141Z"
      },
      {
        "duration": 126,
        "start_time": "2021-07-16T11:46:17.216Z"
      },
      {
        "duration": 484,
        "start_time": "2021-07-16T11:46:31.028Z"
      },
      {
        "duration": 104,
        "start_time": "2021-07-16T11:46:50.612Z"
      },
      {
        "duration": 119,
        "start_time": "2021-07-16T11:47:31.403Z"
      },
      {
        "duration": 340,
        "start_time": "2021-07-16T11:47:37.758Z"
      },
      {
        "duration": 352,
        "start_time": "2021-07-16T11:48:19.311Z"
      },
      {
        "duration": 181,
        "start_time": "2021-07-16T11:49:01.637Z"
      },
      {
        "duration": 189,
        "start_time": "2021-07-16T11:49:39.400Z"
      },
      {
        "duration": 7202,
        "start_time": "2021-07-16T11:52:08.099Z"
      },
      {
        "duration": 309,
        "start_time": "2021-07-16T11:52:35.592Z"
      },
      {
        "duration": 175,
        "start_time": "2021-07-16T11:57:53.159Z"
      },
      {
        "duration": 95,
        "start_time": "2021-07-16T11:59:49.821Z"
      },
      {
        "duration": 96,
        "start_time": "2021-07-16T12:00:06.862Z"
      },
      {
        "duration": 373,
        "start_time": "2021-07-16T12:00:38.975Z"
      },
      {
        "duration": 320,
        "start_time": "2021-07-16T12:01:44.423Z"
      },
      {
        "duration": 110,
        "start_time": "2021-07-16T12:02:13.895Z"
      },
      {
        "duration": 333,
        "start_time": "2021-07-16T12:02:28.519Z"
      },
      {
        "duration": 122,
        "start_time": "2021-07-16T12:03:40.289Z"
      },
      {
        "duration": 314,
        "start_time": "2021-07-16T12:03:52.463Z"
      },
      {
        "duration": 104,
        "start_time": "2021-07-16T12:04:18.602Z"
      },
      {
        "duration": 121,
        "start_time": "2021-07-16T12:04:24.883Z"
      },
      {
        "duration": 174,
        "start_time": "2021-07-16T12:04:34.654Z"
      },
      {
        "duration": 170,
        "start_time": "2021-07-16T12:04:50.524Z"
      },
      {
        "duration": 107,
        "start_time": "2021-07-16T12:08:48.033Z"
      },
      {
        "duration": 169,
        "start_time": "2021-07-16T12:09:10.812Z"
      },
      {
        "duration": 108,
        "start_time": "2021-07-16T12:11:01.847Z"
      },
      {
        "duration": 107,
        "start_time": "2021-07-16T12:11:18.708Z"
      },
      {
        "duration": 108,
        "start_time": "2021-07-16T12:12:06.687Z"
      },
      {
        "duration": 124,
        "start_time": "2021-07-16T12:12:56.424Z"
      },
      {
        "duration": 105,
        "start_time": "2021-07-16T12:13:06.320Z"
      },
      {
        "duration": 97,
        "start_time": "2021-07-16T12:13:13.083Z"
      },
      {
        "duration": 334,
        "start_time": "2021-07-16T12:17:51.610Z"
      },
      {
        "duration": 173,
        "start_time": "2021-07-16T12:18:27.682Z"
      },
      {
        "duration": 470,
        "start_time": "2021-07-16T12:19:28.932Z"
      },
      {
        "duration": 190,
        "start_time": "2021-07-16T12:21:07.996Z"
      },
      {
        "duration": 22,
        "start_time": "2021-07-16T12:21:24.859Z"
      },
      {
        "duration": 191,
        "start_time": "2021-07-16T12:23:01.490Z"
      },
      {
        "duration": 183,
        "start_time": "2021-07-16T12:25:48.565Z"
      },
      {
        "duration": 357,
        "start_time": "2021-07-16T12:31:36.372Z"
      },
      {
        "duration": 193,
        "start_time": "2021-07-16T12:33:06.130Z"
      },
      {
        "duration": 177,
        "start_time": "2021-07-16T12:40:22.263Z"
      },
      {
        "duration": 182,
        "start_time": "2021-07-16T12:43:10.483Z"
      },
      {
        "duration": 194,
        "start_time": "2021-07-16T12:52:01.191Z"
      },
      {
        "duration": 862,
        "start_time": "2021-07-16T13:07:14.182Z"
      },
      {
        "duration": 2018,
        "start_time": "2021-07-17T20:14:22.587Z"
      },
      {
        "duration": 179,
        "start_time": "2021-07-17T20:14:24.608Z"
      },
      {
        "duration": 29,
        "start_time": "2021-07-17T20:14:24.794Z"
      },
      {
        "duration": 29,
        "start_time": "2021-07-17T20:14:24.831Z"
      },
      {
        "duration": 71,
        "start_time": "2021-07-17T20:14:24.866Z"
      },
      {
        "duration": 29,
        "start_time": "2021-07-17T20:14:24.941Z"
      },
      {
        "duration": 38,
        "start_time": "2021-07-17T20:14:24.979Z"
      },
      {
        "duration": 64,
        "start_time": "2021-07-17T20:14:25.033Z"
      },
      {
        "duration": 24,
        "start_time": "2021-07-17T20:14:25.100Z"
      },
      {
        "duration": 7,
        "start_time": "2021-07-17T20:14:25.127Z"
      },
      {
        "duration": 49,
        "start_time": "2021-07-17T20:14:25.137Z"
      },
      {
        "duration": 25,
        "start_time": "2021-07-17T20:14:25.190Z"
      },
      {
        "duration": 20,
        "start_time": "2021-07-17T20:14:25.217Z"
      },
      {
        "duration": 10,
        "start_time": "2021-07-17T20:14:25.239Z"
      },
      {
        "duration": 13,
        "start_time": "2021-07-17T20:14:25.284Z"
      },
      {
        "duration": 26,
        "start_time": "2021-07-17T20:14:25.300Z"
      },
      {
        "duration": 761,
        "start_time": "2021-07-17T20:14:25.328Z"
      },
      {
        "duration": 684,
        "start_time": "2021-07-17T20:14:26.093Z"
      },
      {
        "duration": 636,
        "start_time": "2021-07-17T20:14:26.780Z"
      },
      {
        "duration": 206,
        "start_time": "2021-07-17T20:14:27.418Z"
      },
      {
        "duration": 219,
        "start_time": "2021-07-17T20:14:27.626Z"
      },
      {
        "duration": 366,
        "start_time": "2021-07-17T20:14:27.848Z"
      },
      {
        "duration": 527,
        "start_time": "2021-07-17T20:14:28.219Z"
      },
      {
        "duration": 203,
        "start_time": "2021-07-17T20:14:28.749Z"
      },
      {
        "duration": 533,
        "start_time": "2021-07-17T20:14:28.954Z"
      },
      {
        "duration": 17,
        "start_time": "2021-07-17T20:14:29.490Z"
      },
      {
        "duration": 221,
        "start_time": "2021-07-17T20:14:29.510Z"
      },
      {
        "duration": 810,
        "start_time": "2021-07-17T20:14:29.734Z"
      },
      {
        "duration": 528,
        "start_time": "2021-07-17T20:14:30.547Z"
      },
      {
        "duration": 22,
        "start_time": "2021-07-17T20:14:31.081Z"
      },
      {
        "duration": 726,
        "start_time": "2021-07-17T20:14:31.106Z"
      },
      {
        "duration": 357,
        "start_time": "2021-07-17T20:14:31.834Z"
      },
      {
        "duration": 462,
        "start_time": "2021-07-17T20:14:32.194Z"
      },
      {
        "duration": 27,
        "start_time": "2021-07-17T20:14:32.659Z"
      },
      {
        "duration": 9,
        "start_time": "2021-07-17T20:14:32.689Z"
      },
      {
        "duration": 232,
        "start_time": "2021-07-17T20:14:32.702Z"
      },
      {
        "duration": 46,
        "start_time": "2021-07-17T20:14:32.937Z"
      },
      {
        "duration": 4,
        "start_time": "2021-07-17T20:14:32.986Z"
      },
      {
        "duration": 918,
        "start_time": "2021-07-17T20:14:32.993Z"
      },
      {
        "duration": -131,
        "start_time": "2021-07-17T20:14:34.044Z"
      },
      {
        "duration": -132,
        "start_time": "2021-07-17T20:14:34.046Z"
      },
      {
        "duration": -132,
        "start_time": "2021-07-17T20:14:34.047Z"
      },
      {
        "duration": -132,
        "start_time": "2021-07-17T20:14:34.049Z"
      },
      {
        "duration": -134,
        "start_time": "2021-07-17T20:14:34.052Z"
      },
      {
        "duration": -143,
        "start_time": "2021-07-17T20:14:34.062Z"
      },
      {
        "duration": -147,
        "start_time": "2021-07-17T20:14:34.067Z"
      },
      {
        "duration": -166,
        "start_time": "2021-07-17T20:14:34.087Z"
      },
      {
        "duration": -173,
        "start_time": "2021-07-17T20:14:34.096Z"
      },
      {
        "duration": -173,
        "start_time": "2021-07-17T20:14:34.097Z"
      },
      {
        "duration": -174,
        "start_time": "2021-07-17T20:14:34.099Z"
      },
      {
        "duration": -175,
        "start_time": "2021-07-17T20:14:34.101Z"
      },
      {
        "duration": 978,
        "start_time": "2021-07-17T20:15:20.048Z"
      },
      {
        "duration": 774,
        "start_time": "2021-07-17T20:18:12.492Z"
      },
      {
        "duration": 771,
        "start_time": "2021-07-17T20:19:12.838Z"
      },
      {
        "duration": 336,
        "start_time": "2021-07-17T20:37:28.584Z"
      },
      {
        "duration": 5,
        "start_time": "2021-07-17T20:37:37.019Z"
      },
      {
        "duration": 277,
        "start_time": "2021-07-17T20:37:37.030Z"
      },
      {
        "duration": 14,
        "start_time": "2021-07-17T20:37:37.309Z"
      },
      {
        "duration": 15,
        "start_time": "2021-07-17T20:37:37.326Z"
      },
      {
        "duration": 48,
        "start_time": "2021-07-17T20:37:37.344Z"
      },
      {
        "duration": 11,
        "start_time": "2021-07-17T20:37:37.395Z"
      },
      {
        "duration": 12,
        "start_time": "2021-07-17T20:37:37.409Z"
      },
      {
        "duration": 72,
        "start_time": "2021-07-17T20:37:37.423Z"
      },
      {
        "duration": 20,
        "start_time": "2021-07-17T20:37:37.500Z"
      },
      {
        "duration": 10,
        "start_time": "2021-07-17T20:37:37.523Z"
      },
      {
        "duration": 46,
        "start_time": "2021-07-17T20:37:37.536Z"
      },
      {
        "duration": 27,
        "start_time": "2021-07-17T20:37:37.586Z"
      },
      {
        "duration": 23,
        "start_time": "2021-07-17T20:37:37.616Z"
      },
      {
        "duration": 13,
        "start_time": "2021-07-17T20:37:37.641Z"
      },
      {
        "duration": 16,
        "start_time": "2021-07-17T20:37:37.683Z"
      },
      {
        "duration": 19,
        "start_time": "2021-07-17T20:37:37.701Z"
      },
      {
        "duration": 365,
        "start_time": "2021-07-17T20:37:37.723Z"
      },
      {
        "duration": 391,
        "start_time": "2021-07-17T20:37:38.091Z"
      },
      {
        "duration": 517,
        "start_time": "2021-07-17T20:37:38.485Z"
      },
      {
        "duration": 198,
        "start_time": "2021-07-17T20:37:39.004Z"
      },
      {
        "duration": 184,
        "start_time": "2021-07-17T20:37:39.204Z"
      },
      {
        "duration": 352,
        "start_time": "2021-07-17T20:37:39.391Z"
      },
      {
        "duration": 518,
        "start_time": "2021-07-17T20:37:39.746Z"
      },
      {
        "duration": 197,
        "start_time": "2021-07-17T20:37:40.269Z"
      },
      {
        "duration": 526,
        "start_time": "2021-07-17T20:37:40.469Z"
      },
      {
        "duration": 17,
        "start_time": "2021-07-17T20:37:40.997Z"
      },
      {
        "duration": 213,
        "start_time": "2021-07-17T20:37:41.016Z"
      },
      {
        "duration": 806,
        "start_time": "2021-07-17T20:37:41.232Z"
      },
      {
        "duration": 516,
        "start_time": "2021-07-17T20:37:42.040Z"
      },
      {
        "duration": 28,
        "start_time": "2021-07-17T20:37:42.558Z"
      },
      {
        "duration": 884,
        "start_time": "2021-07-17T20:37:42.589Z"
      },
      {
        "duration": 191,
        "start_time": "2021-07-17T20:37:43.483Z"
      },
      {
        "duration": 466,
        "start_time": "2021-07-17T20:37:43.677Z"
      },
      {
        "duration": 14,
        "start_time": "2021-07-17T20:37:44.146Z"
      },
      {
        "duration": 19,
        "start_time": "2021-07-17T20:37:44.163Z"
      },
      {
        "duration": 257,
        "start_time": "2021-07-17T20:37:44.185Z"
      },
      {
        "duration": 45,
        "start_time": "2021-07-17T20:37:44.445Z"
      },
      {
        "duration": 8,
        "start_time": "2021-07-17T20:37:44.493Z"
      },
      {
        "duration": 445,
        "start_time": "2021-07-17T20:37:44.504Z"
      },
      {
        "duration": -94,
        "start_time": "2021-07-17T20:37:45.046Z"
      },
      {
        "duration": -143,
        "start_time": "2021-07-17T20:37:45.096Z"
      },
      {
        "duration": -153,
        "start_time": "2021-07-17T20:37:45.108Z"
      },
      {
        "duration": -154,
        "start_time": "2021-07-17T20:37:45.110Z"
      },
      {
        "duration": -154,
        "start_time": "2021-07-17T20:37:45.112Z"
      },
      {
        "duration": -154,
        "start_time": "2021-07-17T20:37:45.113Z"
      },
      {
        "duration": -155,
        "start_time": "2021-07-17T20:37:45.115Z"
      },
      {
        "duration": -154,
        "start_time": "2021-07-17T20:37:45.116Z"
      },
      {
        "duration": -153,
        "start_time": "2021-07-17T20:37:45.117Z"
      },
      {
        "duration": -153,
        "start_time": "2021-07-17T20:37:45.118Z"
      },
      {
        "duration": -154,
        "start_time": "2021-07-17T20:37:45.120Z"
      },
      {
        "duration": -153,
        "start_time": "2021-07-17T20:37:45.121Z"
      },
      {
        "duration": 434,
        "start_time": "2021-07-17T20:39:14.179Z"
      },
      {
        "duration": 1022,
        "start_time": "2021-07-17T20:43:37.063Z"
      },
      {
        "duration": 418,
        "start_time": "2021-07-17T20:43:47.688Z"
      },
      {
        "duration": 305,
        "start_time": "2021-07-17T20:45:50.142Z"
      },
      {
        "duration": 196,
        "start_time": "2021-07-17T20:45:51.351Z"
      },
      {
        "duration": 329,
        "start_time": "2021-07-17T20:45:56.944Z"
      },
      {
        "duration": 475,
        "start_time": "2021-07-17T20:46:06.093Z"
      },
      {
        "duration": 699,
        "start_time": "2021-07-17T20:46:24.215Z"
      },
      {
        "duration": 472,
        "start_time": "2021-07-17T20:51:15.963Z"
      },
      {
        "duration": 441,
        "start_time": "2021-07-17T20:51:23.868Z"
      },
      {
        "duration": 663,
        "start_time": "2021-07-17T20:53:10.272Z"
      },
      {
        "duration": 494,
        "start_time": "2021-07-17T20:53:28.311Z"
      },
      {
        "duration": 923,
        "start_time": "2021-07-17T20:53:46.140Z"
      },
      {
        "duration": 497,
        "start_time": "2021-07-17T20:53:51.798Z"
      },
      {
        "duration": 242,
        "start_time": "2021-07-17T20:54:31.504Z"
      },
      {
        "duration": 122,
        "start_time": "2021-07-17T20:54:39.624Z"
      },
      {
        "duration": 100,
        "start_time": "2021-07-17T20:54:47.038Z"
      },
      {
        "duration": 450,
        "start_time": "2021-07-17T20:54:53.551Z"
      },
      {
        "duration": 429,
        "start_time": "2021-07-17T20:55:54.330Z"
      },
      {
        "duration": 436,
        "start_time": "2021-07-17T21:01:24.096Z"
      },
      {
        "duration": 431,
        "start_time": "2021-07-17T21:01:34.308Z"
      },
      {
        "duration": 483,
        "start_time": "2021-07-17T21:01:50.037Z"
      },
      {
        "duration": 8,
        "start_time": "2021-07-17T21:02:07.567Z"
      },
      {
        "duration": 125,
        "start_time": "2021-07-17T21:14:14.807Z"
      },
      {
        "duration": 1990,
        "start_time": "2021-07-18T10:17:28.232Z"
      },
      {
        "duration": 255,
        "start_time": "2021-07-18T10:17:30.225Z"
      },
      {
        "duration": 18,
        "start_time": "2021-07-18T10:17:30.483Z"
      },
      {
        "duration": 17,
        "start_time": "2021-07-18T10:17:30.503Z"
      },
      {
        "duration": 26,
        "start_time": "2021-07-18T10:17:30.523Z"
      },
      {
        "duration": 37,
        "start_time": "2021-07-18T10:17:30.551Z"
      },
      {
        "duration": 10,
        "start_time": "2021-07-18T10:17:30.590Z"
      },
      {
        "duration": 41,
        "start_time": "2021-07-18T10:17:30.603Z"
      },
      {
        "duration": 49,
        "start_time": "2021-07-18T10:17:30.647Z"
      },
      {
        "duration": 7,
        "start_time": "2021-07-18T10:17:30.699Z"
      },
      {
        "duration": 37,
        "start_time": "2021-07-18T10:17:30.708Z"
      },
      {
        "duration": 38,
        "start_time": "2021-07-18T10:17:30.747Z"
      },
      {
        "duration": 22,
        "start_time": "2021-07-18T10:17:30.788Z"
      },
      {
        "duration": 11,
        "start_time": "2021-07-18T10:17:30.812Z"
      },
      {
        "duration": 14,
        "start_time": "2021-07-18T10:17:30.825Z"
      },
      {
        "duration": 47,
        "start_time": "2021-07-18T10:17:30.842Z"
      },
      {
        "duration": 745,
        "start_time": "2021-07-18T10:17:30.891Z"
      },
      {
        "duration": 626,
        "start_time": "2021-07-18T10:17:31.639Z"
      },
      {
        "duration": 610,
        "start_time": "2021-07-18T10:17:32.267Z"
      },
      {
        "duration": 188,
        "start_time": "2021-07-18T10:17:32.885Z"
      },
      {
        "duration": 214,
        "start_time": "2021-07-18T10:17:33.076Z"
      },
      {
        "duration": 343,
        "start_time": "2021-07-18T10:17:33.292Z"
      },
      {
        "duration": 527,
        "start_time": "2021-07-18T10:17:33.638Z"
      },
      {
        "duration": 196,
        "start_time": "2021-07-18T10:17:34.168Z"
      },
      {
        "duration": 525,
        "start_time": "2021-07-18T10:17:34.367Z"
      },
      {
        "duration": 15,
        "start_time": "2021-07-18T10:17:34.894Z"
      },
      {
        "duration": 214,
        "start_time": "2021-07-18T10:17:34.916Z"
      },
      {
        "duration": 807,
        "start_time": "2021-07-18T10:17:35.133Z"
      },
      {
        "duration": 497,
        "start_time": "2021-07-18T10:17:35.942Z"
      },
      {
        "duration": 18,
        "start_time": "2021-07-18T10:17:36.441Z"
      },
      {
        "duration": 808,
        "start_time": "2021-07-18T10:17:36.461Z"
      },
      {
        "duration": 356,
        "start_time": "2021-07-18T10:17:37.271Z"
      },
      {
        "duration": 462,
        "start_time": "2021-07-18T10:17:37.629Z"
      },
      {
        "duration": 14,
        "start_time": "2021-07-18T10:17:38.094Z"
      },
      {
        "duration": 12,
        "start_time": "2021-07-18T10:17:38.110Z"
      },
      {
        "duration": 233,
        "start_time": "2021-07-18T10:17:38.125Z"
      },
      {
        "duration": 36,
        "start_time": "2021-07-18T10:17:38.361Z"
      },
      {
        "duration": 11,
        "start_time": "2021-07-18T10:17:38.399Z"
      },
      {
        "duration": 1095,
        "start_time": "2021-07-18T10:17:38.412Z"
      },
      {
        "duration": 77,
        "start_time": "2021-07-18T10:17:39.510Z"
      },
      {
        "duration": 206,
        "start_time": "2021-07-18T10:17:39.589Z"
      },
      {
        "duration": 93,
        "start_time": "2021-07-18T10:17:39.798Z"
      },
      {
        "duration": 501,
        "start_time": "2021-07-18T10:17:39.895Z"
      },
      {
        "duration": 54,
        "start_time": "2021-07-18T10:17:40.398Z"
      },
      {
        "duration": 34,
        "start_time": "2021-07-18T10:17:40.454Z"
      },
      {
        "duration": 12,
        "start_time": "2021-07-18T10:17:40.490Z"
      },
      {
        "duration": 8,
        "start_time": "2021-07-18T10:17:40.504Z"
      },
      {
        "duration": 695,
        "start_time": "2021-07-18T10:17:40.515Z"
      },
      {
        "duration": 7,
        "start_time": "2021-07-18T10:17:41.212Z"
      },
      {
        "duration": 477,
        "start_time": "2021-07-18T10:17:41.221Z"
      },
      {
        "duration": 603,
        "start_time": "2021-07-18T10:17:41.701Z"
      },
      {
        "duration": 139,
        "start_time": "2021-07-18T10:23:21.382Z"
      },
      {
        "duration": 5343,
        "start_time": "2021-07-18T14:27:43.093Z"
      },
      {
        "duration": 1259,
        "start_time": "2021-07-18T14:30:43.236Z"
      },
      {
        "duration": 867,
        "start_time": "2021-07-18T14:33:10.084Z"
      },
      {
        "duration": 358,
        "start_time": "2021-07-19T13:32:02.616Z"
      },
      {
        "duration": 1895,
        "start_time": "2021-07-19T13:32:15.029Z"
      },
      {
        "duration": 644,
        "start_time": "2021-07-19T13:32:16.926Z"
      },
      {
        "duration": 17,
        "start_time": "2021-07-19T13:32:17.573Z"
      },
      {
        "duration": 13,
        "start_time": "2021-07-19T13:32:17.592Z"
      },
      {
        "duration": 25,
        "start_time": "2021-07-19T13:32:17.607Z"
      },
      {
        "duration": 8,
        "start_time": "2021-07-19T13:32:17.634Z"
      },
      {
        "duration": 43,
        "start_time": "2021-07-19T13:32:17.644Z"
      },
      {
        "duration": 34,
        "start_time": "2021-07-19T13:32:17.693Z"
      },
      {
        "duration": 59,
        "start_time": "2021-07-19T13:32:17.731Z"
      },
      {
        "duration": 19,
        "start_time": "2021-07-19T13:32:17.793Z"
      },
      {
        "duration": 8,
        "start_time": "2021-07-19T13:32:17.815Z"
      },
      {
        "duration": 24,
        "start_time": "2021-07-19T13:32:17.826Z"
      },
      {
        "duration": 21,
        "start_time": "2021-07-19T13:32:17.887Z"
      },
      {
        "duration": 20,
        "start_time": "2021-07-19T13:32:17.910Z"
      },
      {
        "duration": 10,
        "start_time": "2021-07-19T13:32:17.932Z"
      },
      {
        "duration": 44,
        "start_time": "2021-07-19T13:32:17.945Z"
      },
      {
        "duration": 13,
        "start_time": "2021-07-19T13:32:17.991Z"
      },
      {
        "duration": 750,
        "start_time": "2021-07-19T13:32:18.006Z"
      },
      {
        "duration": 619,
        "start_time": "2021-07-19T13:32:18.758Z"
      },
      {
        "duration": 509,
        "start_time": "2021-07-19T13:32:19.379Z"
      },
      {
        "duration": 195,
        "start_time": "2021-07-19T13:32:19.891Z"
      },
      {
        "duration": 189,
        "start_time": "2021-07-19T13:32:20.088Z"
      },
      {
        "duration": 431,
        "start_time": "2021-07-19T13:32:20.282Z"
      },
      {
        "duration": 539,
        "start_time": "2021-07-19T13:32:20.716Z"
      },
      {
        "duration": 188,
        "start_time": "2021-07-19T13:32:21.257Z"
      },
      {
        "duration": 641,
        "start_time": "2021-07-19T13:32:21.447Z"
      },
      {
        "duration": 13,
        "start_time": "2021-07-19T13:32:22.090Z"
      },
      {
        "duration": 206,
        "start_time": "2021-07-19T13:32:22.105Z"
      },
      {
        "duration": 807,
        "start_time": "2021-07-19T13:32:22.313Z"
      },
      {
        "duration": 517,
        "start_time": "2021-07-19T13:32:23.123Z"
      },
      {
        "duration": 17,
        "start_time": "2021-07-19T13:32:23.643Z"
      },
      {
        "duration": 875,
        "start_time": "2021-07-19T13:32:23.663Z"
      },
      {
        "duration": 194,
        "start_time": "2021-07-19T13:32:24.540Z"
      },
      {
        "duration": 499,
        "start_time": "2021-07-19T13:32:24.736Z"
      },
      {
        "duration": 13,
        "start_time": "2021-07-19T13:32:25.237Z"
      },
      {
        "duration": 6,
        "start_time": "2021-07-19T13:32:25.253Z"
      },
      {
        "duration": 235,
        "start_time": "2021-07-19T13:32:25.261Z"
      },
      {
        "duration": 25,
        "start_time": "2021-07-19T13:32:25.498Z"
      },
      {
        "duration": 5,
        "start_time": "2021-07-19T13:32:25.525Z"
      },
      {
        "duration": 3229,
        "start_time": "2021-07-19T13:32:25.533Z"
      },
      {
        "duration": 74,
        "start_time": "2021-07-19T13:32:28.765Z"
      },
      {
        "duration": 196,
        "start_time": "2021-07-19T13:32:28.842Z"
      },
      {
        "duration": 97,
        "start_time": "2021-07-19T13:32:29.040Z"
      },
      {
        "duration": 483,
        "start_time": "2021-07-19T13:32:29.140Z"
      },
      {
        "duration": 65,
        "start_time": "2021-07-19T13:32:29.626Z"
      },
      {
        "duration": 10,
        "start_time": "2021-07-19T13:32:29.693Z"
      },
      {
        "duration": 13,
        "start_time": "2021-07-19T13:32:29.705Z"
      },
      {
        "duration": 15,
        "start_time": "2021-07-19T13:32:29.719Z"
      },
      {
        "duration": 837,
        "start_time": "2021-07-19T13:32:29.736Z"
      },
      {
        "duration": 14,
        "start_time": "2021-07-19T13:32:30.575Z"
      },
      {
        "duration": 476,
        "start_time": "2021-07-19T13:32:30.592Z"
      },
      {
        "duration": 485,
        "start_time": "2021-07-19T13:32:31.070Z"
      },
      {
        "duration": 31,
        "start_time": "2021-07-19T13:37:48.863Z"
      },
      {
        "duration": 31,
        "start_time": "2021-07-19T13:38:03.527Z"
      },
      {
        "duration": 15,
        "start_time": "2021-07-19T13:39:27.085Z"
      },
      {
        "duration": 17,
        "start_time": "2021-07-19T13:39:36.270Z"
      },
      {
        "duration": 16,
        "start_time": "2021-07-19T13:40:30.442Z"
      },
      {
        "duration": 16,
        "start_time": "2021-07-19T13:41:39.715Z"
      },
      {
        "duration": 18,
        "start_time": "2021-07-19T13:43:45.067Z"
      },
      {
        "duration": 20,
        "start_time": "2021-07-19T13:44:24.781Z"
      },
      {
        "duration": 18,
        "start_time": "2021-07-19T13:44:30.338Z"
      },
      {
        "duration": 34,
        "start_time": "2021-07-19T13:44:39.408Z"
      },
      {
        "duration": 31,
        "start_time": "2021-07-19T13:44:40.922Z"
      },
      {
        "duration": 31,
        "start_time": "2021-07-19T13:44:42.440Z"
      },
      {
        "duration": 32,
        "start_time": "2021-07-19T13:45:46.696Z"
      },
      {
        "duration": 19,
        "start_time": "2021-07-19T13:47:00.119Z"
      },
      {
        "duration": 19,
        "start_time": "2021-07-19T13:49:29.136Z"
      },
      {
        "duration": 16,
        "start_time": "2021-07-19T13:50:43.668Z"
      },
      {
        "duration": 30,
        "start_time": "2021-07-19T13:51:05.723Z"
      },
      {
        "duration": 18,
        "start_time": "2021-07-19T13:51:08.205Z"
      },
      {
        "duration": 98,
        "start_time": "2021-07-19T13:52:23.538Z"
      },
      {
        "duration": 629,
        "start_time": "2021-07-19T13:52:35.822Z"
      },
      {
        "duration": 21,
        "start_time": "2021-07-19T13:53:11.379Z"
      },
      {
        "duration": 4,
        "start_time": "2021-07-19T13:53:57.868Z"
      },
      {
        "duration": 252,
        "start_time": "2021-07-19T13:53:57.875Z"
      },
      {
        "duration": 15,
        "start_time": "2021-07-19T13:53:58.130Z"
      },
      {
        "duration": 15,
        "start_time": "2021-07-19T13:53:58.147Z"
      },
      {
        "duration": 43,
        "start_time": "2021-07-19T13:53:58.165Z"
      },
      {
        "duration": 8,
        "start_time": "2021-07-19T13:53:58.210Z"
      },
      {
        "duration": 9,
        "start_time": "2021-07-19T13:53:58.221Z"
      },
      {
        "duration": 67,
        "start_time": "2021-07-19T13:53:58.234Z"
      },
      {
        "duration": 18,
        "start_time": "2021-07-19T13:53:58.304Z"
      },
      {
        "duration": 31,
        "start_time": "2021-07-19T13:53:58.325Z"
      },
      {
        "duration": 30,
        "start_time": "2021-07-19T13:53:58.386Z"
      },
      {
        "duration": 18,
        "start_time": "2021-07-19T13:53:58.419Z"
      },
      {
        "duration": 55,
        "start_time": "2021-07-19T13:53:58.440Z"
      },
      {
        "duration": 18,
        "start_time": "2021-07-19T13:53:58.498Z"
      },
      {
        "duration": 8,
        "start_time": "2021-07-19T13:53:58.518Z"
      },
      {
        "duration": 23,
        "start_time": "2021-07-19T13:53:58.528Z"
      },
      {
        "duration": 50,
        "start_time": "2021-07-19T13:53:58.554Z"
      },
      {
        "duration": 22,
        "start_time": "2021-07-19T13:53:58.606Z"
      },
      {
        "duration": 13,
        "start_time": "2021-07-19T13:53:58.631Z"
      },
      {
        "duration": 42,
        "start_time": "2021-07-19T13:53:58.646Z"
      },
      {
        "duration": 12,
        "start_time": "2021-07-19T13:53:58.690Z"
      },
      {
        "duration": 193,
        "start_time": "2021-07-19T13:53:58.705Z"
      },
      {
        "duration": 392,
        "start_time": "2021-07-19T13:53:58.904Z"
      },
      {
        "duration": 501,
        "start_time": "2021-07-19T13:53:59.300Z"
      },
      {
        "duration": 334,
        "start_time": "2021-07-19T13:53:59.804Z"
      },
      {
        "duration": 178,
        "start_time": "2021-07-19T13:54:00.141Z"
      },
      {
        "duration": 191,
        "start_time": "2021-07-19T13:54:00.322Z"
      },
      {
        "duration": 521,
        "start_time": "2021-07-19T13:54:00.515Z"
      },
      {
        "duration": 199,
        "start_time": "2021-07-19T13:54:01.039Z"
      },
      {
        "duration": 688,
        "start_time": "2021-07-19T13:54:01.240Z"
      },
      {
        "duration": 15,
        "start_time": "2021-07-19T13:54:01.931Z"
      },
      {
        "duration": 210,
        "start_time": "2021-07-19T13:54:01.948Z"
      },
      {
        "duration": 799,
        "start_time": "2021-07-19T13:54:02.160Z"
      },
      {
        "duration": 529,
        "start_time": "2021-07-19T13:54:02.962Z"
      },
      {
        "duration": 21,
        "start_time": "2021-07-19T13:54:03.494Z"
      },
      {
        "duration": 813,
        "start_time": "2021-07-19T13:54:03.518Z"
      },
      {
        "duration": 207,
        "start_time": "2021-07-19T13:54:04.333Z"
      },
      {
        "duration": 489,
        "start_time": "2021-07-19T13:54:04.543Z"
      },
      {
        "duration": 13,
        "start_time": "2021-07-19T13:54:05.035Z"
      },
      {
        "duration": 7,
        "start_time": "2021-07-19T13:54:05.050Z"
      },
      {
        "duration": 222,
        "start_time": "2021-07-19T13:54:05.059Z"
      },
      {
        "duration": 23,
        "start_time": "2021-07-19T13:54:05.284Z"
      },
      {
        "duration": 5,
        "start_time": "2021-07-19T13:54:05.310Z"
      },
      {
        "duration": 4022,
        "start_time": "2021-07-19T13:54:05.317Z"
      },
      {
        "duration": 83,
        "start_time": "2021-07-19T13:54:09.342Z"
      },
      {
        "duration": 356,
        "start_time": "2021-07-19T13:54:09.429Z"
      },
      {
        "duration": 67,
        "start_time": "2021-07-19T13:54:09.788Z"
      },
      {
        "duration": 501,
        "start_time": "2021-07-19T13:54:09.857Z"
      },
      {
        "duration": 59,
        "start_time": "2021-07-19T13:54:10.361Z"
      },
      {
        "duration": 10,
        "start_time": "2021-07-19T13:54:10.423Z"
      },
      {
        "duration": 8,
        "start_time": "2021-07-19T13:54:10.436Z"
      },
      {
        "duration": 40,
        "start_time": "2021-07-19T13:54:10.447Z"
      },
      {
        "duration": 670,
        "start_time": "2021-07-19T13:54:10.490Z"
      },
      {
        "duration": 23,
        "start_time": "2021-07-19T13:54:11.162Z"
      },
      {
        "duration": 458,
        "start_time": "2021-07-19T13:54:11.188Z"
      },
      {
        "duration": 457,
        "start_time": "2021-07-19T13:54:11.649Z"
      },
      {
        "duration": 19,
        "start_time": "2021-07-19T13:57:53.238Z"
      },
      {
        "duration": 20,
        "start_time": "2021-07-19T13:58:07.992Z"
      },
      {
        "duration": 16,
        "start_time": "2021-07-19T13:59:45.097Z"
      },
      {
        "duration": 714,
        "start_time": "2021-07-19T14:07:11.658Z"
      },
      {
        "duration": 674,
        "start_time": "2021-07-19T14:07:30.686Z"
      },
      {
        "duration": 647,
        "start_time": "2021-07-19T14:08:08.110Z"
      },
      {
        "duration": 687,
        "start_time": "2021-07-19T14:08:30.680Z"
      },
      {
        "duration": 634,
        "start_time": "2021-07-19T14:08:41.723Z"
      },
      {
        "duration": 649,
        "start_time": "2021-07-19T14:08:47.536Z"
      },
      {
        "duration": 690,
        "start_time": "2021-07-19T14:10:08.740Z"
      },
      {
        "duration": 675,
        "start_time": "2021-07-19T14:10:25.194Z"
      },
      {
        "duration": 679,
        "start_time": "2021-07-19T14:10:36.613Z"
      },
      {
        "duration": 666,
        "start_time": "2021-07-19T14:10:50.589Z"
      },
      {
        "duration": 661,
        "start_time": "2021-07-19T14:11:00.341Z"
      },
      {
        "duration": 821,
        "start_time": "2021-07-19T14:11:28.553Z"
      },
      {
        "duration": 650,
        "start_time": "2021-07-19T14:12:31.622Z"
      },
      {
        "duration": 645,
        "start_time": "2021-07-19T14:12:40.801Z"
      },
      {
        "duration": 691,
        "start_time": "2021-07-19T14:12:55.262Z"
      },
      {
        "duration": 659,
        "start_time": "2021-07-19T14:13:00.397Z"
      },
      {
        "duration": 815,
        "start_time": "2021-07-19T14:14:03.611Z"
      },
      {
        "duration": 681,
        "start_time": "2021-07-19T14:14:16.186Z"
      },
      {
        "duration": 746,
        "start_time": "2021-07-19T14:18:34.211Z"
      },
      {
        "duration": 670,
        "start_time": "2021-07-19T14:19:28.176Z"
      },
      {
        "duration": 679,
        "start_time": "2021-07-19T14:19:37.200Z"
      },
      {
        "duration": 767,
        "start_time": "2021-07-19T14:20:49.821Z"
      },
      {
        "duration": 43,
        "start_time": "2021-07-19T14:41:17.940Z"
      },
      {
        "duration": 73,
        "start_time": "2021-07-19T14:41:49.376Z"
      },
      {
        "duration": 313,
        "start_time": "2021-07-19T14:42:26.472Z"
      },
      {
        "duration": 92,
        "start_time": "2021-07-19T14:42:33.361Z"
      },
      {
        "duration": 11,
        "start_time": "2021-07-19T14:43:19.933Z"
      },
      {
        "duration": 11,
        "start_time": "2021-07-19T14:43:45.429Z"
      },
      {
        "duration": 26,
        "start_time": "2021-07-19T14:47:33.099Z"
      },
      {
        "duration": 86,
        "start_time": "2021-07-19T15:09:22.953Z"
      },
      {
        "duration": 21,
        "start_time": "2021-07-19T15:12:08.878Z"
      },
      {
        "duration": 17,
        "start_time": "2021-07-19T15:12:23.183Z"
      },
      {
        "duration": 21,
        "start_time": "2021-07-19T15:13:45.527Z"
      },
      {
        "duration": 35,
        "start_time": "2021-07-19T15:13:57.915Z"
      },
      {
        "duration": 39,
        "start_time": "2021-07-19T15:18:45.483Z"
      },
      {
        "duration": 106,
        "start_time": "2021-07-19T15:24:32.866Z"
      },
      {
        "duration": 182,
        "start_time": "2021-07-19T15:24:49.048Z"
      },
      {
        "duration": 54,
        "start_time": "2021-07-19T15:38:27.186Z"
      },
      {
        "duration": 187,
        "start_time": "2021-07-19T15:38:35.241Z"
      },
      {
        "duration": 308,
        "start_time": "2021-07-19T15:41:07.075Z"
      },
      {
        "duration": 318,
        "start_time": "2021-07-19T15:41:34.080Z"
      },
      {
        "duration": 58,
        "start_time": "2021-07-19T15:41:41.380Z"
      },
      {
        "duration": 609,
        "start_time": "2021-07-19T15:46:46.438Z"
      },
      {
        "duration": 328,
        "start_time": "2021-07-19T15:57:14.038Z"
      },
      {
        "duration": 23,
        "start_time": "2021-07-19T15:57:25.884Z"
      },
      {
        "duration": 23,
        "start_time": "2021-07-19T15:57:31.116Z"
      },
      {
        "duration": 29,
        "start_time": "2021-07-19T15:57:43.462Z"
      },
      {
        "duration": 398,
        "start_time": "2021-07-19T16:02:00.289Z"
      },
      {
        "duration": 321,
        "start_time": "2021-07-19T16:02:08.117Z"
      },
      {
        "duration": 30,
        "start_time": "2021-07-19T16:02:13.893Z"
      },
      {
        "duration": 30,
        "start_time": "2021-07-19T16:02:25.518Z"
      },
      {
        "duration": 61,
        "start_time": "2021-07-19T16:02:30.748Z"
      },
      {
        "duration": 29,
        "start_time": "2021-07-19T16:14:12.272Z"
      },
      {
        "duration": 28,
        "start_time": "2021-07-19T16:17:07.068Z"
      },
      {
        "duration": 470,
        "start_time": "2021-07-19T16:18:25.261Z"
      },
      {
        "duration": 29,
        "start_time": "2021-07-19T16:19:49.370Z"
      },
      {
        "duration": 473,
        "start_time": "2021-07-19T16:20:43.819Z"
      },
      {
        "duration": 31,
        "start_time": "2021-07-19T16:21:24.956Z"
      },
      {
        "duration": 112,
        "start_time": "2021-07-20T11:36:15.603Z"
      }
    ],
    "colab": {
      "name": "Storytelling with the data. Public catering market: visualization and presentation.ipynb",
      "provenance": [],
      "collapsed_sections": []
    },
    "kernelspec": {
      "display_name": "Python 3",
      "language": "python",
      "name": "python3"
    },
    "language_info": {
      "codemirror_mode": {
        "name": "ipython",
        "version": 3
      },
      "file_extension": ".py",
      "mimetype": "text/x-python",
      "name": "python",
      "nbconvert_exporter": "python",
      "pygments_lexer": "ipython3",
      "version": "3.7.8"
    },
    "toc": {
      "base_numbering": 1,
      "nav_menu": {},
      "number_sections": true,
      "sideBar": true,
      "skip_h1_title": true,
      "title_cell": "Table of Contents",
      "title_sidebar": "Contents",
      "toc_cell": false,
      "toc_position": {},
      "toc_section_display": true,
      "toc_window_display": false
    }
  },
  "cells": [
    {
      "cell_type": "markdown",
      "metadata": {
        "id": "sWer4rarTmF4"
      },
      "source": [
        "# Storytelling with the data. Public catering market: visualization and presentation"
      ]
    },
    {
      "cell_type": "markdown",
      "metadata": {
        "id": "ZCqtXnirayK7"
      },
      "source": [
        "### ***Рынок заведений общественного питания Москвы***"
      ]
    },
    {
      "cell_type": "markdown",
      "metadata": {
        "id": "51VpQna7bQO5"
      },
      "source": [
        "**Цели и задачи проекта:**\n",
        "\n",
        "Необходимо провести исследование рынка общественного питания для получения инвестиций на открытие кафе в Москве и подготовить презентацию для инвесторов.\n",
        "\n"
      ]
    },
    {
      "cell_type": "markdown",
      "metadata": {
        "id": "CW1ukWtLbdbI"
      },
      "source": [
        "**Шаг №1.**\n",
        "\n",
        " **Загрузка и подготовка данных.**\n",
        "\n"
      ]
    },
    {
      "cell_type": "code",
      "metadata": {
        "id": "fP6kswMEbBrs"
      },
      "source": [
        "import numpy as np\n",
        "import pandas as pd\n",
        "import plotly\n",
        "import matplotlib.pyplot as plt\n",
        "import plotly.express as px\n",
        "from plotly import graph_objects as go\n",
        "import seaborn as sns"
      ],
      "execution_count": null,
      "outputs": []
    },
    {
      "cell_type": "code",
      "metadata": {
        "id": "vXj9MeuNccnA"
      },
      "source": [
        "df = pd.read_csv('.../datasets/rest_data.csv')"
      ],
      "execution_count": null,
      "outputs": []
    },
    {
      "cell_type": "code",
      "metadata": {
        "colab": {
          "base_uri": "https://localhost:8080/",
          "height": 204
        },
        "id": "b6_tus2vczRj",
        "outputId": "1f2dd3ee-9a95-4938-9bc0-644b49dc095c"
      },
      "source": [
        "df.head()"
      ],
      "execution_count": null,
      "outputs": [
        {
          "data": {
            "text/html": [
              "<div>\n",
              "<style scoped>\n",
              "    .dataframe tbody tr th:only-of-type {\n",
              "        vertical-align: middle;\n",
              "    }\n",
              "\n",
              "    .dataframe tbody tr th {\n",
              "        vertical-align: top;\n",
              "    }\n",
              "\n",
              "    .dataframe thead th {\n",
              "        text-align: right;\n",
              "    }\n",
              "</style>\n",
              "<table border=\"1\" class=\"dataframe\">\n",
              "  <thead>\n",
              "    <tr style=\"text-align: right;\">\n",
              "      <th></th>\n",
              "      <th>id</th>\n",
              "      <th>object_name</th>\n",
              "      <th>chain</th>\n",
              "      <th>object_type</th>\n",
              "      <th>address</th>\n",
              "      <th>number</th>\n",
              "    </tr>\n",
              "  </thead>\n",
              "  <tbody>\n",
              "    <tr>\n",
              "      <td>0</td>\n",
              "      <td>151635</td>\n",
              "      <td>СМЕТАНА</td>\n",
              "      <td>нет</td>\n",
              "      <td>кафе</td>\n",
              "      <td>город Москва, улица Егора Абакумова, дом 9</td>\n",
              "      <td>48</td>\n",
              "    </tr>\n",
              "    <tr>\n",
              "      <td>1</td>\n",
              "      <td>77874</td>\n",
              "      <td>Родник</td>\n",
              "      <td>нет</td>\n",
              "      <td>кафе</td>\n",
              "      <td>город Москва, улица Талалихина, дом 2/1, корпус 1</td>\n",
              "      <td>35</td>\n",
              "    </tr>\n",
              "    <tr>\n",
              "      <td>2</td>\n",
              "      <td>24309</td>\n",
              "      <td>Кафе «Академия»</td>\n",
              "      <td>нет</td>\n",
              "      <td>кафе</td>\n",
              "      <td>город Москва, Абельмановская улица, дом 6</td>\n",
              "      <td>95</td>\n",
              "    </tr>\n",
              "    <tr>\n",
              "      <td>3</td>\n",
              "      <td>21894</td>\n",
              "      <td>ПИЦЦЕТОРИЯ</td>\n",
              "      <td>да</td>\n",
              "      <td>кафе</td>\n",
              "      <td>город Москва, Абрамцевская улица, дом 1</td>\n",
              "      <td>40</td>\n",
              "    </tr>\n",
              "    <tr>\n",
              "      <td>4</td>\n",
              "      <td>119365</td>\n",
              "      <td>Кафе «Вишневая метель»</td>\n",
              "      <td>нет</td>\n",
              "      <td>кафе</td>\n",
              "      <td>город Москва, Абрамцевская улица, дом 9, корпус 1</td>\n",
              "      <td>50</td>\n",
              "    </tr>\n",
              "  </tbody>\n",
              "</table>\n",
              "</div>"
            ],
            "text/plain": [
              "       id             object_name chain object_type  \\\n",
              "0  151635                 СМЕТАНА   нет        кафе   \n",
              "1   77874                  Родник   нет        кафе   \n",
              "2   24309         Кафе «Академия»   нет        кафе   \n",
              "3   21894              ПИЦЦЕТОРИЯ    да        кафе   \n",
              "4  119365  Кафе «Вишневая метель»   нет        кафе   \n",
              "\n",
              "                                             address  number  \n",
              "0         город Москва, улица Егора Абакумова, дом 9      48  \n",
              "1  город Москва, улица Талалихина, дом 2/1, корпус 1      35  \n",
              "2          город Москва, Абельмановская улица, дом 6      95  \n",
              "3            город Москва, Абрамцевская улица, дом 1      40  \n",
              "4  город Москва, Абрамцевская улица, дом 9, корпус 1      50  "
            ]
          },
          "execution_count": 77,
          "metadata": {},
          "output_type": "execute_result"
        }
      ]
    },
    {
      "cell_type": "markdown",
      "metadata": {
        "id": "Mk_7Y9nMhirc"
      },
      "source": [
        "С названиями столбцов все в порядке."
      ]
    },
    {
      "cell_type": "code",
      "metadata": {
        "colab": {
          "base_uri": "https://localhost:8080/"
        },
        "id": "vLSTilEjc2S0",
        "outputId": "986a0493-4752-4ddd-c282-9972048bc3c4"
      },
      "source": [
        "df.info()"
      ],
      "execution_count": null,
      "outputs": [
        {
          "name": "stdout",
          "output_type": "stream",
          "text": [
            "<class 'pandas.core.frame.DataFrame'>\n",
            "RangeIndex: 15366 entries, 0 to 15365\n",
            "Data columns (total 6 columns):\n",
            "id             15366 non-null int64\n",
            "object_name    15366 non-null object\n",
            "chain          15366 non-null object\n",
            "object_type    15366 non-null object\n",
            "address        15366 non-null object\n",
            "number         15366 non-null int64\n",
            "dtypes: int64(2), object(4)\n",
            "memory usage: 720.4+ KB\n"
          ]
        }
      ]
    },
    {
      "cell_type": "markdown",
      "metadata": {
        "id": "riSqYQRWhn9t"
      },
      "source": [
        "С типом данных все в порядке, пропусков нет. Проверим дубликаты."
      ]
    },
    {
      "cell_type": "code",
      "metadata": {
        "colab": {
          "base_uri": "https://localhost:8080/"
        },
        "id": "7OSfC2HRdSK6",
        "outputId": "c3264196-3f90-43c6-a09e-71cec2ee718d"
      },
      "source": [
        "df.duplicated().sum()"
      ],
      "execution_count": null,
      "outputs": [
        {
          "data": {
            "text/plain": [
              "0"
            ]
          },
          "execution_count": 79,
          "metadata": {},
          "output_type": "execute_result"
        }
      ]
    },
    {
      "cell_type": "markdown",
      "metadata": {
        "id": "y9YXEGlfhwMJ"
      },
      "source": [
        "На первый взгляд дубликатов нет. Проверим на уникальность названий."
      ]
    },
    {
      "cell_type": "code",
      "metadata": {
        "colab": {
          "base_uri": "https://localhost:8080/"
        },
        "id": "itk0cXZGdch_",
        "outputId": "4ee58ffc-4629-49df-f9a8-66d746908fdf"
      },
      "source": [
        "df['object_name'].unique()"
      ],
      "execution_count": null,
      "outputs": [
        {
          "data": {
            "text/plain": [
              "array(['СМЕТАНА', 'Родник', 'Кафе «Академия»', ..., 'Бар Мята Lounge',\n",
              "       'Мята Lounge Октябрьская', 'Кальянная «Мята Lounge»'], dtype=object)"
            ]
          },
          "execution_count": 80,
          "metadata": {},
          "output_type": "execute_result"
        }
      ]
    },
    {
      "cell_type": "markdown",
      "metadata": {
        "id": "QMg0fPhyTmF-"
      },
      "source": [
        "Есть повторяющиеся значения, например 'лаундж-бар мята lounge' и 'бар мята lounge'."
      ]
    },
    {
      "cell_type": "code",
      "metadata": {
        "colab": {
          "base_uri": "https://localhost:8080/"
        },
        "id": "GQqYwQC6ej36",
        "outputId": "481f227e-4049-4ffc-b676-dfdd9f9587a5"
      },
      "source": [
        "df['object_type'].value_counts()"
      ],
      "execution_count": null,
      "outputs": [
        {
          "data": {
            "text/plain": [
              "кафе                                 6099\n",
              "столовая                             2587\n",
              "ресторан                             2285\n",
              "предприятие быстрого обслуживания    1923\n",
              "бар                                   856\n",
              "буфет                                 585\n",
              "кафетерий                             398\n",
              "закусочная                            360\n",
              "магазин (отдел кулинарии)             273\n",
              "Name: object_type, dtype: int64"
            ]
          },
          "execution_count": 81,
          "metadata": {},
          "output_type": "execute_result"
        }
      ]
    },
    {
      "cell_type": "markdown",
      "metadata": {
        "id": "0oupms_wkeNb"
      },
      "source": [
        "C типом объектов все в порядке. Приведем названия объектов к нижнему регистру и удалим кавычки:"
      ]
    },
    {
      "cell_type": "code",
      "metadata": {
        "id": "RJK7gmGKiBmu"
      },
      "source": [
        "df['object_name'] = df['object_name'].str.lower()\n",
        "\n",
        "df['object_name'] = df['object_name'].str.replace('»', '')\n",
        "df['object_name'] = df['object_name'].str.replace('«', '')"
      ],
      "execution_count": null,
      "outputs": []
    },
    {
      "cell_type": "markdown",
      "metadata": {
        "id": "_tkKqagCTmF_"
      },
      "source": [
        "Заменим названия заведений, у которых могут быть разные варианты написания. Найдем строки, которые содержат искомые слова:"
      ]
    },
    {
      "cell_type": "code",
      "metadata": {
        "id": "0g8oqUFBTmF_",
        "outputId": "cd6cc341-736b-4b76-8163-c8b3367b29d2"
      },
      "source": [
        "df.loc[df['object_name'].str.contains('сабв'),'object_name'] = 'subway'\n",
        "list_sub = list(df[df['object_name'].str.contains('subway')]['object_name'].unique())\n",
        "list_sub"
      ],
      "execution_count": null,
      "outputs": [
        {
          "data": {
            "text/plain": [
              "['subway', 'кафе subway']"
            ]
          },
          "execution_count": 84,
          "metadata": {},
          "output_type": "execute_result"
        }
      ]
    },
    {
      "cell_type": "markdown",
      "metadata": {
        "id": "pq0Erj6UTmGA"
      },
      "source": [
        "Нашли несколько вариантов написания слова Subway."
      ]
    },
    {
      "cell_type": "code",
      "metadata": {
        "id": "-efvYnq1TmGA"
      },
      "source": [
        "df['object_name'] = df['object_name'].str.replace('кафе subway','subway')"
      ],
      "execution_count": null,
      "outputs": []
    },
    {
      "cell_type": "code",
      "metadata": {
        "id": "7VZ4Y2iPTmGA",
        "outputId": "aef5951a-0518-4d27-ef59-cc8a173d4520"
      },
      "source": [
        "df.loc[df['object_name'].str.contains('макдонал'),'object_name'] = 'макдональдс'\n",
        "list_m_d = list(df[df['object_name'].str.contains('макдональдс')]['object_name'].unique())\n",
        "list_m_d"
      ],
      "execution_count": null,
      "outputs": [
        {
          "data": {
            "text/plain": [
              "['макдональдс']"
            ]
          },
          "execution_count": 85,
          "metadata": {},
          "output_type": "execute_result"
        }
      ]
    },
    {
      "cell_type": "code",
      "metadata": {
        "id": "DhPFyzNHTmGA",
        "outputId": "72fd4ea5-5c7e-42ff-aa7a-a020402d7715"
      },
      "source": [
        "df[df['object_name'].str.contains('макдональдс')]['chain'].value_counts()"
      ],
      "execution_count": null,
      "outputs": [
        {
          "data": {
            "text/plain": [
              "да    173\n",
              "Name: chain, dtype: int64"
            ]
          },
          "execution_count": 86,
          "metadata": {},
          "output_type": "execute_result"
        }
      ]
    },
    {
      "cell_type": "code",
      "metadata": {
        "id": "DurN19ojTmGB",
        "outputId": "02d95446-f45e-437f-989d-b6d96d3a5d65"
      },
      "source": [
        "df.loc[df['object_name'].str.contains('шоколадница'),'object_name'] = 'шоколадница'\n",
        "list_sh = list(df[df['object_name'].str.contains('шоколадница')]['object_name'].unique())\n",
        "list_sh"
      ],
      "execution_count": null,
      "outputs": [
        {
          "data": {
            "text/plain": [
              "['шоколадница']"
            ]
          },
          "execution_count": 87,
          "metadata": {},
          "output_type": "execute_result"
        }
      ]
    },
    {
      "cell_type": "code",
      "metadata": {
        "colab": {
          "base_uri": "https://localhost:8080/",
          "height": 419
        },
        "id": "zWJdcdasCpy4",
        "outputId": "51cdc991-e7fc-4dac-f081-05336656a0be"
      },
      "source": [
        "df"
      ],
      "execution_count": null,
      "outputs": [
        {
          "data": {
            "text/html": [
              "<div>\n",
              "<style scoped>\n",
              "    .dataframe tbody tr th:only-of-type {\n",
              "        vertical-align: middle;\n",
              "    }\n",
              "\n",
              "    .dataframe tbody tr th {\n",
              "        vertical-align: top;\n",
              "    }\n",
              "\n",
              "    .dataframe thead th {\n",
              "        text-align: right;\n",
              "    }\n",
              "</style>\n",
              "<table border=\"1\" class=\"dataframe\">\n",
              "  <thead>\n",
              "    <tr style=\"text-align: right;\">\n",
              "      <th></th>\n",
              "      <th>id</th>\n",
              "      <th>object_name</th>\n",
              "      <th>chain</th>\n",
              "      <th>object_type</th>\n",
              "      <th>address</th>\n",
              "      <th>number</th>\n",
              "    </tr>\n",
              "  </thead>\n",
              "  <tbody>\n",
              "    <tr>\n",
              "      <td>0</td>\n",
              "      <td>151635</td>\n",
              "      <td>сметана</td>\n",
              "      <td>нет</td>\n",
              "      <td>кафе</td>\n",
              "      <td>город Москва, улица Егора Абакумова, дом 9</td>\n",
              "      <td>48</td>\n",
              "    </tr>\n",
              "    <tr>\n",
              "      <td>1</td>\n",
              "      <td>77874</td>\n",
              "      <td>родник</td>\n",
              "      <td>нет</td>\n",
              "      <td>кафе</td>\n",
              "      <td>город Москва, улица Талалихина, дом 2/1, корпус 1</td>\n",
              "      <td>35</td>\n",
              "    </tr>\n",
              "    <tr>\n",
              "      <td>2</td>\n",
              "      <td>24309</td>\n",
              "      <td>кафе академия</td>\n",
              "      <td>нет</td>\n",
              "      <td>кафе</td>\n",
              "      <td>город Москва, Абельмановская улица, дом 6</td>\n",
              "      <td>95</td>\n",
              "    </tr>\n",
              "    <tr>\n",
              "      <td>3</td>\n",
              "      <td>21894</td>\n",
              "      <td>пиццетория</td>\n",
              "      <td>да</td>\n",
              "      <td>кафе</td>\n",
              "      <td>город Москва, Абрамцевская улица, дом 1</td>\n",
              "      <td>40</td>\n",
              "    </tr>\n",
              "    <tr>\n",
              "      <td>4</td>\n",
              "      <td>119365</td>\n",
              "      <td>кафе вишневая метель</td>\n",
              "      <td>нет</td>\n",
              "      <td>кафе</td>\n",
              "      <td>город Москва, Абрамцевская улица, дом 9, корпус 1</td>\n",
              "      <td>50</td>\n",
              "    </tr>\n",
              "    <tr>\n",
              "      <td>...</td>\n",
              "      <td>...</td>\n",
              "      <td>...</td>\n",
              "      <td>...</td>\n",
              "      <td>...</td>\n",
              "      <td>...</td>\n",
              "      <td>...</td>\n",
              "    </tr>\n",
              "    <tr>\n",
              "      <td>15361</td>\n",
              "      <td>208537</td>\n",
              "      <td>шоколадница</td>\n",
              "      <td>да</td>\n",
              "      <td>кафе</td>\n",
              "      <td>город Москва, 3-й Крутицкий переулок, дом 18</td>\n",
              "      <td>50</td>\n",
              "    </tr>\n",
              "    <tr>\n",
              "      <td>15362</td>\n",
              "      <td>209264</td>\n",
              "      <td>шоколадница</td>\n",
              "      <td>да</td>\n",
              "      <td>кафе</td>\n",
              "      <td>город Москва, улица Земляной Вал, дом 33</td>\n",
              "      <td>10</td>\n",
              "    </tr>\n",
              "    <tr>\n",
              "      <td>15363</td>\n",
              "      <td>209186</td>\n",
              "      <td>шоколадница</td>\n",
              "      <td>да</td>\n",
              "      <td>кафе</td>\n",
              "      <td>город Москва, улица Земляной Вал, дом 33</td>\n",
              "      <td>20</td>\n",
              "    </tr>\n",
              "    <tr>\n",
              "      <td>15364</td>\n",
              "      <td>221900</td>\n",
              "      <td>шоколадница</td>\n",
              "      <td>да</td>\n",
              "      <td>кафе</td>\n",
              "      <td>город Москва, поселение Московский, Киевское ш...</td>\n",
              "      <td>36</td>\n",
              "    </tr>\n",
              "    <tr>\n",
              "      <td>15365</td>\n",
              "      <td>222535</td>\n",
              "      <td>шоколадница</td>\n",
              "      <td>да</td>\n",
              "      <td>кафе</td>\n",
              "      <td>город Москва, Ходынский бульвар, дом 4</td>\n",
              "      <td>10</td>\n",
              "    </tr>\n",
              "  </tbody>\n",
              "</table>\n",
              "<p>15366 rows × 6 columns</p>\n",
              "</div>"
            ],
            "text/plain": [
              "           id           object_name chain object_type  \\\n",
              "0      151635               сметана   нет        кафе   \n",
              "1       77874                родник   нет        кафе   \n",
              "2       24309         кафе академия   нет        кафе   \n",
              "3       21894            пиццетория    да        кафе   \n",
              "4      119365  кафе вишневая метель   нет        кафе   \n",
              "...       ...                   ...   ...         ...   \n",
              "15361  208537           шоколадница    да        кафе   \n",
              "15362  209264           шоколадница    да        кафе   \n",
              "15363  209186           шоколадница    да        кафе   \n",
              "15364  221900           шоколадница    да        кафе   \n",
              "15365  222535           шоколадница    да        кафе   \n",
              "\n",
              "                                                 address  number  \n",
              "0             город Москва, улица Егора Абакумова, дом 9      48  \n",
              "1      город Москва, улица Талалихина, дом 2/1, корпус 1      35  \n",
              "2              город Москва, Абельмановская улица, дом 6      95  \n",
              "3                город Москва, Абрамцевская улица, дом 1      40  \n",
              "4      город Москва, Абрамцевская улица, дом 9, корпус 1      50  \n",
              "...                                                  ...     ...  \n",
              "15361       город Москва, 3-й Крутицкий переулок, дом 18      50  \n",
              "15362           город Москва, улица Земляной Вал, дом 33      10  \n",
              "15363           город Москва, улица Земляной Вал, дом 33      20  \n",
              "15364  город Москва, поселение Московский, Киевское ш...      36  \n",
              "15365             город Москва, Ходынский бульвар, дом 4      10  \n",
              "\n",
              "[15366 rows x 6 columns]"
            ]
          },
          "execution_count": 88,
          "metadata": {},
          "output_type": "execute_result"
        }
      ]
    },
    {
      "cell_type": "markdown",
      "metadata": {
        "id": "61GeyzHbrwsD"
      },
      "source": [
        "Очевидно, дубликатов нет по колонке id. Проверим дубликаты в других столбцах."
      ]
    },
    {
      "cell_type": "code",
      "metadata": {
        "id": "lVPt0EcfqYpq"
      },
      "source": [
        "no_id = df[['object_name', 'chain', 'object_type', 'address', 'number']]"
      ],
      "execution_count": null,
      "outputs": []
    },
    {
      "cell_type": "code",
      "metadata": {
        "colab": {
          "base_uri": "https://localhost:8080/"
        },
        "id": "PBvWBGVsqYsb",
        "outputId": "601d162f-d12d-4646-fcc7-0b2548d5e9e1"
      },
      "source": [
        "no_id.duplicated().sum()"
      ],
      "execution_count": null,
      "outputs": [
        {
          "data": {
            "text/plain": [
              "85"
            ]
          },
          "execution_count": 90,
          "metadata": {},
          "output_type": "execute_result"
        }
      ]
    },
    {
      "cell_type": "markdown",
      "metadata": {
        "id": "hXlMi7mJse8S"
      },
      "source": [
        "Так точно, 85 дубликатов, удалим их."
      ]
    },
    {
      "cell_type": "code",
      "metadata": {
        "id": "UcQAdiKOrAa8"
      },
      "source": [
        "df.drop_duplicates(inplace = True)"
      ],
      "execution_count": null,
      "outputs": []
    },
    {
      "cell_type": "code",
      "metadata": {
        "colab": {
          "base_uri": "https://localhost:8080/"
        },
        "id": "upQ7ReqvtLHH",
        "outputId": "3b9b6e3e-4c0f-41f1-99be-00205c9052e9"
      },
      "source": [
        "df.duplicated().sum()"
      ],
      "execution_count": null,
      "outputs": [
        {
          "data": {
            "text/plain": [
              "0"
            ]
          },
          "execution_count": 92,
          "metadata": {},
          "output_type": "execute_result"
        }
      ]
    },
    {
      "cell_type": "markdown",
      "metadata": {
        "id": "82x7Bzmtgz8L"
      },
      "source": [
        "Проверим количество посадочных мест:"
      ]
    },
    {
      "cell_type": "code",
      "metadata": {
        "colab": {
          "base_uri": "https://localhost:8080/"
        },
        "id": "dp3Bzwt4fHPH",
        "outputId": "3abcb9ca-ed78-45de-965e-777e88003aed"
      },
      "source": [
        "df['number'].describe()"
      ],
      "execution_count": null,
      "outputs": [
        {
          "data": {
            "text/plain": [
              "count    15366.000000\n",
              "mean        59.547182\n",
              "std         74.736833\n",
              "min          0.000000\n",
              "25%         12.000000\n",
              "50%         40.000000\n",
              "75%         80.000000\n",
              "max       1700.000000\n",
              "Name: number, dtype: float64"
            ]
          },
          "execution_count": 93,
          "metadata": {},
          "output_type": "execute_result"
        }
      ]
    },
    {
      "cell_type": "markdown",
      "metadata": {
        "id": "o2dKBtlWg6TW"
      },
      "source": [
        "От 0 до 1700. Сколько заведений без посадочных мест?"
      ]
    },
    {
      "cell_type": "code",
      "metadata": {
        "colab": {
          "base_uri": "https://localhost:8080/"
        },
        "id": "4TzGaupmgeFi",
        "outputId": "f54713c3-97c9-447d-94ee-d2d3f6944954"
      },
      "source": [
        "df[df['number'] == 0].count()"
      ],
      "execution_count": null,
      "outputs": [
        {
          "data": {
            "text/plain": [
              "id             1621\n",
              "object_name    1621\n",
              "chain          1621\n",
              "object_type    1621\n",
              "address        1621\n",
              "number         1621\n",
              "dtype: int64"
            ]
          },
          "execution_count": 94,
          "metadata": {},
          "output_type": "execute_result"
        }
      ]
    },
    {
      "cell_type": "markdown",
      "metadata": {
        "id": "2pbmdf9AhCrL"
      },
      "source": [
        "1621 - это довольно много, 10% от общего количества, не будем их удалять, ведь это могут быть закусочные, рюмочные, заведения, работаюзие навынос и т.д."
      ]
    },
    {
      "cell_type": "markdown",
      "metadata": {
        "id": "zx9BQ0eatbJI"
      },
      "source": [
        "Данные корректные, пропусков нет, дубликаты в названиях объектов выявлены и частично исправлены, приступим к анализу данных."
      ]
    },
    {
      "cell_type": "markdown",
      "metadata": {
        "id": "rQ9b1kactw43"
      },
      "source": [
        "**Шаг №2. Анализ данных**\n",
        "\n",
        "**Исследование соотношение видов объектов общественного питания по количеству.**"
      ]
    },
    {
      "cell_type": "code",
      "metadata": {
        "colab": {
          "base_uri": "https://localhost:8080/",
          "height": 204
        },
        "id": "fdzCUm8VBm_B",
        "outputId": "7e10830e-ae6b-4bb3-9c19-6ec48470e61f"
      },
      "source": [
        "df.head()"
      ],
      "execution_count": null,
      "outputs": [
        {
          "data": {
            "text/html": [
              "<div>\n",
              "<style scoped>\n",
              "    .dataframe tbody tr th:only-of-type {\n",
              "        vertical-align: middle;\n",
              "    }\n",
              "\n",
              "    .dataframe tbody tr th {\n",
              "        vertical-align: top;\n",
              "    }\n",
              "\n",
              "    .dataframe thead th {\n",
              "        text-align: right;\n",
              "    }\n",
              "</style>\n",
              "<table border=\"1\" class=\"dataframe\">\n",
              "  <thead>\n",
              "    <tr style=\"text-align: right;\">\n",
              "      <th></th>\n",
              "      <th>id</th>\n",
              "      <th>object_name</th>\n",
              "      <th>chain</th>\n",
              "      <th>object_type</th>\n",
              "      <th>address</th>\n",
              "      <th>number</th>\n",
              "    </tr>\n",
              "  </thead>\n",
              "  <tbody>\n",
              "    <tr>\n",
              "      <td>0</td>\n",
              "      <td>151635</td>\n",
              "      <td>сметана</td>\n",
              "      <td>нет</td>\n",
              "      <td>кафе</td>\n",
              "      <td>город Москва, улица Егора Абакумова, дом 9</td>\n",
              "      <td>48</td>\n",
              "    </tr>\n",
              "    <tr>\n",
              "      <td>1</td>\n",
              "      <td>77874</td>\n",
              "      <td>родник</td>\n",
              "      <td>нет</td>\n",
              "      <td>кафе</td>\n",
              "      <td>город Москва, улица Талалихина, дом 2/1, корпус 1</td>\n",
              "      <td>35</td>\n",
              "    </tr>\n",
              "    <tr>\n",
              "      <td>2</td>\n",
              "      <td>24309</td>\n",
              "      <td>кафе академия</td>\n",
              "      <td>нет</td>\n",
              "      <td>кафе</td>\n",
              "      <td>город Москва, Абельмановская улица, дом 6</td>\n",
              "      <td>95</td>\n",
              "    </tr>\n",
              "    <tr>\n",
              "      <td>3</td>\n",
              "      <td>21894</td>\n",
              "      <td>пиццетория</td>\n",
              "      <td>да</td>\n",
              "      <td>кафе</td>\n",
              "      <td>город Москва, Абрамцевская улица, дом 1</td>\n",
              "      <td>40</td>\n",
              "    </tr>\n",
              "    <tr>\n",
              "      <td>4</td>\n",
              "      <td>119365</td>\n",
              "      <td>кафе вишневая метель</td>\n",
              "      <td>нет</td>\n",
              "      <td>кафе</td>\n",
              "      <td>город Москва, Абрамцевская улица, дом 9, корпус 1</td>\n",
              "      <td>50</td>\n",
              "    </tr>\n",
              "  </tbody>\n",
              "</table>\n",
              "</div>"
            ],
            "text/plain": [
              "       id           object_name chain object_type  \\\n",
              "0  151635               сметана   нет        кафе   \n",
              "1   77874                родник   нет        кафе   \n",
              "2   24309         кафе академия   нет        кафе   \n",
              "3   21894            пиццетория    да        кафе   \n",
              "4  119365  кафе вишневая метель   нет        кафе   \n",
              "\n",
              "                                             address  number  \n",
              "0         город Москва, улица Егора Абакумова, дом 9      48  \n",
              "1  город Москва, улица Талалихина, дом 2/1, корпус 1      35  \n",
              "2          город Москва, Абельмановская улица, дом 6      95  \n",
              "3            город Москва, Абрамцевская улица, дом 1      40  \n",
              "4  город Москва, Абрамцевская улица, дом 9, корпус 1      50  "
            ]
          },
          "execution_count": 95,
          "metadata": {},
          "output_type": "execute_result"
        }
      ]
    },
    {
      "cell_type": "code",
      "metadata": {
        "colab": {
          "base_uri": "https://localhost:8080/",
          "height": 328
        },
        "id": "pafgedzNtt9F",
        "outputId": "4700dcbe-7ac8-4b33-85c0-1797cea4da08"
      },
      "source": [
        "objects_count = df.groupby('object_type').agg({'id': 'count'}).reset_index()\n",
        "objects_count.columns = ['object_type', 'amount']\n",
        "sorted_objects_count = objects_count.sort_values(by='amount', ascending=False)\n",
        "#sorted_objects_count\n",
        "\n",
        "fig = go.Figure(data=[go.Table(\n",
        "    header=dict(values=list(sorted_objects_count.columns),\n",
        "                fill_color='paleturquoise',\n",
        "                align='left'),\n",
        "    cells=dict(values=[sorted_objects_count.object_type, sorted_objects_count.amount],\n",
        "               fill_color='lavender',\n",
        "               align='left'))\n",
        "])\n",
        "\n",
        "fig.show()"
      ],
      "execution_count": null,
      "outputs": [
        {
          "data": {
            "application/vnd.plotly.v1+json": {
              "config": {
                "plotlyServerURL": "https://plot.ly"
              },
              "data": [
                {
                  "cells": {
                    "align": "left",
                    "fill": {
                      "color": "lavender"
                    },
                    "values": [
                      [
                        "кафе",
                        "столовая",
                        "ресторан",
                        "предприятие быстрого обслуживания",
                        "бар",
                        "буфет",
                        "кафетерий",
                        "закусочная",
                        "магазин (отдел кулинарии)"
                      ],
                      [
                        6099,
                        2587,
                        2285,
                        1923,
                        856,
                        585,
                        398,
                        360,
                        273
                      ]
                    ]
                  },
                  "header": {
                    "align": "left",
                    "fill": {
                      "color": "paleturquoise"
                    },
                    "values": [
                      "object_type",
                      "amount"
                    ]
                  },
                  "type": "table"
                }
              ],
              "layout": {
                "template": {
                  "data": {
                    "bar": [
                      {
                        "error_x": {
                          "color": "#2a3f5f"
                        },
                        "error_y": {
                          "color": "#2a3f5f"
                        },
                        "marker": {
                          "line": {
                            "color": "#E5ECF6",
                            "width": 0.5
                          }
                        },
                        "type": "bar"
                      }
                    ],
                    "barpolar": [
                      {
                        "marker": {
                          "line": {
                            "color": "#E5ECF6",
                            "width": 0.5
                          }
                        },
                        "type": "barpolar"
                      }
                    ],
                    "carpet": [
                      {
                        "aaxis": {
                          "endlinecolor": "#2a3f5f",
                          "gridcolor": "white",
                          "linecolor": "white",
                          "minorgridcolor": "white",
                          "startlinecolor": "#2a3f5f"
                        },
                        "baxis": {
                          "endlinecolor": "#2a3f5f",
                          "gridcolor": "white",
                          "linecolor": "white",
                          "minorgridcolor": "white",
                          "startlinecolor": "#2a3f5f"
                        },
                        "type": "carpet"
                      }
                    ],
                    "choropleth": [
                      {
                        "colorbar": {
                          "outlinewidth": 0,
                          "ticks": ""
                        },
                        "type": "choropleth"
                      }
                    ],
                    "contour": [
                      {
                        "colorbar": {
                          "outlinewidth": 0,
                          "ticks": ""
                        },
                        "colorscale": [
                          [
                            0,
                            "#0d0887"
                          ],
                          [
                            0.1111111111,
                            "#46039f"
                          ],
                          [
                            0.2222222222,
                            "#7201a8"
                          ],
                          [
                            0.3333333333,
                            "#9c179e"
                          ],
                          [
                            0.4444444444,
                            "#bd3786"
                          ],
                          [
                            0.5555555556,
                            "#d8576b"
                          ],
                          [
                            0.6666666667,
                            "#ed7953"
                          ],
                          [
                            0.7777777778,
                            "#fb9f3a"
                          ],
                          [
                            0.8888888889,
                            "#fdca26"
                          ],
                          [
                            1,
                            "#f0f921"
                          ]
                        ],
                        "type": "contour"
                      }
                    ],
                    "contourcarpet": [
                      {
                        "colorbar": {
                          "outlinewidth": 0,
                          "ticks": ""
                        },
                        "type": "contourcarpet"
                      }
                    ],
                    "heatmap": [
                      {
                        "colorbar": {
                          "outlinewidth": 0,
                          "ticks": ""
                        },
                        "colorscale": [
                          [
                            0,
                            "#0d0887"
                          ],
                          [
                            0.1111111111,
                            "#46039f"
                          ],
                          [
                            0.2222222222,
                            "#7201a8"
                          ],
                          [
                            0.3333333333,
                            "#9c179e"
                          ],
                          [
                            0.4444444444,
                            "#bd3786"
                          ],
                          [
                            0.5555555556,
                            "#d8576b"
                          ],
                          [
                            0.6666666667,
                            "#ed7953"
                          ],
                          [
                            0.7777777778,
                            "#fb9f3a"
                          ],
                          [
                            0.8888888889,
                            "#fdca26"
                          ],
                          [
                            1,
                            "#f0f921"
                          ]
                        ],
                        "type": "heatmap"
                      }
                    ],
                    "heatmapgl": [
                      {
                        "colorbar": {
                          "outlinewidth": 0,
                          "ticks": ""
                        },
                        "colorscale": [
                          [
                            0,
                            "#0d0887"
                          ],
                          [
                            0.1111111111,
                            "#46039f"
                          ],
                          [
                            0.2222222222,
                            "#7201a8"
                          ],
                          [
                            0.3333333333,
                            "#9c179e"
                          ],
                          [
                            0.4444444444,
                            "#bd3786"
                          ],
                          [
                            0.5555555556,
                            "#d8576b"
                          ],
                          [
                            0.6666666667,
                            "#ed7953"
                          ],
                          [
                            0.7777777778,
                            "#fb9f3a"
                          ],
                          [
                            0.8888888889,
                            "#fdca26"
                          ],
                          [
                            1,
                            "#f0f921"
                          ]
                        ],
                        "type": "heatmapgl"
                      }
                    ],
                    "histogram": [
                      {
                        "marker": {
                          "colorbar": {
                            "outlinewidth": 0,
                            "ticks": ""
                          }
                        },
                        "type": "histogram"
                      }
                    ],
                    "histogram2d": [
                      {
                        "colorbar": {
                          "outlinewidth": 0,
                          "ticks": ""
                        },
                        "colorscale": [
                          [
                            0,
                            "#0d0887"
                          ],
                          [
                            0.1111111111,
                            "#46039f"
                          ],
                          [
                            0.2222222222,
                            "#7201a8"
                          ],
                          [
                            0.3333333333,
                            "#9c179e"
                          ],
                          [
                            0.4444444444,
                            "#bd3786"
                          ],
                          [
                            0.5555555556,
                            "#d8576b"
                          ],
                          [
                            0.6666666667,
                            "#ed7953"
                          ],
                          [
                            0.7777777778,
                            "#fb9f3a"
                          ],
                          [
                            0.8888888889,
                            "#fdca26"
                          ],
                          [
                            1,
                            "#f0f921"
                          ]
                        ],
                        "type": "histogram2d"
                      }
                    ],
                    "histogram2dcontour": [
                      {
                        "colorbar": {
                          "outlinewidth": 0,
                          "ticks": ""
                        },
                        "colorscale": [
                          [
                            0,
                            "#0d0887"
                          ],
                          [
                            0.1111111111,
                            "#46039f"
                          ],
                          [
                            0.2222222222,
                            "#7201a8"
                          ],
                          [
                            0.3333333333,
                            "#9c179e"
                          ],
                          [
                            0.4444444444,
                            "#bd3786"
                          ],
                          [
                            0.5555555556,
                            "#d8576b"
                          ],
                          [
                            0.6666666667,
                            "#ed7953"
                          ],
                          [
                            0.7777777778,
                            "#fb9f3a"
                          ],
                          [
                            0.8888888889,
                            "#fdca26"
                          ],
                          [
                            1,
                            "#f0f921"
                          ]
                        ],
                        "type": "histogram2dcontour"
                      }
                    ],
                    "mesh3d": [
                      {
                        "colorbar": {
                          "outlinewidth": 0,
                          "ticks": ""
                        },
                        "type": "mesh3d"
                      }
                    ],
                    "parcoords": [
                      {
                        "line": {
                          "colorbar": {
                            "outlinewidth": 0,
                            "ticks": ""
                          }
                        },
                        "type": "parcoords"
                      }
                    ],
                    "scatter": [
                      {
                        "marker": {
                          "colorbar": {
                            "outlinewidth": 0,
                            "ticks": ""
                          }
                        },
                        "type": "scatter"
                      }
                    ],
                    "scatter3d": [
                      {
                        "line": {
                          "colorbar": {
                            "outlinewidth": 0,
                            "ticks": ""
                          }
                        },
                        "marker": {
                          "colorbar": {
                            "outlinewidth": 0,
                            "ticks": ""
                          }
                        },
                        "type": "scatter3d"
                      }
                    ],
                    "scattercarpet": [
                      {
                        "marker": {
                          "colorbar": {
                            "outlinewidth": 0,
                            "ticks": ""
                          }
                        },
                        "type": "scattercarpet"
                      }
                    ],
                    "scattergeo": [
                      {
                        "marker": {
                          "colorbar": {
                            "outlinewidth": 0,
                            "ticks": ""
                          }
                        },
                        "type": "scattergeo"
                      }
                    ],
                    "scattergl": [
                      {
                        "marker": {
                          "colorbar": {
                            "outlinewidth": 0,
                            "ticks": ""
                          }
                        },
                        "type": "scattergl"
                      }
                    ],
                    "scattermapbox": [
                      {
                        "marker": {
                          "colorbar": {
                            "outlinewidth": 0,
                            "ticks": ""
                          }
                        },
                        "type": "scattermapbox"
                      }
                    ],
                    "scatterpolar": [
                      {
                        "marker": {
                          "colorbar": {
                            "outlinewidth": 0,
                            "ticks": ""
                          }
                        },
                        "type": "scatterpolar"
                      }
                    ],
                    "scatterpolargl": [
                      {
                        "marker": {
                          "colorbar": {
                            "outlinewidth": 0,
                            "ticks": ""
                          }
                        },
                        "type": "scatterpolargl"
                      }
                    ],
                    "scatterternary": [
                      {
                        "marker": {
                          "colorbar": {
                            "outlinewidth": 0,
                            "ticks": ""
                          }
                        },
                        "type": "scatterternary"
                      }
                    ],
                    "surface": [
                      {
                        "colorbar": {
                          "outlinewidth": 0,
                          "ticks": ""
                        },
                        "colorscale": [
                          [
                            0,
                            "#0d0887"
                          ],
                          [
                            0.1111111111,
                            "#46039f"
                          ],
                          [
                            0.2222222222,
                            "#7201a8"
                          ],
                          [
                            0.3333333333,
                            "#9c179e"
                          ],
                          [
                            0.4444444444,
                            "#bd3786"
                          ],
                          [
                            0.5555555556,
                            "#d8576b"
                          ],
                          [
                            0.6666666667,
                            "#ed7953"
                          ],
                          [
                            0.7777777778,
                            "#fb9f3a"
                          ],
                          [
                            0.8888888889,
                            "#fdca26"
                          ],
                          [
                            1,
                            "#f0f921"
                          ]
                        ],
                        "type": "surface"
                      }
                    ],
                    "table": [
                      {
                        "cells": {
                          "fill": {
                            "color": "#EBF0F8"
                          },
                          "line": {
                            "color": "white"
                          }
                        },
                        "header": {
                          "fill": {
                            "color": "#C8D4E3"
                          },
                          "line": {
                            "color": "white"
                          }
                        },
                        "type": "table"
                      }
                    ]
                  },
                  "layout": {
                    "annotationdefaults": {
                      "arrowcolor": "#2a3f5f",
                      "arrowhead": 0,
                      "arrowwidth": 1
                    },
                    "colorscale": {
                      "diverging": [
                        [
                          0,
                          "#8e0152"
                        ],
                        [
                          0.1,
                          "#c51b7d"
                        ],
                        [
                          0.2,
                          "#de77ae"
                        ],
                        [
                          0.3,
                          "#f1b6da"
                        ],
                        [
                          0.4,
                          "#fde0ef"
                        ],
                        [
                          0.5,
                          "#f7f7f7"
                        ],
                        [
                          0.6,
                          "#e6f5d0"
                        ],
                        [
                          0.7,
                          "#b8e186"
                        ],
                        [
                          0.8,
                          "#7fbc41"
                        ],
                        [
                          0.9,
                          "#4d9221"
                        ],
                        [
                          1,
                          "#276419"
                        ]
                      ],
                      "sequential": [
                        [
                          0,
                          "#0d0887"
                        ],
                        [
                          0.1111111111,
                          "#46039f"
                        ],
                        [
                          0.2222222222,
                          "#7201a8"
                        ],
                        [
                          0.3333333333,
                          "#9c179e"
                        ],
                        [
                          0.4444444444,
                          "#bd3786"
                        ],
                        [
                          0.5555555556,
                          "#d8576b"
                        ],
                        [
                          0.6666666667,
                          "#ed7953"
                        ],
                        [
                          0.7777777778,
                          "#fb9f3a"
                        ],
                        [
                          0.8888888889,
                          "#fdca26"
                        ],
                        [
                          1,
                          "#f0f921"
                        ]
                      ],
                      "sequentialminus": [
                        [
                          0,
                          "#0d0887"
                        ],
                        [
                          0.1111111111,
                          "#46039f"
                        ],
                        [
                          0.2222222222,
                          "#7201a8"
                        ],
                        [
                          0.3333333333,
                          "#9c179e"
                        ],
                        [
                          0.4444444444,
                          "#bd3786"
                        ],
                        [
                          0.5555555556,
                          "#d8576b"
                        ],
                        [
                          0.6666666667,
                          "#ed7953"
                        ],
                        [
                          0.7777777778,
                          "#fb9f3a"
                        ],
                        [
                          0.8888888889,
                          "#fdca26"
                        ],
                        [
                          1,
                          "#f0f921"
                        ]
                      ]
                    },
                    "colorway": [
                      "#636efa",
                      "#EF553B",
                      "#00cc96",
                      "#ab63fa",
                      "#FFA15A",
                      "#19d3f3",
                      "#FF6692",
                      "#B6E880",
                      "#FF97FF",
                      "#FECB52"
                    ],
                    "font": {
                      "color": "#2a3f5f"
                    },
                    "geo": {
                      "bgcolor": "white",
                      "lakecolor": "white",
                      "landcolor": "#E5ECF6",
                      "showlakes": true,
                      "showland": true,
                      "subunitcolor": "white"
                    },
                    "hoverlabel": {
                      "align": "left"
                    },
                    "hovermode": "closest",
                    "mapbox": {
                      "style": "light"
                    },
                    "paper_bgcolor": "white",
                    "plot_bgcolor": "#E5ECF6",
                    "polar": {
                      "angularaxis": {
                        "gridcolor": "white",
                        "linecolor": "white",
                        "ticks": ""
                      },
                      "bgcolor": "#E5ECF6",
                      "radialaxis": {
                        "gridcolor": "white",
                        "linecolor": "white",
                        "ticks": ""
                      }
                    },
                    "scene": {
                      "xaxis": {
                        "backgroundcolor": "#E5ECF6",
                        "gridcolor": "white",
                        "gridwidth": 2,
                        "linecolor": "white",
                        "showbackground": true,
                        "ticks": "",
                        "zerolinecolor": "white"
                      },
                      "yaxis": {
                        "backgroundcolor": "#E5ECF6",
                        "gridcolor": "white",
                        "gridwidth": 2,
                        "linecolor": "white",
                        "showbackground": true,
                        "ticks": "",
                        "zerolinecolor": "white"
                      },
                      "zaxis": {
                        "backgroundcolor": "#E5ECF6",
                        "gridcolor": "white",
                        "gridwidth": 2,
                        "linecolor": "white",
                        "showbackground": true,
                        "ticks": "",
                        "zerolinecolor": "white"
                      }
                    },
                    "shapedefaults": {
                      "line": {
                        "color": "#2a3f5f"
                      }
                    },
                    "ternary": {
                      "aaxis": {
                        "gridcolor": "white",
                        "linecolor": "white",
                        "ticks": ""
                      },
                      "baxis": {
                        "gridcolor": "white",
                        "linecolor": "white",
                        "ticks": ""
                      },
                      "bgcolor": "#E5ECF6",
                      "caxis": {
                        "gridcolor": "white",
                        "linecolor": "white",
                        "ticks": ""
                      }
                    },
                    "title": {
                      "x": 0.05
                    },
                    "xaxis": {
                      "automargin": true,
                      "gridcolor": "white",
                      "linecolor": "white",
                      "ticks": "",
                      "zerolinecolor": "white",
                      "zerolinewidth": 2
                    },
                    "yaxis": {
                      "automargin": true,
                      "gridcolor": "white",
                      "linecolor": "white",
                      "ticks": "",
                      "zerolinecolor": "white",
                      "zerolinewidth": 2
                    }
                  }
                }
              }
            },
            "text/html": [
              "<div>\n",
              "        \n",
              "        \n",
              "            <div id=\"7134b47f-5d8f-428c-bedd-b3c4fd771a1f\" class=\"plotly-graph-div\" style=\"height:525px; width:100%;\"></div>\n",
              "            <script type=\"text/javascript\">\n",
              "                require([\"plotly\"], function(Plotly) {\n",
              "                    window.PLOTLYENV=window.PLOTLYENV || {};\n",
              "                    \n",
              "                if (document.getElementById(\"7134b47f-5d8f-428c-bedd-b3c4fd771a1f\")) {\n",
              "                    Plotly.newPlot(\n",
              "                        '7134b47f-5d8f-428c-bedd-b3c4fd771a1f',\n",
              "                        [{\"cells\": {\"align\": \"left\", \"fill\": {\"color\": \"lavender\"}, \"values\": [[\"\\u043a\\u0430\\u0444\\u0435\", \"\\u0441\\u0442\\u043e\\u043b\\u043e\\u0432\\u0430\\u044f\", \"\\u0440\\u0435\\u0441\\u0442\\u043e\\u0440\\u0430\\u043d\", \"\\u043f\\u0440\\u0435\\u0434\\u043f\\u0440\\u0438\\u044f\\u0442\\u0438\\u0435 \\u0431\\u044b\\u0441\\u0442\\u0440\\u043e\\u0433\\u043e \\u043e\\u0431\\u0441\\u043b\\u0443\\u0436\\u0438\\u0432\\u0430\\u043d\\u0438\\u044f\", \"\\u0431\\u0430\\u0440\", \"\\u0431\\u0443\\u0444\\u0435\\u0442\", \"\\u043a\\u0430\\u0444\\u0435\\u0442\\u0435\\u0440\\u0438\\u0439\", \"\\u0437\\u0430\\u043a\\u0443\\u0441\\u043e\\u0447\\u043d\\u0430\\u044f\", \"\\u043c\\u0430\\u0433\\u0430\\u0437\\u0438\\u043d (\\u043e\\u0442\\u0434\\u0435\\u043b \\u043a\\u0443\\u043b\\u0438\\u043d\\u0430\\u0440\\u0438\\u0438)\"], [6099, 2587, 2285, 1923, 856, 585, 398, 360, 273]]}, \"header\": {\"align\": \"left\", \"fill\": {\"color\": \"paleturquoise\"}, \"values\": [\"object_type\", \"amount\"]}, \"type\": \"table\"}],\n",
              "                        {\"template\": {\"data\": {\"bar\": [{\"error_x\": {\"color\": \"#2a3f5f\"}, \"error_y\": {\"color\": \"#2a3f5f\"}, \"marker\": {\"line\": {\"color\": \"#E5ECF6\", \"width\": 0.5}}, \"type\": \"bar\"}], \"barpolar\": [{\"marker\": {\"line\": {\"color\": \"#E5ECF6\", \"width\": 0.5}}, \"type\": \"barpolar\"}], \"carpet\": [{\"aaxis\": {\"endlinecolor\": \"#2a3f5f\", \"gridcolor\": \"white\", \"linecolor\": \"white\", \"minorgridcolor\": \"white\", \"startlinecolor\": \"#2a3f5f\"}, \"baxis\": {\"endlinecolor\": \"#2a3f5f\", \"gridcolor\": \"white\", \"linecolor\": \"white\", \"minorgridcolor\": \"white\", \"startlinecolor\": \"#2a3f5f\"}, \"type\": \"carpet\"}], \"choropleth\": [{\"colorbar\": {\"outlinewidth\": 0, \"ticks\": \"\"}, \"type\": \"choropleth\"}], \"contour\": [{\"colorbar\": {\"outlinewidth\": 0, \"ticks\": \"\"}, \"colorscale\": [[0.0, \"#0d0887\"], [0.1111111111111111, \"#46039f\"], [0.2222222222222222, \"#7201a8\"], [0.3333333333333333, \"#9c179e\"], [0.4444444444444444, \"#bd3786\"], [0.5555555555555556, \"#d8576b\"], [0.6666666666666666, \"#ed7953\"], [0.7777777777777778, \"#fb9f3a\"], [0.8888888888888888, \"#fdca26\"], [1.0, \"#f0f921\"]], \"type\": \"contour\"}], \"contourcarpet\": [{\"colorbar\": {\"outlinewidth\": 0, \"ticks\": \"\"}, \"type\": \"contourcarpet\"}], \"heatmap\": [{\"colorbar\": {\"outlinewidth\": 0, \"ticks\": \"\"}, \"colorscale\": [[0.0, \"#0d0887\"], [0.1111111111111111, \"#46039f\"], [0.2222222222222222, \"#7201a8\"], [0.3333333333333333, \"#9c179e\"], [0.4444444444444444, \"#bd3786\"], [0.5555555555555556, \"#d8576b\"], [0.6666666666666666, \"#ed7953\"], [0.7777777777777778, \"#fb9f3a\"], [0.8888888888888888, \"#fdca26\"], [1.0, \"#f0f921\"]], \"type\": \"heatmap\"}], \"heatmapgl\": [{\"colorbar\": {\"outlinewidth\": 0, \"ticks\": \"\"}, \"colorscale\": [[0.0, \"#0d0887\"], [0.1111111111111111, \"#46039f\"], [0.2222222222222222, \"#7201a8\"], [0.3333333333333333, \"#9c179e\"], [0.4444444444444444, \"#bd3786\"], [0.5555555555555556, \"#d8576b\"], [0.6666666666666666, \"#ed7953\"], [0.7777777777777778, \"#fb9f3a\"], [0.8888888888888888, \"#fdca26\"], [1.0, \"#f0f921\"]], \"type\": \"heatmapgl\"}], \"histogram\": [{\"marker\": {\"colorbar\": {\"outlinewidth\": 0, \"ticks\": \"\"}}, \"type\": \"histogram\"}], \"histogram2d\": [{\"colorbar\": {\"outlinewidth\": 0, \"ticks\": \"\"}, \"colorscale\": [[0.0, \"#0d0887\"], [0.1111111111111111, \"#46039f\"], [0.2222222222222222, \"#7201a8\"], [0.3333333333333333, \"#9c179e\"], [0.4444444444444444, \"#bd3786\"], [0.5555555555555556, \"#d8576b\"], [0.6666666666666666, \"#ed7953\"], [0.7777777777777778, \"#fb9f3a\"], [0.8888888888888888, \"#fdca26\"], [1.0, \"#f0f921\"]], \"type\": \"histogram2d\"}], \"histogram2dcontour\": [{\"colorbar\": {\"outlinewidth\": 0, \"ticks\": \"\"}, \"colorscale\": [[0.0, \"#0d0887\"], [0.1111111111111111, \"#46039f\"], [0.2222222222222222, \"#7201a8\"], [0.3333333333333333, \"#9c179e\"], [0.4444444444444444, \"#bd3786\"], [0.5555555555555556, \"#d8576b\"], [0.6666666666666666, \"#ed7953\"], [0.7777777777777778, \"#fb9f3a\"], [0.8888888888888888, \"#fdca26\"], [1.0, \"#f0f921\"]], \"type\": \"histogram2dcontour\"}], \"mesh3d\": [{\"colorbar\": {\"outlinewidth\": 0, \"ticks\": \"\"}, \"type\": \"mesh3d\"}], \"parcoords\": [{\"line\": {\"colorbar\": {\"outlinewidth\": 0, \"ticks\": \"\"}}, \"type\": \"parcoords\"}], \"scatter\": [{\"marker\": {\"colorbar\": {\"outlinewidth\": 0, \"ticks\": \"\"}}, \"type\": \"scatter\"}], \"scatter3d\": [{\"line\": {\"colorbar\": {\"outlinewidth\": 0, \"ticks\": \"\"}}, \"marker\": {\"colorbar\": {\"outlinewidth\": 0, \"ticks\": \"\"}}, \"type\": \"scatter3d\"}], \"scattercarpet\": [{\"marker\": {\"colorbar\": {\"outlinewidth\": 0, \"ticks\": \"\"}}, \"type\": \"scattercarpet\"}], \"scattergeo\": [{\"marker\": {\"colorbar\": {\"outlinewidth\": 0, \"ticks\": \"\"}}, \"type\": \"scattergeo\"}], \"scattergl\": [{\"marker\": {\"colorbar\": {\"outlinewidth\": 0, \"ticks\": \"\"}}, \"type\": \"scattergl\"}], \"scattermapbox\": [{\"marker\": {\"colorbar\": {\"outlinewidth\": 0, \"ticks\": \"\"}}, \"type\": \"scattermapbox\"}], \"scatterpolar\": [{\"marker\": {\"colorbar\": {\"outlinewidth\": 0, \"ticks\": \"\"}}, \"type\": \"scatterpolar\"}], \"scatterpolargl\": [{\"marker\": {\"colorbar\": {\"outlinewidth\": 0, \"ticks\": \"\"}}, \"type\": \"scatterpolargl\"}], \"scatterternary\": [{\"marker\": {\"colorbar\": {\"outlinewidth\": 0, \"ticks\": \"\"}}, \"type\": \"scatterternary\"}], \"surface\": [{\"colorbar\": {\"outlinewidth\": 0, \"ticks\": \"\"}, \"colorscale\": [[0.0, \"#0d0887\"], [0.1111111111111111, \"#46039f\"], [0.2222222222222222, \"#7201a8\"], [0.3333333333333333, \"#9c179e\"], [0.4444444444444444, \"#bd3786\"], [0.5555555555555556, \"#d8576b\"], [0.6666666666666666, \"#ed7953\"], [0.7777777777777778, \"#fb9f3a\"], [0.8888888888888888, \"#fdca26\"], [1.0, \"#f0f921\"]], \"type\": \"surface\"}], \"table\": [{\"cells\": {\"fill\": {\"color\": \"#EBF0F8\"}, \"line\": {\"color\": \"white\"}}, \"header\": {\"fill\": {\"color\": \"#C8D4E3\"}, \"line\": {\"color\": \"white\"}}, \"type\": \"table\"}]}, \"layout\": {\"annotationdefaults\": {\"arrowcolor\": \"#2a3f5f\", \"arrowhead\": 0, \"arrowwidth\": 1}, \"colorscale\": {\"diverging\": [[0, \"#8e0152\"], [0.1, \"#c51b7d\"], [0.2, \"#de77ae\"], [0.3, \"#f1b6da\"], [0.4, \"#fde0ef\"], [0.5, \"#f7f7f7\"], [0.6, \"#e6f5d0\"], [0.7, \"#b8e186\"], [0.8, \"#7fbc41\"], [0.9, \"#4d9221\"], [1, \"#276419\"]], \"sequential\": [[0.0, \"#0d0887\"], [0.1111111111111111, \"#46039f\"], [0.2222222222222222, \"#7201a8\"], [0.3333333333333333, \"#9c179e\"], [0.4444444444444444, \"#bd3786\"], [0.5555555555555556, \"#d8576b\"], [0.6666666666666666, \"#ed7953\"], [0.7777777777777778, \"#fb9f3a\"], [0.8888888888888888, \"#fdca26\"], [1.0, \"#f0f921\"]], \"sequentialminus\": [[0.0, \"#0d0887\"], [0.1111111111111111, \"#46039f\"], [0.2222222222222222, \"#7201a8\"], [0.3333333333333333, \"#9c179e\"], [0.4444444444444444, \"#bd3786\"], [0.5555555555555556, \"#d8576b\"], [0.6666666666666666, \"#ed7953\"], [0.7777777777777778, \"#fb9f3a\"], [0.8888888888888888, \"#fdca26\"], [1.0, \"#f0f921\"]]}, \"colorway\": [\"#636efa\", \"#EF553B\", \"#00cc96\", \"#ab63fa\", \"#FFA15A\", \"#19d3f3\", \"#FF6692\", \"#B6E880\", \"#FF97FF\", \"#FECB52\"], \"font\": {\"color\": \"#2a3f5f\"}, \"geo\": {\"bgcolor\": \"white\", \"lakecolor\": \"white\", \"landcolor\": \"#E5ECF6\", \"showlakes\": true, \"showland\": true, \"subunitcolor\": \"white\"}, \"hoverlabel\": {\"align\": \"left\"}, \"hovermode\": \"closest\", \"mapbox\": {\"style\": \"light\"}, \"paper_bgcolor\": \"white\", \"plot_bgcolor\": \"#E5ECF6\", \"polar\": {\"angularaxis\": {\"gridcolor\": \"white\", \"linecolor\": \"white\", \"ticks\": \"\"}, \"bgcolor\": \"#E5ECF6\", \"radialaxis\": {\"gridcolor\": \"white\", \"linecolor\": \"white\", \"ticks\": \"\"}}, \"scene\": {\"xaxis\": {\"backgroundcolor\": \"#E5ECF6\", \"gridcolor\": \"white\", \"gridwidth\": 2, \"linecolor\": \"white\", \"showbackground\": true, \"ticks\": \"\", \"zerolinecolor\": \"white\"}, \"yaxis\": {\"backgroundcolor\": \"#E5ECF6\", \"gridcolor\": \"white\", \"gridwidth\": 2, \"linecolor\": \"white\", \"showbackground\": true, \"ticks\": \"\", \"zerolinecolor\": \"white\"}, \"zaxis\": {\"backgroundcolor\": \"#E5ECF6\", \"gridcolor\": \"white\", \"gridwidth\": 2, \"linecolor\": \"white\", \"showbackground\": true, \"ticks\": \"\", \"zerolinecolor\": \"white\"}}, \"shapedefaults\": {\"line\": {\"color\": \"#2a3f5f\"}}, \"ternary\": {\"aaxis\": {\"gridcolor\": \"white\", \"linecolor\": \"white\", \"ticks\": \"\"}, \"baxis\": {\"gridcolor\": \"white\", \"linecolor\": \"white\", \"ticks\": \"\"}, \"bgcolor\": \"#E5ECF6\", \"caxis\": {\"gridcolor\": \"white\", \"linecolor\": \"white\", \"ticks\": \"\"}}, \"title\": {\"x\": 0.05}, \"xaxis\": {\"automargin\": true, \"gridcolor\": \"white\", \"linecolor\": \"white\", \"ticks\": \"\", \"zerolinecolor\": \"white\", \"zerolinewidth\": 2}, \"yaxis\": {\"automargin\": true, \"gridcolor\": \"white\", \"linecolor\": \"white\", \"ticks\": \"\", \"zerolinecolor\": \"white\", \"zerolinewidth\": 2}}}},\n",
              "                        {\"responsive\": true}\n",
              "                    ).then(function(){\n",
              "                            \n",
              "var gd = document.getElementById('7134b47f-5d8f-428c-bedd-b3c4fd771a1f');\n",
              "var x = new MutationObserver(function (mutations, observer) {{\n",
              "        var display = window.getComputedStyle(gd).display;\n",
              "        if (!display || display === 'none') {{\n",
              "            console.log([gd, 'removed!']);\n",
              "            Plotly.purge(gd);\n",
              "            observer.disconnect();\n",
              "        }}\n",
              "}});\n",
              "\n",
              "// Listen for the removal of the full notebook cells\n",
              "var notebookContainer = gd.closest('#notebook-container');\n",
              "if (notebookContainer) {{\n",
              "    x.observe(notebookContainer, {childList: true});\n",
              "}}\n",
              "\n",
              "// Listen for the clearing of the current output cell\n",
              "var outputEl = gd.closest('.output');\n",
              "if (outputEl) {{\n",
              "    x.observe(outputEl, {childList: true});\n",
              "}}\n",
              "\n",
              "                        })\n",
              "                };\n",
              "                });\n",
              "            </script>\n",
              "        </div>"
            ]
          },
          "metadata": {},
          "output_type": "display_data"
        }
      ]
    },
    {
      "cell_type": "code",
      "metadata": {
        "colab": {
          "base_uri": "https://localhost:8080/",
          "height": 542
        },
        "id": "bJXAJLrlBXhj",
        "scrolled": true,
        "outputId": "26e3de81-a216-439c-e467-8a9cc69eef0e"
      },
      "source": [
        "#Опробуем новую библиотеку plotly express:\n",
        "fig = px.bar(\n",
        "    sorted_objects_count,\n",
        "    x='object_type',\n",
        "    y='amount',\n",
        "    color = 'amount')\n",
        "    \n",
        "fig.update_layout(\n",
        "    title='Соотношение видов объектов общественного питания по количеству',\n",
        "    xaxis_title=\"Тип объекта\",\n",
        "    yaxis_title=\"Количество\")\n",
        "fig.update_traces(textposition='outside')\n",
        "fig.show()\n"
      ],
      "execution_count": null,
      "outputs": [
        {
          "data": {
            "application/vnd.plotly.v1+json": {
              "config": {
                "plotlyServerURL": "https://plot.ly"
              },
              "data": [
                {
                  "alignmentgroup": "True",
                  "hoverlabel": {
                    "namelength": 0
                  },
                  "hovertemplate": "object_type=%{x}<br>amount=%{marker.color}",
                  "legendgroup": "",
                  "marker": {
                    "color": [
                      6099,
                      2587,
                      2285,
                      1923,
                      856,
                      585,
                      398,
                      360,
                      273
                    ],
                    "coloraxis": "coloraxis"
                  },
                  "name": "",
                  "offsetgroup": "",
                  "orientation": "v",
                  "showlegend": false,
                  "textposition": "outside",
                  "type": "bar",
                  "x": [
                    "кафе",
                    "столовая",
                    "ресторан",
                    "предприятие быстрого обслуживания",
                    "бар",
                    "буфет",
                    "кафетерий",
                    "закусочная",
                    "магазин (отдел кулинарии)"
                  ],
                  "xaxis": "x",
                  "y": [
                    6099,
                    2587,
                    2285,
                    1923,
                    856,
                    585,
                    398,
                    360,
                    273
                  ],
                  "yaxis": "y"
                }
              ],
              "layout": {
                "barmode": "relative",
                "coloraxis": {
                  "colorbar": {
                    "title": {
                      "text": "amount"
                    }
                  },
                  "colorscale": [
                    [
                      0,
                      "#0d0887"
                    ],
                    [
                      0.1111111111,
                      "#46039f"
                    ],
                    [
                      0.2222222222,
                      "#7201a8"
                    ],
                    [
                      0.3333333333,
                      "#9c179e"
                    ],
                    [
                      0.4444444444,
                      "#bd3786"
                    ],
                    [
                      0.5555555556,
                      "#d8576b"
                    ],
                    [
                      0.6666666667,
                      "#ed7953"
                    ],
                    [
                      0.7777777778,
                      "#fb9f3a"
                    ],
                    [
                      0.8888888889,
                      "#fdca26"
                    ],
                    [
                      1,
                      "#f0f921"
                    ]
                  ]
                },
                "height": 600,
                "legend": {
                  "tracegroupgap": 0
                },
                "margin": {
                  "t": 60
                },
                "template": {
                  "data": {
                    "bar": [
                      {
                        "error_x": {
                          "color": "#2a3f5f"
                        },
                        "error_y": {
                          "color": "#2a3f5f"
                        },
                        "marker": {
                          "line": {
                            "color": "#E5ECF6",
                            "width": 0.5
                          }
                        },
                        "type": "bar"
                      }
                    ],
                    "barpolar": [
                      {
                        "marker": {
                          "line": {
                            "color": "#E5ECF6",
                            "width": 0.5
                          }
                        },
                        "type": "barpolar"
                      }
                    ],
                    "carpet": [
                      {
                        "aaxis": {
                          "endlinecolor": "#2a3f5f",
                          "gridcolor": "white",
                          "linecolor": "white",
                          "minorgridcolor": "white",
                          "startlinecolor": "#2a3f5f"
                        },
                        "baxis": {
                          "endlinecolor": "#2a3f5f",
                          "gridcolor": "white",
                          "linecolor": "white",
                          "minorgridcolor": "white",
                          "startlinecolor": "#2a3f5f"
                        },
                        "type": "carpet"
                      }
                    ],
                    "choropleth": [
                      {
                        "colorbar": {
                          "outlinewidth": 0,
                          "ticks": ""
                        },
                        "type": "choropleth"
                      }
                    ],
                    "contour": [
                      {
                        "colorbar": {
                          "outlinewidth": 0,
                          "ticks": ""
                        },
                        "colorscale": [
                          [
                            0,
                            "#0d0887"
                          ],
                          [
                            0.1111111111,
                            "#46039f"
                          ],
                          [
                            0.2222222222,
                            "#7201a8"
                          ],
                          [
                            0.3333333333,
                            "#9c179e"
                          ],
                          [
                            0.4444444444,
                            "#bd3786"
                          ],
                          [
                            0.5555555556,
                            "#d8576b"
                          ],
                          [
                            0.6666666667,
                            "#ed7953"
                          ],
                          [
                            0.7777777778,
                            "#fb9f3a"
                          ],
                          [
                            0.8888888889,
                            "#fdca26"
                          ],
                          [
                            1,
                            "#f0f921"
                          ]
                        ],
                        "type": "contour"
                      }
                    ],
                    "contourcarpet": [
                      {
                        "colorbar": {
                          "outlinewidth": 0,
                          "ticks": ""
                        },
                        "type": "contourcarpet"
                      }
                    ],
                    "heatmap": [
                      {
                        "colorbar": {
                          "outlinewidth": 0,
                          "ticks": ""
                        },
                        "colorscale": [
                          [
                            0,
                            "#0d0887"
                          ],
                          [
                            0.1111111111,
                            "#46039f"
                          ],
                          [
                            0.2222222222,
                            "#7201a8"
                          ],
                          [
                            0.3333333333,
                            "#9c179e"
                          ],
                          [
                            0.4444444444,
                            "#bd3786"
                          ],
                          [
                            0.5555555556,
                            "#d8576b"
                          ],
                          [
                            0.6666666667,
                            "#ed7953"
                          ],
                          [
                            0.7777777778,
                            "#fb9f3a"
                          ],
                          [
                            0.8888888889,
                            "#fdca26"
                          ],
                          [
                            1,
                            "#f0f921"
                          ]
                        ],
                        "type": "heatmap"
                      }
                    ],
                    "heatmapgl": [
                      {
                        "colorbar": {
                          "outlinewidth": 0,
                          "ticks": ""
                        },
                        "colorscale": [
                          [
                            0,
                            "#0d0887"
                          ],
                          [
                            0.1111111111,
                            "#46039f"
                          ],
                          [
                            0.2222222222,
                            "#7201a8"
                          ],
                          [
                            0.3333333333,
                            "#9c179e"
                          ],
                          [
                            0.4444444444,
                            "#bd3786"
                          ],
                          [
                            0.5555555556,
                            "#d8576b"
                          ],
                          [
                            0.6666666667,
                            "#ed7953"
                          ],
                          [
                            0.7777777778,
                            "#fb9f3a"
                          ],
                          [
                            0.8888888889,
                            "#fdca26"
                          ],
                          [
                            1,
                            "#f0f921"
                          ]
                        ],
                        "type": "heatmapgl"
                      }
                    ],
                    "histogram": [
                      {
                        "marker": {
                          "colorbar": {
                            "outlinewidth": 0,
                            "ticks": ""
                          }
                        },
                        "type": "histogram"
                      }
                    ],
                    "histogram2d": [
                      {
                        "colorbar": {
                          "outlinewidth": 0,
                          "ticks": ""
                        },
                        "colorscale": [
                          [
                            0,
                            "#0d0887"
                          ],
                          [
                            0.1111111111,
                            "#46039f"
                          ],
                          [
                            0.2222222222,
                            "#7201a8"
                          ],
                          [
                            0.3333333333,
                            "#9c179e"
                          ],
                          [
                            0.4444444444,
                            "#bd3786"
                          ],
                          [
                            0.5555555556,
                            "#d8576b"
                          ],
                          [
                            0.6666666667,
                            "#ed7953"
                          ],
                          [
                            0.7777777778,
                            "#fb9f3a"
                          ],
                          [
                            0.8888888889,
                            "#fdca26"
                          ],
                          [
                            1,
                            "#f0f921"
                          ]
                        ],
                        "type": "histogram2d"
                      }
                    ],
                    "histogram2dcontour": [
                      {
                        "colorbar": {
                          "outlinewidth": 0,
                          "ticks": ""
                        },
                        "colorscale": [
                          [
                            0,
                            "#0d0887"
                          ],
                          [
                            0.1111111111,
                            "#46039f"
                          ],
                          [
                            0.2222222222,
                            "#7201a8"
                          ],
                          [
                            0.3333333333,
                            "#9c179e"
                          ],
                          [
                            0.4444444444,
                            "#bd3786"
                          ],
                          [
                            0.5555555556,
                            "#d8576b"
                          ],
                          [
                            0.6666666667,
                            "#ed7953"
                          ],
                          [
                            0.7777777778,
                            "#fb9f3a"
                          ],
                          [
                            0.8888888889,
                            "#fdca26"
                          ],
                          [
                            1,
                            "#f0f921"
                          ]
                        ],
                        "type": "histogram2dcontour"
                      }
                    ],
                    "mesh3d": [
                      {
                        "colorbar": {
                          "outlinewidth": 0,
                          "ticks": ""
                        },
                        "type": "mesh3d"
                      }
                    ],
                    "parcoords": [
                      {
                        "line": {
                          "colorbar": {
                            "outlinewidth": 0,
                            "ticks": ""
                          }
                        },
                        "type": "parcoords"
                      }
                    ],
                    "scatter": [
                      {
                        "marker": {
                          "colorbar": {
                            "outlinewidth": 0,
                            "ticks": ""
                          }
                        },
                        "type": "scatter"
                      }
                    ],
                    "scatter3d": [
                      {
                        "line": {
                          "colorbar": {
                            "outlinewidth": 0,
                            "ticks": ""
                          }
                        },
                        "marker": {
                          "colorbar": {
                            "outlinewidth": 0,
                            "ticks": ""
                          }
                        },
                        "type": "scatter3d"
                      }
                    ],
                    "scattercarpet": [
                      {
                        "marker": {
                          "colorbar": {
                            "outlinewidth": 0,
                            "ticks": ""
                          }
                        },
                        "type": "scattercarpet"
                      }
                    ],
                    "scattergeo": [
                      {
                        "marker": {
                          "colorbar": {
                            "outlinewidth": 0,
                            "ticks": ""
                          }
                        },
                        "type": "scattergeo"
                      }
                    ],
                    "scattergl": [
                      {
                        "marker": {
                          "colorbar": {
                            "outlinewidth": 0,
                            "ticks": ""
                          }
                        },
                        "type": "scattergl"
                      }
                    ],
                    "scattermapbox": [
                      {
                        "marker": {
                          "colorbar": {
                            "outlinewidth": 0,
                            "ticks": ""
                          }
                        },
                        "type": "scattermapbox"
                      }
                    ],
                    "scatterpolar": [
                      {
                        "marker": {
                          "colorbar": {
                            "outlinewidth": 0,
                            "ticks": ""
                          }
                        },
                        "type": "scatterpolar"
                      }
                    ],
                    "scatterpolargl": [
                      {
                        "marker": {
                          "colorbar": {
                            "outlinewidth": 0,
                            "ticks": ""
                          }
                        },
                        "type": "scatterpolargl"
                      }
                    ],
                    "scatterternary": [
                      {
                        "marker": {
                          "colorbar": {
                            "outlinewidth": 0,
                            "ticks": ""
                          }
                        },
                        "type": "scatterternary"
                      }
                    ],
                    "surface": [
                      {
                        "colorbar": {
                          "outlinewidth": 0,
                          "ticks": ""
                        },
                        "colorscale": [
                          [
                            0,
                            "#0d0887"
                          ],
                          [
                            0.1111111111,
                            "#46039f"
                          ],
                          [
                            0.2222222222,
                            "#7201a8"
                          ],
                          [
                            0.3333333333,
                            "#9c179e"
                          ],
                          [
                            0.4444444444,
                            "#bd3786"
                          ],
                          [
                            0.5555555556,
                            "#d8576b"
                          ],
                          [
                            0.6666666667,
                            "#ed7953"
                          ],
                          [
                            0.7777777778,
                            "#fb9f3a"
                          ],
                          [
                            0.8888888889,
                            "#fdca26"
                          ],
                          [
                            1,
                            "#f0f921"
                          ]
                        ],
                        "type": "surface"
                      }
                    ],
                    "table": [
                      {
                        "cells": {
                          "fill": {
                            "color": "#EBF0F8"
                          },
                          "line": {
                            "color": "white"
                          }
                        },
                        "header": {
                          "fill": {
                            "color": "#C8D4E3"
                          },
                          "line": {
                            "color": "white"
                          }
                        },
                        "type": "table"
                      }
                    ]
                  },
                  "layout": {
                    "annotationdefaults": {
                      "arrowcolor": "#2a3f5f",
                      "arrowhead": 0,
                      "arrowwidth": 1
                    },
                    "colorscale": {
                      "diverging": [
                        [
                          0,
                          "#8e0152"
                        ],
                        [
                          0.1,
                          "#c51b7d"
                        ],
                        [
                          0.2,
                          "#de77ae"
                        ],
                        [
                          0.3,
                          "#f1b6da"
                        ],
                        [
                          0.4,
                          "#fde0ef"
                        ],
                        [
                          0.5,
                          "#f7f7f7"
                        ],
                        [
                          0.6,
                          "#e6f5d0"
                        ],
                        [
                          0.7,
                          "#b8e186"
                        ],
                        [
                          0.8,
                          "#7fbc41"
                        ],
                        [
                          0.9,
                          "#4d9221"
                        ],
                        [
                          1,
                          "#276419"
                        ]
                      ],
                      "sequential": [
                        [
                          0,
                          "#0d0887"
                        ],
                        [
                          0.1111111111,
                          "#46039f"
                        ],
                        [
                          0.2222222222,
                          "#7201a8"
                        ],
                        [
                          0.3333333333,
                          "#9c179e"
                        ],
                        [
                          0.4444444444,
                          "#bd3786"
                        ],
                        [
                          0.5555555556,
                          "#d8576b"
                        ],
                        [
                          0.6666666667,
                          "#ed7953"
                        ],
                        [
                          0.7777777778,
                          "#fb9f3a"
                        ],
                        [
                          0.8888888889,
                          "#fdca26"
                        ],
                        [
                          1,
                          "#f0f921"
                        ]
                      ],
                      "sequentialminus": [
                        [
                          0,
                          "#0d0887"
                        ],
                        [
                          0.1111111111,
                          "#46039f"
                        ],
                        [
                          0.2222222222,
                          "#7201a8"
                        ],
                        [
                          0.3333333333,
                          "#9c179e"
                        ],
                        [
                          0.4444444444,
                          "#bd3786"
                        ],
                        [
                          0.5555555556,
                          "#d8576b"
                        ],
                        [
                          0.6666666667,
                          "#ed7953"
                        ],
                        [
                          0.7777777778,
                          "#fb9f3a"
                        ],
                        [
                          0.8888888889,
                          "#fdca26"
                        ],
                        [
                          1,
                          "#f0f921"
                        ]
                      ]
                    },
                    "colorway": [
                      "#636efa",
                      "#EF553B",
                      "#00cc96",
                      "#ab63fa",
                      "#FFA15A",
                      "#19d3f3",
                      "#FF6692",
                      "#B6E880",
                      "#FF97FF",
                      "#FECB52"
                    ],
                    "font": {
                      "color": "#2a3f5f"
                    },
                    "geo": {
                      "bgcolor": "white",
                      "lakecolor": "white",
                      "landcolor": "#E5ECF6",
                      "showlakes": true,
                      "showland": true,
                      "subunitcolor": "white"
                    },
                    "hoverlabel": {
                      "align": "left"
                    },
                    "hovermode": "closest",
                    "mapbox": {
                      "style": "light"
                    },
                    "paper_bgcolor": "white",
                    "plot_bgcolor": "#E5ECF6",
                    "polar": {
                      "angularaxis": {
                        "gridcolor": "white",
                        "linecolor": "white",
                        "ticks": ""
                      },
                      "bgcolor": "#E5ECF6",
                      "radialaxis": {
                        "gridcolor": "white",
                        "linecolor": "white",
                        "ticks": ""
                      }
                    },
                    "scene": {
                      "xaxis": {
                        "backgroundcolor": "#E5ECF6",
                        "gridcolor": "white",
                        "gridwidth": 2,
                        "linecolor": "white",
                        "showbackground": true,
                        "ticks": "",
                        "zerolinecolor": "white"
                      },
                      "yaxis": {
                        "backgroundcolor": "#E5ECF6",
                        "gridcolor": "white",
                        "gridwidth": 2,
                        "linecolor": "white",
                        "showbackground": true,
                        "ticks": "",
                        "zerolinecolor": "white"
                      },
                      "zaxis": {
                        "backgroundcolor": "#E5ECF6",
                        "gridcolor": "white",
                        "gridwidth": 2,
                        "linecolor": "white",
                        "showbackground": true,
                        "ticks": "",
                        "zerolinecolor": "white"
                      }
                    },
                    "shapedefaults": {
                      "line": {
                        "color": "#2a3f5f"
                      }
                    },
                    "ternary": {
                      "aaxis": {
                        "gridcolor": "white",
                        "linecolor": "white",
                        "ticks": ""
                      },
                      "baxis": {
                        "gridcolor": "white",
                        "linecolor": "white",
                        "ticks": ""
                      },
                      "bgcolor": "#E5ECF6",
                      "caxis": {
                        "gridcolor": "white",
                        "linecolor": "white",
                        "ticks": ""
                      }
                    },
                    "title": {
                      "x": 0.05
                    },
                    "xaxis": {
                      "automargin": true,
                      "gridcolor": "white",
                      "linecolor": "white",
                      "ticks": "",
                      "zerolinecolor": "white",
                      "zerolinewidth": 2
                    },
                    "yaxis": {
                      "automargin": true,
                      "gridcolor": "white",
                      "linecolor": "white",
                      "ticks": "",
                      "zerolinecolor": "white",
                      "zerolinewidth": 2
                    }
                  }
                },
                "title": {
                  "text": "Соотношение видов объектов общественного питания по количеству"
                },
                "xaxis": {
                  "anchor": "y",
                  "domain": [
                    0,
                    0.98
                  ],
                  "title": {
                    "text": "Тип объекта"
                  }
                },
                "yaxis": {
                  "anchor": "x",
                  "domain": [
                    0,
                    1
                  ],
                  "title": {
                    "text": "Количество"
                  }
                }
              }
            },
            "text/html": [
              "<div>\n",
              "        \n",
              "        \n",
              "            <div id=\"71426155-0bee-4e2e-a942-b386946dec09\" class=\"plotly-graph-div\" style=\"height:600px; width:100%;\"></div>\n",
              "            <script type=\"text/javascript\">\n",
              "                require([\"plotly\"], function(Plotly) {\n",
              "                    window.PLOTLYENV=window.PLOTLYENV || {};\n",
              "                    \n",
              "                if (document.getElementById(\"71426155-0bee-4e2e-a942-b386946dec09\")) {\n",
              "                    Plotly.newPlot(\n",
              "                        '71426155-0bee-4e2e-a942-b386946dec09',\n",
              "                        [{\"alignmentgroup\": \"True\", \"hoverlabel\": {\"namelength\": 0}, \"hovertemplate\": \"object_type=%{x}<br>amount=%{marker.color}\", \"legendgroup\": \"\", \"marker\": {\"color\": [6099, 2587, 2285, 1923, 856, 585, 398, 360, 273], \"coloraxis\": \"coloraxis\"}, \"name\": \"\", \"offsetgroup\": \"\", \"orientation\": \"v\", \"showlegend\": false, \"textposition\": \"outside\", \"type\": \"bar\", \"x\": [\"\\u043a\\u0430\\u0444\\u0435\", \"\\u0441\\u0442\\u043e\\u043b\\u043e\\u0432\\u0430\\u044f\", \"\\u0440\\u0435\\u0441\\u0442\\u043e\\u0440\\u0430\\u043d\", \"\\u043f\\u0440\\u0435\\u0434\\u043f\\u0440\\u0438\\u044f\\u0442\\u0438\\u0435 \\u0431\\u044b\\u0441\\u0442\\u0440\\u043e\\u0433\\u043e \\u043e\\u0431\\u0441\\u043b\\u0443\\u0436\\u0438\\u0432\\u0430\\u043d\\u0438\\u044f\", \"\\u0431\\u0430\\u0440\", \"\\u0431\\u0443\\u0444\\u0435\\u0442\", \"\\u043a\\u0430\\u0444\\u0435\\u0442\\u0435\\u0440\\u0438\\u0439\", \"\\u0437\\u0430\\u043a\\u0443\\u0441\\u043e\\u0447\\u043d\\u0430\\u044f\", \"\\u043c\\u0430\\u0433\\u0430\\u0437\\u0438\\u043d (\\u043e\\u0442\\u0434\\u0435\\u043b \\u043a\\u0443\\u043b\\u0438\\u043d\\u0430\\u0440\\u0438\\u0438)\"], \"xaxis\": \"x\", \"y\": [6099, 2587, 2285, 1923, 856, 585, 398, 360, 273], \"yaxis\": \"y\"}],\n",
              "                        {\"barmode\": \"relative\", \"coloraxis\": {\"colorbar\": {\"title\": {\"text\": \"amount\"}}, \"colorscale\": [[0.0, \"#0d0887\"], [0.1111111111111111, \"#46039f\"], [0.2222222222222222, \"#7201a8\"], [0.3333333333333333, \"#9c179e\"], [0.4444444444444444, \"#bd3786\"], [0.5555555555555556, \"#d8576b\"], [0.6666666666666666, \"#ed7953\"], [0.7777777777777778, \"#fb9f3a\"], [0.8888888888888888, \"#fdca26\"], [1.0, \"#f0f921\"]]}, \"height\": 600, \"legend\": {\"tracegroupgap\": 0}, \"margin\": {\"t\": 60}, \"template\": {\"data\": {\"bar\": [{\"error_x\": {\"color\": \"#2a3f5f\"}, \"error_y\": {\"color\": \"#2a3f5f\"}, \"marker\": {\"line\": {\"color\": \"#E5ECF6\", \"width\": 0.5}}, \"type\": \"bar\"}], \"barpolar\": [{\"marker\": {\"line\": {\"color\": \"#E5ECF6\", \"width\": 0.5}}, \"type\": \"barpolar\"}], \"carpet\": [{\"aaxis\": {\"endlinecolor\": \"#2a3f5f\", \"gridcolor\": \"white\", \"linecolor\": \"white\", \"minorgridcolor\": \"white\", \"startlinecolor\": \"#2a3f5f\"}, \"baxis\": {\"endlinecolor\": \"#2a3f5f\", \"gridcolor\": \"white\", \"linecolor\": \"white\", \"minorgridcolor\": \"white\", \"startlinecolor\": \"#2a3f5f\"}, \"type\": \"carpet\"}], \"choropleth\": [{\"colorbar\": {\"outlinewidth\": 0, \"ticks\": \"\"}, \"type\": \"choropleth\"}], \"contour\": [{\"colorbar\": {\"outlinewidth\": 0, \"ticks\": \"\"}, \"colorscale\": [[0.0, \"#0d0887\"], [0.1111111111111111, \"#46039f\"], [0.2222222222222222, \"#7201a8\"], [0.3333333333333333, \"#9c179e\"], [0.4444444444444444, \"#bd3786\"], [0.5555555555555556, \"#d8576b\"], [0.6666666666666666, \"#ed7953\"], [0.7777777777777778, \"#fb9f3a\"], [0.8888888888888888, \"#fdca26\"], [1.0, \"#f0f921\"]], \"type\": \"contour\"}], \"contourcarpet\": [{\"colorbar\": {\"outlinewidth\": 0, \"ticks\": \"\"}, \"type\": \"contourcarpet\"}], \"heatmap\": [{\"colorbar\": {\"outlinewidth\": 0, \"ticks\": \"\"}, \"colorscale\": [[0.0, \"#0d0887\"], [0.1111111111111111, \"#46039f\"], [0.2222222222222222, \"#7201a8\"], [0.3333333333333333, \"#9c179e\"], [0.4444444444444444, \"#bd3786\"], [0.5555555555555556, \"#d8576b\"], [0.6666666666666666, \"#ed7953\"], [0.7777777777777778, \"#fb9f3a\"], [0.8888888888888888, \"#fdca26\"], [1.0, \"#f0f921\"]], \"type\": \"heatmap\"}], \"heatmapgl\": [{\"colorbar\": {\"outlinewidth\": 0, \"ticks\": \"\"}, \"colorscale\": [[0.0, \"#0d0887\"], [0.1111111111111111, \"#46039f\"], [0.2222222222222222, \"#7201a8\"], [0.3333333333333333, \"#9c179e\"], [0.4444444444444444, \"#bd3786\"], [0.5555555555555556, \"#d8576b\"], [0.6666666666666666, \"#ed7953\"], [0.7777777777777778, \"#fb9f3a\"], [0.8888888888888888, \"#fdca26\"], [1.0, \"#f0f921\"]], \"type\": \"heatmapgl\"}], \"histogram\": [{\"marker\": {\"colorbar\": {\"outlinewidth\": 0, \"ticks\": \"\"}}, \"type\": \"histogram\"}], \"histogram2d\": [{\"colorbar\": {\"outlinewidth\": 0, \"ticks\": \"\"}, \"colorscale\": [[0.0, \"#0d0887\"], [0.1111111111111111, \"#46039f\"], [0.2222222222222222, \"#7201a8\"], [0.3333333333333333, \"#9c179e\"], [0.4444444444444444, \"#bd3786\"], [0.5555555555555556, \"#d8576b\"], [0.6666666666666666, \"#ed7953\"], [0.7777777777777778, \"#fb9f3a\"], [0.8888888888888888, \"#fdca26\"], [1.0, \"#f0f921\"]], \"type\": \"histogram2d\"}], \"histogram2dcontour\": [{\"colorbar\": {\"outlinewidth\": 0, \"ticks\": \"\"}, \"colorscale\": [[0.0, \"#0d0887\"], [0.1111111111111111, \"#46039f\"], [0.2222222222222222, \"#7201a8\"], [0.3333333333333333, \"#9c179e\"], [0.4444444444444444, \"#bd3786\"], [0.5555555555555556, \"#d8576b\"], [0.6666666666666666, \"#ed7953\"], [0.7777777777777778, \"#fb9f3a\"], [0.8888888888888888, \"#fdca26\"], [1.0, \"#f0f921\"]], \"type\": \"histogram2dcontour\"}], \"mesh3d\": [{\"colorbar\": {\"outlinewidth\": 0, \"ticks\": \"\"}, \"type\": \"mesh3d\"}], \"parcoords\": [{\"line\": {\"colorbar\": {\"outlinewidth\": 0, \"ticks\": \"\"}}, \"type\": \"parcoords\"}], \"scatter\": [{\"marker\": {\"colorbar\": {\"outlinewidth\": 0, \"ticks\": \"\"}}, \"type\": \"scatter\"}], \"scatter3d\": [{\"line\": {\"colorbar\": {\"outlinewidth\": 0, \"ticks\": \"\"}}, \"marker\": {\"colorbar\": {\"outlinewidth\": 0, \"ticks\": \"\"}}, \"type\": \"scatter3d\"}], \"scattercarpet\": [{\"marker\": {\"colorbar\": {\"outlinewidth\": 0, \"ticks\": \"\"}}, \"type\": \"scattercarpet\"}], \"scattergeo\": [{\"marker\": {\"colorbar\": {\"outlinewidth\": 0, \"ticks\": \"\"}}, \"type\": \"scattergeo\"}], \"scattergl\": [{\"marker\": {\"colorbar\": {\"outlinewidth\": 0, \"ticks\": \"\"}}, \"type\": \"scattergl\"}], \"scattermapbox\": [{\"marker\": {\"colorbar\": {\"outlinewidth\": 0, \"ticks\": \"\"}}, \"type\": \"scattermapbox\"}], \"scatterpolar\": [{\"marker\": {\"colorbar\": {\"outlinewidth\": 0, \"ticks\": \"\"}}, \"type\": \"scatterpolar\"}], \"scatterpolargl\": [{\"marker\": {\"colorbar\": {\"outlinewidth\": 0, \"ticks\": \"\"}}, \"type\": \"scatterpolargl\"}], \"scatterternary\": [{\"marker\": {\"colorbar\": {\"outlinewidth\": 0, \"ticks\": \"\"}}, \"type\": \"scatterternary\"}], \"surface\": [{\"colorbar\": {\"outlinewidth\": 0, \"ticks\": \"\"}, \"colorscale\": [[0.0, \"#0d0887\"], [0.1111111111111111, \"#46039f\"], [0.2222222222222222, \"#7201a8\"], [0.3333333333333333, \"#9c179e\"], [0.4444444444444444, \"#bd3786\"], [0.5555555555555556, \"#d8576b\"], [0.6666666666666666, \"#ed7953\"], [0.7777777777777778, \"#fb9f3a\"], [0.8888888888888888, \"#fdca26\"], [1.0, \"#f0f921\"]], \"type\": \"surface\"}], \"table\": [{\"cells\": {\"fill\": {\"color\": \"#EBF0F8\"}, \"line\": {\"color\": \"white\"}}, \"header\": {\"fill\": {\"color\": \"#C8D4E3\"}, \"line\": {\"color\": \"white\"}}, \"type\": \"table\"}]}, \"layout\": {\"annotationdefaults\": {\"arrowcolor\": \"#2a3f5f\", \"arrowhead\": 0, \"arrowwidth\": 1}, \"colorscale\": {\"diverging\": [[0, \"#8e0152\"], [0.1, \"#c51b7d\"], [0.2, \"#de77ae\"], [0.3, \"#f1b6da\"], [0.4, \"#fde0ef\"], [0.5, \"#f7f7f7\"], [0.6, \"#e6f5d0\"], [0.7, \"#b8e186\"], [0.8, \"#7fbc41\"], [0.9, \"#4d9221\"], [1, \"#276419\"]], \"sequential\": [[0.0, \"#0d0887\"], [0.1111111111111111, \"#46039f\"], [0.2222222222222222, \"#7201a8\"], [0.3333333333333333, \"#9c179e\"], [0.4444444444444444, \"#bd3786\"], [0.5555555555555556, \"#d8576b\"], [0.6666666666666666, \"#ed7953\"], [0.7777777777777778, \"#fb9f3a\"], [0.8888888888888888, \"#fdca26\"], [1.0, \"#f0f921\"]], \"sequentialminus\": [[0.0, \"#0d0887\"], [0.1111111111111111, \"#46039f\"], [0.2222222222222222, \"#7201a8\"], [0.3333333333333333, \"#9c179e\"], [0.4444444444444444, \"#bd3786\"], [0.5555555555555556, \"#d8576b\"], [0.6666666666666666, \"#ed7953\"], [0.7777777777777778, \"#fb9f3a\"], [0.8888888888888888, \"#fdca26\"], [1.0, \"#f0f921\"]]}, \"colorway\": [\"#636efa\", \"#EF553B\", \"#00cc96\", \"#ab63fa\", \"#FFA15A\", \"#19d3f3\", \"#FF6692\", \"#B6E880\", \"#FF97FF\", \"#FECB52\"], \"font\": {\"color\": \"#2a3f5f\"}, \"geo\": {\"bgcolor\": \"white\", \"lakecolor\": \"white\", \"landcolor\": \"#E5ECF6\", \"showlakes\": true, \"showland\": true, \"subunitcolor\": \"white\"}, \"hoverlabel\": {\"align\": \"left\"}, \"hovermode\": \"closest\", \"mapbox\": {\"style\": \"light\"}, \"paper_bgcolor\": \"white\", \"plot_bgcolor\": \"#E5ECF6\", \"polar\": {\"angularaxis\": {\"gridcolor\": \"white\", \"linecolor\": \"white\", \"ticks\": \"\"}, \"bgcolor\": \"#E5ECF6\", \"radialaxis\": {\"gridcolor\": \"white\", \"linecolor\": \"white\", \"ticks\": \"\"}}, \"scene\": {\"xaxis\": {\"backgroundcolor\": \"#E5ECF6\", \"gridcolor\": \"white\", \"gridwidth\": 2, \"linecolor\": \"white\", \"showbackground\": true, \"ticks\": \"\", \"zerolinecolor\": \"white\"}, \"yaxis\": {\"backgroundcolor\": \"#E5ECF6\", \"gridcolor\": \"white\", \"gridwidth\": 2, \"linecolor\": \"white\", \"showbackground\": true, \"ticks\": \"\", \"zerolinecolor\": \"white\"}, \"zaxis\": {\"backgroundcolor\": \"#E5ECF6\", \"gridcolor\": \"white\", \"gridwidth\": 2, \"linecolor\": \"white\", \"showbackground\": true, \"ticks\": \"\", \"zerolinecolor\": \"white\"}}, \"shapedefaults\": {\"line\": {\"color\": \"#2a3f5f\"}}, \"ternary\": {\"aaxis\": {\"gridcolor\": \"white\", \"linecolor\": \"white\", \"ticks\": \"\"}, \"baxis\": {\"gridcolor\": \"white\", \"linecolor\": \"white\", \"ticks\": \"\"}, \"bgcolor\": \"#E5ECF6\", \"caxis\": {\"gridcolor\": \"white\", \"linecolor\": \"white\", \"ticks\": \"\"}}, \"title\": {\"x\": 0.05}, \"xaxis\": {\"automargin\": true, \"gridcolor\": \"white\", \"linecolor\": \"white\", \"ticks\": \"\", \"zerolinecolor\": \"white\", \"zerolinewidth\": 2}, \"yaxis\": {\"automargin\": true, \"gridcolor\": \"white\", \"linecolor\": \"white\", \"ticks\": \"\", \"zerolinecolor\": \"white\", \"zerolinewidth\": 2}}}, \"title\": {\"text\": \"\\u0421\\u043e\\u043e\\u0442\\u043d\\u043e\\u0448\\u0435\\u043d\\u0438\\u0435 \\u0432\\u0438\\u0434\\u043e\\u0432 \\u043e\\u0431\\u044a\\u0435\\u043a\\u0442\\u043e\\u0432 \\u043e\\u0431\\u0449\\u0435\\u0441\\u0442\\u0432\\u0435\\u043d\\u043d\\u043e\\u0433\\u043e \\u043f\\u0438\\u0442\\u0430\\u043d\\u0438\\u044f \\u043f\\u043e \\u043a\\u043e\\u043b\\u0438\\u0447\\u0435\\u0441\\u0442\\u0432\\u0443\"}, \"xaxis\": {\"anchor\": \"y\", \"domain\": [0.0, 0.98], \"title\": {\"text\": \"\\u0422\\u0438\\u043f \\u043e\\u0431\\u044a\\u0435\\u043a\\u0442\\u0430\"}}, \"yaxis\": {\"anchor\": \"x\", \"domain\": [0.0, 1.0], \"title\": {\"text\": \"\\u041a\\u043e\\u043b\\u0438\\u0447\\u0435\\u0441\\u0442\\u0432\\u043e\"}}},\n",
              "                        {\"responsive\": true}\n",
              "                    ).then(function(){\n",
              "                            \n",
              "var gd = document.getElementById('71426155-0bee-4e2e-a942-b386946dec09');\n",
              "var x = new MutationObserver(function (mutations, observer) {{\n",
              "        var display = window.getComputedStyle(gd).display;\n",
              "        if (!display || display === 'none') {{\n",
              "            console.log([gd, 'removed!']);\n",
              "            Plotly.purge(gd);\n",
              "            observer.disconnect();\n",
              "        }}\n",
              "}});\n",
              "\n",
              "// Listen for the removal of the full notebook cells\n",
              "var notebookContainer = gd.closest('#notebook-container');\n",
              "if (notebookContainer) {{\n",
              "    x.observe(notebookContainer, {childList: true});\n",
              "}}\n",
              "\n",
              "// Listen for the clearing of the current output cell\n",
              "var outputEl = gd.closest('.output');\n",
              "if (outputEl) {{\n",
              "    x.observe(outputEl, {childList: true});\n",
              "}}\n",
              "\n",
              "                        })\n",
              "                };\n",
              "                });\n",
              "            </script>\n",
              "        </div>"
            ]
          },
          "metadata": {},
          "output_type": "display_data"
        }
      ]
    },
    {
      "cell_type": "code",
      "metadata": {
        "colab": {
          "base_uri": "https://localhost:8080/",
          "height": 513
        },
        "id": "kDPwIoqvciih",
        "outputId": "0c5856d6-bc08-4598-9ffa-fe056d6dc5e7"
      },
      "source": [
        "#sns больше подходит для дальнейшей презентации, на наш взгляд\n",
        "plt.figure(figsize=(15,8))\n",
        "plt.title('Соотношение видов объектов общественного питания по количеству')\n",
        "ax = sns.barplot(x='amount', y='object_type', data=sorted_objects_count, palette=\"mako\")\n",
        "ax.set(xlabel='Количество', ylabel='Тип объекта')\n",
        "plt.show()"
      ],
      "execution_count": null,
      "outputs": [
        {
          "data": {
            "image/png": "[encoded data removed]",
            "text/plain": [
              "<Figure size 1080x576 with 1 Axes>"
            ]
          },
          "metadata": {
            "needs_background": "light"
          },
          "output_type": "display_data"
        }
      ]
    },
    {
      "cell_type": "markdown",
      "metadata": {
        "id": "W1eWJxy1R6zC"
      },
      "source": [
        "В Москве больше всего объектов общественного питания типа кафе, 6099, что в 2,3 раза больше, чем столовых, их 2587. На третьем месте рестораны, 2285. Самые нераспространенные объекты - отдел кулинарии в магазине, их 273."
      ]
    },
    {
      "cell_type": "markdown",
      "metadata": {
        "id": "zrEEYjbqS5Mw"
      },
      "source": [
        "**Исследование соотношения сетевых и несетевых заведений по количеству.**"
      ]
    },
    {
      "cell_type": "markdown",
      "metadata": {
        "id": "8zGY7YsGTU6w"
      },
      "source": [
        "Сгруппируем данные по столбцу chain и количеству id, выведем результат в процентах."
      ]
    },
    {
      "cell_type": "code",
      "metadata": {
        "colab": {
          "base_uri": "https://localhost:8080/",
          "height": 111
        },
        "id": "DFspl39XEnad",
        "outputId": "513d1e05-233f-4e89-80be-518d20b79f55"
      },
      "source": [
        "chain_objects = (df\n",
        "             .groupby('chain')\n",
        "             .agg({'id': 'count'})\n",
        "             .sort_values(by='id', ascending = False)\n",
        "             .reset_index()\n",
        "            )\n",
        "\n",
        "chain_objects['percent'] = round(chain_objects['id'] / chain_objects['id'].sum() *100)\n",
        "#chain_objects\n",
        "\n",
        "fig = go.Figure(data=[go.Table(\n",
        "    header=dict(values=list(chain_objects.columns),\n",
        "                fill_color='paleturquoise',\n",
        "                align='left'),\n",
        "    cells=dict(values=[chain_objects.chain, chain_objects.id, chain_objects.percent],\n",
        "               fill_color='lavender',\n",
        "               align='left'))\n",
        "])\n",
        "\n",
        "fig.show()"
      ],
      "execution_count": null,
      "outputs": [
        {
          "data": {
            "application/vnd.plotly.v1+json": {
              "config": {
                "plotlyServerURL": "https://plot.ly"
              },
              "data": [
                {
                  "cells": {
                    "align": "left",
                    "fill": {
                      "color": "lavender"
                    },
                    "values": [
                      [
                        "нет",
                        "да"
                      ],
                      [
                        12398,
                        2968
                      ],
                      [
                        81,
                        19
                      ]
                    ]
                  },
                  "header": {
                    "align": "left",
                    "fill": {
                      "color": "paleturquoise"
                    },
                    "values": [
                      "chain",
                      "id",
                      "percent"
                    ]
                  },
                  "type": "table"
                }
              ],
              "layout": {
                "template": {
                  "data": {
                    "bar": [
                      {
                        "error_x": {
                          "color": "#2a3f5f"
                        },
                        "error_y": {
                          "color": "#2a3f5f"
                        },
                        "marker": {
                          "line": {
                            "color": "#E5ECF6",
                            "width": 0.5
                          }
                        },
                        "type": "bar"
                      }
                    ],
                    "barpolar": [
                      {
                        "marker": {
                          "line": {
                            "color": "#E5ECF6",
                            "width": 0.5
                          }
                        },
                        "type": "barpolar"
                      }
                    ],
                    "carpet": [
                      {
                        "aaxis": {
                          "endlinecolor": "#2a3f5f",
                          "gridcolor": "white",
                          "linecolor": "white",
                          "minorgridcolor": "white",
                          "startlinecolor": "#2a3f5f"
                        },
                        "baxis": {
                          "endlinecolor": "#2a3f5f",
                          "gridcolor": "white",
                          "linecolor": "white",
                          "minorgridcolor": "white",
                          "startlinecolor": "#2a3f5f"
                        },
                        "type": "carpet"
                      }
                    ],
                    "choropleth": [
                      {
                        "colorbar": {
                          "outlinewidth": 0,
                          "ticks": ""
                        },
                        "type": "choropleth"
                      }
                    ],
                    "contour": [
                      {
                        "colorbar": {
                          "outlinewidth": 0,
                          "ticks": ""
                        },
                        "colorscale": [
                          [
                            0,
                            "#0d0887"
                          ],
                          [
                            0.1111111111,
                            "#46039f"
                          ],
                          [
                            0.2222222222,
                            "#7201a8"
                          ],
                          [
                            0.3333333333,
                            "#9c179e"
                          ],
                          [
                            0.4444444444,
                            "#bd3786"
                          ],
                          [
                            0.5555555556,
                            "#d8576b"
                          ],
                          [
                            0.6666666667,
                            "#ed7953"
                          ],
                          [
                            0.7777777778,
                            "#fb9f3a"
                          ],
                          [
                            0.8888888889,
                            "#fdca26"
                          ],
                          [
                            1,
                            "#f0f921"
                          ]
                        ],
                        "type": "contour"
                      }
                    ],
                    "contourcarpet": [
                      {
                        "colorbar": {
                          "outlinewidth": 0,
                          "ticks": ""
                        },
                        "type": "contourcarpet"
                      }
                    ],
                    "heatmap": [
                      {
                        "colorbar": {
                          "outlinewidth": 0,
                          "ticks": ""
                        },
                        "colorscale": [
                          [
                            0,
                            "#0d0887"
                          ],
                          [
                            0.1111111111,
                            "#46039f"
                          ],
                          [
                            0.2222222222,
                            "#7201a8"
                          ],
                          [
                            0.3333333333,
                            "#9c179e"
                          ],
                          [
                            0.4444444444,
                            "#bd3786"
                          ],
                          [
                            0.5555555556,
                            "#d8576b"
                          ],
                          [
                            0.6666666667,
                            "#ed7953"
                          ],
                          [
                            0.7777777778,
                            "#fb9f3a"
                          ],
                          [
                            0.8888888889,
                            "#fdca26"
                          ],
                          [
                            1,
                            "#f0f921"
                          ]
                        ],
                        "type": "heatmap"
                      }
                    ],
                    "heatmapgl": [
                      {
                        "colorbar": {
                          "outlinewidth": 0,
                          "ticks": ""
                        },
                        "colorscale": [
                          [
                            0,
                            "#0d0887"
                          ],
                          [
                            0.1111111111,
                            "#46039f"
                          ],
                          [
                            0.2222222222,
                            "#7201a8"
                          ],
                          [
                            0.3333333333,
                            "#9c179e"
                          ],
                          [
                            0.4444444444,
                            "#bd3786"
                          ],
                          [
                            0.5555555556,
                            "#d8576b"
                          ],
                          [
                            0.6666666667,
                            "#ed7953"
                          ],
                          [
                            0.7777777778,
                            "#fb9f3a"
                          ],
                          [
                            0.8888888889,
                            "#fdca26"
                          ],
                          [
                            1,
                            "#f0f921"
                          ]
                        ],
                        "type": "heatmapgl"
                      }
                    ],
                    "histogram": [
                      {
                        "marker": {
                          "colorbar": {
                            "outlinewidth": 0,
                            "ticks": ""
                          }
                        },
                        "type": "histogram"
                      }
                    ],
                    "histogram2d": [
                      {
                        "colorbar": {
                          "outlinewidth": 0,
                          "ticks": ""
                        },
                        "colorscale": [
                          [
                            0,
                            "#0d0887"
                          ],
                          [
                            0.1111111111,
                            "#46039f"
                          ],
                          [
                            0.2222222222,
                            "#7201a8"
                          ],
                          [
                            0.3333333333,
                            "#9c179e"
                          ],
                          [
                            0.4444444444,
                            "#bd3786"
                          ],
                          [
                            0.5555555556,
                            "#d8576b"
                          ],
                          [
                            0.6666666667,
                            "#ed7953"
                          ],
                          [
                            0.7777777778,
                            "#fb9f3a"
                          ],
                          [
                            0.8888888889,
                            "#fdca26"
                          ],
                          [
                            1,
                            "#f0f921"
                          ]
                        ],
                        "type": "histogram2d"
                      }
                    ],
                    "histogram2dcontour": [
                      {
                        "colorbar": {
                          "outlinewidth": 0,
                          "ticks": ""
                        },
                        "colorscale": [
                          [
                            0,
                            "#0d0887"
                          ],
                          [
                            0.1111111111,
                            "#46039f"
                          ],
                          [
                            0.2222222222,
                            "#7201a8"
                          ],
                          [
                            0.3333333333,
                            "#9c179e"
                          ],
                          [
                            0.4444444444,
                            "#bd3786"
                          ],
                          [
                            0.5555555556,
                            "#d8576b"
                          ],
                          [
                            0.6666666667,
                            "#ed7953"
                          ],
                          [
                            0.7777777778,
                            "#fb9f3a"
                          ],
                          [
                            0.8888888889,
                            "#fdca26"
                          ],
                          [
                            1,
                            "#f0f921"
                          ]
                        ],
                        "type": "histogram2dcontour"
                      }
                    ],
                    "mesh3d": [
                      {
                        "colorbar": {
                          "outlinewidth": 0,
                          "ticks": ""
                        },
                        "type": "mesh3d"
                      }
                    ],
                    "parcoords": [
                      {
                        "line": {
                          "colorbar": {
                            "outlinewidth": 0,
                            "ticks": ""
                          }
                        },
                        "type": "parcoords"
                      }
                    ],
                    "scatter": [
                      {
                        "marker": {
                          "colorbar": {
                            "outlinewidth": 0,
                            "ticks": ""
                          }
                        },
                        "type": "scatter"
                      }
                    ],
                    "scatter3d": [
                      {
                        "line": {
                          "colorbar": {
                            "outlinewidth": 0,
                            "ticks": ""
                          }
                        },
                        "marker": {
                          "colorbar": {
                            "outlinewidth": 0,
                            "ticks": ""
                          }
                        },
                        "type": "scatter3d"
                      }
                    ],
                    "scattercarpet": [
                      {
                        "marker": {
                          "colorbar": {
                            "outlinewidth": 0,
                            "ticks": ""
                          }
                        },
                        "type": "scattercarpet"
                      }
                    ],
                    "scattergeo": [
                      {
                        "marker": {
                          "colorbar": {
                            "outlinewidth": 0,
                            "ticks": ""
                          }
                        },
                        "type": "scattergeo"
                      }
                    ],
                    "scattergl": [
                      {
                        "marker": {
                          "colorbar": {
                            "outlinewidth": 0,
                            "ticks": ""
                          }
                        },
                        "type": "scattergl"
                      }
                    ],
                    "scattermapbox": [
                      {
                        "marker": {
                          "colorbar": {
                            "outlinewidth": 0,
                            "ticks": ""
                          }
                        },
                        "type": "scattermapbox"
                      }
                    ],
                    "scatterpolar": [
                      {
                        "marker": {
                          "colorbar": {
                            "outlinewidth": 0,
                            "ticks": ""
                          }
                        },
                        "type": "scatterpolar"
                      }
                    ],
                    "scatterpolargl": [
                      {
                        "marker": {
                          "colorbar": {
                            "outlinewidth": 0,
                            "ticks": ""
                          }
                        },
                        "type": "scatterpolargl"
                      }
                    ],
                    "scatterternary": [
                      {
                        "marker": {
                          "colorbar": {
                            "outlinewidth": 0,
                            "ticks": ""
                          }
                        },
                        "type": "scatterternary"
                      }
                    ],
                    "surface": [
                      {
                        "colorbar": {
                          "outlinewidth": 0,
                          "ticks": ""
                        },
                        "colorscale": [
                          [
                            0,
                            "#0d0887"
                          ],
                          [
                            0.1111111111,
                            "#46039f"
                          ],
                          [
                            0.2222222222,
                            "#7201a8"
                          ],
                          [
                            0.3333333333,
                            "#9c179e"
                          ],
                          [
                            0.4444444444,
                            "#bd3786"
                          ],
                          [
                            0.5555555556,
                            "#d8576b"
                          ],
                          [
                            0.6666666667,
                            "#ed7953"
                          ],
                          [
                            0.7777777778,
                            "#fb9f3a"
                          ],
                          [
                            0.8888888889,
                            "#fdca26"
                          ],
                          [
                            1,
                            "#f0f921"
                          ]
                        ],
                        "type": "surface"
                      }
                    ],
                    "table": [
                      {
                        "cells": {
                          "fill": {
                            "color": "#EBF0F8"
                          },
                          "line": {
                            "color": "white"
                          }
                        },
                        "header": {
                          "fill": {
                            "color": "#C8D4E3"
                          },
                          "line": {
                            "color": "white"
                          }
                        },
                        "type": "table"
                      }
                    ]
                  },
                  "layout": {
                    "annotationdefaults": {
                      "arrowcolor": "#2a3f5f",
                      "arrowhead": 0,
                      "arrowwidth": 1
                    },
                    "colorscale": {
                      "diverging": [
                        [
                          0,
                          "#8e0152"
                        ],
                        [
                          0.1,
                          "#c51b7d"
                        ],
                        [
                          0.2,
                          "#de77ae"
                        ],
                        [
                          0.3,
                          "#f1b6da"
                        ],
                        [
                          0.4,
                          "#fde0ef"
                        ],
                        [
                          0.5,
                          "#f7f7f7"
                        ],
                        [
                          0.6,
                          "#e6f5d0"
                        ],
                        [
                          0.7,
                          "#b8e186"
                        ],
                        [
                          0.8,
                          "#7fbc41"
                        ],
                        [
                          0.9,
                          "#4d9221"
                        ],
                        [
                          1,
                          "#276419"
                        ]
                      ],
                      "sequential": [
                        [
                          0,
                          "#0d0887"
                        ],
                        [
                          0.1111111111,
                          "#46039f"
                        ],
                        [
                          0.2222222222,
                          "#7201a8"
                        ],
                        [
                          0.3333333333,
                          "#9c179e"
                        ],
                        [
                          0.4444444444,
                          "#bd3786"
                        ],
                        [
                          0.5555555556,
                          "#d8576b"
                        ],
                        [
                          0.6666666667,
                          "#ed7953"
                        ],
                        [
                          0.7777777778,
                          "#fb9f3a"
                        ],
                        [
                          0.8888888889,
                          "#fdca26"
                        ],
                        [
                          1,
                          "#f0f921"
                        ]
                      ],
                      "sequentialminus": [
                        [
                          0,
                          "#0d0887"
                        ],
                        [
                          0.1111111111,
                          "#46039f"
                        ],
                        [
                          0.2222222222,
                          "#7201a8"
                        ],
                        [
                          0.3333333333,
                          "#9c179e"
                        ],
                        [
                          0.4444444444,
                          "#bd3786"
                        ],
                        [
                          0.5555555556,
                          "#d8576b"
                        ],
                        [
                          0.6666666667,
                          "#ed7953"
                        ],
                        [
                          0.7777777778,
                          "#fb9f3a"
                        ],
                        [
                          0.8888888889,
                          "#fdca26"
                        ],
                        [
                          1,
                          "#f0f921"
                        ]
                      ]
                    },
                    "colorway": [
                      "#636efa",
                      "#EF553B",
                      "#00cc96",
                      "#ab63fa",
                      "#FFA15A",
                      "#19d3f3",
                      "#FF6692",
                      "#B6E880",
                      "#FF97FF",
                      "#FECB52"
                    ],
                    "font": {
                      "color": "#2a3f5f"
                    },
                    "geo": {
                      "bgcolor": "white",
                      "lakecolor": "white",
                      "landcolor": "#E5ECF6",
                      "showlakes": true,
                      "showland": true,
                      "subunitcolor": "white"
                    },
                    "hoverlabel": {
                      "align": "left"
                    },
                    "hovermode": "closest",
                    "mapbox": {
                      "style": "light"
                    },
                    "paper_bgcolor": "white",
                    "plot_bgcolor": "#E5ECF6",
                    "polar": {
                      "angularaxis": {
                        "gridcolor": "white",
                        "linecolor": "white",
                        "ticks": ""
                      },
                      "bgcolor": "#E5ECF6",
                      "radialaxis": {
                        "gridcolor": "white",
                        "linecolor": "white",
                        "ticks": ""
                      }
                    },
                    "scene": {
                      "xaxis": {
                        "backgroundcolor": "#E5ECF6",
                        "gridcolor": "white",
                        "gridwidth": 2,
                        "linecolor": "white",
                        "showbackground": true,
                        "ticks": "",
                        "zerolinecolor": "white"
                      },
                      "yaxis": {
                        "backgroundcolor": "#E5ECF6",
                        "gridcolor": "white",
                        "gridwidth": 2,
                        "linecolor": "white",
                        "showbackground": true,
                        "ticks": "",
                        "zerolinecolor": "white"
                      },
                      "zaxis": {
                        "backgroundcolor": "#E5ECF6",
                        "gridcolor": "white",
                        "gridwidth": 2,
                        "linecolor": "white",
                        "showbackground": true,
                        "ticks": "",
                        "zerolinecolor": "white"
                      }
                    },
                    "shapedefaults": {
                      "line": {
                        "color": "#2a3f5f"
                      }
                    },
                    "ternary": {
                      "aaxis": {
                        "gridcolor": "white",
                        "linecolor": "white",
                        "ticks": ""
                      },
                      "baxis": {
                        "gridcolor": "white",
                        "linecolor": "white",
                        "ticks": ""
                      },
                      "bgcolor": "#E5ECF6",
                      "caxis": {
                        "gridcolor": "white",
                        "linecolor": "white",
                        "ticks": ""
                      }
                    },
                    "title": {
                      "x": 0.05
                    },
                    "xaxis": {
                      "automargin": true,
                      "gridcolor": "white",
                      "linecolor": "white",
                      "ticks": "",
                      "zerolinecolor": "white",
                      "zerolinewidth": 2
                    },
                    "yaxis": {
                      "automargin": true,
                      "gridcolor": "white",
                      "linecolor": "white",
                      "ticks": "",
                      "zerolinecolor": "white",
                      "zerolinewidth": 2
                    }
                  }
                }
              }
            },
            "text/html": [
              "<div>\n",
              "        \n",
              "        \n",
              "            <div id=\"57814f6a-6843-498d-aa30-f40fc37d27ef\" class=\"plotly-graph-div\" style=\"height:525px; width:100%;\"></div>\n",
              "            <script type=\"text/javascript\">\n",
              "                require([\"plotly\"], function(Plotly) {\n",
              "                    window.PLOTLYENV=window.PLOTLYENV || {};\n",
              "                    \n",
              "                if (document.getElementById(\"57814f6a-6843-498d-aa30-f40fc37d27ef\")) {\n",
              "                    Plotly.newPlot(\n",
              "                        '57814f6a-6843-498d-aa30-f40fc37d27ef',\n",
              "                        [{\"cells\": {\"align\": \"left\", \"fill\": {\"color\": \"lavender\"}, \"values\": [[\"\\u043d\\u0435\\u0442\", \"\\u0434\\u0430\"], [12398, 2968], [81.0, 19.0]]}, \"header\": {\"align\": \"left\", \"fill\": {\"color\": \"paleturquoise\"}, \"values\": [\"chain\", \"id\", \"percent\"]}, \"type\": \"table\"}],\n",
              "                        {\"template\": {\"data\": {\"bar\": [{\"error_x\": {\"color\": \"#2a3f5f\"}, \"error_y\": {\"color\": \"#2a3f5f\"}, \"marker\": {\"line\": {\"color\": \"#E5ECF6\", \"width\": 0.5}}, \"type\": \"bar\"}], \"barpolar\": [{\"marker\": {\"line\": {\"color\": \"#E5ECF6\", \"width\": 0.5}}, \"type\": \"barpolar\"}], \"carpet\": [{\"aaxis\": {\"endlinecolor\": \"#2a3f5f\", \"gridcolor\": \"white\", \"linecolor\": \"white\", \"minorgridcolor\": \"white\", \"startlinecolor\": \"#2a3f5f\"}, \"baxis\": {\"endlinecolor\": \"#2a3f5f\", \"gridcolor\": \"white\", \"linecolor\": \"white\", \"minorgridcolor\": \"white\", \"startlinecolor\": \"#2a3f5f\"}, \"type\": \"carpet\"}], \"choropleth\": [{\"colorbar\": {\"outlinewidth\": 0, \"ticks\": \"\"}, \"type\": \"choropleth\"}], \"contour\": [{\"colorbar\": {\"outlinewidth\": 0, \"ticks\": \"\"}, \"colorscale\": [[0.0, \"#0d0887\"], [0.1111111111111111, \"#46039f\"], [0.2222222222222222, \"#7201a8\"], [0.3333333333333333, \"#9c179e\"], [0.4444444444444444, \"#bd3786\"], [0.5555555555555556, \"#d8576b\"], [0.6666666666666666, \"#ed7953\"], [0.7777777777777778, \"#fb9f3a\"], [0.8888888888888888, \"#fdca26\"], [1.0, \"#f0f921\"]], \"type\": \"contour\"}], \"contourcarpet\": [{\"colorbar\": {\"outlinewidth\": 0, \"ticks\": \"\"}, \"type\": \"contourcarpet\"}], \"heatmap\": [{\"colorbar\": {\"outlinewidth\": 0, \"ticks\": \"\"}, \"colorscale\": [[0.0, \"#0d0887\"], [0.1111111111111111, \"#46039f\"], [0.2222222222222222, \"#7201a8\"], [0.3333333333333333, \"#9c179e\"], [0.4444444444444444, \"#bd3786\"], [0.5555555555555556, \"#d8576b\"], [0.6666666666666666, \"#ed7953\"], [0.7777777777777778, \"#fb9f3a\"], [0.8888888888888888, \"#fdca26\"], [1.0, \"#f0f921\"]], \"type\": \"heatmap\"}], \"heatmapgl\": [{\"colorbar\": {\"outlinewidth\": 0, \"ticks\": \"\"}, \"colorscale\": [[0.0, \"#0d0887\"], [0.1111111111111111, \"#46039f\"], [0.2222222222222222, \"#7201a8\"], [0.3333333333333333, \"#9c179e\"], [0.4444444444444444, \"#bd3786\"], [0.5555555555555556, \"#d8576b\"], [0.6666666666666666, \"#ed7953\"], [0.7777777777777778, \"#fb9f3a\"], [0.8888888888888888, \"#fdca26\"], [1.0, \"#f0f921\"]], \"type\": \"heatmapgl\"}], \"histogram\": [{\"marker\": {\"colorbar\": {\"outlinewidth\": 0, \"ticks\": \"\"}}, \"type\": \"histogram\"}], \"histogram2d\": [{\"colorbar\": {\"outlinewidth\": 0, \"ticks\": \"\"}, \"colorscale\": [[0.0, \"#0d0887\"], [0.1111111111111111, \"#46039f\"], [0.2222222222222222, \"#7201a8\"], [0.3333333333333333, \"#9c179e\"], [0.4444444444444444, \"#bd3786\"], [0.5555555555555556, \"#d8576b\"], [0.6666666666666666, \"#ed7953\"], [0.7777777777777778, \"#fb9f3a\"], [0.8888888888888888, \"#fdca26\"], [1.0, \"#f0f921\"]], \"type\": \"histogram2d\"}], \"histogram2dcontour\": [{\"colorbar\": {\"outlinewidth\": 0, \"ticks\": \"\"}, \"colorscale\": [[0.0, \"#0d0887\"], [0.1111111111111111, \"#46039f\"], [0.2222222222222222, \"#7201a8\"], [0.3333333333333333, \"#9c179e\"], [0.4444444444444444, \"#bd3786\"], [0.5555555555555556, \"#d8576b\"], [0.6666666666666666, \"#ed7953\"], [0.7777777777777778, \"#fb9f3a\"], [0.8888888888888888, \"#fdca26\"], [1.0, \"#f0f921\"]], \"type\": \"histogram2dcontour\"}], \"mesh3d\": [{\"colorbar\": {\"outlinewidth\": 0, \"ticks\": \"\"}, \"type\": \"mesh3d\"}], \"parcoords\": [{\"line\": {\"colorbar\": {\"outlinewidth\": 0, \"ticks\": \"\"}}, \"type\": \"parcoords\"}], \"scatter\": [{\"marker\": {\"colorbar\": {\"outlinewidth\": 0, \"ticks\": \"\"}}, \"type\": \"scatter\"}], \"scatter3d\": [{\"line\": {\"colorbar\": {\"outlinewidth\": 0, \"ticks\": \"\"}}, \"marker\": {\"colorbar\": {\"outlinewidth\": 0, \"ticks\": \"\"}}, \"type\": \"scatter3d\"}], \"scattercarpet\": [{\"marker\": {\"colorbar\": {\"outlinewidth\": 0, \"ticks\": \"\"}}, \"type\": \"scattercarpet\"}], \"scattergeo\": [{\"marker\": {\"colorbar\": {\"outlinewidth\": 0, \"ticks\": \"\"}}, \"type\": \"scattergeo\"}], \"scattergl\": [{\"marker\": {\"colorbar\": {\"outlinewidth\": 0, \"ticks\": \"\"}}, \"type\": \"scattergl\"}], \"scattermapbox\": [{\"marker\": {\"colorbar\": {\"outlinewidth\": 0, \"ticks\": \"\"}}, \"type\": \"scattermapbox\"}], \"scatterpolar\": [{\"marker\": {\"colorbar\": {\"outlinewidth\": 0, \"ticks\": \"\"}}, \"type\": \"scatterpolar\"}], \"scatterpolargl\": [{\"marker\": {\"colorbar\": {\"outlinewidth\": 0, \"ticks\": \"\"}}, \"type\": \"scatterpolargl\"}], \"scatterternary\": [{\"marker\": {\"colorbar\": {\"outlinewidth\": 0, \"ticks\": \"\"}}, \"type\": \"scatterternary\"}], \"surface\": [{\"colorbar\": {\"outlinewidth\": 0, \"ticks\": \"\"}, \"colorscale\": [[0.0, \"#0d0887\"], [0.1111111111111111, \"#46039f\"], [0.2222222222222222, \"#7201a8\"], [0.3333333333333333, \"#9c179e\"], [0.4444444444444444, \"#bd3786\"], [0.5555555555555556, \"#d8576b\"], [0.6666666666666666, \"#ed7953\"], [0.7777777777777778, \"#fb9f3a\"], [0.8888888888888888, \"#fdca26\"], [1.0, \"#f0f921\"]], \"type\": \"surface\"}], \"table\": [{\"cells\": {\"fill\": {\"color\": \"#EBF0F8\"}, \"line\": {\"color\": \"white\"}}, \"header\": {\"fill\": {\"color\": \"#C8D4E3\"}, \"line\": {\"color\": \"white\"}}, \"type\": \"table\"}]}, \"layout\": {\"annotationdefaults\": {\"arrowcolor\": \"#2a3f5f\", \"arrowhead\": 0, \"arrowwidth\": 1}, \"colorscale\": {\"diverging\": [[0, \"#8e0152\"], [0.1, \"#c51b7d\"], [0.2, \"#de77ae\"], [0.3, \"#f1b6da\"], [0.4, \"#fde0ef\"], [0.5, \"#f7f7f7\"], [0.6, \"#e6f5d0\"], [0.7, \"#b8e186\"], [0.8, \"#7fbc41\"], [0.9, \"#4d9221\"], [1, \"#276419\"]], \"sequential\": [[0.0, \"#0d0887\"], [0.1111111111111111, \"#46039f\"], [0.2222222222222222, \"#7201a8\"], [0.3333333333333333, \"#9c179e\"], [0.4444444444444444, \"#bd3786\"], [0.5555555555555556, \"#d8576b\"], [0.6666666666666666, \"#ed7953\"], [0.7777777777777778, \"#fb9f3a\"], [0.8888888888888888, \"#fdca26\"], [1.0, \"#f0f921\"]], \"sequentialminus\": [[0.0, \"#0d0887\"], [0.1111111111111111, \"#46039f\"], [0.2222222222222222, \"#7201a8\"], [0.3333333333333333, \"#9c179e\"], [0.4444444444444444, \"#bd3786\"], [0.5555555555555556, \"#d8576b\"], [0.6666666666666666, \"#ed7953\"], [0.7777777777777778, \"#fb9f3a\"], [0.8888888888888888, \"#fdca26\"], [1.0, \"#f0f921\"]]}, \"colorway\": [\"#636efa\", \"#EF553B\", \"#00cc96\", \"#ab63fa\", \"#FFA15A\", \"#19d3f3\", \"#FF6692\", \"#B6E880\", \"#FF97FF\", \"#FECB52\"], \"font\": {\"color\": \"#2a3f5f\"}, \"geo\": {\"bgcolor\": \"white\", \"lakecolor\": \"white\", \"landcolor\": \"#E5ECF6\", \"showlakes\": true, \"showland\": true, \"subunitcolor\": \"white\"}, \"hoverlabel\": {\"align\": \"left\"}, \"hovermode\": \"closest\", \"mapbox\": {\"style\": \"light\"}, \"paper_bgcolor\": \"white\", \"plot_bgcolor\": \"#E5ECF6\", \"polar\": {\"angularaxis\": {\"gridcolor\": \"white\", \"linecolor\": \"white\", \"ticks\": \"\"}, \"bgcolor\": \"#E5ECF6\", \"radialaxis\": {\"gridcolor\": \"white\", \"linecolor\": \"white\", \"ticks\": \"\"}}, \"scene\": {\"xaxis\": {\"backgroundcolor\": \"#E5ECF6\", \"gridcolor\": \"white\", \"gridwidth\": 2, \"linecolor\": \"white\", \"showbackground\": true, \"ticks\": \"\", \"zerolinecolor\": \"white\"}, \"yaxis\": {\"backgroundcolor\": \"#E5ECF6\", \"gridcolor\": \"white\", \"gridwidth\": 2, \"linecolor\": \"white\", \"showbackground\": true, \"ticks\": \"\", \"zerolinecolor\": \"white\"}, \"zaxis\": {\"backgroundcolor\": \"#E5ECF6\", \"gridcolor\": \"white\", \"gridwidth\": 2, \"linecolor\": \"white\", \"showbackground\": true, \"ticks\": \"\", \"zerolinecolor\": \"white\"}}, \"shapedefaults\": {\"line\": {\"color\": \"#2a3f5f\"}}, \"ternary\": {\"aaxis\": {\"gridcolor\": \"white\", \"linecolor\": \"white\", \"ticks\": \"\"}, \"baxis\": {\"gridcolor\": \"white\", \"linecolor\": \"white\", \"ticks\": \"\"}, \"bgcolor\": \"#E5ECF6\", \"caxis\": {\"gridcolor\": \"white\", \"linecolor\": \"white\", \"ticks\": \"\"}}, \"title\": {\"x\": 0.05}, \"xaxis\": {\"automargin\": true, \"gridcolor\": \"white\", \"linecolor\": \"white\", \"ticks\": \"\", \"zerolinecolor\": \"white\", \"zerolinewidth\": 2}, \"yaxis\": {\"automargin\": true, \"gridcolor\": \"white\", \"linecolor\": \"white\", \"ticks\": \"\", \"zerolinecolor\": \"white\", \"zerolinewidth\": 2}}}},\n",
              "                        {\"responsive\": true}\n",
              "                    ).then(function(){\n",
              "                            \n",
              "var gd = document.getElementById('57814f6a-6843-498d-aa30-f40fc37d27ef');\n",
              "var x = new MutationObserver(function (mutations, observer) {{\n",
              "        var display = window.getComputedStyle(gd).display;\n",
              "        if (!display || display === 'none') {{\n",
              "            console.log([gd, 'removed!']);\n",
              "            Plotly.purge(gd);\n",
              "            observer.disconnect();\n",
              "        }}\n",
              "}});\n",
              "\n",
              "// Listen for the removal of the full notebook cells\n",
              "var notebookContainer = gd.closest('#notebook-container');\n",
              "if (notebookContainer) {{\n",
              "    x.observe(notebookContainer, {childList: true});\n",
              "}}\n",
              "\n",
              "// Listen for the clearing of the current output cell\n",
              "var outputEl = gd.closest('.output');\n",
              "if (outputEl) {{\n",
              "    x.observe(outputEl, {childList: true});\n",
              "}}\n",
              "\n",
              "                        })\n",
              "                };\n",
              "                });\n",
              "            </script>\n",
              "        </div>"
            ]
          },
          "metadata": {},
          "output_type": "display_data"
        }
      ]
    },
    {
      "cell_type": "code",
      "metadata": {
        "colab": {
          "base_uri": "https://localhost:8080/",
          "height": 542
        },
        "id": "Ba7I2MB0bRz-",
        "outputId": "4456ea3a-fac8-4366-9e4f-feca2019580b"
      },
      "source": [
        "fig = go.Figure(go.Pie(\n",
        "    labels=['Несетевые', 'Сетевые'],\n",
        "    values = chain_objects['percent'], title='Cоотношение сетевых и несетевых заведений по всем улицам Москвы'))\n",
        "fig.update_traces(textposition='inside', textinfo='percent+label', pull=[0,0.2])\n",
        "fig.show()\n"
      ],
      "execution_count": null,
      "outputs": [
        {
          "data": {
            "application/vnd.plotly.v1+json": {
              "config": {
                "plotlyServerURL": "https://plot.ly"
              },
              "data": [
                {
                  "labels": [
                    "Несетевые",
                    "Сетевые"
                  ],
                  "pull": [
                    0,
                    0.2
                  ],
                  "textinfo": "percent+label",
                  "textposition": "inside",
                  "title": {
                    "text": "Cоотношение сетевых и несетевых заведений по всем улицам Москвы"
                  },
                  "type": "pie",
                  "values": [
                    81,
                    19
                  ]
                }
              ],
              "layout": {
                "template": {
                  "data": {
                    "bar": [
                      {
                        "error_x": {
                          "color": "#2a3f5f"
                        },
                        "error_y": {
                          "color": "#2a3f5f"
                        },
                        "marker": {
                          "line": {
                            "color": "#E5ECF6",
                            "width": 0.5
                          }
                        },
                        "type": "bar"
                      }
                    ],
                    "barpolar": [
                      {
                        "marker": {
                          "line": {
                            "color": "#E5ECF6",
                            "width": 0.5
                          }
                        },
                        "type": "barpolar"
                      }
                    ],
                    "carpet": [
                      {
                        "aaxis": {
                          "endlinecolor": "#2a3f5f",
                          "gridcolor": "white",
                          "linecolor": "white",
                          "minorgridcolor": "white",
                          "startlinecolor": "#2a3f5f"
                        },
                        "baxis": {
                          "endlinecolor": "#2a3f5f",
                          "gridcolor": "white",
                          "linecolor": "white",
                          "minorgridcolor": "white",
                          "startlinecolor": "#2a3f5f"
                        },
                        "type": "carpet"
                      }
                    ],
                    "choropleth": [
                      {
                        "colorbar": {
                          "outlinewidth": 0,
                          "ticks": ""
                        },
                        "type": "choropleth"
                      }
                    ],
                    "contour": [
                      {
                        "colorbar": {
                          "outlinewidth": 0,
                          "ticks": ""
                        },
                        "colorscale": [
                          [
                            0,
                            "#0d0887"
                          ],
                          [
                            0.1111111111,
                            "#46039f"
                          ],
                          [
                            0.2222222222,
                            "#7201a8"
                          ],
                          [
                            0.3333333333,
                            "#9c179e"
                          ],
                          [
                            0.4444444444,
                            "#bd3786"
                          ],
                          [
                            0.5555555556,
                            "#d8576b"
                          ],
                          [
                            0.6666666667,
                            "#ed7953"
                          ],
                          [
                            0.7777777778,
                            "#fb9f3a"
                          ],
                          [
                            0.8888888889,
                            "#fdca26"
                          ],
                          [
                            1,
                            "#f0f921"
                          ]
                        ],
                        "type": "contour"
                      }
                    ],
                    "contourcarpet": [
                      {
                        "colorbar": {
                          "outlinewidth": 0,
                          "ticks": ""
                        },
                        "type": "contourcarpet"
                      }
                    ],
                    "heatmap": [
                      {
                        "colorbar": {
                          "outlinewidth": 0,
                          "ticks": ""
                        },
                        "colorscale": [
                          [
                            0,
                            "#0d0887"
                          ],
                          [
                            0.1111111111,
                            "#46039f"
                          ],
                          [
                            0.2222222222,
                            "#7201a8"
                          ],
                          [
                            0.3333333333,
                            "#9c179e"
                          ],
                          [
                            0.4444444444,
                            "#bd3786"
                          ],
                          [
                            0.5555555556,
                            "#d8576b"
                          ],
                          [
                            0.6666666667,
                            "#ed7953"
                          ],
                          [
                            0.7777777778,
                            "#fb9f3a"
                          ],
                          [
                            0.8888888889,
                            "#fdca26"
                          ],
                          [
                            1,
                            "#f0f921"
                          ]
                        ],
                        "type": "heatmap"
                      }
                    ],
                    "heatmapgl": [
                      {
                        "colorbar": {
                          "outlinewidth": 0,
                          "ticks": ""
                        },
                        "colorscale": [
                          [
                            0,
                            "#0d0887"
                          ],
                          [
                            0.1111111111,
                            "#46039f"
                          ],
                          [
                            0.2222222222,
                            "#7201a8"
                          ],
                          [
                            0.3333333333,
                            "#9c179e"
                          ],
                          [
                            0.4444444444,
                            "#bd3786"
                          ],
                          [
                            0.5555555556,
                            "#d8576b"
                          ],
                          [
                            0.6666666667,
                            "#ed7953"
                          ],
                          [
                            0.7777777778,
                            "#fb9f3a"
                          ],
                          [
                            0.8888888889,
                            "#fdca26"
                          ],
                          [
                            1,
                            "#f0f921"
                          ]
                        ],
                        "type": "heatmapgl"
                      }
                    ],
                    "histogram": [
                      {
                        "marker": {
                          "colorbar": {
                            "outlinewidth": 0,
                            "ticks": ""
                          }
                        },
                        "type": "histogram"
                      }
                    ],
                    "histogram2d": [
                      {
                        "colorbar": {
                          "outlinewidth": 0,
                          "ticks": ""
                        },
                        "colorscale": [
                          [
                            0,
                            "#0d0887"
                          ],
                          [
                            0.1111111111,
                            "#46039f"
                          ],
                          [
                            0.2222222222,
                            "#7201a8"
                          ],
                          [
                            0.3333333333,
                            "#9c179e"
                          ],
                          [
                            0.4444444444,
                            "#bd3786"
                          ],
                          [
                            0.5555555556,
                            "#d8576b"
                          ],
                          [
                            0.6666666667,
                            "#ed7953"
                          ],
                          [
                            0.7777777778,
                            "#fb9f3a"
                          ],
                          [
                            0.8888888889,
                            "#fdca26"
                          ],
                          [
                            1,
                            "#f0f921"
                          ]
                        ],
                        "type": "histogram2d"
                      }
                    ],
                    "histogram2dcontour": [
                      {
                        "colorbar": {
                          "outlinewidth": 0,
                          "ticks": ""
                        },
                        "colorscale": [
                          [
                            0,
                            "#0d0887"
                          ],
                          [
                            0.1111111111,
                            "#46039f"
                          ],
                          [
                            0.2222222222,
                            "#7201a8"
                          ],
                          [
                            0.3333333333,
                            "#9c179e"
                          ],
                          [
                            0.4444444444,
                            "#bd3786"
                          ],
                          [
                            0.5555555556,
                            "#d8576b"
                          ],
                          [
                            0.6666666667,
                            "#ed7953"
                          ],
                          [
                            0.7777777778,
                            "#fb9f3a"
                          ],
                          [
                            0.8888888889,
                            "#fdca26"
                          ],
                          [
                            1,
                            "#f0f921"
                          ]
                        ],
                        "type": "histogram2dcontour"
                      }
                    ],
                    "mesh3d": [
                      {
                        "colorbar": {
                          "outlinewidth": 0,
                          "ticks": ""
                        },
                        "type": "mesh3d"
                      }
                    ],
                    "parcoords": [
                      {
                        "line": {
                          "colorbar": {
                            "outlinewidth": 0,
                            "ticks": ""
                          }
                        },
                        "type": "parcoords"
                      }
                    ],
                    "scatter": [
                      {
                        "marker": {
                          "colorbar": {
                            "outlinewidth": 0,
                            "ticks": ""
                          }
                        },
                        "type": "scatter"
                      }
                    ],
                    "scatter3d": [
                      {
                        "line": {
                          "colorbar": {
                            "outlinewidth": 0,
                            "ticks": ""
                          }
                        },
                        "marker": {
                          "colorbar": {
                            "outlinewidth": 0,
                            "ticks": ""
                          }
                        },
                        "type": "scatter3d"
                      }
                    ],
                    "scattercarpet": [
                      {
                        "marker": {
                          "colorbar": {
                            "outlinewidth": 0,
                            "ticks": ""
                          }
                        },
                        "type": "scattercarpet"
                      }
                    ],
                    "scattergeo": [
                      {
                        "marker": {
                          "colorbar": {
                            "outlinewidth": 0,
                            "ticks": ""
                          }
                        },
                        "type": "scattergeo"
                      }
                    ],
                    "scattergl": [
                      {
                        "marker": {
                          "colorbar": {
                            "outlinewidth": 0,
                            "ticks": ""
                          }
                        },
                        "type": "scattergl"
                      }
                    ],
                    "scattermapbox": [
                      {
                        "marker": {
                          "colorbar": {
                            "outlinewidth": 0,
                            "ticks": ""
                          }
                        },
                        "type": "scattermapbox"
                      }
                    ],
                    "scatterpolar": [
                      {
                        "marker": {
                          "colorbar": {
                            "outlinewidth": 0,
                            "ticks": ""
                          }
                        },
                        "type": "scatterpolar"
                      }
                    ],
                    "scatterpolargl": [
                      {
                        "marker": {
                          "colorbar": {
                            "outlinewidth": 0,
                            "ticks": ""
                          }
                        },
                        "type": "scatterpolargl"
                      }
                    ],
                    "scatterternary": [
                      {
                        "marker": {
                          "colorbar": {
                            "outlinewidth": 0,
                            "ticks": ""
                          }
                        },
                        "type": "scatterternary"
                      }
                    ],
                    "surface": [
                      {
                        "colorbar": {
                          "outlinewidth": 0,
                          "ticks": ""
                        },
                        "colorscale": [
                          [
                            0,
                            "#0d0887"
                          ],
                          [
                            0.1111111111,
                            "#46039f"
                          ],
                          [
                            0.2222222222,
                            "#7201a8"
                          ],
                          [
                            0.3333333333,
                            "#9c179e"
                          ],
                          [
                            0.4444444444,
                            "#bd3786"
                          ],
                          [
                            0.5555555556,
                            "#d8576b"
                          ],
                          [
                            0.6666666667,
                            "#ed7953"
                          ],
                          [
                            0.7777777778,
                            "#fb9f3a"
                          ],
                          [
                            0.8888888889,
                            "#fdca26"
                          ],
                          [
                            1,
                            "#f0f921"
                          ]
                        ],
                        "type": "surface"
                      }
                    ],
                    "table": [
                      {
                        "cells": {
                          "fill": {
                            "color": "#EBF0F8"
                          },
                          "line": {
                            "color": "white"
                          }
                        },
                        "header": {
                          "fill": {
                            "color": "#C8D4E3"
                          },
                          "line": {
                            "color": "white"
                          }
                        },
                        "type": "table"
                      }
                    ]
                  },
                  "layout": {
                    "annotationdefaults": {
                      "arrowcolor": "#2a3f5f",
                      "arrowhead": 0,
                      "arrowwidth": 1
                    },
                    "colorscale": {
                      "diverging": [
                        [
                          0,
                          "#8e0152"
                        ],
                        [
                          0.1,
                          "#c51b7d"
                        ],
                        [
                          0.2,
                          "#de77ae"
                        ],
                        [
                          0.3,
                          "#f1b6da"
                        ],
                        [
                          0.4,
                          "#fde0ef"
                        ],
                        [
                          0.5,
                          "#f7f7f7"
                        ],
                        [
                          0.6,
                          "#e6f5d0"
                        ],
                        [
                          0.7,
                          "#b8e186"
                        ],
                        [
                          0.8,
                          "#7fbc41"
                        ],
                        [
                          0.9,
                          "#4d9221"
                        ],
                        [
                          1,
                          "#276419"
                        ]
                      ],
                      "sequential": [
                        [
                          0,
                          "#0d0887"
                        ],
                        [
                          0.1111111111,
                          "#46039f"
                        ],
                        [
                          0.2222222222,
                          "#7201a8"
                        ],
                        [
                          0.3333333333,
                          "#9c179e"
                        ],
                        [
                          0.4444444444,
                          "#bd3786"
                        ],
                        [
                          0.5555555556,
                          "#d8576b"
                        ],
                        [
                          0.6666666667,
                          "#ed7953"
                        ],
                        [
                          0.7777777778,
                          "#fb9f3a"
                        ],
                        [
                          0.8888888889,
                          "#fdca26"
                        ],
                        [
                          1,
                          "#f0f921"
                        ]
                      ],
                      "sequentialminus": [
                        [
                          0,
                          "#0d0887"
                        ],
                        [
                          0.1111111111,
                          "#46039f"
                        ],
                        [
                          0.2222222222,
                          "#7201a8"
                        ],
                        [
                          0.3333333333,
                          "#9c179e"
                        ],
                        [
                          0.4444444444,
                          "#bd3786"
                        ],
                        [
                          0.5555555556,
                          "#d8576b"
                        ],
                        [
                          0.6666666667,
                          "#ed7953"
                        ],
                        [
                          0.7777777778,
                          "#fb9f3a"
                        ],
                        [
                          0.8888888889,
                          "#fdca26"
                        ],
                        [
                          1,
                          "#f0f921"
                        ]
                      ]
                    },
                    "colorway": [
                      "#636efa",
                      "#EF553B",
                      "#00cc96",
                      "#ab63fa",
                      "#FFA15A",
                      "#19d3f3",
                      "#FF6692",
                      "#B6E880",
                      "#FF97FF",
                      "#FECB52"
                    ],
                    "font": {
                      "color": "#2a3f5f"
                    },
                    "geo": {
                      "bgcolor": "white",
                      "lakecolor": "white",
                      "landcolor": "#E5ECF6",
                      "showlakes": true,
                      "showland": true,
                      "subunitcolor": "white"
                    },
                    "hoverlabel": {
                      "align": "left"
                    },
                    "hovermode": "closest",
                    "mapbox": {
                      "style": "light"
                    },
                    "paper_bgcolor": "white",
                    "plot_bgcolor": "#E5ECF6",
                    "polar": {
                      "angularaxis": {
                        "gridcolor": "white",
                        "linecolor": "white",
                        "ticks": ""
                      },
                      "bgcolor": "#E5ECF6",
                      "radialaxis": {
                        "gridcolor": "white",
                        "linecolor": "white",
                        "ticks": ""
                      }
                    },
                    "scene": {
                      "xaxis": {
                        "backgroundcolor": "#E5ECF6",
                        "gridcolor": "white",
                        "gridwidth": 2,
                        "linecolor": "white",
                        "showbackground": true,
                        "ticks": "",
                        "zerolinecolor": "white"
                      },
                      "yaxis": {
                        "backgroundcolor": "#E5ECF6",
                        "gridcolor": "white",
                        "gridwidth": 2,
                        "linecolor": "white",
                        "showbackground": true,
                        "ticks": "",
                        "zerolinecolor": "white"
                      },
                      "zaxis": {
                        "backgroundcolor": "#E5ECF6",
                        "gridcolor": "white",
                        "gridwidth": 2,
                        "linecolor": "white",
                        "showbackground": true,
                        "ticks": "",
                        "zerolinecolor": "white"
                      }
                    },
                    "shapedefaults": {
                      "line": {
                        "color": "#2a3f5f"
                      }
                    },
                    "ternary": {
                      "aaxis": {
                        "gridcolor": "white",
                        "linecolor": "white",
                        "ticks": ""
                      },
                      "baxis": {
                        "gridcolor": "white",
                        "linecolor": "white",
                        "ticks": ""
                      },
                      "bgcolor": "#E5ECF6",
                      "caxis": {
                        "gridcolor": "white",
                        "linecolor": "white",
                        "ticks": ""
                      }
                    },
                    "title": {
                      "x": 0.05
                    },
                    "xaxis": {
                      "automargin": true,
                      "gridcolor": "white",
                      "linecolor": "white",
                      "ticks": "",
                      "zerolinecolor": "white",
                      "zerolinewidth": 2
                    },
                    "yaxis": {
                      "automargin": true,
                      "gridcolor": "white",
                      "linecolor": "white",
                      "ticks": "",
                      "zerolinecolor": "white",
                      "zerolinewidth": 2
                    }
                  }
                }
              }
            },
            "text/html": [
              "<div>\n",
              "        \n",
              "        \n",
              "            <div id=\"e344082c-59a9-4349-831c-3c504fc9e4e2\" class=\"plotly-graph-div\" style=\"height:525px; width:100%;\"></div>\n",
              "            <script type=\"text/javascript\">\n",
              "                require([\"plotly\"], function(Plotly) {\n",
              "                    window.PLOTLYENV=window.PLOTLYENV || {};\n",
              "                    \n",
              "                if (document.getElementById(\"e344082c-59a9-4349-831c-3c504fc9e4e2\")) {\n",
              "                    Plotly.newPlot(\n",
              "                        'e344082c-59a9-4349-831c-3c504fc9e4e2',\n",
              "                        [{\"labels\": [\"\\u041d\\u0435\\u0441\\u0435\\u0442\\u0435\\u0432\\u044b\\u0435\", \"\\u0421\\u0435\\u0442\\u0435\\u0432\\u044b\\u0435\"], \"pull\": [0, 0.2], \"textinfo\": \"percent+label\", \"textposition\": \"inside\", \"title\": {\"text\": \"C\\u043e\\u043e\\u0442\\u043d\\u043e\\u0448\\u0435\\u043d\\u0438\\u0435 \\u0441\\u0435\\u0442\\u0435\\u0432\\u044b\\u0445 \\u0438 \\u043d\\u0435\\u0441\\u0435\\u0442\\u0435\\u0432\\u044b\\u0445 \\u0437\\u0430\\u0432\\u0435\\u0434\\u0435\\u043d\\u0438\\u0439 \\u043f\\u043e \\u0432\\u0441\\u0435\\u043c \\u0443\\u043b\\u0438\\u0446\\u0430\\u043c \\u041c\\u043e\\u0441\\u043a\\u0432\\u044b\"}, \"type\": \"pie\", \"values\": [81.0, 19.0]}],\n",
              "                        {\"template\": {\"data\": {\"bar\": [{\"error_x\": {\"color\": \"#2a3f5f\"}, \"error_y\": {\"color\": \"#2a3f5f\"}, \"marker\": {\"line\": {\"color\": \"#E5ECF6\", \"width\": 0.5}}, \"type\": \"bar\"}], \"barpolar\": [{\"marker\": {\"line\": {\"color\": \"#E5ECF6\", \"width\": 0.5}}, \"type\": \"barpolar\"}], \"carpet\": [{\"aaxis\": {\"endlinecolor\": \"#2a3f5f\", \"gridcolor\": \"white\", \"linecolor\": \"white\", \"minorgridcolor\": \"white\", \"startlinecolor\": \"#2a3f5f\"}, \"baxis\": {\"endlinecolor\": \"#2a3f5f\", \"gridcolor\": \"white\", \"linecolor\": \"white\", \"minorgridcolor\": \"white\", \"startlinecolor\": \"#2a3f5f\"}, \"type\": \"carpet\"}], \"choropleth\": [{\"colorbar\": {\"outlinewidth\": 0, \"ticks\": \"\"}, \"type\": \"choropleth\"}], \"contour\": [{\"colorbar\": {\"outlinewidth\": 0, \"ticks\": \"\"}, \"colorscale\": [[0.0, \"#0d0887\"], [0.1111111111111111, \"#46039f\"], [0.2222222222222222, \"#7201a8\"], [0.3333333333333333, \"#9c179e\"], [0.4444444444444444, \"#bd3786\"], [0.5555555555555556, \"#d8576b\"], [0.6666666666666666, \"#ed7953\"], [0.7777777777777778, \"#fb9f3a\"], [0.8888888888888888, \"#fdca26\"], [1.0, \"#f0f921\"]], \"type\": \"contour\"}], \"contourcarpet\": [{\"colorbar\": {\"outlinewidth\": 0, \"ticks\": \"\"}, \"type\": \"contourcarpet\"}], \"heatmap\": [{\"colorbar\": {\"outlinewidth\": 0, \"ticks\": \"\"}, \"colorscale\": [[0.0, \"#0d0887\"], [0.1111111111111111, \"#46039f\"], [0.2222222222222222, \"#7201a8\"], [0.3333333333333333, \"#9c179e\"], [0.4444444444444444, \"#bd3786\"], [0.5555555555555556, \"#d8576b\"], [0.6666666666666666, \"#ed7953\"], [0.7777777777777778, \"#fb9f3a\"], [0.8888888888888888, \"#fdca26\"], [1.0, \"#f0f921\"]], \"type\": \"heatmap\"}], \"heatmapgl\": [{\"colorbar\": {\"outlinewidth\": 0, \"ticks\": \"\"}, \"colorscale\": [[0.0, \"#0d0887\"], [0.1111111111111111, \"#46039f\"], [0.2222222222222222, \"#7201a8\"], [0.3333333333333333, \"#9c179e\"], [0.4444444444444444, \"#bd3786\"], [0.5555555555555556, \"#d8576b\"], [0.6666666666666666, \"#ed7953\"], [0.7777777777777778, \"#fb9f3a\"], [0.8888888888888888, \"#fdca26\"], [1.0, \"#f0f921\"]], \"type\": \"heatmapgl\"}], \"histogram\": [{\"marker\": {\"colorbar\": {\"outlinewidth\": 0, \"ticks\": \"\"}}, \"type\": \"histogram\"}], \"histogram2d\": [{\"colorbar\": {\"outlinewidth\": 0, \"ticks\": \"\"}, \"colorscale\": [[0.0, \"#0d0887\"], [0.1111111111111111, \"#46039f\"], [0.2222222222222222, \"#7201a8\"], [0.3333333333333333, \"#9c179e\"], [0.4444444444444444, \"#bd3786\"], [0.5555555555555556, \"#d8576b\"], [0.6666666666666666, \"#ed7953\"], [0.7777777777777778, \"#fb9f3a\"], [0.8888888888888888, \"#fdca26\"], [1.0, \"#f0f921\"]], \"type\": \"histogram2d\"}], \"histogram2dcontour\": [{\"colorbar\": {\"outlinewidth\": 0, \"ticks\": \"\"}, \"colorscale\": [[0.0, \"#0d0887\"], [0.1111111111111111, \"#46039f\"], [0.2222222222222222, \"#7201a8\"], [0.3333333333333333, \"#9c179e\"], [0.4444444444444444, \"#bd3786\"], [0.5555555555555556, \"#d8576b\"], [0.6666666666666666, \"#ed7953\"], [0.7777777777777778, \"#fb9f3a\"], [0.8888888888888888, \"#fdca26\"], [1.0, \"#f0f921\"]], \"type\": \"histogram2dcontour\"}], \"mesh3d\": [{\"colorbar\": {\"outlinewidth\": 0, \"ticks\": \"\"}, \"type\": \"mesh3d\"}], \"parcoords\": [{\"line\": {\"colorbar\": {\"outlinewidth\": 0, \"ticks\": \"\"}}, \"type\": \"parcoords\"}], \"scatter\": [{\"marker\": {\"colorbar\": {\"outlinewidth\": 0, \"ticks\": \"\"}}, \"type\": \"scatter\"}], \"scatter3d\": [{\"line\": {\"colorbar\": {\"outlinewidth\": 0, \"ticks\": \"\"}}, \"marker\": {\"colorbar\": {\"outlinewidth\": 0, \"ticks\": \"\"}}, \"type\": \"scatter3d\"}], \"scattercarpet\": [{\"marker\": {\"colorbar\": {\"outlinewidth\": 0, \"ticks\": \"\"}}, \"type\": \"scattercarpet\"}], \"scattergeo\": [{\"marker\": {\"colorbar\": {\"outlinewidth\": 0, \"ticks\": \"\"}}, \"type\": \"scattergeo\"}], \"scattergl\": [{\"marker\": {\"colorbar\": {\"outlinewidth\": 0, \"ticks\": \"\"}}, \"type\": \"scattergl\"}], \"scattermapbox\": [{\"marker\": {\"colorbar\": {\"outlinewidth\": 0, \"ticks\": \"\"}}, \"type\": \"scattermapbox\"}], \"scatterpolar\": [{\"marker\": {\"colorbar\": {\"outlinewidth\": 0, \"ticks\": \"\"}}, \"type\": \"scatterpolar\"}], \"scatterpolargl\": [{\"marker\": {\"colorbar\": {\"outlinewidth\": 0, \"ticks\": \"\"}}, \"type\": \"scatterpolargl\"}], \"scatterternary\": [{\"marker\": {\"colorbar\": {\"outlinewidth\": 0, \"ticks\": \"\"}}, \"type\": \"scatterternary\"}], \"surface\": [{\"colorbar\": {\"outlinewidth\": 0, \"ticks\": \"\"}, \"colorscale\": [[0.0, \"#0d0887\"], [0.1111111111111111, \"#46039f\"], [0.2222222222222222, \"#7201a8\"], [0.3333333333333333, \"#9c179e\"], [0.4444444444444444, \"#bd3786\"], [0.5555555555555556, \"#d8576b\"], [0.6666666666666666, \"#ed7953\"], [0.7777777777777778, \"#fb9f3a\"], [0.8888888888888888, \"#fdca26\"], [1.0, \"#f0f921\"]], \"type\": \"surface\"}], \"table\": [{\"cells\": {\"fill\": {\"color\": \"#EBF0F8\"}, \"line\": {\"color\": \"white\"}}, \"header\": {\"fill\": {\"color\": \"#C8D4E3\"}, \"line\": {\"color\": \"white\"}}, \"type\": \"table\"}]}, \"layout\": {\"annotationdefaults\": {\"arrowcolor\": \"#2a3f5f\", \"arrowhead\": 0, \"arrowwidth\": 1}, \"colorscale\": {\"diverging\": [[0, \"#8e0152\"], [0.1, \"#c51b7d\"], [0.2, \"#de77ae\"], [0.3, \"#f1b6da\"], [0.4, \"#fde0ef\"], [0.5, \"#f7f7f7\"], [0.6, \"#e6f5d0\"], [0.7, \"#b8e186\"], [0.8, \"#7fbc41\"], [0.9, \"#4d9221\"], [1, \"#276419\"]], \"sequential\": [[0.0, \"#0d0887\"], [0.1111111111111111, \"#46039f\"], [0.2222222222222222, \"#7201a8\"], [0.3333333333333333, \"#9c179e\"], [0.4444444444444444, \"#bd3786\"], [0.5555555555555556, \"#d8576b\"], [0.6666666666666666, \"#ed7953\"], [0.7777777777777778, \"#fb9f3a\"], [0.8888888888888888, \"#fdca26\"], [1.0, \"#f0f921\"]], \"sequentialminus\": [[0.0, \"#0d0887\"], [0.1111111111111111, \"#46039f\"], [0.2222222222222222, \"#7201a8\"], [0.3333333333333333, \"#9c179e\"], [0.4444444444444444, \"#bd3786\"], [0.5555555555555556, \"#d8576b\"], [0.6666666666666666, \"#ed7953\"], [0.7777777777777778, \"#fb9f3a\"], [0.8888888888888888, \"#fdca26\"], [1.0, \"#f0f921\"]]}, \"colorway\": [\"#636efa\", \"#EF553B\", \"#00cc96\", \"#ab63fa\", \"#FFA15A\", \"#19d3f3\", \"#FF6692\", \"#B6E880\", \"#FF97FF\", \"#FECB52\"], \"font\": {\"color\": \"#2a3f5f\"}, \"geo\": {\"bgcolor\": \"white\", \"lakecolor\": \"white\", \"landcolor\": \"#E5ECF6\", \"showlakes\": true, \"showland\": true, \"subunitcolor\": \"white\"}, \"hoverlabel\": {\"align\": \"left\"}, \"hovermode\": \"closest\", \"mapbox\": {\"style\": \"light\"}, \"paper_bgcolor\": \"white\", \"plot_bgcolor\": \"#E5ECF6\", \"polar\": {\"angularaxis\": {\"gridcolor\": \"white\", \"linecolor\": \"white\", \"ticks\": \"\"}, \"bgcolor\": \"#E5ECF6\", \"radialaxis\": {\"gridcolor\": \"white\", \"linecolor\": \"white\", \"ticks\": \"\"}}, \"scene\": {\"xaxis\": {\"backgroundcolor\": \"#E5ECF6\", \"gridcolor\": \"white\", \"gridwidth\": 2, \"linecolor\": \"white\", \"showbackground\": true, \"ticks\": \"\", \"zerolinecolor\": \"white\"}, \"yaxis\": {\"backgroundcolor\": \"#E5ECF6\", \"gridcolor\": \"white\", \"gridwidth\": 2, \"linecolor\": \"white\", \"showbackground\": true, \"ticks\": \"\", \"zerolinecolor\": \"white\"}, \"zaxis\": {\"backgroundcolor\": \"#E5ECF6\", \"gridcolor\": \"white\", \"gridwidth\": 2, \"linecolor\": \"white\", \"showbackground\": true, \"ticks\": \"\", \"zerolinecolor\": \"white\"}}, \"shapedefaults\": {\"line\": {\"color\": \"#2a3f5f\"}}, \"ternary\": {\"aaxis\": {\"gridcolor\": \"white\", \"linecolor\": \"white\", \"ticks\": \"\"}, \"baxis\": {\"gridcolor\": \"white\", \"linecolor\": \"white\", \"ticks\": \"\"}, \"bgcolor\": \"#E5ECF6\", \"caxis\": {\"gridcolor\": \"white\", \"linecolor\": \"white\", \"ticks\": \"\"}}, \"title\": {\"x\": 0.05}, \"xaxis\": {\"automargin\": true, \"gridcolor\": \"white\", \"linecolor\": \"white\", \"ticks\": \"\", \"zerolinecolor\": \"white\", \"zerolinewidth\": 2}, \"yaxis\": {\"automargin\": true, \"gridcolor\": \"white\", \"linecolor\": \"white\", \"ticks\": \"\", \"zerolinecolor\": \"white\", \"zerolinewidth\": 2}}}},\n",
              "                        {\"responsive\": true}\n",
              "                    ).then(function(){\n",
              "                            \n",
              "var gd = document.getElementById('e344082c-59a9-4349-831c-3c504fc9e4e2');\n",
              "var x = new MutationObserver(function (mutations, observer) {{\n",
              "        var display = window.getComputedStyle(gd).display;\n",
              "        if (!display || display === 'none') {{\n",
              "            console.log([gd, 'removed!']);\n",
              "            Plotly.purge(gd);\n",
              "            observer.disconnect();\n",
              "        }}\n",
              "}});\n",
              "\n",
              "// Listen for the removal of the full notebook cells\n",
              "var notebookContainer = gd.closest('#notebook-container');\n",
              "if (notebookContainer) {{\n",
              "    x.observe(notebookContainer, {childList: true});\n",
              "}}\n",
              "\n",
              "// Listen for the clearing of the current output cell\n",
              "var outputEl = gd.closest('.output');\n",
              "if (outputEl) {{\n",
              "    x.observe(outputEl, {childList: true});\n",
              "}}\n",
              "\n",
              "                        })\n",
              "                };\n",
              "                });\n",
              "            </script>\n",
              "        </div>"
            ]
          },
          "metadata": {},
          "output_type": "display_data"
        }
      ]
    },
    {
      "cell_type": "markdown",
      "metadata": {
        "id": "oOKS1Y_udL3Q"
      },
      "source": [
        "Несетевых объектов в 4,2 раза больше, чем сетевых."
      ]
    },
    {
      "cell_type": "markdown",
      "metadata": {
        "id": "oJndVjx4d817"
      },
      "source": [
        "**Сетевое распространение объектов обзественного питания.**"
      ]
    },
    {
      "cell_type": "code",
      "metadata": {
        "colab": {
          "base_uri": "https://localhost:8080/",
          "height": 328
        },
        "id": "ao3plZ51PdjR",
        "outputId": "0a2caa44-9d53-42ad-a340-a2e639175fd7"
      },
      "source": [
        "chain_distribution = df.query('chain == \"да\"').groupby('object_type').agg({'id': 'count'}).reset_index()\n",
        "chain_distribution.columns = ['object_type', 'distribution_amount']\n",
        "chain_distribution_sorted = chain_distribution.sort_values(by='distribution_amount', ascending=False)\n",
        "#chain_distribution_sorted\n",
        "\n",
        "fig = go.Figure(data=[go.Table(\n",
        "    header=dict(values=list(chain_distribution_sorted.columns),\n",
        "                fill_color='paleturquoise',\n",
        "                align='left'),\n",
        "    cells=dict(values=[chain_distribution_sorted.object_type, chain_distribution_sorted.distribution_amount],\n",
        "               fill_color='lavender',\n",
        "               align='left'))\n",
        "])\n",
        "\n",
        "fig.show()"
      ],
      "execution_count": null,
      "outputs": [
        {
          "data": {
            "application/vnd.plotly.v1+json": {
              "config": {
                "plotlyServerURL": "https://plot.ly"
              },
              "data": [
                {
                  "cells": {
                    "align": "left",
                    "fill": {
                      "color": "lavender"
                    },
                    "values": [
                      [
                        "кафе",
                        "предприятие быстрого обслуживания",
                        "ресторан",
                        "магазин (отдел кулинарии)",
                        "закусочная",
                        "кафетерий",
                        "бар",
                        "буфет",
                        "столовая"
                      ],
                      [
                        1396,
                        791,
                        544,
                        78,
                        56,
                        52,
                        37,
                        11,
                        3
                      ]
                    ]
                  },
                  "header": {
                    "align": "left",
                    "fill": {
                      "color": "paleturquoise"
                    },
                    "values": [
                      "object_type",
                      "distribution_amount"
                    ]
                  },
                  "type": "table"
                }
              ],
              "layout": {
                "template": {
                  "data": {
                    "bar": [
                      {
                        "error_x": {
                          "color": "#2a3f5f"
                        },
                        "error_y": {
                          "color": "#2a3f5f"
                        },
                        "marker": {
                          "line": {
                            "color": "#E5ECF6",
                            "width": 0.5
                          }
                        },
                        "type": "bar"
                      }
                    ],
                    "barpolar": [
                      {
                        "marker": {
                          "line": {
                            "color": "#E5ECF6",
                            "width": 0.5
                          }
                        },
                        "type": "barpolar"
                      }
                    ],
                    "carpet": [
                      {
                        "aaxis": {
                          "endlinecolor": "#2a3f5f",
                          "gridcolor": "white",
                          "linecolor": "white",
                          "minorgridcolor": "white",
                          "startlinecolor": "#2a3f5f"
                        },
                        "baxis": {
                          "endlinecolor": "#2a3f5f",
                          "gridcolor": "white",
                          "linecolor": "white",
                          "minorgridcolor": "white",
                          "startlinecolor": "#2a3f5f"
                        },
                        "type": "carpet"
                      }
                    ],
                    "choropleth": [
                      {
                        "colorbar": {
                          "outlinewidth": 0,
                          "ticks": ""
                        },
                        "type": "choropleth"
                      }
                    ],
                    "contour": [
                      {
                        "colorbar": {
                          "outlinewidth": 0,
                          "ticks": ""
                        },
                        "colorscale": [
                          [
                            0,
                            "#0d0887"
                          ],
                          [
                            0.1111111111,
                            "#46039f"
                          ],
                          [
                            0.2222222222,
                            "#7201a8"
                          ],
                          [
                            0.3333333333,
                            "#9c179e"
                          ],
                          [
                            0.4444444444,
                            "#bd3786"
                          ],
                          [
                            0.5555555556,
                            "#d8576b"
                          ],
                          [
                            0.6666666667,
                            "#ed7953"
                          ],
                          [
                            0.7777777778,
                            "#fb9f3a"
                          ],
                          [
                            0.8888888889,
                            "#fdca26"
                          ],
                          [
                            1,
                            "#f0f921"
                          ]
                        ],
                        "type": "contour"
                      }
                    ],
                    "contourcarpet": [
                      {
                        "colorbar": {
                          "outlinewidth": 0,
                          "ticks": ""
                        },
                        "type": "contourcarpet"
                      }
                    ],
                    "heatmap": [
                      {
                        "colorbar": {
                          "outlinewidth": 0,
                          "ticks": ""
                        },
                        "colorscale": [
                          [
                            0,
                            "#0d0887"
                          ],
                          [
                            0.1111111111,
                            "#46039f"
                          ],
                          [
                            0.2222222222,
                            "#7201a8"
                          ],
                          [
                            0.3333333333,
                            "#9c179e"
                          ],
                          [
                            0.4444444444,
                            "#bd3786"
                          ],
                          [
                            0.5555555556,
                            "#d8576b"
                          ],
                          [
                            0.6666666667,
                            "#ed7953"
                          ],
                          [
                            0.7777777778,
                            "#fb9f3a"
                          ],
                          [
                            0.8888888889,
                            "#fdca26"
                          ],
                          [
                            1,
                            "#f0f921"
                          ]
                        ],
                        "type": "heatmap"
                      }
                    ],
                    "heatmapgl": [
                      {
                        "colorbar": {
                          "outlinewidth": 0,
                          "ticks": ""
                        },
                        "colorscale": [
                          [
                            0,
                            "#0d0887"
                          ],
                          [
                            0.1111111111,
                            "#46039f"
                          ],
                          [
                            0.2222222222,
                            "#7201a8"
                          ],
                          [
                            0.3333333333,
                            "#9c179e"
                          ],
                          [
                            0.4444444444,
                            "#bd3786"
                          ],
                          [
                            0.5555555556,
                            "#d8576b"
                          ],
                          [
                            0.6666666667,
                            "#ed7953"
                          ],
                          [
                            0.7777777778,
                            "#fb9f3a"
                          ],
                          [
                            0.8888888889,
                            "#fdca26"
                          ],
                          [
                            1,
                            "#f0f921"
                          ]
                        ],
                        "type": "heatmapgl"
                      }
                    ],
                    "histogram": [
                      {
                        "marker": {
                          "colorbar": {
                            "outlinewidth": 0,
                            "ticks": ""
                          }
                        },
                        "type": "histogram"
                      }
                    ],
                    "histogram2d": [
                      {
                        "colorbar": {
                          "outlinewidth": 0,
                          "ticks": ""
                        },
                        "colorscale": [
                          [
                            0,
                            "#0d0887"
                          ],
                          [
                            0.1111111111,
                            "#46039f"
                          ],
                          [
                            0.2222222222,
                            "#7201a8"
                          ],
                          [
                            0.3333333333,
                            "#9c179e"
                          ],
                          [
                            0.4444444444,
                            "#bd3786"
                          ],
                          [
                            0.5555555556,
                            "#d8576b"
                          ],
                          [
                            0.6666666667,
                            "#ed7953"
                          ],
                          [
                            0.7777777778,
                            "#fb9f3a"
                          ],
                          [
                            0.8888888889,
                            "#fdca26"
                          ],
                          [
                            1,
                            "#f0f921"
                          ]
                        ],
                        "type": "histogram2d"
                      }
                    ],
                    "histogram2dcontour": [
                      {
                        "colorbar": {
                          "outlinewidth": 0,
                          "ticks": ""
                        },
                        "colorscale": [
                          [
                            0,
                            "#0d0887"
                          ],
                          [
                            0.1111111111,
                            "#46039f"
                          ],
                          [
                            0.2222222222,
                            "#7201a8"
                          ],
                          [
                            0.3333333333,
                            "#9c179e"
                          ],
                          [
                            0.4444444444,
                            "#bd3786"
                          ],
                          [
                            0.5555555556,
                            "#d8576b"
                          ],
                          [
                            0.6666666667,
                            "#ed7953"
                          ],
                          [
                            0.7777777778,
                            "#fb9f3a"
                          ],
                          [
                            0.8888888889,
                            "#fdca26"
                          ],
                          [
                            1,
                            "#f0f921"
                          ]
                        ],
                        "type": "histogram2dcontour"
                      }
                    ],
                    "mesh3d": [
                      {
                        "colorbar": {
                          "outlinewidth": 0,
                          "ticks": ""
                        },
                        "type": "mesh3d"
                      }
                    ],
                    "parcoords": [
                      {
                        "line": {
                          "colorbar": {
                            "outlinewidth": 0,
                            "ticks": ""
                          }
                        },
                        "type": "parcoords"
                      }
                    ],
                    "scatter": [
                      {
                        "marker": {
                          "colorbar": {
                            "outlinewidth": 0,
                            "ticks": ""
                          }
                        },
                        "type": "scatter"
                      }
                    ],
                    "scatter3d": [
                      {
                        "line": {
                          "colorbar": {
                            "outlinewidth": 0,
                            "ticks": ""
                          }
                        },
                        "marker": {
                          "colorbar": {
                            "outlinewidth": 0,
                            "ticks": ""
                          }
                        },
                        "type": "scatter3d"
                      }
                    ],
                    "scattercarpet": [
                      {
                        "marker": {
                          "colorbar": {
                            "outlinewidth": 0,
                            "ticks": ""
                          }
                        },
                        "type": "scattercarpet"
                      }
                    ],
                    "scattergeo": [
                      {
                        "marker": {
                          "colorbar": {
                            "outlinewidth": 0,
                            "ticks": ""
                          }
                        },
                        "type": "scattergeo"
                      }
                    ],
                    "scattergl": [
                      {
                        "marker": {
                          "colorbar": {
                            "outlinewidth": 0,
                            "ticks": ""
                          }
                        },
                        "type": "scattergl"
                      }
                    ],
                    "scattermapbox": [
                      {
                        "marker": {
                          "colorbar": {
                            "outlinewidth": 0,
                            "ticks": ""
                          }
                        },
                        "type": "scattermapbox"
                      }
                    ],
                    "scatterpolar": [
                      {
                        "marker": {
                          "colorbar": {
                            "outlinewidth": 0,
                            "ticks": ""
                          }
                        },
                        "type": "scatterpolar"
                      }
                    ],
                    "scatterpolargl": [
                      {
                        "marker": {
                          "colorbar": {
                            "outlinewidth": 0,
                            "ticks": ""
                          }
                        },
                        "type": "scatterpolargl"
                      }
                    ],
                    "scatterternary": [
                      {
                        "marker": {
                          "colorbar": {
                            "outlinewidth": 0,
                            "ticks": ""
                          }
                        },
                        "type": "scatterternary"
                      }
                    ],
                    "surface": [
                      {
                        "colorbar": {
                          "outlinewidth": 0,
                          "ticks": ""
                        },
                        "colorscale": [
                          [
                            0,
                            "#0d0887"
                          ],
                          [
                            0.1111111111,
                            "#46039f"
                          ],
                          [
                            0.2222222222,
                            "#7201a8"
                          ],
                          [
                            0.3333333333,
                            "#9c179e"
                          ],
                          [
                            0.4444444444,
                            "#bd3786"
                          ],
                          [
                            0.5555555556,
                            "#d8576b"
                          ],
                          [
                            0.6666666667,
                            "#ed7953"
                          ],
                          [
                            0.7777777778,
                            "#fb9f3a"
                          ],
                          [
                            0.8888888889,
                            "#fdca26"
                          ],
                          [
                            1,
                            "#f0f921"
                          ]
                        ],
                        "type": "surface"
                      }
                    ],
                    "table": [
                      {
                        "cells": {
                          "fill": {
                            "color": "#EBF0F8"
                          },
                          "line": {
                            "color": "white"
                          }
                        },
                        "header": {
                          "fill": {
                            "color": "#C8D4E3"
                          },
                          "line": {
                            "color": "white"
                          }
                        },
                        "type": "table"
                      }
                    ]
                  },
                  "layout": {
                    "annotationdefaults": {
                      "arrowcolor": "#2a3f5f",
                      "arrowhead": 0,
                      "arrowwidth": 1
                    },
                    "colorscale": {
                      "diverging": [
                        [
                          0,
                          "#8e0152"
                        ],
                        [
                          0.1,
                          "#c51b7d"
                        ],
                        [
                          0.2,
                          "#de77ae"
                        ],
                        [
                          0.3,
                          "#f1b6da"
                        ],
                        [
                          0.4,
                          "#fde0ef"
                        ],
                        [
                          0.5,
                          "#f7f7f7"
                        ],
                        [
                          0.6,
                          "#e6f5d0"
                        ],
                        [
                          0.7,
                          "#b8e186"
                        ],
                        [
                          0.8,
                          "#7fbc41"
                        ],
                        [
                          0.9,
                          "#4d9221"
                        ],
                        [
                          1,
                          "#276419"
                        ]
                      ],
                      "sequential": [
                        [
                          0,
                          "#0d0887"
                        ],
                        [
                          0.1111111111,
                          "#46039f"
                        ],
                        [
                          0.2222222222,
                          "#7201a8"
                        ],
                        [
                          0.3333333333,
                          "#9c179e"
                        ],
                        [
                          0.4444444444,
                          "#bd3786"
                        ],
                        [
                          0.5555555556,
                          "#d8576b"
                        ],
                        [
                          0.6666666667,
                          "#ed7953"
                        ],
                        [
                          0.7777777778,
                          "#fb9f3a"
                        ],
                        [
                          0.8888888889,
                          "#fdca26"
                        ],
                        [
                          1,
                          "#f0f921"
                        ]
                      ],
                      "sequentialminus": [
                        [
                          0,
                          "#0d0887"
                        ],
                        [
                          0.1111111111,
                          "#46039f"
                        ],
                        [
                          0.2222222222,
                          "#7201a8"
                        ],
                        [
                          0.3333333333,
                          "#9c179e"
                        ],
                        [
                          0.4444444444,
                          "#bd3786"
                        ],
                        [
                          0.5555555556,
                          "#d8576b"
                        ],
                        [
                          0.6666666667,
                          "#ed7953"
                        ],
                        [
                          0.7777777778,
                          "#fb9f3a"
                        ],
                        [
                          0.8888888889,
                          "#fdca26"
                        ],
                        [
                          1,
                          "#f0f921"
                        ]
                      ]
                    },
                    "colorway": [
                      "#636efa",
                      "#EF553B",
                      "#00cc96",
                      "#ab63fa",
                      "#FFA15A",
                      "#19d3f3",
                      "#FF6692",
                      "#B6E880",
                      "#FF97FF",
                      "#FECB52"
                    ],
                    "font": {
                      "color": "#2a3f5f"
                    },
                    "geo": {
                      "bgcolor": "white",
                      "lakecolor": "white",
                      "landcolor": "#E5ECF6",
                      "showlakes": true,
                      "showland": true,
                      "subunitcolor": "white"
                    },
                    "hoverlabel": {
                      "align": "left"
                    },
                    "hovermode": "closest",
                    "mapbox": {
                      "style": "light"
                    },
                    "paper_bgcolor": "white",
                    "plot_bgcolor": "#E5ECF6",
                    "polar": {
                      "angularaxis": {
                        "gridcolor": "white",
                        "linecolor": "white",
                        "ticks": ""
                      },
                      "bgcolor": "#E5ECF6",
                      "radialaxis": {
                        "gridcolor": "white",
                        "linecolor": "white",
                        "ticks": ""
                      }
                    },
                    "scene": {
                      "xaxis": {
                        "backgroundcolor": "#E5ECF6",
                        "gridcolor": "white",
                        "gridwidth": 2,
                        "linecolor": "white",
                        "showbackground": true,
                        "ticks": "",
                        "zerolinecolor": "white"
                      },
                      "yaxis": {
                        "backgroundcolor": "#E5ECF6",
                        "gridcolor": "white",
                        "gridwidth": 2,
                        "linecolor": "white",
                        "showbackground": true,
                        "ticks": "",
                        "zerolinecolor": "white"
                      },
                      "zaxis": {
                        "backgroundcolor": "#E5ECF6",
                        "gridcolor": "white",
                        "gridwidth": 2,
                        "linecolor": "white",
                        "showbackground": true,
                        "ticks": "",
                        "zerolinecolor": "white"
                      }
                    },
                    "shapedefaults": {
                      "line": {
                        "color": "#2a3f5f"
                      }
                    },
                    "ternary": {
                      "aaxis": {
                        "gridcolor": "white",
                        "linecolor": "white",
                        "ticks": ""
                      },
                      "baxis": {
                        "gridcolor": "white",
                        "linecolor": "white",
                        "ticks": ""
                      },
                      "bgcolor": "#E5ECF6",
                      "caxis": {
                        "gridcolor": "white",
                        "linecolor": "white",
                        "ticks": ""
                      }
                    },
                    "title": {
                      "x": 0.05
                    },
                    "xaxis": {
                      "automargin": true,
                      "gridcolor": "white",
                      "linecolor": "white",
                      "ticks": "",
                      "zerolinecolor": "white",
                      "zerolinewidth": 2
                    },
                    "yaxis": {
                      "automargin": true,
                      "gridcolor": "white",
                      "linecolor": "white",
                      "ticks": "",
                      "zerolinecolor": "white",
                      "zerolinewidth": 2
                    }
                  }
                }
              }
            },
            "text/html": [
              "<div>\n",
              "        \n",
              "        \n",
              "            <div id=\"392c1f2a-eb04-4146-b216-febebd3cc299\" class=\"plotly-graph-div\" style=\"height:525px; width:100%;\"></div>\n",
              "            <script type=\"text/javascript\">\n",
              "                require([\"plotly\"], function(Plotly) {\n",
              "                    window.PLOTLYENV=window.PLOTLYENV || {};\n",
              "                    \n",
              "                if (document.getElementById(\"392c1f2a-eb04-4146-b216-febebd3cc299\")) {\n",
              "                    Plotly.newPlot(\n",
              "                        '392c1f2a-eb04-4146-b216-febebd3cc299',\n",
              "                        [{\"cells\": {\"align\": \"left\", \"fill\": {\"color\": \"lavender\"}, \"values\": [[\"\\u043a\\u0430\\u0444\\u0435\", \"\\u043f\\u0440\\u0435\\u0434\\u043f\\u0440\\u0438\\u044f\\u0442\\u0438\\u0435 \\u0431\\u044b\\u0441\\u0442\\u0440\\u043e\\u0433\\u043e \\u043e\\u0431\\u0441\\u043b\\u0443\\u0436\\u0438\\u0432\\u0430\\u043d\\u0438\\u044f\", \"\\u0440\\u0435\\u0441\\u0442\\u043e\\u0440\\u0430\\u043d\", \"\\u043c\\u0430\\u0433\\u0430\\u0437\\u0438\\u043d (\\u043e\\u0442\\u0434\\u0435\\u043b \\u043a\\u0443\\u043b\\u0438\\u043d\\u0430\\u0440\\u0438\\u0438)\", \"\\u0437\\u0430\\u043a\\u0443\\u0441\\u043e\\u0447\\u043d\\u0430\\u044f\", \"\\u043a\\u0430\\u0444\\u0435\\u0442\\u0435\\u0440\\u0438\\u0439\", \"\\u0431\\u0430\\u0440\", \"\\u0431\\u0443\\u0444\\u0435\\u0442\", \"\\u0441\\u0442\\u043e\\u043b\\u043e\\u0432\\u0430\\u044f\"], [1396, 791, 544, 78, 56, 52, 37, 11, 3]]}, \"header\": {\"align\": \"left\", \"fill\": {\"color\": \"paleturquoise\"}, \"values\": [\"object_type\", \"distribution_amount\"]}, \"type\": \"table\"}],\n",
              "                        {\"template\": {\"data\": {\"bar\": [{\"error_x\": {\"color\": \"#2a3f5f\"}, \"error_y\": {\"color\": \"#2a3f5f\"}, \"marker\": {\"line\": {\"color\": \"#E5ECF6\", \"width\": 0.5}}, \"type\": \"bar\"}], \"barpolar\": [{\"marker\": {\"line\": {\"color\": \"#E5ECF6\", \"width\": 0.5}}, \"type\": \"barpolar\"}], \"carpet\": [{\"aaxis\": {\"endlinecolor\": \"#2a3f5f\", \"gridcolor\": \"white\", \"linecolor\": \"white\", \"minorgridcolor\": \"white\", \"startlinecolor\": \"#2a3f5f\"}, \"baxis\": {\"endlinecolor\": \"#2a3f5f\", \"gridcolor\": \"white\", \"linecolor\": \"white\", \"minorgridcolor\": \"white\", \"startlinecolor\": \"#2a3f5f\"}, \"type\": \"carpet\"}], \"choropleth\": [{\"colorbar\": {\"outlinewidth\": 0, \"ticks\": \"\"}, \"type\": \"choropleth\"}], \"contour\": [{\"colorbar\": {\"outlinewidth\": 0, \"ticks\": \"\"}, \"colorscale\": [[0.0, \"#0d0887\"], [0.1111111111111111, \"#46039f\"], [0.2222222222222222, \"#7201a8\"], [0.3333333333333333, \"#9c179e\"], [0.4444444444444444, \"#bd3786\"], [0.5555555555555556, \"#d8576b\"], [0.6666666666666666, \"#ed7953\"], [0.7777777777777778, \"#fb9f3a\"], [0.8888888888888888, \"#fdca26\"], [1.0, \"#f0f921\"]], \"type\": \"contour\"}], \"contourcarpet\": [{\"colorbar\": {\"outlinewidth\": 0, \"ticks\": \"\"}, \"type\": \"contourcarpet\"}], \"heatmap\": [{\"colorbar\": {\"outlinewidth\": 0, \"ticks\": \"\"}, \"colorscale\": [[0.0, \"#0d0887\"], [0.1111111111111111, \"#46039f\"], [0.2222222222222222, \"#7201a8\"], [0.3333333333333333, \"#9c179e\"], [0.4444444444444444, \"#bd3786\"], [0.5555555555555556, \"#d8576b\"], [0.6666666666666666, \"#ed7953\"], [0.7777777777777778, \"#fb9f3a\"], [0.8888888888888888, \"#fdca26\"], [1.0, \"#f0f921\"]], \"type\": \"heatmap\"}], \"heatmapgl\": [{\"colorbar\": {\"outlinewidth\": 0, \"ticks\": \"\"}, \"colorscale\": [[0.0, \"#0d0887\"], [0.1111111111111111, \"#46039f\"], [0.2222222222222222, \"#7201a8\"], [0.3333333333333333, \"#9c179e\"], [0.4444444444444444, \"#bd3786\"], [0.5555555555555556, \"#d8576b\"], [0.6666666666666666, \"#ed7953\"], [0.7777777777777778, \"#fb9f3a\"], [0.8888888888888888, \"#fdca26\"], [1.0, \"#f0f921\"]], \"type\": \"heatmapgl\"}], \"histogram\": [{\"marker\": {\"colorbar\": {\"outlinewidth\": 0, \"ticks\": \"\"}}, \"type\": \"histogram\"}], \"histogram2d\": [{\"colorbar\": {\"outlinewidth\": 0, \"ticks\": \"\"}, \"colorscale\": [[0.0, \"#0d0887\"], [0.1111111111111111, \"#46039f\"], [0.2222222222222222, \"#7201a8\"], [0.3333333333333333, \"#9c179e\"], [0.4444444444444444, \"#bd3786\"], [0.5555555555555556, \"#d8576b\"], [0.6666666666666666, \"#ed7953\"], [0.7777777777777778, \"#fb9f3a\"], [0.8888888888888888, \"#fdca26\"], [1.0, \"#f0f921\"]], \"type\": \"histogram2d\"}], \"histogram2dcontour\": [{\"colorbar\": {\"outlinewidth\": 0, \"ticks\": \"\"}, \"colorscale\": [[0.0, \"#0d0887\"], [0.1111111111111111, \"#46039f\"], [0.2222222222222222, \"#7201a8\"], [0.3333333333333333, \"#9c179e\"], [0.4444444444444444, \"#bd3786\"], [0.5555555555555556, \"#d8576b\"], [0.6666666666666666, \"#ed7953\"], [0.7777777777777778, \"#fb9f3a\"], [0.8888888888888888, \"#fdca26\"], [1.0, \"#f0f921\"]], \"type\": \"histogram2dcontour\"}], \"mesh3d\": [{\"colorbar\": {\"outlinewidth\": 0, \"ticks\": \"\"}, \"type\": \"mesh3d\"}], \"parcoords\": [{\"line\": {\"colorbar\": {\"outlinewidth\": 0, \"ticks\": \"\"}}, \"type\": \"parcoords\"}], \"scatter\": [{\"marker\": {\"colorbar\": {\"outlinewidth\": 0, \"ticks\": \"\"}}, \"type\": \"scatter\"}], \"scatter3d\": [{\"line\": {\"colorbar\": {\"outlinewidth\": 0, \"ticks\": \"\"}}, \"marker\": {\"colorbar\": {\"outlinewidth\": 0, \"ticks\": \"\"}}, \"type\": \"scatter3d\"}], \"scattercarpet\": [{\"marker\": {\"colorbar\": {\"outlinewidth\": 0, \"ticks\": \"\"}}, \"type\": \"scattercarpet\"}], \"scattergeo\": [{\"marker\": {\"colorbar\": {\"outlinewidth\": 0, \"ticks\": \"\"}}, \"type\": \"scattergeo\"}], \"scattergl\": [{\"marker\": {\"colorbar\": {\"outlinewidth\": 0, \"ticks\": \"\"}}, \"type\": \"scattergl\"}], \"scattermapbox\": [{\"marker\": {\"colorbar\": {\"outlinewidth\": 0, \"ticks\": \"\"}}, \"type\": \"scattermapbox\"}], \"scatterpolar\": [{\"marker\": {\"colorbar\": {\"outlinewidth\": 0, \"ticks\": \"\"}}, \"type\": \"scatterpolar\"}], \"scatterpolargl\": [{\"marker\": {\"colorbar\": {\"outlinewidth\": 0, \"ticks\": \"\"}}, \"type\": \"scatterpolargl\"}], \"scatterternary\": [{\"marker\": {\"colorbar\": {\"outlinewidth\": 0, \"ticks\": \"\"}}, \"type\": \"scatterternary\"}], \"surface\": [{\"colorbar\": {\"outlinewidth\": 0, \"ticks\": \"\"}, \"colorscale\": [[0.0, \"#0d0887\"], [0.1111111111111111, \"#46039f\"], [0.2222222222222222, \"#7201a8\"], [0.3333333333333333, \"#9c179e\"], [0.4444444444444444, \"#bd3786\"], [0.5555555555555556, \"#d8576b\"], [0.6666666666666666, \"#ed7953\"], [0.7777777777777778, \"#fb9f3a\"], [0.8888888888888888, \"#fdca26\"], [1.0, \"#f0f921\"]], \"type\": \"surface\"}], \"table\": [{\"cells\": {\"fill\": {\"color\": \"#EBF0F8\"}, \"line\": {\"color\": \"white\"}}, \"header\": {\"fill\": {\"color\": \"#C8D4E3\"}, \"line\": {\"color\": \"white\"}}, \"type\": \"table\"}]}, \"layout\": {\"annotationdefaults\": {\"arrowcolor\": \"#2a3f5f\", \"arrowhead\": 0, \"arrowwidth\": 1}, \"colorscale\": {\"diverging\": [[0, \"#8e0152\"], [0.1, \"#c51b7d\"], [0.2, \"#de77ae\"], [0.3, \"#f1b6da\"], [0.4, \"#fde0ef\"], [0.5, \"#f7f7f7\"], [0.6, \"#e6f5d0\"], [0.7, \"#b8e186\"], [0.8, \"#7fbc41\"], [0.9, \"#4d9221\"], [1, \"#276419\"]], \"sequential\": [[0.0, \"#0d0887\"], [0.1111111111111111, \"#46039f\"], [0.2222222222222222, \"#7201a8\"], [0.3333333333333333, \"#9c179e\"], [0.4444444444444444, \"#bd3786\"], [0.5555555555555556, \"#d8576b\"], [0.6666666666666666, \"#ed7953\"], [0.7777777777777778, \"#fb9f3a\"], [0.8888888888888888, \"#fdca26\"], [1.0, \"#f0f921\"]], \"sequentialminus\": [[0.0, \"#0d0887\"], [0.1111111111111111, \"#46039f\"], [0.2222222222222222, \"#7201a8\"], [0.3333333333333333, \"#9c179e\"], [0.4444444444444444, \"#bd3786\"], [0.5555555555555556, \"#d8576b\"], [0.6666666666666666, \"#ed7953\"], [0.7777777777777778, \"#fb9f3a\"], [0.8888888888888888, \"#fdca26\"], [1.0, \"#f0f921\"]]}, \"colorway\": [\"#636efa\", \"#EF553B\", \"#00cc96\", \"#ab63fa\", \"#FFA15A\", \"#19d3f3\", \"#FF6692\", \"#B6E880\", \"#FF97FF\", \"#FECB52\"], \"font\": {\"color\": \"#2a3f5f\"}, \"geo\": {\"bgcolor\": \"white\", \"lakecolor\": \"white\", \"landcolor\": \"#E5ECF6\", \"showlakes\": true, \"showland\": true, \"subunitcolor\": \"white\"}, \"hoverlabel\": {\"align\": \"left\"}, \"hovermode\": \"closest\", \"mapbox\": {\"style\": \"light\"}, \"paper_bgcolor\": \"white\", \"plot_bgcolor\": \"#E5ECF6\", \"polar\": {\"angularaxis\": {\"gridcolor\": \"white\", \"linecolor\": \"white\", \"ticks\": \"\"}, \"bgcolor\": \"#E5ECF6\", \"radialaxis\": {\"gridcolor\": \"white\", \"linecolor\": \"white\", \"ticks\": \"\"}}, \"scene\": {\"xaxis\": {\"backgroundcolor\": \"#E5ECF6\", \"gridcolor\": \"white\", \"gridwidth\": 2, \"linecolor\": \"white\", \"showbackground\": true, \"ticks\": \"\", \"zerolinecolor\": \"white\"}, \"yaxis\": {\"backgroundcolor\": \"#E5ECF6\", \"gridcolor\": \"white\", \"gridwidth\": 2, \"linecolor\": \"white\", \"showbackground\": true, \"ticks\": \"\", \"zerolinecolor\": \"white\"}, \"zaxis\": {\"backgroundcolor\": \"#E5ECF6\", \"gridcolor\": \"white\", \"gridwidth\": 2, \"linecolor\": \"white\", \"showbackground\": true, \"ticks\": \"\", \"zerolinecolor\": \"white\"}}, \"shapedefaults\": {\"line\": {\"color\": \"#2a3f5f\"}}, \"ternary\": {\"aaxis\": {\"gridcolor\": \"white\", \"linecolor\": \"white\", \"ticks\": \"\"}, \"baxis\": {\"gridcolor\": \"white\", \"linecolor\": \"white\", \"ticks\": \"\"}, \"bgcolor\": \"#E5ECF6\", \"caxis\": {\"gridcolor\": \"white\", \"linecolor\": \"white\", \"ticks\": \"\"}}, \"title\": {\"x\": 0.05}, \"xaxis\": {\"automargin\": true, \"gridcolor\": \"white\", \"linecolor\": \"white\", \"ticks\": \"\", \"zerolinecolor\": \"white\", \"zerolinewidth\": 2}, \"yaxis\": {\"automargin\": true, \"gridcolor\": \"white\", \"linecolor\": \"white\", \"ticks\": \"\", \"zerolinecolor\": \"white\", \"zerolinewidth\": 2}}}},\n",
              "                        {\"responsive\": true}\n",
              "                    ).then(function(){\n",
              "                            \n",
              "var gd = document.getElementById('392c1f2a-eb04-4146-b216-febebd3cc299');\n",
              "var x = new MutationObserver(function (mutations, observer) {{\n",
              "        var display = window.getComputedStyle(gd).display;\n",
              "        if (!display || display === 'none') {{\n",
              "            console.log([gd, 'removed!']);\n",
              "            Plotly.purge(gd);\n",
              "            observer.disconnect();\n",
              "        }}\n",
              "}});\n",
              "\n",
              "// Listen for the removal of the full notebook cells\n",
              "var notebookContainer = gd.closest('#notebook-container');\n",
              "if (notebookContainer) {{\n",
              "    x.observe(notebookContainer, {childList: true});\n",
              "}}\n",
              "\n",
              "// Listen for the clearing of the current output cell\n",
              "var outputEl = gd.closest('.output');\n",
              "if (outputEl) {{\n",
              "    x.observe(outputEl, {childList: true});\n",
              "}}\n",
              "\n",
              "                        })\n",
              "                };\n",
              "                });\n",
              "            </script>\n",
              "        </div>"
            ]
          },
          "metadata": {},
          "output_type": "display_data"
        }
      ]
    },
    {
      "cell_type": "code",
      "metadata": {
        "colab": {
          "base_uri": "https://localhost:8080/",
          "height": 513
        },
        "id": "jBENeOoNgAuT",
        "outputId": "1d3fe5cc-8f5a-47a7-c02a-defa0c84c856"
      },
      "source": [
        "plt.figure(figsize=(15,8))\n",
        "plt.title('Распределение сетевых заведений для каждого вида объекта общественного питания')\n",
        "ax = sns.barplot(x='distribution_amount', y='object_type', data=chain_distribution_sorted, palette=\"mako\")\n",
        "ax.set(xlabel='Число сетевых объектов общепита', ylabel='Виды объектов общепита')\n",
        "plt.show()"
      ],
      "execution_count": null,
      "outputs": [
        {
          "data": {
            "image/png": "[encoded data removed]",
            "text/plain": [
              "<Figure size 1080x576 with 1 Axes>"
            ]
          },
          "metadata": {
            "needs_background": "light"
          },
          "output_type": "display_data"
        }
      ]
    },
    {
      "cell_type": "markdown",
      "metadata": {
        "id": "mK4Fy6pTWm0j"
      },
      "source": [
        "Кафе снова лидирует с большим отрывом. Но так как у нас кафе в целом представлено больше, то считаем логичным посчитать долю видов объектов общепита в сетевом распространении."
      ]
    },
    {
      "cell_type": "code",
      "metadata": {
        "colab": {
          "base_uri": "https://localhost:8080/",
          "height": 328
        },
        "id": "LZWIHmXRVqK6",
        "outputId": "f1ff1756-b765-4a30-a158-a8642aa0f764"
      },
      "source": [
        "chain_objects_amount = objects_count.merge(chain_distribution, on='object_type', how='left')\n",
        "chain_objects_amount['chains_part'] = (chain_objects_amount['distribution_amount'] / chain_objects_amount['amount']).round(2)\n",
        "chain_objects_amount = chain_objects_amount.sort_values(by='chains_part', ascending=False)\n",
        "chain_objects_amount\n",
        "\n",
        "fig = go.Figure(data=[go.Table(\n",
        "    header=dict(values=list(chain_objects_amount.columns),\n",
        "                fill_color='paleturquoise',\n",
        "                align='left'),\n",
        "    cells=dict(values=[chain_objects_amount.object_type,\\\n",
        "chain_objects_amount.amount, chain_objects_amount.distribution_amount,\\\n",
        "                       chain_objects_amount.chains_part],\n",
        "               fill_color='lavender',\n",
        "               align='left'))\n",
        "])\n",
        "\n",
        "fig.show()"
      ],
      "execution_count": null,
      "outputs": [
        {
          "data": {
            "application/vnd.plotly.v1+json": {
              "config": {
                "plotlyServerURL": "https://plot.ly"
              },
              "data": [
                {
                  "cells": {
                    "align": "left",
                    "fill": {
                      "color": "lavender"
                    },
                    "values": [
                      [
                        "предприятие быстрого обслуживания",
                        "магазин (отдел кулинарии)",
                        "ресторан",
                        "кафе",
                        "закусочная",
                        "кафетерий",
                        "бар",
                        "буфет",
                        "столовая"
                      ],
                      [
                        1923,
                        273,
                        2285,
                        6099,
                        360,
                        398,
                        856,
                        585,
                        2587
                      ],
                      [
                        791,
                        78,
                        544,
                        1396,
                        56,
                        52,
                        37,
                        11,
                        3
                      ],
                      [
                        0.41,
                        0.29,
                        0.24,
                        0.23,
                        0.16,
                        0.13,
                        0.04,
                        0.02,
                        0
                      ]
                    ]
                  },
                  "header": {
                    "align": "left",
                    "fill": {
                      "color": "paleturquoise"
                    },
                    "values": [
                      "object_type",
                      "amount",
                      "distribution_amount",
                      "chains_part"
                    ]
                  },
                  "type": "table"
                }
              ],
              "layout": {
                "template": {
                  "data": {
                    "bar": [
                      {
                        "error_x": {
                          "color": "#2a3f5f"
                        },
                        "error_y": {
                          "color": "#2a3f5f"
                        },
                        "marker": {
                          "line": {
                            "color": "#E5ECF6",
                            "width": 0.5
                          }
                        },
                        "type": "bar"
                      }
                    ],
                    "barpolar": [
                      {
                        "marker": {
                          "line": {
                            "color": "#E5ECF6",
                            "width": 0.5
                          }
                        },
                        "type": "barpolar"
                      }
                    ],
                    "carpet": [
                      {
                        "aaxis": {
                          "endlinecolor": "#2a3f5f",
                          "gridcolor": "white",
                          "linecolor": "white",
                          "minorgridcolor": "white",
                          "startlinecolor": "#2a3f5f"
                        },
                        "baxis": {
                          "endlinecolor": "#2a3f5f",
                          "gridcolor": "white",
                          "linecolor": "white",
                          "minorgridcolor": "white",
                          "startlinecolor": "#2a3f5f"
                        },
                        "type": "carpet"
                      }
                    ],
                    "choropleth": [
                      {
                        "colorbar": {
                          "outlinewidth": 0,
                          "ticks": ""
                        },
                        "type": "choropleth"
                      }
                    ],
                    "contour": [
                      {
                        "colorbar": {
                          "outlinewidth": 0,
                          "ticks": ""
                        },
                        "colorscale": [
                          [
                            0,
                            "#0d0887"
                          ],
                          [
                            0.1111111111,
                            "#46039f"
                          ],
                          [
                            0.2222222222,
                            "#7201a8"
                          ],
                          [
                            0.3333333333,
                            "#9c179e"
                          ],
                          [
                            0.4444444444,
                            "#bd3786"
                          ],
                          [
                            0.5555555556,
                            "#d8576b"
                          ],
                          [
                            0.6666666667,
                            "#ed7953"
                          ],
                          [
                            0.7777777778,
                            "#fb9f3a"
                          ],
                          [
                            0.8888888889,
                            "#fdca26"
                          ],
                          [
                            1,
                            "#f0f921"
                          ]
                        ],
                        "type": "contour"
                      }
                    ],
                    "contourcarpet": [
                      {
                        "colorbar": {
                          "outlinewidth": 0,
                          "ticks": ""
                        },
                        "type": "contourcarpet"
                      }
                    ],
                    "heatmap": [
                      {
                        "colorbar": {
                          "outlinewidth": 0,
                          "ticks": ""
                        },
                        "colorscale": [
                          [
                            0,
                            "#0d0887"
                          ],
                          [
                            0.1111111111,
                            "#46039f"
                          ],
                          [
                            0.2222222222,
                            "#7201a8"
                          ],
                          [
                            0.3333333333,
                            "#9c179e"
                          ],
                          [
                            0.4444444444,
                            "#bd3786"
                          ],
                          [
                            0.5555555556,
                            "#d8576b"
                          ],
                          [
                            0.6666666667,
                            "#ed7953"
                          ],
                          [
                            0.7777777778,
                            "#fb9f3a"
                          ],
                          [
                            0.8888888889,
                            "#fdca26"
                          ],
                          [
                            1,
                            "#f0f921"
                          ]
                        ],
                        "type": "heatmap"
                      }
                    ],
                    "heatmapgl": [
                      {
                        "colorbar": {
                          "outlinewidth": 0,
                          "ticks": ""
                        },
                        "colorscale": [
                          [
                            0,
                            "#0d0887"
                          ],
                          [
                            0.1111111111,
                            "#46039f"
                          ],
                          [
                            0.2222222222,
                            "#7201a8"
                          ],
                          [
                            0.3333333333,
                            "#9c179e"
                          ],
                          [
                            0.4444444444,
                            "#bd3786"
                          ],
                          [
                            0.5555555556,
                            "#d8576b"
                          ],
                          [
                            0.6666666667,
                            "#ed7953"
                          ],
                          [
                            0.7777777778,
                            "#fb9f3a"
                          ],
                          [
                            0.8888888889,
                            "#fdca26"
                          ],
                          [
                            1,
                            "#f0f921"
                          ]
                        ],
                        "type": "heatmapgl"
                      }
                    ],
                    "histogram": [
                      {
                        "marker": {
                          "colorbar": {
                            "outlinewidth": 0,
                            "ticks": ""
                          }
                        },
                        "type": "histogram"
                      }
                    ],
                    "histogram2d": [
                      {
                        "colorbar": {
                          "outlinewidth": 0,
                          "ticks": ""
                        },
                        "colorscale": [
                          [
                            0,
                            "#0d0887"
                          ],
                          [
                            0.1111111111,
                            "#46039f"
                          ],
                          [
                            0.2222222222,
                            "#7201a8"
                          ],
                          [
                            0.3333333333,
                            "#9c179e"
                          ],
                          [
                            0.4444444444,
                            "#bd3786"
                          ],
                          [
                            0.5555555556,
                            "#d8576b"
                          ],
                          [
                            0.6666666667,
                            "#ed7953"
                          ],
                          [
                            0.7777777778,
                            "#fb9f3a"
                          ],
                          [
                            0.8888888889,
                            "#fdca26"
                          ],
                          [
                            1,
                            "#f0f921"
                          ]
                        ],
                        "type": "histogram2d"
                      }
                    ],
                    "histogram2dcontour": [
                      {
                        "colorbar": {
                          "outlinewidth": 0,
                          "ticks": ""
                        },
                        "colorscale": [
                          [
                            0,
                            "#0d0887"
                          ],
                          [
                            0.1111111111,
                            "#46039f"
                          ],
                          [
                            0.2222222222,
                            "#7201a8"
                          ],
                          [
                            0.3333333333,
                            "#9c179e"
                          ],
                          [
                            0.4444444444,
                            "#bd3786"
                          ],
                          [
                            0.5555555556,
                            "#d8576b"
                          ],
                          [
                            0.6666666667,
                            "#ed7953"
                          ],
                          [
                            0.7777777778,
                            "#fb9f3a"
                          ],
                          [
                            0.8888888889,
                            "#fdca26"
                          ],
                          [
                            1,
                            "#f0f921"
                          ]
                        ],
                        "type": "histogram2dcontour"
                      }
                    ],
                    "mesh3d": [
                      {
                        "colorbar": {
                          "outlinewidth": 0,
                          "ticks": ""
                        },
                        "type": "mesh3d"
                      }
                    ],
                    "parcoords": [
                      {
                        "line": {
                          "colorbar": {
                            "outlinewidth": 0,
                            "ticks": ""
                          }
                        },
                        "type": "parcoords"
                      }
                    ],
                    "scatter": [
                      {
                        "marker": {
                          "colorbar": {
                            "outlinewidth": 0,
                            "ticks": ""
                          }
                        },
                        "type": "scatter"
                      }
                    ],
                    "scatter3d": [
                      {
                        "line": {
                          "colorbar": {
                            "outlinewidth": 0,
                            "ticks": ""
                          }
                        },
                        "marker": {
                          "colorbar": {
                            "outlinewidth": 0,
                            "ticks": ""
                          }
                        },
                        "type": "scatter3d"
                      }
                    ],
                    "scattercarpet": [
                      {
                        "marker": {
                          "colorbar": {
                            "outlinewidth": 0,
                            "ticks": ""
                          }
                        },
                        "type": "scattercarpet"
                      }
                    ],
                    "scattergeo": [
                      {
                        "marker": {
                          "colorbar": {
                            "outlinewidth": 0,
                            "ticks": ""
                          }
                        },
                        "type": "scattergeo"
                      }
                    ],
                    "scattergl": [
                      {
                        "marker": {
                          "colorbar": {
                            "outlinewidth": 0,
                            "ticks": ""
                          }
                        },
                        "type": "scattergl"
                      }
                    ],
                    "scattermapbox": [
                      {
                        "marker": {
                          "colorbar": {
                            "outlinewidth": 0,
                            "ticks": ""
                          }
                        },
                        "type": "scattermapbox"
                      }
                    ],
                    "scatterpolar": [
                      {
                        "marker": {
                          "colorbar": {
                            "outlinewidth": 0,
                            "ticks": ""
                          }
                        },
                        "type": "scatterpolar"
                      }
                    ],
                    "scatterpolargl": [
                      {
                        "marker": {
                          "colorbar": {
                            "outlinewidth": 0,
                            "ticks": ""
                          }
                        },
                        "type": "scatterpolargl"
                      }
                    ],
                    "scatterternary": [
                      {
                        "marker": {
                          "colorbar": {
                            "outlinewidth": 0,
                            "ticks": ""
                          }
                        },
                        "type": "scatterternary"
                      }
                    ],
                    "surface": [
                      {
                        "colorbar": {
                          "outlinewidth": 0,
                          "ticks": ""
                        },
                        "colorscale": [
                          [
                            0,
                            "#0d0887"
                          ],
                          [
                            0.1111111111,
                            "#46039f"
                          ],
                          [
                            0.2222222222,
                            "#7201a8"
                          ],
                          [
                            0.3333333333,
                            "#9c179e"
                          ],
                          [
                            0.4444444444,
                            "#bd3786"
                          ],
                          [
                            0.5555555556,
                            "#d8576b"
                          ],
                          [
                            0.6666666667,
                            "#ed7953"
                          ],
                          [
                            0.7777777778,
                            "#fb9f3a"
                          ],
                          [
                            0.8888888889,
                            "#fdca26"
                          ],
                          [
                            1,
                            "#f0f921"
                          ]
                        ],
                        "type": "surface"
                      }
                    ],
                    "table": [
                      {
                        "cells": {
                          "fill": {
                            "color": "#EBF0F8"
                          },
                          "line": {
                            "color": "white"
                          }
                        },
                        "header": {
                          "fill": {
                            "color": "#C8D4E3"
                          },
                          "line": {
                            "color": "white"
                          }
                        },
                        "type": "table"
                      }
                    ]
                  },
                  "layout": {
                    "annotationdefaults": {
                      "arrowcolor": "#2a3f5f",
                      "arrowhead": 0,
                      "arrowwidth": 1
                    },
                    "colorscale": {
                      "diverging": [
                        [
                          0,
                          "#8e0152"
                        ],
                        [
                          0.1,
                          "#c51b7d"
                        ],
                        [
                          0.2,
                          "#de77ae"
                        ],
                        [
                          0.3,
                          "#f1b6da"
                        ],
                        [
                          0.4,
                          "#fde0ef"
                        ],
                        [
                          0.5,
                          "#f7f7f7"
                        ],
                        [
                          0.6,
                          "#e6f5d0"
                        ],
                        [
                          0.7,
                          "#b8e186"
                        ],
                        [
                          0.8,
                          "#7fbc41"
                        ],
                        [
                          0.9,
                          "#4d9221"
                        ],
                        [
                          1,
                          "#276419"
                        ]
                      ],
                      "sequential": [
                        [
                          0,
                          "#0d0887"
                        ],
                        [
                          0.1111111111,
                          "#46039f"
                        ],
                        [
                          0.2222222222,
                          "#7201a8"
                        ],
                        [
                          0.3333333333,
                          "#9c179e"
                        ],
                        [
                          0.4444444444,
                          "#bd3786"
                        ],
                        [
                          0.5555555556,
                          "#d8576b"
                        ],
                        [
                          0.6666666667,
                          "#ed7953"
                        ],
                        [
                          0.7777777778,
                          "#fb9f3a"
                        ],
                        [
                          0.8888888889,
                          "#fdca26"
                        ],
                        [
                          1,
                          "#f0f921"
                        ]
                      ],
                      "sequentialminus": [
                        [
                          0,
                          "#0d0887"
                        ],
                        [
                          0.1111111111,
                          "#46039f"
                        ],
                        [
                          0.2222222222,
                          "#7201a8"
                        ],
                        [
                          0.3333333333,
                          "#9c179e"
                        ],
                        [
                          0.4444444444,
                          "#bd3786"
                        ],
                        [
                          0.5555555556,
                          "#d8576b"
                        ],
                        [
                          0.6666666667,
                          "#ed7953"
                        ],
                        [
                          0.7777777778,
                          "#fb9f3a"
                        ],
                        [
                          0.8888888889,
                          "#fdca26"
                        ],
                        [
                          1,
                          "#f0f921"
                        ]
                      ]
                    },
                    "colorway": [
                      "#636efa",
                      "#EF553B",
                      "#00cc96",
                      "#ab63fa",
                      "#FFA15A",
                      "#19d3f3",
                      "#FF6692",
                      "#B6E880",
                      "#FF97FF",
                      "#FECB52"
                    ],
                    "font": {
                      "color": "#2a3f5f"
                    },
                    "geo": {
                      "bgcolor": "white",
                      "lakecolor": "white",
                      "landcolor": "#E5ECF6",
                      "showlakes": true,
                      "showland": true,
                      "subunitcolor": "white"
                    },
                    "hoverlabel": {
                      "align": "left"
                    },
                    "hovermode": "closest",
                    "mapbox": {
                      "style": "light"
                    },
                    "paper_bgcolor": "white",
                    "plot_bgcolor": "#E5ECF6",
                    "polar": {
                      "angularaxis": {
                        "gridcolor": "white",
                        "linecolor": "white",
                        "ticks": ""
                      },
                      "bgcolor": "#E5ECF6",
                      "radialaxis": {
                        "gridcolor": "white",
                        "linecolor": "white",
                        "ticks": ""
                      }
                    },
                    "scene": {
                      "xaxis": {
                        "backgroundcolor": "#E5ECF6",
                        "gridcolor": "white",
                        "gridwidth": 2,
                        "linecolor": "white",
                        "showbackground": true,
                        "ticks": "",
                        "zerolinecolor": "white"
                      },
                      "yaxis": {
                        "backgroundcolor": "#E5ECF6",
                        "gridcolor": "white",
                        "gridwidth": 2,
                        "linecolor": "white",
                        "showbackground": true,
                        "ticks": "",
                        "zerolinecolor": "white"
                      },
                      "zaxis": {
                        "backgroundcolor": "#E5ECF6",
                        "gridcolor": "white",
                        "gridwidth": 2,
                        "linecolor": "white",
                        "showbackground": true,
                        "ticks": "",
                        "zerolinecolor": "white"
                      }
                    },
                    "shapedefaults": {
                      "line": {
                        "color": "#2a3f5f"
                      }
                    },
                    "ternary": {
                      "aaxis": {
                        "gridcolor": "white",
                        "linecolor": "white",
                        "ticks": ""
                      },
                      "baxis": {
                        "gridcolor": "white",
                        "linecolor": "white",
                        "ticks": ""
                      },
                      "bgcolor": "#E5ECF6",
                      "caxis": {
                        "gridcolor": "white",
                        "linecolor": "white",
                        "ticks": ""
                      }
                    },
                    "title": {
                      "x": 0.05
                    },
                    "xaxis": {
                      "automargin": true,
                      "gridcolor": "white",
                      "linecolor": "white",
                      "ticks": "",
                      "zerolinecolor": "white",
                      "zerolinewidth": 2
                    },
                    "yaxis": {
                      "automargin": true,
                      "gridcolor": "white",
                      "linecolor": "white",
                      "ticks": "",
                      "zerolinecolor": "white",
                      "zerolinewidth": 2
                    }
                  }
                }
              }
            },
            "text/html": [
              "<div>\n",
              "        \n",
              "        \n",
              "            <div id=\"6efdf959-018b-4540-be1c-38edece58b94\" class=\"plotly-graph-div\" style=\"height:525px; width:100%;\"></div>\n",
              "            <script type=\"text/javascript\">\n",
              "                require([\"plotly\"], function(Plotly) {\n",
              "                    window.PLOTLYENV=window.PLOTLYENV || {};\n",
              "                    \n",
              "                if (document.getElementById(\"6efdf959-018b-4540-be1c-38edece58b94\")) {\n",
              "                    Plotly.newPlot(\n",
              "                        '6efdf959-018b-4540-be1c-38edece58b94',\n",
              "                        [{\"cells\": {\"align\": \"left\", \"fill\": {\"color\": \"lavender\"}, \"values\": [[\"\\u043f\\u0440\\u0435\\u0434\\u043f\\u0440\\u0438\\u044f\\u0442\\u0438\\u0435 \\u0431\\u044b\\u0441\\u0442\\u0440\\u043e\\u0433\\u043e \\u043e\\u0431\\u0441\\u043b\\u0443\\u0436\\u0438\\u0432\\u0430\\u043d\\u0438\\u044f\", \"\\u043c\\u0430\\u0433\\u0430\\u0437\\u0438\\u043d (\\u043e\\u0442\\u0434\\u0435\\u043b \\u043a\\u0443\\u043b\\u0438\\u043d\\u0430\\u0440\\u0438\\u0438)\", \"\\u0440\\u0435\\u0441\\u0442\\u043e\\u0440\\u0430\\u043d\", \"\\u043a\\u0430\\u0444\\u0435\", \"\\u0437\\u0430\\u043a\\u0443\\u0441\\u043e\\u0447\\u043d\\u0430\\u044f\", \"\\u043a\\u0430\\u0444\\u0435\\u0442\\u0435\\u0440\\u0438\\u0439\", \"\\u0431\\u0430\\u0440\", \"\\u0431\\u0443\\u0444\\u0435\\u0442\", \"\\u0441\\u0442\\u043e\\u043b\\u043e\\u0432\\u0430\\u044f\"], [1923, 273, 2285, 6099, 360, 398, 856, 585, 2587], [791, 78, 544, 1396, 56, 52, 37, 11, 3], [0.41, 0.29, 0.24, 0.23, 0.16, 0.13, 0.04, 0.02, 0.0]]}, \"header\": {\"align\": \"left\", \"fill\": {\"color\": \"paleturquoise\"}, \"values\": [\"object_type\", \"amount\", \"distribution_amount\", \"chains_part\"]}, \"type\": \"table\"}],\n",
              "                        {\"template\": {\"data\": {\"bar\": [{\"error_x\": {\"color\": \"#2a3f5f\"}, \"error_y\": {\"color\": \"#2a3f5f\"}, \"marker\": {\"line\": {\"color\": \"#E5ECF6\", \"width\": 0.5}}, \"type\": \"bar\"}], \"barpolar\": [{\"marker\": {\"line\": {\"color\": \"#E5ECF6\", \"width\": 0.5}}, \"type\": \"barpolar\"}], \"carpet\": [{\"aaxis\": {\"endlinecolor\": \"#2a3f5f\", \"gridcolor\": \"white\", \"linecolor\": \"white\", \"minorgridcolor\": \"white\", \"startlinecolor\": \"#2a3f5f\"}, \"baxis\": {\"endlinecolor\": \"#2a3f5f\", \"gridcolor\": \"white\", \"linecolor\": \"white\", \"minorgridcolor\": \"white\", \"startlinecolor\": \"#2a3f5f\"}, \"type\": \"carpet\"}], \"choropleth\": [{\"colorbar\": {\"outlinewidth\": 0, \"ticks\": \"\"}, \"type\": \"choropleth\"}], \"contour\": [{\"colorbar\": {\"outlinewidth\": 0, \"ticks\": \"\"}, \"colorscale\": [[0.0, \"#0d0887\"], [0.1111111111111111, \"#46039f\"], [0.2222222222222222, \"#7201a8\"], [0.3333333333333333, \"#9c179e\"], [0.4444444444444444, \"#bd3786\"], [0.5555555555555556, \"#d8576b\"], [0.6666666666666666, \"#ed7953\"], [0.7777777777777778, \"#fb9f3a\"], [0.8888888888888888, \"#fdca26\"], [1.0, \"#f0f921\"]], \"type\": \"contour\"}], \"contourcarpet\": [{\"colorbar\": {\"outlinewidth\": 0, \"ticks\": \"\"}, \"type\": \"contourcarpet\"}], \"heatmap\": [{\"colorbar\": {\"outlinewidth\": 0, \"ticks\": \"\"}, \"colorscale\": [[0.0, \"#0d0887\"], [0.1111111111111111, \"#46039f\"], [0.2222222222222222, \"#7201a8\"], [0.3333333333333333, \"#9c179e\"], [0.4444444444444444, \"#bd3786\"], [0.5555555555555556, \"#d8576b\"], [0.6666666666666666, \"#ed7953\"], [0.7777777777777778, \"#fb9f3a\"], [0.8888888888888888, \"#fdca26\"], [1.0, \"#f0f921\"]], \"type\": \"heatmap\"}], \"heatmapgl\": [{\"colorbar\": {\"outlinewidth\": 0, \"ticks\": \"\"}, \"colorscale\": [[0.0, \"#0d0887\"], [0.1111111111111111, \"#46039f\"], [0.2222222222222222, \"#7201a8\"], [0.3333333333333333, \"#9c179e\"], [0.4444444444444444, \"#bd3786\"], [0.5555555555555556, \"#d8576b\"], [0.6666666666666666, \"#ed7953\"], [0.7777777777777778, \"#fb9f3a\"], [0.8888888888888888, \"#fdca26\"], [1.0, \"#f0f921\"]], \"type\": \"heatmapgl\"}], \"histogram\": [{\"marker\": {\"colorbar\": {\"outlinewidth\": 0, \"ticks\": \"\"}}, \"type\": \"histogram\"}], \"histogram2d\": [{\"colorbar\": {\"outlinewidth\": 0, \"ticks\": \"\"}, \"colorscale\": [[0.0, \"#0d0887\"], [0.1111111111111111, \"#46039f\"], [0.2222222222222222, \"#7201a8\"], [0.3333333333333333, \"#9c179e\"], [0.4444444444444444, \"#bd3786\"], [0.5555555555555556, \"#d8576b\"], [0.6666666666666666, \"#ed7953\"], [0.7777777777777778, \"#fb9f3a\"], [0.8888888888888888, \"#fdca26\"], [1.0, \"#f0f921\"]], \"type\": \"histogram2d\"}], \"histogram2dcontour\": [{\"colorbar\": {\"outlinewidth\": 0, \"ticks\": \"\"}, \"colorscale\": [[0.0, \"#0d0887\"], [0.1111111111111111, \"#46039f\"], [0.2222222222222222, \"#7201a8\"], [0.3333333333333333, \"#9c179e\"], [0.4444444444444444, \"#bd3786\"], [0.5555555555555556, \"#d8576b\"], [0.6666666666666666, \"#ed7953\"], [0.7777777777777778, \"#fb9f3a\"], [0.8888888888888888, \"#fdca26\"], [1.0, \"#f0f921\"]], \"type\": \"histogram2dcontour\"}], \"mesh3d\": [{\"colorbar\": {\"outlinewidth\": 0, \"ticks\": \"\"}, \"type\": \"mesh3d\"}], \"parcoords\": [{\"line\": {\"colorbar\": {\"outlinewidth\": 0, \"ticks\": \"\"}}, \"type\": \"parcoords\"}], \"scatter\": [{\"marker\": {\"colorbar\": {\"outlinewidth\": 0, \"ticks\": \"\"}}, \"type\": \"scatter\"}], \"scatter3d\": [{\"line\": {\"colorbar\": {\"outlinewidth\": 0, \"ticks\": \"\"}}, \"marker\": {\"colorbar\": {\"outlinewidth\": 0, \"ticks\": \"\"}}, \"type\": \"scatter3d\"}], \"scattercarpet\": [{\"marker\": {\"colorbar\": {\"outlinewidth\": 0, \"ticks\": \"\"}}, \"type\": \"scattercarpet\"}], \"scattergeo\": [{\"marker\": {\"colorbar\": {\"outlinewidth\": 0, \"ticks\": \"\"}}, \"type\": \"scattergeo\"}], \"scattergl\": [{\"marker\": {\"colorbar\": {\"outlinewidth\": 0, \"ticks\": \"\"}}, \"type\": \"scattergl\"}], \"scattermapbox\": [{\"marker\": {\"colorbar\": {\"outlinewidth\": 0, \"ticks\": \"\"}}, \"type\": \"scattermapbox\"}], \"scatterpolar\": [{\"marker\": {\"colorbar\": {\"outlinewidth\": 0, \"ticks\": \"\"}}, \"type\": \"scatterpolar\"}], \"scatterpolargl\": [{\"marker\": {\"colorbar\": {\"outlinewidth\": 0, \"ticks\": \"\"}}, \"type\": \"scatterpolargl\"}], \"scatterternary\": [{\"marker\": {\"colorbar\": {\"outlinewidth\": 0, \"ticks\": \"\"}}, \"type\": \"scatterternary\"}], \"surface\": [{\"colorbar\": {\"outlinewidth\": 0, \"ticks\": \"\"}, \"colorscale\": [[0.0, \"#0d0887\"], [0.1111111111111111, \"#46039f\"], [0.2222222222222222, \"#7201a8\"], [0.3333333333333333, \"#9c179e\"], [0.4444444444444444, \"#bd3786\"], [0.5555555555555556, \"#d8576b\"], [0.6666666666666666, \"#ed7953\"], [0.7777777777777778, \"#fb9f3a\"], [0.8888888888888888, \"#fdca26\"], [1.0, \"#f0f921\"]], \"type\": \"surface\"}], \"table\": [{\"cells\": {\"fill\": {\"color\": \"#EBF0F8\"}, \"line\": {\"color\": \"white\"}}, \"header\": {\"fill\": {\"color\": \"#C8D4E3\"}, \"line\": {\"color\": \"white\"}}, \"type\": \"table\"}]}, \"layout\": {\"annotationdefaults\": {\"arrowcolor\": \"#2a3f5f\", \"arrowhead\": 0, \"arrowwidth\": 1}, \"colorscale\": {\"diverging\": [[0, \"#8e0152\"], [0.1, \"#c51b7d\"], [0.2, \"#de77ae\"], [0.3, \"#f1b6da\"], [0.4, \"#fde0ef\"], [0.5, \"#f7f7f7\"], [0.6, \"#e6f5d0\"], [0.7, \"#b8e186\"], [0.8, \"#7fbc41\"], [0.9, \"#4d9221\"], [1, \"#276419\"]], \"sequential\": [[0.0, \"#0d0887\"], [0.1111111111111111, \"#46039f\"], [0.2222222222222222, \"#7201a8\"], [0.3333333333333333, \"#9c179e\"], [0.4444444444444444, \"#bd3786\"], [0.5555555555555556, \"#d8576b\"], [0.6666666666666666, \"#ed7953\"], [0.7777777777777778, \"#fb9f3a\"], [0.8888888888888888, \"#fdca26\"], [1.0, \"#f0f921\"]], \"sequentialminus\": [[0.0, \"#0d0887\"], [0.1111111111111111, \"#46039f\"], [0.2222222222222222, \"#7201a8\"], [0.3333333333333333, \"#9c179e\"], [0.4444444444444444, \"#bd3786\"], [0.5555555555555556, \"#d8576b\"], [0.6666666666666666, \"#ed7953\"], [0.7777777777777778, \"#fb9f3a\"], [0.8888888888888888, \"#fdca26\"], [1.0, \"#f0f921\"]]}, \"colorway\": [\"#636efa\", \"#EF553B\", \"#00cc96\", \"#ab63fa\", \"#FFA15A\", \"#19d3f3\", \"#FF6692\", \"#B6E880\", \"#FF97FF\", \"#FECB52\"], \"font\": {\"color\": \"#2a3f5f\"}, \"geo\": {\"bgcolor\": \"white\", \"lakecolor\": \"white\", \"landcolor\": \"#E5ECF6\", \"showlakes\": true, \"showland\": true, \"subunitcolor\": \"white\"}, \"hoverlabel\": {\"align\": \"left\"}, \"hovermode\": \"closest\", \"mapbox\": {\"style\": \"light\"}, \"paper_bgcolor\": \"white\", \"plot_bgcolor\": \"#E5ECF6\", \"polar\": {\"angularaxis\": {\"gridcolor\": \"white\", \"linecolor\": \"white\", \"ticks\": \"\"}, \"bgcolor\": \"#E5ECF6\", \"radialaxis\": {\"gridcolor\": \"white\", \"linecolor\": \"white\", \"ticks\": \"\"}}, \"scene\": {\"xaxis\": {\"backgroundcolor\": \"#E5ECF6\", \"gridcolor\": \"white\", \"gridwidth\": 2, \"linecolor\": \"white\", \"showbackground\": true, \"ticks\": \"\", \"zerolinecolor\": \"white\"}, \"yaxis\": {\"backgroundcolor\": \"#E5ECF6\", \"gridcolor\": \"white\", \"gridwidth\": 2, \"linecolor\": \"white\", \"showbackground\": true, \"ticks\": \"\", \"zerolinecolor\": \"white\"}, \"zaxis\": {\"backgroundcolor\": \"#E5ECF6\", \"gridcolor\": \"white\", \"gridwidth\": 2, \"linecolor\": \"white\", \"showbackground\": true, \"ticks\": \"\", \"zerolinecolor\": \"white\"}}, \"shapedefaults\": {\"line\": {\"color\": \"#2a3f5f\"}}, \"ternary\": {\"aaxis\": {\"gridcolor\": \"white\", \"linecolor\": \"white\", \"ticks\": \"\"}, \"baxis\": {\"gridcolor\": \"white\", \"linecolor\": \"white\", \"ticks\": \"\"}, \"bgcolor\": \"#E5ECF6\", \"caxis\": {\"gridcolor\": \"white\", \"linecolor\": \"white\", \"ticks\": \"\"}}, \"title\": {\"x\": 0.05}, \"xaxis\": {\"automargin\": true, \"gridcolor\": \"white\", \"linecolor\": \"white\", \"ticks\": \"\", \"zerolinecolor\": \"white\", \"zerolinewidth\": 2}, \"yaxis\": {\"automargin\": true, \"gridcolor\": \"white\", \"linecolor\": \"white\", \"ticks\": \"\", \"zerolinecolor\": \"white\", \"zerolinewidth\": 2}}}},\n",
              "                        {\"responsive\": true}\n",
              "                    ).then(function(){\n",
              "                            \n",
              "var gd = document.getElementById('6efdf959-018b-4540-be1c-38edece58b94');\n",
              "var x = new MutationObserver(function (mutations, observer) {{\n",
              "        var display = window.getComputedStyle(gd).display;\n",
              "        if (!display || display === 'none') {{\n",
              "            console.log([gd, 'removed!']);\n",
              "            Plotly.purge(gd);\n",
              "            observer.disconnect();\n",
              "        }}\n",
              "}});\n",
              "\n",
              "// Listen for the removal of the full notebook cells\n",
              "var notebookContainer = gd.closest('#notebook-container');\n",
              "if (notebookContainer) {{\n",
              "    x.observe(notebookContainer, {childList: true});\n",
              "}}\n",
              "\n",
              "// Listen for the clearing of the current output cell\n",
              "var outputEl = gd.closest('.output');\n",
              "if (outputEl) {{\n",
              "    x.observe(outputEl, {childList: true});\n",
              "}}\n",
              "\n",
              "                        })\n",
              "                };\n",
              "                });\n",
              "            </script>\n",
              "        </div>"
            ]
          },
          "metadata": {},
          "output_type": "display_data"
        }
      ]
    },
    {
      "cell_type": "code",
      "metadata": {
        "colab": {
          "base_uri": "https://localhost:8080/",
          "height": 513
        },
        "id": "syZS9WwAX7kl",
        "outputId": "f400b6b6-8057-406f-c02a-972ea2f9ac66"
      },
      "source": [
        "plt.figure(figsize=(15,8))\n",
        "plt.title('Доля сетевых заведений для каждого вида объекта общественного питания')\n",
        "ax = sns.barplot(x='chains_part', y='object_type', data=chain_objects_amount, palette=\"mako\")\n",
        "ax.set(xlabel='Доля видов объектов общепита', ylabel='Виды объектов общепита')\n",
        "plt.show()"
      ],
      "execution_count": null,
      "outputs": [
        {
          "data": {
            "image/png": "[encoded data removed]",
            "text/plain": [
              "<Figure size 1080x576 with 1 Axes>"
            ]
          },
          "metadata": {
            "needs_background": "light"
          },
          "output_type": "display_data"
        }
      ]
    },
    {
      "cell_type": "markdown",
      "metadata": {
        "id": "3CGsuvuSfTCz"
      },
      "source": [
        "Теперь картина изменилась, и кафе опустились на 4ое место. Из сетевых заведений самыми распространенными являются предприятия быстрого питания, отделы кулинарии и рестораны. Сетевых столовых практически нет."
      ]
    },
    {
      "cell_type": "code",
      "metadata": {
        "colab": {
          "base_uri": "https://localhost:8080/"
        },
        "id": "cdAFRqEPZRJn",
        "outputId": "ef507096-1ca8-4961-db13-76b225455578"
      },
      "source": [
        "chain_query = df.query('chain == \"да\"')\n",
        "chain_query['number'].describe()"
      ],
      "execution_count": null,
      "outputs": [
        {
          "data": {
            "text/plain": [
              "count    2968.000000\n",
              "mean       52.919811\n",
              "std        57.140644\n",
              "min         0.000000\n",
              "25%        15.000000\n",
              "50%        40.000000\n",
              "75%        72.000000\n",
              "max       580.000000\n",
              "Name: number, dtype: float64"
            ]
          },
          "execution_count": 105,
          "metadata": {},
          "output_type": "execute_result"
        }
      ]
    },
    {
      "cell_type": "markdown",
      "metadata": {
        "id": "3ZjSH2uqlvw_"
      },
      "source": [
        "В среднем в сетевых заведениях 52 посадочных места, 40 по медиане. Такая разница говорит о наличии аномалий, и, скорее всего, 580 мест - это она и есть. Посмотрим, сколько посадочных мест в среднем находится в каждом типе объектов общественного питания."
      ]
    },
    {
      "cell_type": "code",
      "metadata": {
        "colab": {
          "base_uri": "https://localhost:8080/",
          "height": 328
        },
        "id": "j6sLW1Lfj3JJ",
        "outputId": "903bc720-3bc6-4f49-88d4-5642e4c6f2aa"
      },
      "source": [
        "seats = (chain_query\n",
        "                  .pivot_table(index='object_type', values='number', aggfunc='median')\n",
        "                  .reset_index() \n",
        "                  .sort_values(by='number', ascending = False)\n",
        "                 )\n",
        "#seats\n",
        "\n",
        "fig = go.Figure(data=[go.Table(\n",
        "    header=dict(values=list(seats.columns),\n",
        "                fill_color='paleturquoise',\n",
        "                align='left'),\n",
        "    cells=dict(values=[seats.object_type, seats.number],\n",
        "               fill_color='lavender',\n",
        "               align='left'))\n",
        "])\n",
        "\n",
        "fig.show()"
      ],
      "execution_count": null,
      "outputs": [
        {
          "data": {
            "application/vnd.plotly.v1+json": {
              "config": {
                "plotlyServerURL": "https://plot.ly"
              },
              "data": [
                {
                  "cells": {
                    "align": "left",
                    "fill": {
                      "color": "lavender"
                    },
                    "values": [
                      [
                        "столовая",
                        "ресторан",
                        "бар",
                        "кафе",
                        "предприятие быстрого обслуживания",
                        "закусочная",
                        "кафетерий",
                        "магазин (отдел кулинарии)",
                        "буфет"
                      ],
                      [
                        120,
                        88.5,
                        45,
                        40,
                        25,
                        8,
                        8,
                        3.5,
                        0
                      ]
                    ]
                  },
                  "header": {
                    "align": "left",
                    "fill": {
                      "color": "paleturquoise"
                    },
                    "values": [
                      "object_type",
                      "number"
                    ]
                  },
                  "type": "table"
                }
              ],
              "layout": {
                "template": {
                  "data": {
                    "bar": [
                      {
                        "error_x": {
                          "color": "#2a3f5f"
                        },
                        "error_y": {
                          "color": "#2a3f5f"
                        },
                        "marker": {
                          "line": {
                            "color": "#E5ECF6",
                            "width": 0.5
                          }
                        },
                        "type": "bar"
                      }
                    ],
                    "barpolar": [
                      {
                        "marker": {
                          "line": {
                            "color": "#E5ECF6",
                            "width": 0.5
                          }
                        },
                        "type": "barpolar"
                      }
                    ],
                    "carpet": [
                      {
                        "aaxis": {
                          "endlinecolor": "#2a3f5f",
                          "gridcolor": "white",
                          "linecolor": "white",
                          "minorgridcolor": "white",
                          "startlinecolor": "#2a3f5f"
                        },
                        "baxis": {
                          "endlinecolor": "#2a3f5f",
                          "gridcolor": "white",
                          "linecolor": "white",
                          "minorgridcolor": "white",
                          "startlinecolor": "#2a3f5f"
                        },
                        "type": "carpet"
                      }
                    ],
                    "choropleth": [
                      {
                        "colorbar": {
                          "outlinewidth": 0,
                          "ticks": ""
                        },
                        "type": "choropleth"
                      }
                    ],
                    "contour": [
                      {
                        "colorbar": {
                          "outlinewidth": 0,
                          "ticks": ""
                        },
                        "colorscale": [
                          [
                            0,
                            "#0d0887"
                          ],
                          [
                            0.1111111111,
                            "#46039f"
                          ],
                          [
                            0.2222222222,
                            "#7201a8"
                          ],
                          [
                            0.3333333333,
                            "#9c179e"
                          ],
                          [
                            0.4444444444,
                            "#bd3786"
                          ],
                          [
                            0.5555555556,
                            "#d8576b"
                          ],
                          [
                            0.6666666667,
                            "#ed7953"
                          ],
                          [
                            0.7777777778,
                            "#fb9f3a"
                          ],
                          [
                            0.8888888889,
                            "#fdca26"
                          ],
                          [
                            1,
                            "#f0f921"
                          ]
                        ],
                        "type": "contour"
                      }
                    ],
                    "contourcarpet": [
                      {
                        "colorbar": {
                          "outlinewidth": 0,
                          "ticks": ""
                        },
                        "type": "contourcarpet"
                      }
                    ],
                    "heatmap": [
                      {
                        "colorbar": {
                          "outlinewidth": 0,
                          "ticks": ""
                        },
                        "colorscale": [
                          [
                            0,
                            "#0d0887"
                          ],
                          [
                            0.1111111111,
                            "#46039f"
                          ],
                          [
                            0.2222222222,
                            "#7201a8"
                          ],
                          [
                            0.3333333333,
                            "#9c179e"
                          ],
                          [
                            0.4444444444,
                            "#bd3786"
                          ],
                          [
                            0.5555555556,
                            "#d8576b"
                          ],
                          [
                            0.6666666667,
                            "#ed7953"
                          ],
                          [
                            0.7777777778,
                            "#fb9f3a"
                          ],
                          [
                            0.8888888889,
                            "#fdca26"
                          ],
                          [
                            1,
                            "#f0f921"
                          ]
                        ],
                        "type": "heatmap"
                      }
                    ],
                    "heatmapgl": [
                      {
                        "colorbar": {
                          "outlinewidth": 0,
                          "ticks": ""
                        },
                        "colorscale": [
                          [
                            0,
                            "#0d0887"
                          ],
                          [
                            0.1111111111,
                            "#46039f"
                          ],
                          [
                            0.2222222222,
                            "#7201a8"
                          ],
                          [
                            0.3333333333,
                            "#9c179e"
                          ],
                          [
                            0.4444444444,
                            "#bd3786"
                          ],
                          [
                            0.5555555556,
                            "#d8576b"
                          ],
                          [
                            0.6666666667,
                            "#ed7953"
                          ],
                          [
                            0.7777777778,
                            "#fb9f3a"
                          ],
                          [
                            0.8888888889,
                            "#fdca26"
                          ],
                          [
                            1,
                            "#f0f921"
                          ]
                        ],
                        "type": "heatmapgl"
                      }
                    ],
                    "histogram": [
                      {
                        "marker": {
                          "colorbar": {
                            "outlinewidth": 0,
                            "ticks": ""
                          }
                        },
                        "type": "histogram"
                      }
                    ],
                    "histogram2d": [
                      {
                        "colorbar": {
                          "outlinewidth": 0,
                          "ticks": ""
                        },
                        "colorscale": [
                          [
                            0,
                            "#0d0887"
                          ],
                          [
                            0.1111111111,
                            "#46039f"
                          ],
                          [
                            0.2222222222,
                            "#7201a8"
                          ],
                          [
                            0.3333333333,
                            "#9c179e"
                          ],
                          [
                            0.4444444444,
                            "#bd3786"
                          ],
                          [
                            0.5555555556,
                            "#d8576b"
                          ],
                          [
                            0.6666666667,
                            "#ed7953"
                          ],
                          [
                            0.7777777778,
                            "#fb9f3a"
                          ],
                          [
                            0.8888888889,
                            "#fdca26"
                          ],
                          [
                            1,
                            "#f0f921"
                          ]
                        ],
                        "type": "histogram2d"
                      }
                    ],
                    "histogram2dcontour": [
                      {
                        "colorbar": {
                          "outlinewidth": 0,
                          "ticks": ""
                        },
                        "colorscale": [
                          [
                            0,
                            "#0d0887"
                          ],
                          [
                            0.1111111111,
                            "#46039f"
                          ],
                          [
                            0.2222222222,
                            "#7201a8"
                          ],
                          [
                            0.3333333333,
                            "#9c179e"
                          ],
                          [
                            0.4444444444,
                            "#bd3786"
                          ],
                          [
                            0.5555555556,
                            "#d8576b"
                          ],
                          [
                            0.6666666667,
                            "#ed7953"
                          ],
                          [
                            0.7777777778,
                            "#fb9f3a"
                          ],
                          [
                            0.8888888889,
                            "#fdca26"
                          ],
                          [
                            1,
                            "#f0f921"
                          ]
                        ],
                        "type": "histogram2dcontour"
                      }
                    ],
                    "mesh3d": [
                      {
                        "colorbar": {
                          "outlinewidth": 0,
                          "ticks": ""
                        },
                        "type": "mesh3d"
                      }
                    ],
                    "parcoords": [
                      {
                        "line": {
                          "colorbar": {
                            "outlinewidth": 0,
                            "ticks": ""
                          }
                        },
                        "type": "parcoords"
                      }
                    ],
                    "scatter": [
                      {
                        "marker": {
                          "colorbar": {
                            "outlinewidth": 0,
                            "ticks": ""
                          }
                        },
                        "type": "scatter"
                      }
                    ],
                    "scatter3d": [
                      {
                        "line": {
                          "colorbar": {
                            "outlinewidth": 0,
                            "ticks": ""
                          }
                        },
                        "marker": {
                          "colorbar": {
                            "outlinewidth": 0,
                            "ticks": ""
                          }
                        },
                        "type": "scatter3d"
                      }
                    ],
                    "scattercarpet": [
                      {
                        "marker": {
                          "colorbar": {
                            "outlinewidth": 0,
                            "ticks": ""
                          }
                        },
                        "type": "scattercarpet"
                      }
                    ],
                    "scattergeo": [
                      {
                        "marker": {
                          "colorbar": {
                            "outlinewidth": 0,
                            "ticks": ""
                          }
                        },
                        "type": "scattergeo"
                      }
                    ],
                    "scattergl": [
                      {
                        "marker": {
                          "colorbar": {
                            "outlinewidth": 0,
                            "ticks": ""
                          }
                        },
                        "type": "scattergl"
                      }
                    ],
                    "scattermapbox": [
                      {
                        "marker": {
                          "colorbar": {
                            "outlinewidth": 0,
                            "ticks": ""
                          }
                        },
                        "type": "scattermapbox"
                      }
                    ],
                    "scatterpolar": [
                      {
                        "marker": {
                          "colorbar": {
                            "outlinewidth": 0,
                            "ticks": ""
                          }
                        },
                        "type": "scatterpolar"
                      }
                    ],
                    "scatterpolargl": [
                      {
                        "marker": {
                          "colorbar": {
                            "outlinewidth": 0,
                            "ticks": ""
                          }
                        },
                        "type": "scatterpolargl"
                      }
                    ],
                    "scatterternary": [
                      {
                        "marker": {
                          "colorbar": {
                            "outlinewidth": 0,
                            "ticks": ""
                          }
                        },
                        "type": "scatterternary"
                      }
                    ],
                    "surface": [
                      {
                        "colorbar": {
                          "outlinewidth": 0,
                          "ticks": ""
                        },
                        "colorscale": [
                          [
                            0,
                            "#0d0887"
                          ],
                          [
                            0.1111111111,
                            "#46039f"
                          ],
                          [
                            0.2222222222,
                            "#7201a8"
                          ],
                          [
                            0.3333333333,
                            "#9c179e"
                          ],
                          [
                            0.4444444444,
                            "#bd3786"
                          ],
                          [
                            0.5555555556,
                            "#d8576b"
                          ],
                          [
                            0.6666666667,
                            "#ed7953"
                          ],
                          [
                            0.7777777778,
                            "#fb9f3a"
                          ],
                          [
                            0.8888888889,
                            "#fdca26"
                          ],
                          [
                            1,
                            "#f0f921"
                          ]
                        ],
                        "type": "surface"
                      }
                    ],
                    "table": [
                      {
                        "cells": {
                          "fill": {
                            "color": "#EBF0F8"
                          },
                          "line": {
                            "color": "white"
                          }
                        },
                        "header": {
                          "fill": {
                            "color": "#C8D4E3"
                          },
                          "line": {
                            "color": "white"
                          }
                        },
                        "type": "table"
                      }
                    ]
                  },
                  "layout": {
                    "annotationdefaults": {
                      "arrowcolor": "#2a3f5f",
                      "arrowhead": 0,
                      "arrowwidth": 1
                    },
                    "colorscale": {
                      "diverging": [
                        [
                          0,
                          "#8e0152"
                        ],
                        [
                          0.1,
                          "#c51b7d"
                        ],
                        [
                          0.2,
                          "#de77ae"
                        ],
                        [
                          0.3,
                          "#f1b6da"
                        ],
                        [
                          0.4,
                          "#fde0ef"
                        ],
                        [
                          0.5,
                          "#f7f7f7"
                        ],
                        [
                          0.6,
                          "#e6f5d0"
                        ],
                        [
                          0.7,
                          "#b8e186"
                        ],
                        [
                          0.8,
                          "#7fbc41"
                        ],
                        [
                          0.9,
                          "#4d9221"
                        ],
                        [
                          1,
                          "#276419"
                        ]
                      ],
                      "sequential": [
                        [
                          0,
                          "#0d0887"
                        ],
                        [
                          0.1111111111,
                          "#46039f"
                        ],
                        [
                          0.2222222222,
                          "#7201a8"
                        ],
                        [
                          0.3333333333,
                          "#9c179e"
                        ],
                        [
                          0.4444444444,
                          "#bd3786"
                        ],
                        [
                          0.5555555556,
                          "#d8576b"
                        ],
                        [
                          0.6666666667,
                          "#ed7953"
                        ],
                        [
                          0.7777777778,
                          "#fb9f3a"
                        ],
                        [
                          0.8888888889,
                          "#fdca26"
                        ],
                        [
                          1,
                          "#f0f921"
                        ]
                      ],
                      "sequentialminus": [
                        [
                          0,
                          "#0d0887"
                        ],
                        [
                          0.1111111111,
                          "#46039f"
                        ],
                        [
                          0.2222222222,
                          "#7201a8"
                        ],
                        [
                          0.3333333333,
                          "#9c179e"
                        ],
                        [
                          0.4444444444,
                          "#bd3786"
                        ],
                        [
                          0.5555555556,
                          "#d8576b"
                        ],
                        [
                          0.6666666667,
                          "#ed7953"
                        ],
                        [
                          0.7777777778,
                          "#fb9f3a"
                        ],
                        [
                          0.8888888889,
                          "#fdca26"
                        ],
                        [
                          1,
                          "#f0f921"
                        ]
                      ]
                    },
                    "colorway": [
                      "#636efa",
                      "#EF553B",
                      "#00cc96",
                      "#ab63fa",
                      "#FFA15A",
                      "#19d3f3",
                      "#FF6692",
                      "#B6E880",
                      "#FF97FF",
                      "#FECB52"
                    ],
                    "font": {
                      "color": "#2a3f5f"
                    },
                    "geo": {
                      "bgcolor": "white",
                      "lakecolor": "white",
                      "landcolor": "#E5ECF6",
                      "showlakes": true,
                      "showland": true,
                      "subunitcolor": "white"
                    },
                    "hoverlabel": {
                      "align": "left"
                    },
                    "hovermode": "closest",
                    "mapbox": {
                      "style": "light"
                    },
                    "paper_bgcolor": "white",
                    "plot_bgcolor": "#E5ECF6",
                    "polar": {
                      "angularaxis": {
                        "gridcolor": "white",
                        "linecolor": "white",
                        "ticks": ""
                      },
                      "bgcolor": "#E5ECF6",
                      "radialaxis": {
                        "gridcolor": "white",
                        "linecolor": "white",
                        "ticks": ""
                      }
                    },
                    "scene": {
                      "xaxis": {
                        "backgroundcolor": "#E5ECF6",
                        "gridcolor": "white",
                        "gridwidth": 2,
                        "linecolor": "white",
                        "showbackground": true,
                        "ticks": "",
                        "zerolinecolor": "white"
                      },
                      "yaxis": {
                        "backgroundcolor": "#E5ECF6",
                        "gridcolor": "white",
                        "gridwidth": 2,
                        "linecolor": "white",
                        "showbackground": true,
                        "ticks": "",
                        "zerolinecolor": "white"
                      },
                      "zaxis": {
                        "backgroundcolor": "#E5ECF6",
                        "gridcolor": "white",
                        "gridwidth": 2,
                        "linecolor": "white",
                        "showbackground": true,
                        "ticks": "",
                        "zerolinecolor": "white"
                      }
                    },
                    "shapedefaults": {
                      "line": {
                        "color": "#2a3f5f"
                      }
                    },
                    "ternary": {
                      "aaxis": {
                        "gridcolor": "white",
                        "linecolor": "white",
                        "ticks": ""
                      },
                      "baxis": {
                        "gridcolor": "white",
                        "linecolor": "white",
                        "ticks": ""
                      },
                      "bgcolor": "#E5ECF6",
                      "caxis": {
                        "gridcolor": "white",
                        "linecolor": "white",
                        "ticks": ""
                      }
                    },
                    "title": {
                      "x": 0.05
                    },
                    "xaxis": {
                      "automargin": true,
                      "gridcolor": "white",
                      "linecolor": "white",
                      "ticks": "",
                      "zerolinecolor": "white",
                      "zerolinewidth": 2
                    },
                    "yaxis": {
                      "automargin": true,
                      "gridcolor": "white",
                      "linecolor": "white",
                      "ticks": "",
                      "zerolinecolor": "white",
                      "zerolinewidth": 2
                    }
                  }
                }
              }
            },
            "text/html": [
              "<div>\n",
              "        \n",
              "        \n",
              "            <div id=\"615e5bcb-44cf-4ef1-a8c8-f64393d91fc6\" class=\"plotly-graph-div\" style=\"height:525px; width:100%;\"></div>\n",
              "            <script type=\"text/javascript\">\n",
              "                require([\"plotly\"], function(Plotly) {\n",
              "                    window.PLOTLYENV=window.PLOTLYENV || {};\n",
              "                    \n",
              "                if (document.getElementById(\"615e5bcb-44cf-4ef1-a8c8-f64393d91fc6\")) {\n",
              "                    Plotly.newPlot(\n",
              "                        '615e5bcb-44cf-4ef1-a8c8-f64393d91fc6',\n",
              "                        [{\"cells\": {\"align\": \"left\", \"fill\": {\"color\": \"lavender\"}, \"values\": [[\"\\u0441\\u0442\\u043e\\u043b\\u043e\\u0432\\u0430\\u044f\", \"\\u0440\\u0435\\u0441\\u0442\\u043e\\u0440\\u0430\\u043d\", \"\\u0431\\u0430\\u0440\", \"\\u043a\\u0430\\u0444\\u0435\", \"\\u043f\\u0440\\u0435\\u0434\\u043f\\u0440\\u0438\\u044f\\u0442\\u0438\\u0435 \\u0431\\u044b\\u0441\\u0442\\u0440\\u043e\\u0433\\u043e \\u043e\\u0431\\u0441\\u043b\\u0443\\u0436\\u0438\\u0432\\u0430\\u043d\\u0438\\u044f\", \"\\u0437\\u0430\\u043a\\u0443\\u0441\\u043e\\u0447\\u043d\\u0430\\u044f\", \"\\u043a\\u0430\\u0444\\u0435\\u0442\\u0435\\u0440\\u0438\\u0439\", \"\\u043c\\u0430\\u0433\\u0430\\u0437\\u0438\\u043d (\\u043e\\u0442\\u0434\\u0435\\u043b \\u043a\\u0443\\u043b\\u0438\\u043d\\u0430\\u0440\\u0438\\u0438)\", \"\\u0431\\u0443\\u0444\\u0435\\u0442\"], [120.0, 88.5, 45.0, 40.0, 25.0, 8.0, 8.0, 3.5, 0.0]]}, \"header\": {\"align\": \"left\", \"fill\": {\"color\": \"paleturquoise\"}, \"values\": [\"object_type\", \"number\"]}, \"type\": \"table\"}],\n",
              "                        {\"template\": {\"data\": {\"bar\": [{\"error_x\": {\"color\": \"#2a3f5f\"}, \"error_y\": {\"color\": \"#2a3f5f\"}, \"marker\": {\"line\": {\"color\": \"#E5ECF6\", \"width\": 0.5}}, \"type\": \"bar\"}], \"barpolar\": [{\"marker\": {\"line\": {\"color\": \"#E5ECF6\", \"width\": 0.5}}, \"type\": \"barpolar\"}], \"carpet\": [{\"aaxis\": {\"endlinecolor\": \"#2a3f5f\", \"gridcolor\": \"white\", \"linecolor\": \"white\", \"minorgridcolor\": \"white\", \"startlinecolor\": \"#2a3f5f\"}, \"baxis\": {\"endlinecolor\": \"#2a3f5f\", \"gridcolor\": \"white\", \"linecolor\": \"white\", \"minorgridcolor\": \"white\", \"startlinecolor\": \"#2a3f5f\"}, \"type\": \"carpet\"}], \"choropleth\": [{\"colorbar\": {\"outlinewidth\": 0, \"ticks\": \"\"}, \"type\": \"choropleth\"}], \"contour\": [{\"colorbar\": {\"outlinewidth\": 0, \"ticks\": \"\"}, \"colorscale\": [[0.0, \"#0d0887\"], [0.1111111111111111, \"#46039f\"], [0.2222222222222222, \"#7201a8\"], [0.3333333333333333, \"#9c179e\"], [0.4444444444444444, \"#bd3786\"], [0.5555555555555556, \"#d8576b\"], [0.6666666666666666, \"#ed7953\"], [0.7777777777777778, \"#fb9f3a\"], [0.8888888888888888, \"#fdca26\"], [1.0, \"#f0f921\"]], \"type\": \"contour\"}], \"contourcarpet\": [{\"colorbar\": {\"outlinewidth\": 0, \"ticks\": \"\"}, \"type\": \"contourcarpet\"}], \"heatmap\": [{\"colorbar\": {\"outlinewidth\": 0, \"ticks\": \"\"}, \"colorscale\": [[0.0, \"#0d0887\"], [0.1111111111111111, \"#46039f\"], [0.2222222222222222, \"#7201a8\"], [0.3333333333333333, \"#9c179e\"], [0.4444444444444444, \"#bd3786\"], [0.5555555555555556, \"#d8576b\"], [0.6666666666666666, \"#ed7953\"], [0.7777777777777778, \"#fb9f3a\"], [0.8888888888888888, \"#fdca26\"], [1.0, \"#f0f921\"]], \"type\": \"heatmap\"}], \"heatmapgl\": [{\"colorbar\": {\"outlinewidth\": 0, \"ticks\": \"\"}, \"colorscale\": [[0.0, \"#0d0887\"], [0.1111111111111111, \"#46039f\"], [0.2222222222222222, \"#7201a8\"], [0.3333333333333333, \"#9c179e\"], [0.4444444444444444, \"#bd3786\"], [0.5555555555555556, \"#d8576b\"], [0.6666666666666666, \"#ed7953\"], [0.7777777777777778, \"#fb9f3a\"], [0.8888888888888888, \"#fdca26\"], [1.0, \"#f0f921\"]], \"type\": \"heatmapgl\"}], \"histogram\": [{\"marker\": {\"colorbar\": {\"outlinewidth\": 0, \"ticks\": \"\"}}, \"type\": \"histogram\"}], \"histogram2d\": [{\"colorbar\": {\"outlinewidth\": 0, \"ticks\": \"\"}, \"colorscale\": [[0.0, \"#0d0887\"], [0.1111111111111111, \"#46039f\"], [0.2222222222222222, \"#7201a8\"], [0.3333333333333333, \"#9c179e\"], [0.4444444444444444, \"#bd3786\"], [0.5555555555555556, \"#d8576b\"], [0.6666666666666666, \"#ed7953\"], [0.7777777777777778, \"#fb9f3a\"], [0.8888888888888888, \"#fdca26\"], [1.0, \"#f0f921\"]], \"type\": \"histogram2d\"}], \"histogram2dcontour\": [{\"colorbar\": {\"outlinewidth\": 0, \"ticks\": \"\"}, \"colorscale\": [[0.0, \"#0d0887\"], [0.1111111111111111, \"#46039f\"], [0.2222222222222222, \"#7201a8\"], [0.3333333333333333, \"#9c179e\"], [0.4444444444444444, \"#bd3786\"], [0.5555555555555556, \"#d8576b\"], [0.6666666666666666, \"#ed7953\"], [0.7777777777777778, \"#fb9f3a\"], [0.8888888888888888, \"#fdca26\"], [1.0, \"#f0f921\"]], \"type\": \"histogram2dcontour\"}], \"mesh3d\": [{\"colorbar\": {\"outlinewidth\": 0, \"ticks\": \"\"}, \"type\": \"mesh3d\"}], \"parcoords\": [{\"line\": {\"colorbar\": {\"outlinewidth\": 0, \"ticks\": \"\"}}, \"type\": \"parcoords\"}], \"scatter\": [{\"marker\": {\"colorbar\": {\"outlinewidth\": 0, \"ticks\": \"\"}}, \"type\": \"scatter\"}], \"scatter3d\": [{\"line\": {\"colorbar\": {\"outlinewidth\": 0, \"ticks\": \"\"}}, \"marker\": {\"colorbar\": {\"outlinewidth\": 0, \"ticks\": \"\"}}, \"type\": \"scatter3d\"}], \"scattercarpet\": [{\"marker\": {\"colorbar\": {\"outlinewidth\": 0, \"ticks\": \"\"}}, \"type\": \"scattercarpet\"}], \"scattergeo\": [{\"marker\": {\"colorbar\": {\"outlinewidth\": 0, \"ticks\": \"\"}}, \"type\": \"scattergeo\"}], \"scattergl\": [{\"marker\": {\"colorbar\": {\"outlinewidth\": 0, \"ticks\": \"\"}}, \"type\": \"scattergl\"}], \"scattermapbox\": [{\"marker\": {\"colorbar\": {\"outlinewidth\": 0, \"ticks\": \"\"}}, \"type\": \"scattermapbox\"}], \"scatterpolar\": [{\"marker\": {\"colorbar\": {\"outlinewidth\": 0, \"ticks\": \"\"}}, \"type\": \"scatterpolar\"}], \"scatterpolargl\": [{\"marker\": {\"colorbar\": {\"outlinewidth\": 0, \"ticks\": \"\"}}, \"type\": \"scatterpolargl\"}], \"scatterternary\": [{\"marker\": {\"colorbar\": {\"outlinewidth\": 0, \"ticks\": \"\"}}, \"type\": \"scatterternary\"}], \"surface\": [{\"colorbar\": {\"outlinewidth\": 0, \"ticks\": \"\"}, \"colorscale\": [[0.0, \"#0d0887\"], [0.1111111111111111, \"#46039f\"], [0.2222222222222222, \"#7201a8\"], [0.3333333333333333, \"#9c179e\"], [0.4444444444444444, \"#bd3786\"], [0.5555555555555556, \"#d8576b\"], [0.6666666666666666, \"#ed7953\"], [0.7777777777777778, \"#fb9f3a\"], [0.8888888888888888, \"#fdca26\"], [1.0, \"#f0f921\"]], \"type\": \"surface\"}], \"table\": [{\"cells\": {\"fill\": {\"color\": \"#EBF0F8\"}, \"line\": {\"color\": \"white\"}}, \"header\": {\"fill\": {\"color\": \"#C8D4E3\"}, \"line\": {\"color\": \"white\"}}, \"type\": \"table\"}]}, \"layout\": {\"annotationdefaults\": {\"arrowcolor\": \"#2a3f5f\", \"arrowhead\": 0, \"arrowwidth\": 1}, \"colorscale\": {\"diverging\": [[0, \"#8e0152\"], [0.1, \"#c51b7d\"], [0.2, \"#de77ae\"], [0.3, \"#f1b6da\"], [0.4, \"#fde0ef\"], [0.5, \"#f7f7f7\"], [0.6, \"#e6f5d0\"], [0.7, \"#b8e186\"], [0.8, \"#7fbc41\"], [0.9, \"#4d9221\"], [1, \"#276419\"]], \"sequential\": [[0.0, \"#0d0887\"], [0.1111111111111111, \"#46039f\"], [0.2222222222222222, \"#7201a8\"], [0.3333333333333333, \"#9c179e\"], [0.4444444444444444, \"#bd3786\"], [0.5555555555555556, \"#d8576b\"], [0.6666666666666666, \"#ed7953\"], [0.7777777777777778, \"#fb9f3a\"], [0.8888888888888888, \"#fdca26\"], [1.0, \"#f0f921\"]], \"sequentialminus\": [[0.0, \"#0d0887\"], [0.1111111111111111, \"#46039f\"], [0.2222222222222222, \"#7201a8\"], [0.3333333333333333, \"#9c179e\"], [0.4444444444444444, \"#bd3786\"], [0.5555555555555556, \"#d8576b\"], [0.6666666666666666, \"#ed7953\"], [0.7777777777777778, \"#fb9f3a\"], [0.8888888888888888, \"#fdca26\"], [1.0, \"#f0f921\"]]}, \"colorway\": [\"#636efa\", \"#EF553B\", \"#00cc96\", \"#ab63fa\", \"#FFA15A\", \"#19d3f3\", \"#FF6692\", \"#B6E880\", \"#FF97FF\", \"#FECB52\"], \"font\": {\"color\": \"#2a3f5f\"}, \"geo\": {\"bgcolor\": \"white\", \"lakecolor\": \"white\", \"landcolor\": \"#E5ECF6\", \"showlakes\": true, \"showland\": true, \"subunitcolor\": \"white\"}, \"hoverlabel\": {\"align\": \"left\"}, \"hovermode\": \"closest\", \"mapbox\": {\"style\": \"light\"}, \"paper_bgcolor\": \"white\", \"plot_bgcolor\": \"#E5ECF6\", \"polar\": {\"angularaxis\": {\"gridcolor\": \"white\", \"linecolor\": \"white\", \"ticks\": \"\"}, \"bgcolor\": \"#E5ECF6\", \"radialaxis\": {\"gridcolor\": \"white\", \"linecolor\": \"white\", \"ticks\": \"\"}}, \"scene\": {\"xaxis\": {\"backgroundcolor\": \"#E5ECF6\", \"gridcolor\": \"white\", \"gridwidth\": 2, \"linecolor\": \"white\", \"showbackground\": true, \"ticks\": \"\", \"zerolinecolor\": \"white\"}, \"yaxis\": {\"backgroundcolor\": \"#E5ECF6\", \"gridcolor\": \"white\", \"gridwidth\": 2, \"linecolor\": \"white\", \"showbackground\": true, \"ticks\": \"\", \"zerolinecolor\": \"white\"}, \"zaxis\": {\"backgroundcolor\": \"#E5ECF6\", \"gridcolor\": \"white\", \"gridwidth\": 2, \"linecolor\": \"white\", \"showbackground\": true, \"ticks\": \"\", \"zerolinecolor\": \"white\"}}, \"shapedefaults\": {\"line\": {\"color\": \"#2a3f5f\"}}, \"ternary\": {\"aaxis\": {\"gridcolor\": \"white\", \"linecolor\": \"white\", \"ticks\": \"\"}, \"baxis\": {\"gridcolor\": \"white\", \"linecolor\": \"white\", \"ticks\": \"\"}, \"bgcolor\": \"#E5ECF6\", \"caxis\": {\"gridcolor\": \"white\", \"linecolor\": \"white\", \"ticks\": \"\"}}, \"title\": {\"x\": 0.05}, \"xaxis\": {\"automargin\": true, \"gridcolor\": \"white\", \"linecolor\": \"white\", \"ticks\": \"\", \"zerolinecolor\": \"white\", \"zerolinewidth\": 2}, \"yaxis\": {\"automargin\": true, \"gridcolor\": \"white\", \"linecolor\": \"white\", \"ticks\": \"\", \"zerolinecolor\": \"white\", \"zerolinewidth\": 2}}}},\n",
              "                        {\"responsive\": true}\n",
              "                    ).then(function(){\n",
              "                            \n",
              "var gd = document.getElementById('615e5bcb-44cf-4ef1-a8c8-f64393d91fc6');\n",
              "var x = new MutationObserver(function (mutations, observer) {{\n",
              "        var display = window.getComputedStyle(gd).display;\n",
              "        if (!display || display === 'none') {{\n",
              "            console.log([gd, 'removed!']);\n",
              "            Plotly.purge(gd);\n",
              "            observer.disconnect();\n",
              "        }}\n",
              "}});\n",
              "\n",
              "// Listen for the removal of the full notebook cells\n",
              "var notebookContainer = gd.closest('#notebook-container');\n",
              "if (notebookContainer) {{\n",
              "    x.observe(notebookContainer, {childList: true});\n",
              "}}\n",
              "\n",
              "// Listen for the clearing of the current output cell\n",
              "var outputEl = gd.closest('.output');\n",
              "if (outputEl) {{\n",
              "    x.observe(outputEl, {childList: true});\n",
              "}}\n",
              "\n",
              "                        })\n",
              "                };\n",
              "                });\n",
              "            </script>\n",
              "        </div>"
            ]
          },
          "metadata": {},
          "output_type": "display_data"
        }
      ]
    },
    {
      "cell_type": "markdown",
      "metadata": {
        "id": "OGGiS-vCmpM_"
      },
      "source": [
        "Ожидаемо, что в столовую может поместиться самое большое число посетителей. И также логично, что в буфете стоят."
      ]
    },
    {
      "cell_type": "code",
      "metadata": {
        "colab": {
          "base_uri": "https://localhost:8080/",
          "height": 514
        },
        "id": "5-n181Uhm41p",
        "scrolled": false,
        "outputId": "88f967ce-bbbe-4278-ced4-c7ffbcad9294"
      },
      "source": [
        "fig,ax = plt.subplots(figsize = (22,10))\n",
        "plt.title('Распределение посадочных мест по сетевым объектам общественного питания')\n",
        "ax = sns.boxplot(x = 'object_type', y = 'number', data = chain_query, palette=\"mako\")\n",
        "ax.set(xlabel='Объекты общественного питания', ylabel='Число посадочных мест')\n",
        "ax.yaxis.grid(True) \n",
        "ax.xaxis.grid(False)"
      ],
      "execution_count": null,
      "outputs": [
        {
          "data": {
            "image/png": "[encoded data removed]",
            "text/plain": [
              "<Figure size 1584x720 with 1 Axes>"
            ]
          },
          "metadata": {
            "needs_background": "light"
          },
          "output_type": "display_data"
        }
      ]
    },
    {
      "cell_type": "markdown",
      "metadata": {
        "id": "Whs64-7uuiSB"
      },
      "source": [
        "У 7ми типов объектов общепита основное количество посадочных мест не доходит до 100, и только у двух - превышает 100."
      ]
    },
    {
      "cell_type": "code",
      "metadata": {
        "colab": {
          "base_uri": "https://localhost:8080/",
          "height": 546
        },
        "id": "KdIr-83Now-f",
        "outputId": "39d4dce4-9bdd-4574-aab7-fcf3e19c82d1"
      },
      "source": [
        "plt.figure(figsize=(10,7))\n",
        "sns.distplot(chain_query['number'])\n",
        "plt.xlim(0, 300);\n",
        "plt.title('Распределение количества посадочных мест у сетевых заведений')\n",
        "plt.xlabel(\"Количество посадочных мест\")\n",
        "plt.show()"
      ],
      "execution_count": null,
      "outputs": [
        {
          "data": {
            "image/png": "[encoded data removed]",
            "text/plain": [
              "<Figure size 720x504 with 1 Axes>"
            ]
          },
          "metadata": {
            "needs_background": "light"
          },
          "output_type": "display_data"
        }
      ]
    },
    {
      "cell_type": "markdown",
      "metadata": {
        "id": "YpP46qgKvT-G"
      },
      "source": [
        "График распределения также показывает, что для для сетевых заведений характерно много заведений с небольшим числом посадочных мест."
      ]
    },
    {
      "cell_type": "code",
      "metadata": {
        "id": "YYJBLl6iTmGF",
        "outputId": "9689fc61-f4fb-406c-aaad-c2c036c0cf2a"
      },
      "source": [
        "chain_objects = chain_query.groupby('object_name').agg({'object_name':'count', 'number':'median'})\n",
        "chain_objects.columns = ['objects', 'median_number']\n",
        "chain_objects\n",
        "\n"
      ],
      "execution_count": null,
      "outputs": [
        {
          "data": {
            "text/html": [
              "<div>\n",
              "<style scoped>\n",
              "    .dataframe tbody tr th:only-of-type {\n",
              "        vertical-align: middle;\n",
              "    }\n",
              "\n",
              "    .dataframe tbody tr th {\n",
              "        vertical-align: top;\n",
              "    }\n",
              "\n",
              "    .dataframe thead th {\n",
              "        text-align: right;\n",
              "    }\n",
              "</style>\n",
              "<table border=\"1\" class=\"dataframe\">\n",
              "  <thead>\n",
              "    <tr style=\"text-align: right;\">\n",
              "      <th></th>\n",
              "      <th>objects</th>\n",
              "      <th>median_number</th>\n",
              "    </tr>\n",
              "    <tr>\n",
              "      <th>object_name</th>\n",
              "      <th></th>\n",
              "      <th></th>\n",
              "    </tr>\n",
              "  </thead>\n",
              "  <tbody>\n",
              "    <tr>\n",
              "      <td>beverly hills diner</td>\n",
              "      <td>1</td>\n",
              "      <td>88.0</td>\n",
              "    </tr>\n",
              "    <tr>\n",
              "      <td>bierloga</td>\n",
              "      <td>1</td>\n",
              "      <td>75.0</td>\n",
              "    </tr>\n",
              "    <tr>\n",
              "      <td>black &amp; white</td>\n",
              "      <td>1</td>\n",
              "      <td>40.0</td>\n",
              "    </tr>\n",
              "    <tr>\n",
              "      <td>bocconcino</td>\n",
              "      <td>3</td>\n",
              "      <td>68.0</td>\n",
              "    </tr>\n",
              "    <tr>\n",
              "      <td>boobo</td>\n",
              "      <td>1</td>\n",
              "      <td>46.0</td>\n",
              "    </tr>\n",
              "    <tr>\n",
              "      <td>...</td>\n",
              "      <td>...</td>\n",
              "      <td>...</td>\n",
              "    </tr>\n",
              "    <tr>\n",
              "      <td>ямми микс</td>\n",
              "      <td>1</td>\n",
              "      <td>2.0</td>\n",
              "    </tr>\n",
              "    <tr>\n",
              "      <td>ян примус</td>\n",
              "      <td>1</td>\n",
              "      <td>300.0</td>\n",
              "    </tr>\n",
              "    <tr>\n",
              "      <td>японский ресторан ваби-саби</td>\n",
              "      <td>1</td>\n",
              "      <td>155.0</td>\n",
              "    </tr>\n",
              "    <tr>\n",
              "      <td>япоша</td>\n",
              "      <td>2</td>\n",
              "      <td>105.0</td>\n",
              "    </tr>\n",
              "    <tr>\n",
              "      <td>ёрш</td>\n",
              "      <td>4</td>\n",
              "      <td>104.0</td>\n",
              "    </tr>\n",
              "  </tbody>\n",
              "</table>\n",
              "<p>541 rows × 2 columns</p>\n",
              "</div>"
            ],
            "text/plain": [
              "                             objects  median_number\n",
              "object_name                                        \n",
              "beverly hills diner                1           88.0\n",
              "bierloga                           1           75.0\n",
              "black & white                      1           40.0\n",
              "bocconcino                         3           68.0\n",
              "boobo                              1           46.0\n",
              "...                              ...            ...\n",
              "ямми микс                          1            2.0\n",
              "ян примус                          1          300.0\n",
              "японский ресторан ваби-саби        1          155.0\n",
              "япоша                              2          105.0\n",
              "ёрш                                4          104.0\n",
              "\n",
              "[541 rows x 2 columns]"
            ]
          },
          "execution_count": 109,
          "metadata": {},
          "output_type": "execute_result"
        }
      ]
    },
    {
      "cell_type": "code",
      "metadata": {
        "id": "CPzYAvwaTmGG",
        "outputId": "8b077025-13a8-4328-b381-aae844dc635b"
      },
      "source": [
        "plt.figure(figsize=(20, 9))\n",
        "plt.scatter(chain_objects['median_number'], chain_objects['objects'])\n",
        "plt.xlabel('Медианное количество посадочных мест')\n",
        "plt.ylabel('Число объектов в сети')\n",
        "plt.title('Распределение количества сетевых заведений и числа посадочных мест', fontsize=13)\n",
        "plt.axhline(np.percentile(chain_objects['objects'], 90), linestyle='--', color='black')\n",
        "plt.axvline(np.percentile(chain_objects['median_number'], 60), linestyle='--', color='black')\n",
        "plt.show()"
      ],
      "execution_count": null,
      "outputs": [
        {
          "data": {
            "image/png": "[encoded data removed]",
            "text/plain": [
              "<Figure size 1440x648 with 1 Axes>"
            ]
          },
          "metadata": {
            "needs_background": "light"
          },
          "output_type": "display_data"
        }
      ]
    },
    {
      "cell_type": "markdown",
      "metadata": {
        "id": "mgaf3jZ7TmGG"
      },
      "source": [
        "Для 90% сетевых заведений характерно иметь не более 10 заведений в сети. Для 60% сетевых заведений характерное число посадочных мест не превышает 50."
      ]
    },
    {
      "cell_type": "markdown",
      "metadata": {
        "id": "YqjFUOUXv8Mm"
      },
      "source": [
        "**Среднее количество посадочных мест для каждого вида объектов общественного питания.**\n"
      ]
    },
    {
      "cell_type": "code",
      "metadata": {
        "id": "lENJ0pSXYLdC",
        "outputId": "9a325a43-ff4a-42d7-ef52-e46becc9a6b4"
      },
      "source": [
        "all_chain_types = df.pivot_table(index='object_type', values='number', aggfunc='median').reset_index()\n",
        "sorted_chain_types = all_chain_types.sort_values(by='number', ascending = False)\n",
        "#sorted_chain_types  \n",
        "\n",
        "fig = go.Figure(data=[go.Table(\n",
        "    header=dict(values=list(sorted_chain_types.columns),\n",
        "                fill_color='paleturquoise',\n",
        "                align='left'),\n",
        "    cells=dict(values=[sorted_chain_types.object_type, sorted_chain_types.number],\n",
        "               fill_color='lavender',\n",
        "               align='left'))\n",
        "])\n",
        "\n",
        "fig.show()"
      ],
      "execution_count": null,
      "outputs": [
        {
          "data": {
            "application/vnd.plotly.v1+json": {
              "config": {
                "plotlyServerURL": "https://plot.ly"
              },
              "data": [
                {
                  "cells": {
                    "align": "left",
                    "fill": {
                      "color": "lavender"
                    },
                    "values": [
                      [
                        "столовая",
                        "ресторан",
                        "бар",
                        "буфет",
                        "кафе",
                        "кафетерий",
                        "предприятие быстрого обслуживания",
                        "закусочная",
                        "магазин (отдел кулинарии)"
                      ],
                      [
                        103,
                        80,
                        35,
                        32,
                        30,
                        6,
                        5,
                        0,
                        0
                      ]
                    ]
                  },
                  "header": {
                    "align": "left",
                    "fill": {
                      "color": "paleturquoise"
                    },
                    "values": [
                      "object_type",
                      "number"
                    ]
                  },
                  "type": "table"
                }
              ],
              "layout": {
                "template": {
                  "data": {
                    "bar": [
                      {
                        "error_x": {
                          "color": "#2a3f5f"
                        },
                        "error_y": {
                          "color": "#2a3f5f"
                        },
                        "marker": {
                          "line": {
                            "color": "#E5ECF6",
                            "width": 0.5
                          }
                        },
                        "type": "bar"
                      }
                    ],
                    "barpolar": [
                      {
                        "marker": {
                          "line": {
                            "color": "#E5ECF6",
                            "width": 0.5
                          }
                        },
                        "type": "barpolar"
                      }
                    ],
                    "carpet": [
                      {
                        "aaxis": {
                          "endlinecolor": "#2a3f5f",
                          "gridcolor": "white",
                          "linecolor": "white",
                          "minorgridcolor": "white",
                          "startlinecolor": "#2a3f5f"
                        },
                        "baxis": {
                          "endlinecolor": "#2a3f5f",
                          "gridcolor": "white",
                          "linecolor": "white",
                          "minorgridcolor": "white",
                          "startlinecolor": "#2a3f5f"
                        },
                        "type": "carpet"
                      }
                    ],
                    "choropleth": [
                      {
                        "colorbar": {
                          "outlinewidth": 0,
                          "ticks": ""
                        },
                        "type": "choropleth"
                      }
                    ],
                    "contour": [
                      {
                        "colorbar": {
                          "outlinewidth": 0,
                          "ticks": ""
                        },
                        "colorscale": [
                          [
                            0,
                            "#0d0887"
                          ],
                          [
                            0.1111111111,
                            "#46039f"
                          ],
                          [
                            0.2222222222,
                            "#7201a8"
                          ],
                          [
                            0.3333333333,
                            "#9c179e"
                          ],
                          [
                            0.4444444444,
                            "#bd3786"
                          ],
                          [
                            0.5555555556,
                            "#d8576b"
                          ],
                          [
                            0.6666666667,
                            "#ed7953"
                          ],
                          [
                            0.7777777778,
                            "#fb9f3a"
                          ],
                          [
                            0.8888888889,
                            "#fdca26"
                          ],
                          [
                            1,
                            "#f0f921"
                          ]
                        ],
                        "type": "contour"
                      }
                    ],
                    "contourcarpet": [
                      {
                        "colorbar": {
                          "outlinewidth": 0,
                          "ticks": ""
                        },
                        "type": "contourcarpet"
                      }
                    ],
                    "heatmap": [
                      {
                        "colorbar": {
                          "outlinewidth": 0,
                          "ticks": ""
                        },
                        "colorscale": [
                          [
                            0,
                            "#0d0887"
                          ],
                          [
                            0.1111111111,
                            "#46039f"
                          ],
                          [
                            0.2222222222,
                            "#7201a8"
                          ],
                          [
                            0.3333333333,
                            "#9c179e"
                          ],
                          [
                            0.4444444444,
                            "#bd3786"
                          ],
                          [
                            0.5555555556,
                            "#d8576b"
                          ],
                          [
                            0.6666666667,
                            "#ed7953"
                          ],
                          [
                            0.7777777778,
                            "#fb9f3a"
                          ],
                          [
                            0.8888888889,
                            "#fdca26"
                          ],
                          [
                            1,
                            "#f0f921"
                          ]
                        ],
                        "type": "heatmap"
                      }
                    ],
                    "heatmapgl": [
                      {
                        "colorbar": {
                          "outlinewidth": 0,
                          "ticks": ""
                        },
                        "colorscale": [
                          [
                            0,
                            "#0d0887"
                          ],
                          [
                            0.1111111111,
                            "#46039f"
                          ],
                          [
                            0.2222222222,
                            "#7201a8"
                          ],
                          [
                            0.3333333333,
                            "#9c179e"
                          ],
                          [
                            0.4444444444,
                            "#bd3786"
                          ],
                          [
                            0.5555555556,
                            "#d8576b"
                          ],
                          [
                            0.6666666667,
                            "#ed7953"
                          ],
                          [
                            0.7777777778,
                            "#fb9f3a"
                          ],
                          [
                            0.8888888889,
                            "#fdca26"
                          ],
                          [
                            1,
                            "#f0f921"
                          ]
                        ],
                        "type": "heatmapgl"
                      }
                    ],
                    "histogram": [
                      {
                        "marker": {
                          "colorbar": {
                            "outlinewidth": 0,
                            "ticks": ""
                          }
                        },
                        "type": "histogram"
                      }
                    ],
                    "histogram2d": [
                      {
                        "colorbar": {
                          "outlinewidth": 0,
                          "ticks": ""
                        },
                        "colorscale": [
                          [
                            0,
                            "#0d0887"
                          ],
                          [
                            0.1111111111,
                            "#46039f"
                          ],
                          [
                            0.2222222222,
                            "#7201a8"
                          ],
                          [
                            0.3333333333,
                            "#9c179e"
                          ],
                          [
                            0.4444444444,
                            "#bd3786"
                          ],
                          [
                            0.5555555556,
                            "#d8576b"
                          ],
                          [
                            0.6666666667,
                            "#ed7953"
                          ],
                          [
                            0.7777777778,
                            "#fb9f3a"
                          ],
                          [
                            0.8888888889,
                            "#fdca26"
                          ],
                          [
                            1,
                            "#f0f921"
                          ]
                        ],
                        "type": "histogram2d"
                      }
                    ],
                    "histogram2dcontour": [
                      {
                        "colorbar": {
                          "outlinewidth": 0,
                          "ticks": ""
                        },
                        "colorscale": [
                          [
                            0,
                            "#0d0887"
                          ],
                          [
                            0.1111111111,
                            "#46039f"
                          ],
                          [
                            0.2222222222,
                            "#7201a8"
                          ],
                          [
                            0.3333333333,
                            "#9c179e"
                          ],
                          [
                            0.4444444444,
                            "#bd3786"
                          ],
                          [
                            0.5555555556,
                            "#d8576b"
                          ],
                          [
                            0.6666666667,
                            "#ed7953"
                          ],
                          [
                            0.7777777778,
                            "#fb9f3a"
                          ],
                          [
                            0.8888888889,
                            "#fdca26"
                          ],
                          [
                            1,
                            "#f0f921"
                          ]
                        ],
                        "type": "histogram2dcontour"
                      }
                    ],
                    "mesh3d": [
                      {
                        "colorbar": {
                          "outlinewidth": 0,
                          "ticks": ""
                        },
                        "type": "mesh3d"
                      }
                    ],
                    "parcoords": [
                      {
                        "line": {
                          "colorbar": {
                            "outlinewidth": 0,
                            "ticks": ""
                          }
                        },
                        "type": "parcoords"
                      }
                    ],
                    "scatter": [
                      {
                        "marker": {
                          "colorbar": {
                            "outlinewidth": 0,
                            "ticks": ""
                          }
                        },
                        "type": "scatter"
                      }
                    ],
                    "scatter3d": [
                      {
                        "line": {
                          "colorbar": {
                            "outlinewidth": 0,
                            "ticks": ""
                          }
                        },
                        "marker": {
                          "colorbar": {
                            "outlinewidth": 0,
                            "ticks": ""
                          }
                        },
                        "type": "scatter3d"
                      }
                    ],
                    "scattercarpet": [
                      {
                        "marker": {
                          "colorbar": {
                            "outlinewidth": 0,
                            "ticks": ""
                          }
                        },
                        "type": "scattercarpet"
                      }
                    ],
                    "scattergeo": [
                      {
                        "marker": {
                          "colorbar": {
                            "outlinewidth": 0,
                            "ticks": ""
                          }
                        },
                        "type": "scattergeo"
                      }
                    ],
                    "scattergl": [
                      {
                        "marker": {
                          "colorbar": {
                            "outlinewidth": 0,
                            "ticks": ""
                          }
                        },
                        "type": "scattergl"
                      }
                    ],
                    "scattermapbox": [
                      {
                        "marker": {
                          "colorbar": {
                            "outlinewidth": 0,
                            "ticks": ""
                          }
                        },
                        "type": "scattermapbox"
                      }
                    ],
                    "scatterpolar": [
                      {
                        "marker": {
                          "colorbar": {
                            "outlinewidth": 0,
                            "ticks": ""
                          }
                        },
                        "type": "scatterpolar"
                      }
                    ],
                    "scatterpolargl": [
                      {
                        "marker": {
                          "colorbar": {
                            "outlinewidth": 0,
                            "ticks": ""
                          }
                        },
                        "type": "scatterpolargl"
                      }
                    ],
                    "scatterternary": [
                      {
                        "marker": {
                          "colorbar": {
                            "outlinewidth": 0,
                            "ticks": ""
                          }
                        },
                        "type": "scatterternary"
                      }
                    ],
                    "surface": [
                      {
                        "colorbar": {
                          "outlinewidth": 0,
                          "ticks": ""
                        },
                        "colorscale": [
                          [
                            0,
                            "#0d0887"
                          ],
                          [
                            0.1111111111,
                            "#46039f"
                          ],
                          [
                            0.2222222222,
                            "#7201a8"
                          ],
                          [
                            0.3333333333,
                            "#9c179e"
                          ],
                          [
                            0.4444444444,
                            "#bd3786"
                          ],
                          [
                            0.5555555556,
                            "#d8576b"
                          ],
                          [
                            0.6666666667,
                            "#ed7953"
                          ],
                          [
                            0.7777777778,
                            "#fb9f3a"
                          ],
                          [
                            0.8888888889,
                            "#fdca26"
                          ],
                          [
                            1,
                            "#f0f921"
                          ]
                        ],
                        "type": "surface"
                      }
                    ],
                    "table": [
                      {
                        "cells": {
                          "fill": {
                            "color": "#EBF0F8"
                          },
                          "line": {
                            "color": "white"
                          }
                        },
                        "header": {
                          "fill": {
                            "color": "#C8D4E3"
                          },
                          "line": {
                            "color": "white"
                          }
                        },
                        "type": "table"
                      }
                    ]
                  },
                  "layout": {
                    "annotationdefaults": {
                      "arrowcolor": "#2a3f5f",
                      "arrowhead": 0,
                      "arrowwidth": 1
                    },
                    "colorscale": {
                      "diverging": [
                        [
                          0,
                          "#8e0152"
                        ],
                        [
                          0.1,
                          "#c51b7d"
                        ],
                        [
                          0.2,
                          "#de77ae"
                        ],
                        [
                          0.3,
                          "#f1b6da"
                        ],
                        [
                          0.4,
                          "#fde0ef"
                        ],
                        [
                          0.5,
                          "#f7f7f7"
                        ],
                        [
                          0.6,
                          "#e6f5d0"
                        ],
                        [
                          0.7,
                          "#b8e186"
                        ],
                        [
                          0.8,
                          "#7fbc41"
                        ],
                        [
                          0.9,
                          "#4d9221"
                        ],
                        [
                          1,
                          "#276419"
                        ]
                      ],
                      "sequential": [
                        [
                          0,
                          "#0d0887"
                        ],
                        [
                          0.1111111111,
                          "#46039f"
                        ],
                        [
                          0.2222222222,
                          "#7201a8"
                        ],
                        [
                          0.3333333333,
                          "#9c179e"
                        ],
                        [
                          0.4444444444,
                          "#bd3786"
                        ],
                        [
                          0.5555555556,
                          "#d8576b"
                        ],
                        [
                          0.6666666667,
                          "#ed7953"
                        ],
                        [
                          0.7777777778,
                          "#fb9f3a"
                        ],
                        [
                          0.8888888889,
                          "#fdca26"
                        ],
                        [
                          1,
                          "#f0f921"
                        ]
                      ],
                      "sequentialminus": [
                        [
                          0,
                          "#0d0887"
                        ],
                        [
                          0.1111111111,
                          "#46039f"
                        ],
                        [
                          0.2222222222,
                          "#7201a8"
                        ],
                        [
                          0.3333333333,
                          "#9c179e"
                        ],
                        [
                          0.4444444444,
                          "#bd3786"
                        ],
                        [
                          0.5555555556,
                          "#d8576b"
                        ],
                        [
                          0.6666666667,
                          "#ed7953"
                        ],
                        [
                          0.7777777778,
                          "#fb9f3a"
                        ],
                        [
                          0.8888888889,
                          "#fdca26"
                        ],
                        [
                          1,
                          "#f0f921"
                        ]
                      ]
                    },
                    "colorway": [
                      "#636efa",
                      "#EF553B",
                      "#00cc96",
                      "#ab63fa",
                      "#FFA15A",
                      "#19d3f3",
                      "#FF6692",
                      "#B6E880",
                      "#FF97FF",
                      "#FECB52"
                    ],
                    "font": {
                      "color": "#2a3f5f"
                    },
                    "geo": {
                      "bgcolor": "white",
                      "lakecolor": "white",
                      "landcolor": "#E5ECF6",
                      "showlakes": true,
                      "showland": true,
                      "subunitcolor": "white"
                    },
                    "hoverlabel": {
                      "align": "left"
                    },
                    "hovermode": "closest",
                    "mapbox": {
                      "style": "light"
                    },
                    "paper_bgcolor": "white",
                    "plot_bgcolor": "#E5ECF6",
                    "polar": {
                      "angularaxis": {
                        "gridcolor": "white",
                        "linecolor": "white",
                        "ticks": ""
                      },
                      "bgcolor": "#E5ECF6",
                      "radialaxis": {
                        "gridcolor": "white",
                        "linecolor": "white",
                        "ticks": ""
                      }
                    },
                    "scene": {
                      "xaxis": {
                        "backgroundcolor": "#E5ECF6",
                        "gridcolor": "white",
                        "gridwidth": 2,
                        "linecolor": "white",
                        "showbackground": true,
                        "ticks": "",
                        "zerolinecolor": "white"
                      },
                      "yaxis": {
                        "backgroundcolor": "#E5ECF6",
                        "gridcolor": "white",
                        "gridwidth": 2,
                        "linecolor": "white",
                        "showbackground": true,
                        "ticks": "",
                        "zerolinecolor": "white"
                      },
                      "zaxis": {
                        "backgroundcolor": "#E5ECF6",
                        "gridcolor": "white",
                        "gridwidth": 2,
                        "linecolor": "white",
                        "showbackground": true,
                        "ticks": "",
                        "zerolinecolor": "white"
                      }
                    },
                    "shapedefaults": {
                      "line": {
                        "color": "#2a3f5f"
                      }
                    },
                    "ternary": {
                      "aaxis": {
                        "gridcolor": "white",
                        "linecolor": "white",
                        "ticks": ""
                      },
                      "baxis": {
                        "gridcolor": "white",
                        "linecolor": "white",
                        "ticks": ""
                      },
                      "bgcolor": "#E5ECF6",
                      "caxis": {
                        "gridcolor": "white",
                        "linecolor": "white",
                        "ticks": ""
                      }
                    },
                    "title": {
                      "x": 0.05
                    },
                    "xaxis": {
                      "automargin": true,
                      "gridcolor": "white",
                      "linecolor": "white",
                      "ticks": "",
                      "zerolinecolor": "white",
                      "zerolinewidth": 2
                    },
                    "yaxis": {
                      "automargin": true,
                      "gridcolor": "white",
                      "linecolor": "white",
                      "ticks": "",
                      "zerolinecolor": "white",
                      "zerolinewidth": 2
                    }
                  }
                }
              }
            },
            "text/html": [
              "<div>\n",
              "        \n",
              "        \n",
              "            <div id=\"11108b9c-7d1d-4527-bd5e-50fbe11f42e5\" class=\"plotly-graph-div\" style=\"height:525px; width:100%;\"></div>\n",
              "            <script type=\"text/javascript\">\n",
              "                require([\"plotly\"], function(Plotly) {\n",
              "                    window.PLOTLYENV=window.PLOTLYENV || {};\n",
              "                    \n",
              "                if (document.getElementById(\"11108b9c-7d1d-4527-bd5e-50fbe11f42e5\")) {\n",
              "                    Plotly.newPlot(\n",
              "                        '11108b9c-7d1d-4527-bd5e-50fbe11f42e5',\n",
              "                        [{\"cells\": {\"align\": \"left\", \"fill\": {\"color\": \"lavender\"}, \"values\": [[\"\\u0441\\u0442\\u043e\\u043b\\u043e\\u0432\\u0430\\u044f\", \"\\u0440\\u0435\\u0441\\u0442\\u043e\\u0440\\u0430\\u043d\", \"\\u0431\\u0430\\u0440\", \"\\u0431\\u0443\\u0444\\u0435\\u0442\", \"\\u043a\\u0430\\u0444\\u0435\", \"\\u043a\\u0430\\u0444\\u0435\\u0442\\u0435\\u0440\\u0438\\u0439\", \"\\u043f\\u0440\\u0435\\u0434\\u043f\\u0440\\u0438\\u044f\\u0442\\u0438\\u0435 \\u0431\\u044b\\u0441\\u0442\\u0440\\u043e\\u0433\\u043e \\u043e\\u0431\\u0441\\u043b\\u0443\\u0436\\u0438\\u0432\\u0430\\u043d\\u0438\\u044f\", \"\\u0437\\u0430\\u043a\\u0443\\u0441\\u043e\\u0447\\u043d\\u0430\\u044f\", \"\\u043c\\u0430\\u0433\\u0430\\u0437\\u0438\\u043d (\\u043e\\u0442\\u0434\\u0435\\u043b \\u043a\\u0443\\u043b\\u0438\\u043d\\u0430\\u0440\\u0438\\u0438)\"], [103, 80, 35, 32, 30, 6, 5, 0, 0]]}, \"header\": {\"align\": \"left\", \"fill\": {\"color\": \"paleturquoise\"}, \"values\": [\"object_type\", \"number\"]}, \"type\": \"table\"}],\n",
              "                        {\"template\": {\"data\": {\"bar\": [{\"error_x\": {\"color\": \"#2a3f5f\"}, \"error_y\": {\"color\": \"#2a3f5f\"}, \"marker\": {\"line\": {\"color\": \"#E5ECF6\", \"width\": 0.5}}, \"type\": \"bar\"}], \"barpolar\": [{\"marker\": {\"line\": {\"color\": \"#E5ECF6\", \"width\": 0.5}}, \"type\": \"barpolar\"}], \"carpet\": [{\"aaxis\": {\"endlinecolor\": \"#2a3f5f\", \"gridcolor\": \"white\", \"linecolor\": \"white\", \"minorgridcolor\": \"white\", \"startlinecolor\": \"#2a3f5f\"}, \"baxis\": {\"endlinecolor\": \"#2a3f5f\", \"gridcolor\": \"white\", \"linecolor\": \"white\", \"minorgridcolor\": \"white\", \"startlinecolor\": \"#2a3f5f\"}, \"type\": \"carpet\"}], \"choropleth\": [{\"colorbar\": {\"outlinewidth\": 0, \"ticks\": \"\"}, \"type\": \"choropleth\"}], \"contour\": [{\"colorbar\": {\"outlinewidth\": 0, \"ticks\": \"\"}, \"colorscale\": [[0.0, \"#0d0887\"], [0.1111111111111111, \"#46039f\"], [0.2222222222222222, \"#7201a8\"], [0.3333333333333333, \"#9c179e\"], [0.4444444444444444, \"#bd3786\"], [0.5555555555555556, \"#d8576b\"], [0.6666666666666666, \"#ed7953\"], [0.7777777777777778, \"#fb9f3a\"], [0.8888888888888888, \"#fdca26\"], [1.0, \"#f0f921\"]], \"type\": \"contour\"}], \"contourcarpet\": [{\"colorbar\": {\"outlinewidth\": 0, \"ticks\": \"\"}, \"type\": \"contourcarpet\"}], \"heatmap\": [{\"colorbar\": {\"outlinewidth\": 0, \"ticks\": \"\"}, \"colorscale\": [[0.0, \"#0d0887\"], [0.1111111111111111, \"#46039f\"], [0.2222222222222222, \"#7201a8\"], [0.3333333333333333, \"#9c179e\"], [0.4444444444444444, \"#bd3786\"], [0.5555555555555556, \"#d8576b\"], [0.6666666666666666, \"#ed7953\"], [0.7777777777777778, \"#fb9f3a\"], [0.8888888888888888, \"#fdca26\"], [1.0, \"#f0f921\"]], \"type\": \"heatmap\"}], \"heatmapgl\": [{\"colorbar\": {\"outlinewidth\": 0, \"ticks\": \"\"}, \"colorscale\": [[0.0, \"#0d0887\"], [0.1111111111111111, \"#46039f\"], [0.2222222222222222, \"#7201a8\"], [0.3333333333333333, \"#9c179e\"], [0.4444444444444444, \"#bd3786\"], [0.5555555555555556, \"#d8576b\"], [0.6666666666666666, \"#ed7953\"], [0.7777777777777778, \"#fb9f3a\"], [0.8888888888888888, \"#fdca26\"], [1.0, \"#f0f921\"]], \"type\": \"heatmapgl\"}], \"histogram\": [{\"marker\": {\"colorbar\": {\"outlinewidth\": 0, \"ticks\": \"\"}}, \"type\": \"histogram\"}], \"histogram2d\": [{\"colorbar\": {\"outlinewidth\": 0, \"ticks\": \"\"}, \"colorscale\": [[0.0, \"#0d0887\"], [0.1111111111111111, \"#46039f\"], [0.2222222222222222, \"#7201a8\"], [0.3333333333333333, \"#9c179e\"], [0.4444444444444444, \"#bd3786\"], [0.5555555555555556, \"#d8576b\"], [0.6666666666666666, \"#ed7953\"], [0.7777777777777778, \"#fb9f3a\"], [0.8888888888888888, \"#fdca26\"], [1.0, \"#f0f921\"]], \"type\": \"histogram2d\"}], \"histogram2dcontour\": [{\"colorbar\": {\"outlinewidth\": 0, \"ticks\": \"\"}, \"colorscale\": [[0.0, \"#0d0887\"], [0.1111111111111111, \"#46039f\"], [0.2222222222222222, \"#7201a8\"], [0.3333333333333333, \"#9c179e\"], [0.4444444444444444, \"#bd3786\"], [0.5555555555555556, \"#d8576b\"], [0.6666666666666666, \"#ed7953\"], [0.7777777777777778, \"#fb9f3a\"], [0.8888888888888888, \"#fdca26\"], [1.0, \"#f0f921\"]], \"type\": \"histogram2dcontour\"}], \"mesh3d\": [{\"colorbar\": {\"outlinewidth\": 0, \"ticks\": \"\"}, \"type\": \"mesh3d\"}], \"parcoords\": [{\"line\": {\"colorbar\": {\"outlinewidth\": 0, \"ticks\": \"\"}}, \"type\": \"parcoords\"}], \"scatter\": [{\"marker\": {\"colorbar\": {\"outlinewidth\": 0, \"ticks\": \"\"}}, \"type\": \"scatter\"}], \"scatter3d\": [{\"line\": {\"colorbar\": {\"outlinewidth\": 0, \"ticks\": \"\"}}, \"marker\": {\"colorbar\": {\"outlinewidth\": 0, \"ticks\": \"\"}}, \"type\": \"scatter3d\"}], \"scattercarpet\": [{\"marker\": {\"colorbar\": {\"outlinewidth\": 0, \"ticks\": \"\"}}, \"type\": \"scattercarpet\"}], \"scattergeo\": [{\"marker\": {\"colorbar\": {\"outlinewidth\": 0, \"ticks\": \"\"}}, \"type\": \"scattergeo\"}], \"scattergl\": [{\"marker\": {\"colorbar\": {\"outlinewidth\": 0, \"ticks\": \"\"}}, \"type\": \"scattergl\"}], \"scattermapbox\": [{\"marker\": {\"colorbar\": {\"outlinewidth\": 0, \"ticks\": \"\"}}, \"type\": \"scattermapbox\"}], \"scatterpolar\": [{\"marker\": {\"colorbar\": {\"outlinewidth\": 0, \"ticks\": \"\"}}, \"type\": \"scatterpolar\"}], \"scatterpolargl\": [{\"marker\": {\"colorbar\": {\"outlinewidth\": 0, \"ticks\": \"\"}}, \"type\": \"scatterpolargl\"}], \"scatterternary\": [{\"marker\": {\"colorbar\": {\"outlinewidth\": 0, \"ticks\": \"\"}}, \"type\": \"scatterternary\"}], \"surface\": [{\"colorbar\": {\"outlinewidth\": 0, \"ticks\": \"\"}, \"colorscale\": [[0.0, \"#0d0887\"], [0.1111111111111111, \"#46039f\"], [0.2222222222222222, \"#7201a8\"], [0.3333333333333333, \"#9c179e\"], [0.4444444444444444, \"#bd3786\"], [0.5555555555555556, \"#d8576b\"], [0.6666666666666666, \"#ed7953\"], [0.7777777777777778, \"#fb9f3a\"], [0.8888888888888888, \"#fdca26\"], [1.0, \"#f0f921\"]], \"type\": \"surface\"}], \"table\": [{\"cells\": {\"fill\": {\"color\": \"#EBF0F8\"}, \"line\": {\"color\": \"white\"}}, \"header\": {\"fill\": {\"color\": \"#C8D4E3\"}, \"line\": {\"color\": \"white\"}}, \"type\": \"table\"}]}, \"layout\": {\"annotationdefaults\": {\"arrowcolor\": \"#2a3f5f\", \"arrowhead\": 0, \"arrowwidth\": 1}, \"colorscale\": {\"diverging\": [[0, \"#8e0152\"], [0.1, \"#c51b7d\"], [0.2, \"#de77ae\"], [0.3, \"#f1b6da\"], [0.4, \"#fde0ef\"], [0.5, \"#f7f7f7\"], [0.6, \"#e6f5d0\"], [0.7, \"#b8e186\"], [0.8, \"#7fbc41\"], [0.9, \"#4d9221\"], [1, \"#276419\"]], \"sequential\": [[0.0, \"#0d0887\"], [0.1111111111111111, \"#46039f\"], [0.2222222222222222, \"#7201a8\"], [0.3333333333333333, \"#9c179e\"], [0.4444444444444444, \"#bd3786\"], [0.5555555555555556, \"#d8576b\"], [0.6666666666666666, \"#ed7953\"], [0.7777777777777778, \"#fb9f3a\"], [0.8888888888888888, \"#fdca26\"], [1.0, \"#f0f921\"]], \"sequentialminus\": [[0.0, \"#0d0887\"], [0.1111111111111111, \"#46039f\"], [0.2222222222222222, \"#7201a8\"], [0.3333333333333333, \"#9c179e\"], [0.4444444444444444, \"#bd3786\"], [0.5555555555555556, \"#d8576b\"], [0.6666666666666666, \"#ed7953\"], [0.7777777777777778, \"#fb9f3a\"], [0.8888888888888888, \"#fdca26\"], [1.0, \"#f0f921\"]]}, \"colorway\": [\"#636efa\", \"#EF553B\", \"#00cc96\", \"#ab63fa\", \"#FFA15A\", \"#19d3f3\", \"#FF6692\", \"#B6E880\", \"#FF97FF\", \"#FECB52\"], \"font\": {\"color\": \"#2a3f5f\"}, \"geo\": {\"bgcolor\": \"white\", \"lakecolor\": \"white\", \"landcolor\": \"#E5ECF6\", \"showlakes\": true, \"showland\": true, \"subunitcolor\": \"white\"}, \"hoverlabel\": {\"align\": \"left\"}, \"hovermode\": \"closest\", \"mapbox\": {\"style\": \"light\"}, \"paper_bgcolor\": \"white\", \"plot_bgcolor\": \"#E5ECF6\", \"polar\": {\"angularaxis\": {\"gridcolor\": \"white\", \"linecolor\": \"white\", \"ticks\": \"\"}, \"bgcolor\": \"#E5ECF6\", \"radialaxis\": {\"gridcolor\": \"white\", \"linecolor\": \"white\", \"ticks\": \"\"}}, \"scene\": {\"xaxis\": {\"backgroundcolor\": \"#E5ECF6\", \"gridcolor\": \"white\", \"gridwidth\": 2, \"linecolor\": \"white\", \"showbackground\": true, \"ticks\": \"\", \"zerolinecolor\": \"white\"}, \"yaxis\": {\"backgroundcolor\": \"#E5ECF6\", \"gridcolor\": \"white\", \"gridwidth\": 2, \"linecolor\": \"white\", \"showbackground\": true, \"ticks\": \"\", \"zerolinecolor\": \"white\"}, \"zaxis\": {\"backgroundcolor\": \"#E5ECF6\", \"gridcolor\": \"white\", \"gridwidth\": 2, \"linecolor\": \"white\", \"showbackground\": true, \"ticks\": \"\", \"zerolinecolor\": \"white\"}}, \"shapedefaults\": {\"line\": {\"color\": \"#2a3f5f\"}}, \"ternary\": {\"aaxis\": {\"gridcolor\": \"white\", \"linecolor\": \"white\", \"ticks\": \"\"}, \"baxis\": {\"gridcolor\": \"white\", \"linecolor\": \"white\", \"ticks\": \"\"}, \"bgcolor\": \"#E5ECF6\", \"caxis\": {\"gridcolor\": \"white\", \"linecolor\": \"white\", \"ticks\": \"\"}}, \"title\": {\"x\": 0.05}, \"xaxis\": {\"automargin\": true, \"gridcolor\": \"white\", \"linecolor\": \"white\", \"ticks\": \"\", \"zerolinecolor\": \"white\", \"zerolinewidth\": 2}, \"yaxis\": {\"automargin\": true, \"gridcolor\": \"white\", \"linecolor\": \"white\", \"ticks\": \"\", \"zerolinecolor\": \"white\", \"zerolinewidth\": 2}}}},\n",
              "                        {\"responsive\": true}\n",
              "                    ).then(function(){\n",
              "                            \n",
              "var gd = document.getElementById('11108b9c-7d1d-4527-bd5e-50fbe11f42e5');\n",
              "var x = new MutationObserver(function (mutations, observer) {{\n",
              "        var display = window.getComputedStyle(gd).display;\n",
              "        if (!display || display === 'none') {{\n",
              "            console.log([gd, 'removed!']);\n",
              "            Plotly.purge(gd);\n",
              "            observer.disconnect();\n",
              "        }}\n",
              "}});\n",
              "\n",
              "// Listen for the removal of the full notebook cells\n",
              "var notebookContainer = gd.closest('#notebook-container');\n",
              "if (notebookContainer) {{\n",
              "    x.observe(notebookContainer, {childList: true});\n",
              "}}\n",
              "\n",
              "// Listen for the clearing of the current output cell\n",
              "var outputEl = gd.closest('.output');\n",
              "if (outputEl) {{\n",
              "    x.observe(outputEl, {childList: true});\n",
              "}}\n",
              "\n",
              "                        })\n",
              "                };\n",
              "                });\n",
              "            </script>\n",
              "        </div>"
            ]
          },
          "metadata": {},
          "output_type": "display_data"
        }
      ]
    },
    {
      "cell_type": "code",
      "metadata": {
        "id": "QHIE8b4f0DAS",
        "outputId": "d5f3dc33-1f84-42f7-f8e2-30a73bb928d6"
      },
      "source": [
        "fig,ax = plt.subplots(figsize = (10,8))\n",
        "plt.title('Cреднее количество посадочных мест для каждого вида объекта общественного питания')\n",
        "ax = sns.barplot(x='number', y='object_type', data=sorted_chain_types, palette=\"mako\")\n",
        "ax.set(xlabel='Число объектов общепита', ylabel='Виды объектов общепита')\n",
        "ax.yaxis.grid(False) \n",
        "ax.xaxis.grid(True)\n",
        "plt.show()"
      ],
      "execution_count": null,
      "outputs": [
        {
          "data": {
            "image/png": "[encoded data removed]",
            "text/plain": [
              "<Figure size 720x576 with 1 Axes>"
            ]
          },
          "metadata": {
            "needs_background": "light"
          },
          "output_type": "display_data"
        }
      ]
    },
    {
      "cell_type": "markdown",
      "metadata": {
        "id": "1XK9OlWabu6T"
      },
      "source": [
        "Столовые предоставляют в среднем самое большое количество посадочных мест, затем идут рестораны и бары."
      ]
    },
    {
      "cell_type": "markdown",
      "metadata": {
        "id": "a7qnof3UXK84"
      },
      "source": [
        "**Анализ локаций.**"
      ]
    },
    {
      "cell_type": "markdown",
      "metadata": {
        "id": "miF5eyBWdbOj"
      },
      "source": [
        "Выделим в отдельный столбец информацию об улице из столбца address ."
      ]
    },
    {
      "cell_type": "code",
      "metadata": {
        "id": "W228HBmRYrCs",
        "outputId": "92126f1d-b6c5-4313-fbf8-48718654dcdc"
      },
      "source": [
        "df.head(5)"
      ],
      "execution_count": null,
      "outputs": [
        {
          "data": {
            "text/html": [
              "<div>\n",
              "<style scoped>\n",
              "    .dataframe tbody tr th:only-of-type {\n",
              "        vertical-align: middle;\n",
              "    }\n",
              "\n",
              "    .dataframe tbody tr th {\n",
              "        vertical-align: top;\n",
              "    }\n",
              "\n",
              "    .dataframe thead th {\n",
              "        text-align: right;\n",
              "    }\n",
              "</style>\n",
              "<table border=\"1\" class=\"dataframe\">\n",
              "  <thead>\n",
              "    <tr style=\"text-align: right;\">\n",
              "      <th></th>\n",
              "      <th>id</th>\n",
              "      <th>object_name</th>\n",
              "      <th>chain</th>\n",
              "      <th>object_type</th>\n",
              "      <th>address</th>\n",
              "      <th>number</th>\n",
              "    </tr>\n",
              "  </thead>\n",
              "  <tbody>\n",
              "    <tr>\n",
              "      <td>0</td>\n",
              "      <td>151635</td>\n",
              "      <td>сметана</td>\n",
              "      <td>нет</td>\n",
              "      <td>кафе</td>\n",
              "      <td>город Москва, улица Егора Абакумова, дом 9</td>\n",
              "      <td>48</td>\n",
              "    </tr>\n",
              "    <tr>\n",
              "      <td>1</td>\n",
              "      <td>77874</td>\n",
              "      <td>родник</td>\n",
              "      <td>нет</td>\n",
              "      <td>кафе</td>\n",
              "      <td>город Москва, улица Талалихина, дом 2/1, корпус 1</td>\n",
              "      <td>35</td>\n",
              "    </tr>\n",
              "    <tr>\n",
              "      <td>2</td>\n",
              "      <td>24309</td>\n",
              "      <td>кафе академия</td>\n",
              "      <td>нет</td>\n",
              "      <td>кафе</td>\n",
              "      <td>город Москва, Абельмановская улица, дом 6</td>\n",
              "      <td>95</td>\n",
              "    </tr>\n",
              "    <tr>\n",
              "      <td>3</td>\n",
              "      <td>21894</td>\n",
              "      <td>пиццетория</td>\n",
              "      <td>да</td>\n",
              "      <td>кафе</td>\n",
              "      <td>город Москва, Абрамцевская улица, дом 1</td>\n",
              "      <td>40</td>\n",
              "    </tr>\n",
              "    <tr>\n",
              "      <td>4</td>\n",
              "      <td>119365</td>\n",
              "      <td>кафе вишневая метель</td>\n",
              "      <td>нет</td>\n",
              "      <td>кафе</td>\n",
              "      <td>город Москва, Абрамцевская улица, дом 9, корпус 1</td>\n",
              "      <td>50</td>\n",
              "    </tr>\n",
              "  </tbody>\n",
              "</table>\n",
              "</div>"
            ],
            "text/plain": [
              "       id           object_name chain object_type  \\\n",
              "0  151635               сметана   нет        кафе   \n",
              "1   77874                родник   нет        кафе   \n",
              "2   24309         кафе академия   нет        кафе   \n",
              "3   21894            пиццетория    да        кафе   \n",
              "4  119365  кафе вишневая метель   нет        кафе   \n",
              "\n",
              "                                             address  number  \n",
              "0         город Москва, улица Егора Абакумова, дом 9      48  \n",
              "1  город Москва, улица Талалихина, дом 2/1, корпус 1      35  \n",
              "2          город Москва, Абельмановская улица, дом 6      95  \n",
              "3            город Москва, Абрамцевская улица, дом 1      40  \n",
              "4  город Москва, Абрамцевская улица, дом 9, корпус 1      50  "
            ]
          },
          "execution_count": 113,
          "metadata": {},
          "output_type": "execute_result"
        }
      ]
    },
    {
      "cell_type": "code",
      "metadata": {
        "id": "t7-EY0OQrp5w"
      },
      "source": [
        "import re\n"
      ],
      "execution_count": null,
      "outputs": []
    },
    {
      "cell_type": "markdown",
      "metadata": {
        "id": "iKSF3qO0_nZQ"
      },
      "source": [
        "Применим регулярные выражения. Воспользуемся сервисом https://regex101.com/"
      ]
    },
    {
      "cell_type": "code",
      "metadata": {
        "id": "jg0jDwy71jqB",
        "outputId": "b73bb1ac-52ea-4d9f-ee5d-a5e767fc1c1b"
      },
      "source": [
        "regex = r\",?([^,]*?(улица|бульвар|переулок|шоссе|проезд|проспект|набережная|площадь|квартал|аллея|линия|тупик|Проезд|микрорайон|деревня|километр|территория|просек|посёлок)[^,]*?),\"\n",
        "def split_it(x):\n",
        "  m = re.search(regex, x)\n",
        "  if m:\n",
        "    return m.group(1)\n",
        "\n",
        "df['street'] = df['address'].apply(lambda x: split_it(x))\n",
        "\n",
        "df"
      ],
      "execution_count": null,
      "outputs": [
        {
          "data": {
            "text/html": [
              "<div>\n",
              "<style scoped>\n",
              "    .dataframe tbody tr th:only-of-type {\n",
              "        vertical-align: middle;\n",
              "    }\n",
              "\n",
              "    .dataframe tbody tr th {\n",
              "        vertical-align: top;\n",
              "    }\n",
              "\n",
              "    .dataframe thead th {\n",
              "        text-align: right;\n",
              "    }\n",
              "</style>\n",
              "<table border=\"1\" class=\"dataframe\">\n",
              "  <thead>\n",
              "    <tr style=\"text-align: right;\">\n",
              "      <th></th>\n",
              "      <th>id</th>\n",
              "      <th>object_name</th>\n",
              "      <th>chain</th>\n",
              "      <th>object_type</th>\n",
              "      <th>address</th>\n",
              "      <th>number</th>\n",
              "      <th>street</th>\n",
              "    </tr>\n",
              "  </thead>\n",
              "  <tbody>\n",
              "    <tr>\n",
              "      <td>0</td>\n",
              "      <td>151635</td>\n",
              "      <td>сметана</td>\n",
              "      <td>нет</td>\n",
              "      <td>кафе</td>\n",
              "      <td>город Москва, улица Егора Абакумова, дом 9</td>\n",
              "      <td>48</td>\n",
              "      <td>улица Егора Абакумова</td>\n",
              "    </tr>\n",
              "    <tr>\n",
              "      <td>1</td>\n",
              "      <td>77874</td>\n",
              "      <td>родник</td>\n",
              "      <td>нет</td>\n",
              "      <td>кафе</td>\n",
              "      <td>город Москва, улица Талалихина, дом 2/1, корпус 1</td>\n",
              "      <td>35</td>\n",
              "      <td>улица Талалихина</td>\n",
              "    </tr>\n",
              "    <tr>\n",
              "      <td>2</td>\n",
              "      <td>24309</td>\n",
              "      <td>кафе академия</td>\n",
              "      <td>нет</td>\n",
              "      <td>кафе</td>\n",
              "      <td>город Москва, Абельмановская улица, дом 6</td>\n",
              "      <td>95</td>\n",
              "      <td>Абельмановская улица</td>\n",
              "    </tr>\n",
              "    <tr>\n",
              "      <td>3</td>\n",
              "      <td>21894</td>\n",
              "      <td>пиццетория</td>\n",
              "      <td>да</td>\n",
              "      <td>кафе</td>\n",
              "      <td>город Москва, Абрамцевская улица, дом 1</td>\n",
              "      <td>40</td>\n",
              "      <td>Абрамцевская улица</td>\n",
              "    </tr>\n",
              "    <tr>\n",
              "      <td>4</td>\n",
              "      <td>119365</td>\n",
              "      <td>кафе вишневая метель</td>\n",
              "      <td>нет</td>\n",
              "      <td>кафе</td>\n",
              "      <td>город Москва, Абрамцевская улица, дом 9, корпус 1</td>\n",
              "      <td>50</td>\n",
              "      <td>Абрамцевская улица</td>\n",
              "    </tr>\n",
              "    <tr>\n",
              "      <td>...</td>\n",
              "      <td>...</td>\n",
              "      <td>...</td>\n",
              "      <td>...</td>\n",
              "      <td>...</td>\n",
              "      <td>...</td>\n",
              "      <td>...</td>\n",
              "      <td>...</td>\n",
              "    </tr>\n",
              "    <tr>\n",
              "      <td>15361</td>\n",
              "      <td>208537</td>\n",
              "      <td>шоколадница</td>\n",
              "      <td>да</td>\n",
              "      <td>кафе</td>\n",
              "      <td>город Москва, 3-й Крутицкий переулок, дом 18</td>\n",
              "      <td>50</td>\n",
              "      <td>3-й Крутицкий переулок</td>\n",
              "    </tr>\n",
              "    <tr>\n",
              "      <td>15362</td>\n",
              "      <td>209264</td>\n",
              "      <td>шоколадница</td>\n",
              "      <td>да</td>\n",
              "      <td>кафе</td>\n",
              "      <td>город Москва, улица Земляной Вал, дом 33</td>\n",
              "      <td>10</td>\n",
              "      <td>улица Земляной Вал</td>\n",
              "    </tr>\n",
              "    <tr>\n",
              "      <td>15363</td>\n",
              "      <td>209186</td>\n",
              "      <td>шоколадница</td>\n",
              "      <td>да</td>\n",
              "      <td>кафе</td>\n",
              "      <td>город Москва, улица Земляной Вал, дом 33</td>\n",
              "      <td>20</td>\n",
              "      <td>улица Земляной Вал</td>\n",
              "    </tr>\n",
              "    <tr>\n",
              "      <td>15364</td>\n",
              "      <td>221900</td>\n",
              "      <td>шоколадница</td>\n",
              "      <td>да</td>\n",
              "      <td>кафе</td>\n",
              "      <td>город Москва, поселение Московский, Киевское ш...</td>\n",
              "      <td>36</td>\n",
              "      <td>Киевское шоссе</td>\n",
              "    </tr>\n",
              "    <tr>\n",
              "      <td>15365</td>\n",
              "      <td>222535</td>\n",
              "      <td>шоколадница</td>\n",
              "      <td>да</td>\n",
              "      <td>кафе</td>\n",
              "      <td>город Москва, Ходынский бульвар, дом 4</td>\n",
              "      <td>10</td>\n",
              "      <td>Ходынский бульвар</td>\n",
              "    </tr>\n",
              "  </tbody>\n",
              "</table>\n",
              "<p>15366 rows × 7 columns</p>\n",
              "</div>"
            ],
            "text/plain": [
              "           id           object_name chain object_type  \\\n",
              "0      151635               сметана   нет        кафе   \n",
              "1       77874                родник   нет        кафе   \n",
              "2       24309         кафе академия   нет        кафе   \n",
              "3       21894            пиццетория    да        кафе   \n",
              "4      119365  кафе вишневая метель   нет        кафе   \n",
              "...       ...                   ...   ...         ...   \n",
              "15361  208537           шоколадница    да        кафе   \n",
              "15362  209264           шоколадница    да        кафе   \n",
              "15363  209186           шоколадница    да        кафе   \n",
              "15364  221900           шоколадница    да        кафе   \n",
              "15365  222535           шоколадница    да        кафе   \n",
              "\n",
              "                                                 address  number  \\\n",
              "0             город Москва, улица Егора Абакумова, дом 9      48   \n",
              "1      город Москва, улица Талалихина, дом 2/1, корпус 1      35   \n",
              "2              город Москва, Абельмановская улица, дом 6      95   \n",
              "3                город Москва, Абрамцевская улица, дом 1      40   \n",
              "4      город Москва, Абрамцевская улица, дом 9, корпус 1      50   \n",
              "...                                                  ...     ...   \n",
              "15361       город Москва, 3-й Крутицкий переулок, дом 18      50   \n",
              "15362           город Москва, улица Земляной Вал, дом 33      10   \n",
              "15363           город Москва, улица Земляной Вал, дом 33      20   \n",
              "15364  город Москва, поселение Московский, Киевское ш...      36   \n",
              "15365             город Москва, Ходынский бульвар, дом 4      10   \n",
              "\n",
              "                        street  \n",
              "0        улица Егора Абакумова  \n",
              "1             улица Талалихина  \n",
              "2         Абельмановская улица  \n",
              "3           Абрамцевская улица  \n",
              "4           Абрамцевская улица  \n",
              "...                        ...  \n",
              "15361   3-й Крутицкий переулок  \n",
              "15362       улица Земляной Вал  \n",
              "15363       улица Земляной Вал  \n",
              "15364           Киевское шоссе  \n",
              "15365        Ходынский бульвар  \n",
              "\n",
              "[15366 rows x 7 columns]"
            ]
          },
          "execution_count": 115,
          "metadata": {},
          "output_type": "execute_result"
        }
      ]
    },
    {
      "cell_type": "markdown",
      "metadata": {
        "id": "3rDdeRX0ECQB"
      },
      "source": [
        "Через raise Exception мы выявили значения для группировки, помимо улиц.\n"
      ]
    },
    {
      "cell_type": "code",
      "metadata": {
        "id": "iQb7AO_rA-ng",
        "outputId": "c90ba3fb-650d-46a6-e919-d888cd7e3d19"
      },
      "source": [
        "df[df[\"street\"].isnull()]"
      ],
      "execution_count": null,
      "outputs": [
        {
          "data": {
            "text/html": [
              "<div>\n",
              "<style scoped>\n",
              "    .dataframe tbody tr th:only-of-type {\n",
              "        vertical-align: middle;\n",
              "    }\n",
              "\n",
              "    .dataframe tbody tr th {\n",
              "        vertical-align: top;\n",
              "    }\n",
              "\n",
              "    .dataframe thead th {\n",
              "        text-align: right;\n",
              "    }\n",
              "</style>\n",
              "<table border=\"1\" class=\"dataframe\">\n",
              "  <thead>\n",
              "    <tr style=\"text-align: right;\">\n",
              "      <th></th>\n",
              "      <th>id</th>\n",
              "      <th>object_name</th>\n",
              "      <th>chain</th>\n",
              "      <th>object_type</th>\n",
              "      <th>address</th>\n",
              "      <th>number</th>\n",
              "      <th>street</th>\n",
              "    </tr>\n",
              "  </thead>\n",
              "  <tbody>\n",
              "    <tr>\n",
              "      <td>1405</td>\n",
              "      <td>20199</td>\n",
              "      <td>это</td>\n",
              "      <td>нет</td>\n",
              "      <td>кафе</td>\n",
              "      <td>город Москва, город Зеленоград, корпус 401</td>\n",
              "      <td>35</td>\n",
              "      <td>None</td>\n",
              "    </tr>\n",
              "    <tr>\n",
              "      <td>1406</td>\n",
              "      <td>68113</td>\n",
              "      <td>френдс</td>\n",
              "      <td>нет</td>\n",
              "      <td>кафе</td>\n",
              "      <td>город Москва, город Зеленоград, корпус 435</td>\n",
              "      <td>34</td>\n",
              "      <td>None</td>\n",
              "    </tr>\n",
              "    <tr>\n",
              "      <td>1407</td>\n",
              "      <td>20105</td>\n",
              "      <td>кафе граф монте-кристо</td>\n",
              "      <td>нет</td>\n",
              "      <td>кафе</td>\n",
              "      <td>город Москва, город Зеленоград, корпус 436</td>\n",
              "      <td>40</td>\n",
              "      <td>None</td>\n",
              "    </tr>\n",
              "    <tr>\n",
              "      <td>1408</td>\n",
              "      <td>22982</td>\n",
              "      <td>альфорно</td>\n",
              "      <td>нет</td>\n",
              "      <td>кафе</td>\n",
              "      <td>город Москва, город Зеленоград, корпус 438</td>\n",
              "      <td>49</td>\n",
              "      <td>None</td>\n",
              "    </tr>\n",
              "    <tr>\n",
              "      <td>1409</td>\n",
              "      <td>151267</td>\n",
              "      <td>альфорно</td>\n",
              "      <td>нет</td>\n",
              "      <td>кафе</td>\n",
              "      <td>город Москва, город Зеленоград, корпус 438</td>\n",
              "      <td>45</td>\n",
              "      <td>None</td>\n",
              "    </tr>\n",
              "    <tr>\n",
              "      <td>...</td>\n",
              "      <td>...</td>\n",
              "      <td>...</td>\n",
              "      <td>...</td>\n",
              "      <td>...</td>\n",
              "      <td>...</td>\n",
              "      <td>...</td>\n",
              "      <td>...</td>\n",
              "    </tr>\n",
              "    <tr>\n",
              "      <td>14468</td>\n",
              "      <td>205933</td>\n",
              "      <td>кафе империя бургеров</td>\n",
              "      <td>нет</td>\n",
              "      <td>кафе</td>\n",
              "      <td>город Москва, город Зеленоград, корпус 1106Е</td>\n",
              "      <td>24</td>\n",
              "      <td>None</td>\n",
              "    </tr>\n",
              "    <tr>\n",
              "      <td>14470</td>\n",
              "      <td>220595</td>\n",
              "      <td>пекарня № 1</td>\n",
              "      <td>нет</td>\n",
              "      <td>кафетерий</td>\n",
              "      <td>город Москва, город Зеленоград, корпус 1627</td>\n",
              "      <td>6</td>\n",
              "      <td>None</td>\n",
              "    </tr>\n",
              "    <tr>\n",
              "      <td>14473</td>\n",
              "      <td>220978</td>\n",
              "      <td>бар суши takai</td>\n",
              "      <td>нет</td>\n",
              "      <td>кафе</td>\n",
              "      <td>город Москва, город Зеленоград, корпус 1602А</td>\n",
              "      <td>28</td>\n",
              "      <td>None</td>\n",
              "    </tr>\n",
              "    <tr>\n",
              "      <td>14478</td>\n",
              "      <td>211676</td>\n",
              "      <td>никольский</td>\n",
              "      <td>нет</td>\n",
              "      <td>ресторан</td>\n",
              "      <td>город Москва, город Зеленоград, корпус 532</td>\n",
              "      <td>120</td>\n",
              "      <td>None</td>\n",
              "    </tr>\n",
              "    <tr>\n",
              "      <td>15184</td>\n",
              "      <td>220587</td>\n",
              "      <td>пицца паоло</td>\n",
              "      <td>да</td>\n",
              "      <td>кафетерий</td>\n",
              "      <td>город Москва, город Зеленоград, корпус 1627</td>\n",
              "      <td>0</td>\n",
              "      <td>None</td>\n",
              "    </tr>\n",
              "  </tbody>\n",
              "</table>\n",
              "<p>142 rows × 7 columns</p>\n",
              "</div>"
            ],
            "text/plain": [
              "           id             object_name chain object_type  \\\n",
              "1405    20199                     это   нет        кафе   \n",
              "1406    68113                  френдс   нет        кафе   \n",
              "1407    20105  кафе граф монте-кристо   нет        кафе   \n",
              "1408    22982                альфорно   нет        кафе   \n",
              "1409   151267                альфорно   нет        кафе   \n",
              "...       ...                     ...   ...         ...   \n",
              "14468  205933   кафе империя бургеров   нет        кафе   \n",
              "14470  220595             пекарня № 1   нет   кафетерий   \n",
              "14473  220978          бар суши takai   нет        кафе   \n",
              "14478  211676              никольский   нет    ресторан   \n",
              "15184  220587             пицца паоло    да   кафетерий   \n",
              "\n",
              "                                            address  number street  \n",
              "1405     город Москва, город Зеленоград, корпус 401      35   None  \n",
              "1406     город Москва, город Зеленоград, корпус 435      34   None  \n",
              "1407     город Москва, город Зеленоград, корпус 436      40   None  \n",
              "1408     город Москва, город Зеленоград, корпус 438      49   None  \n",
              "1409     город Москва, город Зеленоград, корпус 438      45   None  \n",
              "...                                             ...     ...    ...  \n",
              "14468  город Москва, город Зеленоград, корпус 1106Е      24   None  \n",
              "14470   город Москва, город Зеленоград, корпус 1627       6   None  \n",
              "14473  город Москва, город Зеленоград, корпус 1602А      28   None  \n",
              "14478    город Москва, город Зеленоград, корпус 532     120   None  \n",
              "15184   город Москва, город Зеленоград, корпус 1627       0   None  \n",
              "\n",
              "[142 rows x 7 columns]"
            ]
          },
          "execution_count": 116,
          "metadata": {},
          "output_type": "execute_result"
        }
      ]
    },
    {
      "cell_type": "markdown",
      "metadata": {
        "id": "P4SNcjJSKI8V"
      },
      "source": [
        "Незаполненные значения остались по Зеленограду и поселению Сосенскому, мы исключим их из исследования, так как они повлияют на московские результаты из-за довольно большого количества объектов общественного питания."
      ]
    },
    {
      "cell_type": "markdown",
      "metadata": {
        "id": "onfoTU3fOVmf"
      },
      "source": [
        "**Топ-10 улиц по количеству объектов общественного питания.**"
      ]
    },
    {
      "cell_type": "markdown",
      "metadata": {
        "id": "RlPKXAlmTmGH"
      },
      "source": [
        "Получим информацию о районах через API Geocoder Yandex:"
      ]
    },
    {
      "cell_type": "code",
      "metadata": {
        "id": "I61SkaQzTmGH"
      },
      "source": [
        "#29e971cd5d93aab689.....\n",
        "# import requests\n",
        "# import json\n",
        "\n",
        "# payload = {\n",
        "#     \"apikey\":\"здесь был ключ\", \n",
        "#     \"format\":\"json\",\n",
        "#     \"results\": \"1\",\n",
        "#     \"kind\": \"district\",\n",
        "#     \"lang\": \"ru_RU\",\n",
        "#     \"geocode\":\"город Москва, улица Талалихина, дом 2/1, корпус 1\"\n",
        "#     }\n",
        "# r = requests.get('https://geocode-maps.yandex.ru/1.x', params=payload)\n",
        "\n",
        "# data = r.json()\n",
        "# print (data)"
      ],
      "execution_count": null,
      "outputs": []
    },
    {
      "cell_type": "markdown",
      "metadata": {
        "id": "Z-PYgKn9TmGI"
      },
      "source": [
        "Геокодинг от Яндекса не дал информацию о районах, а работать с координатами на данном этапе не считаем целесообоазным.\n",
        "\n",
        "Воспользуемся другими источниками https://hubofdata.ru/dataset/address_data_moscow/resource/e5960659-452e-4cab-a102-aaf9fe1e14ab"
      ]
    },
    {
      "cell_type": "code",
      "metadata": {
        "id": "VjQ4D-dUTmGI",
        "outputId": "fc15dd71-3418-493a-f297-80708e906e73"
      },
      "source": [
        "import requests\n",
        "import pandas as pd\n",
        "#r = requests.get(\"https://hubofdata.ru/dataset/70a0f134-06e7-4bee-bcad-0633e33ca34a/resource/e5960659-452e-4cab-a102-aaf9fe1e14ab/download/only_last.csv\")\n",
        "#ds = pd.read_csv(\"https://hubofdata.ru/dataset/70a0f134-06e7-4bee-bcad-0633e33ca34a/resource/e5960659-452e-4cab-a102-aaf9fe1e14ab/download/only_last.csv\", sep=\";\")\n",
        "\n",
        "ds = pd.read_csv('https://drive.google.com/u/0/uc?id=1wZS44Q1B4g38_cR0ey4E3O_3caPRhWak&export=download', sep=\";\")\n",
        "    \n",
        "ds"
      ],
      "execution_count": null,
      "outputs": [
        {
          "data": {
            "text/html": [
              "<div>\n",
              "<style scoped>\n",
              "    .dataframe tbody tr th:only-of-type {\n",
              "        vertical-align: middle;\n",
              "    }\n",
              "\n",
              "    .dataframe tbody tr th {\n",
              "        vertical-align: top;\n",
              "    }\n",
              "\n",
              "    .dataframe thead th {\n",
              "        text-align: right;\n",
              "    }\n",
              "</style>\n",
              "<table border=\"1\" class=\"dataframe\">\n",
              "  <thead>\n",
              "    <tr style=\"text-align: right;\">\n",
              "      <th></th>\n",
              "      <th>address</th>\n",
              "      <th>adm_district</th>\n",
              "      <th>city_district</th>\n",
              "      <th>lattitude</th>\n",
              "      <th>longitude</th>\n",
              "    </tr>\n",
              "  </thead>\n",
              "  <tbody>\n",
              "    <tr>\n",
              "      <td>0</td>\n",
              "      <td>город Москва, улица Егора Абакумова, дом 9</td>\n",
              "      <td>Северо-восточный</td>\n",
              "      <td>Ярославский</td>\n",
              "      <td>55.878996</td>\n",
              "      <td>37.714462</td>\n",
              "    </tr>\n",
              "    <tr>\n",
              "      <td>1</td>\n",
              "      <td>город Москва, улица Талалихина, дом 2/1, корпус 1</td>\n",
              "      <td>Центральный</td>\n",
              "      <td>Таганский</td>\n",
              "      <td>55.738298</td>\n",
              "      <td>37.673337</td>\n",
              "    </tr>\n",
              "    <tr>\n",
              "      <td>2</td>\n",
              "      <td>город Москва, Абельмановская улица, дом 6</td>\n",
              "      <td>Центральный</td>\n",
              "      <td>Таганский</td>\n",
              "      <td>55.735528</td>\n",
              "      <td>37.669516</td>\n",
              "    </tr>\n",
              "    <tr>\n",
              "      <td>3</td>\n",
              "      <td>город Москва, Абрамцевская улица, дом 1</td>\n",
              "      <td>Северо-восточный</td>\n",
              "      <td>Лианозово</td>\n",
              "      <td>55.892653</td>\n",
              "      <td>37.573036</td>\n",
              "    </tr>\n",
              "    <tr>\n",
              "      <td>4</td>\n",
              "      <td>город Москва, Абрамцевская улица, дом 9, корпус 1</td>\n",
              "      <td>Северо-восточный</td>\n",
              "      <td>Лианозово</td>\n",
              "      <td>55.904126</td>\n",
              "      <td>37.572181</td>\n",
              "    </tr>\n",
              "    <tr>\n",
              "      <td>...</td>\n",
              "      <td>...</td>\n",
              "      <td>...</td>\n",
              "      <td>...</td>\n",
              "      <td>...</td>\n",
              "      <td>...</td>\n",
              "    </tr>\n",
              "    <tr>\n",
              "      <td>15361</td>\n",
              "      <td>город Москва, 3-й Крутицкий переулок, дом 18</td>\n",
              "      <td>Центральный</td>\n",
              "      <td>Таганский</td>\n",
              "      <td>55.731821</td>\n",
              "      <td>37.663893</td>\n",
              "    </tr>\n",
              "    <tr>\n",
              "      <td>15362</td>\n",
              "      <td>город Москва, улица Земляной Вал, дом 33</td>\n",
              "      <td>Центральный</td>\n",
              "      <td>Басманный</td>\n",
              "      <td>55.757339</td>\n",
              "      <td>37.659236</td>\n",
              "    </tr>\n",
              "    <tr>\n",
              "      <td>15363</td>\n",
              "      <td>город Москва, улица Земляной Вал, дом 33</td>\n",
              "      <td>Центральный</td>\n",
              "      <td>Басманный</td>\n",
              "      <td>55.757339</td>\n",
              "      <td>37.659236</td>\n",
              "    </tr>\n",
              "    <tr>\n",
              "      <td>15364</td>\n",
              "      <td>город Москва, поселение Московский, Киевское ш...</td>\n",
              "      <td>Новомосковский</td>\n",
              "      <td>Новомосковский</td>\n",
              "      <td>55.634242</td>\n",
              "      <td>37.441395</td>\n",
              "    </tr>\n",
              "    <tr>\n",
              "      <td>15365</td>\n",
              "      <td>город Москва, Ходынский бульвар, дом 4</td>\n",
              "      <td>Северный</td>\n",
              "      <td>Хорошевский</td>\n",
              "      <td>55.790387</td>\n",
              "      <td>37.530400</td>\n",
              "    </tr>\n",
              "  </tbody>\n",
              "</table>\n",
              "<p>15366 rows × 5 columns</p>\n",
              "</div>"
            ],
            "text/plain": [
              "                                                 address      adm_district  \\\n",
              "0             город Москва, улица Егора Абакумова, дом 9  Северо-восточный   \n",
              "1      город Москва, улица Талалихина, дом 2/1, корпус 1       Центральный   \n",
              "2              город Москва, Абельмановская улица, дом 6       Центральный   \n",
              "3                город Москва, Абрамцевская улица, дом 1  Северо-восточный   \n",
              "4      город Москва, Абрамцевская улица, дом 9, корпус 1  Северо-восточный   \n",
              "...                                                  ...               ...   \n",
              "15361       город Москва, 3-й Крутицкий переулок, дом 18       Центральный   \n",
              "15362           город Москва, улица Земляной Вал, дом 33       Центральный   \n",
              "15363           город Москва, улица Земляной Вал, дом 33       Центральный   \n",
              "15364  город Москва, поселение Московский, Киевское ш...    Новомосковский   \n",
              "15365             город Москва, Ходынский бульвар, дом 4          Северный   \n",
              "\n",
              "        city_district  lattitude  longitude  \n",
              "0         Ярославский  55.878996  37.714462  \n",
              "1           Таганский  55.738298  37.673337  \n",
              "2           Таганский  55.735528  37.669516  \n",
              "3           Лианозово  55.892653  37.573036  \n",
              "4           Лианозово  55.904126  37.572181  \n",
              "...               ...        ...        ...  \n",
              "15361       Таганский  55.731821  37.663893  \n",
              "15362       Басманный  55.757339  37.659236  \n",
              "15363       Басманный  55.757339  37.659236  \n",
              "15364  Новомосковский  55.634242  37.441395  \n",
              "15365     Хорошевский  55.790387  37.530400  \n",
              "\n",
              "[15366 rows x 5 columns]"
            ]
          },
          "execution_count": 118,
          "metadata": {},
          "output_type": "execute_result"
        }
      ]
    },
    {
      "cell_type": "markdown",
      "metadata": {
        "id": "UAFi-gIyTmGI"
      },
      "source": [
        "Из внешнего источника мы получили датафрейм, содержащий названия районов. Соединим его с нашим основным датафреймом:"
      ]
    },
    {
      "cell_type": "code",
      "metadata": {
        "id": "DSJxC5F6TmGI",
        "outputId": "79e552ee-abe2-4549-81c8-93671b451b28"
      },
      "source": [
        "district_df = df.merge(ds, on='address', how='left')\n",
        "district_df"
      ],
      "execution_count": null,
      "outputs": [
        {
          "data": {
            "text/html": [
              "<div>\n",
              "<style scoped>\n",
              "    .dataframe tbody tr th:only-of-type {\n",
              "        vertical-align: middle;\n",
              "    }\n",
              "\n",
              "    .dataframe tbody tr th {\n",
              "        vertical-align: top;\n",
              "    }\n",
              "\n",
              "    .dataframe thead th {\n",
              "        text-align: right;\n",
              "    }\n",
              "</style>\n",
              "<table border=\"1\" class=\"dataframe\">\n",
              "  <thead>\n",
              "    <tr style=\"text-align: right;\">\n",
              "      <th></th>\n",
              "      <th>id</th>\n",
              "      <th>object_name</th>\n",
              "      <th>chain</th>\n",
              "      <th>object_type</th>\n",
              "      <th>address</th>\n",
              "      <th>number</th>\n",
              "      <th>street</th>\n",
              "      <th>adm_district</th>\n",
              "      <th>city_district</th>\n",
              "      <th>lattitude</th>\n",
              "      <th>longitude</th>\n",
              "    </tr>\n",
              "  </thead>\n",
              "  <tbody>\n",
              "    <tr>\n",
              "      <td>0</td>\n",
              "      <td>151635</td>\n",
              "      <td>сметана</td>\n",
              "      <td>нет</td>\n",
              "      <td>кафе</td>\n",
              "      <td>город Москва, улица Егора Абакумова, дом 9</td>\n",
              "      <td>48</td>\n",
              "      <td>улица Егора Абакумова</td>\n",
              "      <td>Северо-восточный</td>\n",
              "      <td>Ярославский</td>\n",
              "      <td>55.878996</td>\n",
              "      <td>37.714462</td>\n",
              "    </tr>\n",
              "    <tr>\n",
              "      <td>1</td>\n",
              "      <td>77874</td>\n",
              "      <td>родник</td>\n",
              "      <td>нет</td>\n",
              "      <td>кафе</td>\n",
              "      <td>город Москва, улица Талалихина, дом 2/1, корпус 1</td>\n",
              "      <td>35</td>\n",
              "      <td>улица Талалихина</td>\n",
              "      <td>Центральный</td>\n",
              "      <td>Таганский</td>\n",
              "      <td>55.738298</td>\n",
              "      <td>37.673337</td>\n",
              "    </tr>\n",
              "    <tr>\n",
              "      <td>2</td>\n",
              "      <td>24309</td>\n",
              "      <td>кафе академия</td>\n",
              "      <td>нет</td>\n",
              "      <td>кафе</td>\n",
              "      <td>город Москва, Абельмановская улица, дом 6</td>\n",
              "      <td>95</td>\n",
              "      <td>Абельмановская улица</td>\n",
              "      <td>Центральный</td>\n",
              "      <td>Таганский</td>\n",
              "      <td>55.735528</td>\n",
              "      <td>37.669516</td>\n",
              "    </tr>\n",
              "    <tr>\n",
              "      <td>3</td>\n",
              "      <td>21894</td>\n",
              "      <td>пиццетория</td>\n",
              "      <td>да</td>\n",
              "      <td>кафе</td>\n",
              "      <td>город Москва, Абрамцевская улица, дом 1</td>\n",
              "      <td>40</td>\n",
              "      <td>Абрамцевская улица</td>\n",
              "      <td>Северо-восточный</td>\n",
              "      <td>Лианозово</td>\n",
              "      <td>55.892653</td>\n",
              "      <td>37.573036</td>\n",
              "    </tr>\n",
              "    <tr>\n",
              "      <td>4</td>\n",
              "      <td>119365</td>\n",
              "      <td>кафе вишневая метель</td>\n",
              "      <td>нет</td>\n",
              "      <td>кафе</td>\n",
              "      <td>город Москва, Абрамцевская улица, дом 9, корпус 1</td>\n",
              "      <td>50</td>\n",
              "      <td>Абрамцевская улица</td>\n",
              "      <td>Северо-восточный</td>\n",
              "      <td>Лианозово</td>\n",
              "      <td>55.904126</td>\n",
              "      <td>37.572181</td>\n",
              "    </tr>\n",
              "    <tr>\n",
              "      <td>...</td>\n",
              "      <td>...</td>\n",
              "      <td>...</td>\n",
              "      <td>...</td>\n",
              "      <td>...</td>\n",
              "      <td>...</td>\n",
              "      <td>...</td>\n",
              "      <td>...</td>\n",
              "      <td>...</td>\n",
              "      <td>...</td>\n",
              "      <td>...</td>\n",
              "      <td>...</td>\n",
              "    </tr>\n",
              "    <tr>\n",
              "      <td>100187</td>\n",
              "      <td>222535</td>\n",
              "      <td>шоколадница</td>\n",
              "      <td>да</td>\n",
              "      <td>кафе</td>\n",
              "      <td>город Москва, Ходынский бульвар, дом 4</td>\n",
              "      <td>10</td>\n",
              "      <td>Ходынский бульвар</td>\n",
              "      <td>Северный</td>\n",
              "      <td>Хорошевский</td>\n",
              "      <td>55.790387</td>\n",
              "      <td>37.530400</td>\n",
              "    </tr>\n",
              "    <tr>\n",
              "      <td>100188</td>\n",
              "      <td>222535</td>\n",
              "      <td>шоколадница</td>\n",
              "      <td>да</td>\n",
              "      <td>кафе</td>\n",
              "      <td>город Москва, Ходынский бульвар, дом 4</td>\n",
              "      <td>10</td>\n",
              "      <td>Ходынский бульвар</td>\n",
              "      <td>Северный</td>\n",
              "      <td>Хорошевский</td>\n",
              "      <td>55.790387</td>\n",
              "      <td>37.530400</td>\n",
              "    </tr>\n",
              "    <tr>\n",
              "      <td>100189</td>\n",
              "      <td>222535</td>\n",
              "      <td>шоколадница</td>\n",
              "      <td>да</td>\n",
              "      <td>кафе</td>\n",
              "      <td>город Москва, Ходынский бульвар, дом 4</td>\n",
              "      <td>10</td>\n",
              "      <td>Ходынский бульвар</td>\n",
              "      <td>Северный</td>\n",
              "      <td>Хорошевский</td>\n",
              "      <td>55.790387</td>\n",
              "      <td>37.530400</td>\n",
              "    </tr>\n",
              "    <tr>\n",
              "      <td>100190</td>\n",
              "      <td>222535</td>\n",
              "      <td>шоколадница</td>\n",
              "      <td>да</td>\n",
              "      <td>кафе</td>\n",
              "      <td>город Москва, Ходынский бульвар, дом 4</td>\n",
              "      <td>10</td>\n",
              "      <td>Ходынский бульвар</td>\n",
              "      <td>Северный</td>\n",
              "      <td>Хорошевский</td>\n",
              "      <td>55.790387</td>\n",
              "      <td>37.530400</td>\n",
              "    </tr>\n",
              "    <tr>\n",
              "      <td>100191</td>\n",
              "      <td>222535</td>\n",
              "      <td>шоколадница</td>\n",
              "      <td>да</td>\n",
              "      <td>кафе</td>\n",
              "      <td>город Москва, Ходынский бульвар, дом 4</td>\n",
              "      <td>10</td>\n",
              "      <td>Ходынский бульвар</td>\n",
              "      <td>Северный</td>\n",
              "      <td>Хорошевский</td>\n",
              "      <td>55.790387</td>\n",
              "      <td>37.530400</td>\n",
              "    </tr>\n",
              "  </tbody>\n",
              "</table>\n",
              "<p>100192 rows × 11 columns</p>\n",
              "</div>"
            ],
            "text/plain": [
              "            id           object_name chain object_type  \\\n",
              "0       151635               сметана   нет        кафе   \n",
              "1        77874                родник   нет        кафе   \n",
              "2        24309         кафе академия   нет        кафе   \n",
              "3        21894            пиццетория    да        кафе   \n",
              "4       119365  кафе вишневая метель   нет        кафе   \n",
              "...        ...                   ...   ...         ...   \n",
              "100187  222535           шоколадница    да        кафе   \n",
              "100188  222535           шоколадница    да        кафе   \n",
              "100189  222535           шоколадница    да        кафе   \n",
              "100190  222535           шоколадница    да        кафе   \n",
              "100191  222535           шоколадница    да        кафе   \n",
              "\n",
              "                                                  address  number  \\\n",
              "0              город Москва, улица Егора Абакумова, дом 9      48   \n",
              "1       город Москва, улица Талалихина, дом 2/1, корпус 1      35   \n",
              "2               город Москва, Абельмановская улица, дом 6      95   \n",
              "3                 город Москва, Абрамцевская улица, дом 1      40   \n",
              "4       город Москва, Абрамцевская улица, дом 9, корпус 1      50   \n",
              "...                                                   ...     ...   \n",
              "100187             город Москва, Ходынский бульвар, дом 4      10   \n",
              "100188             город Москва, Ходынский бульвар, дом 4      10   \n",
              "100189             город Москва, Ходынский бульвар, дом 4      10   \n",
              "100190             город Москва, Ходынский бульвар, дом 4      10   \n",
              "100191             город Москва, Ходынский бульвар, дом 4      10   \n",
              "\n",
              "                        street      adm_district city_district  lattitude  \\\n",
              "0        улица Егора Абакумова  Северо-восточный   Ярославский  55.878996   \n",
              "1             улица Талалихина       Центральный     Таганский  55.738298   \n",
              "2         Абельмановская улица       Центральный     Таганский  55.735528   \n",
              "3           Абрамцевская улица  Северо-восточный     Лианозово  55.892653   \n",
              "4           Абрамцевская улица  Северо-восточный     Лианозово  55.904126   \n",
              "...                        ...               ...           ...        ...   \n",
              "100187       Ходынский бульвар          Северный   Хорошевский  55.790387   \n",
              "100188       Ходынский бульвар          Северный   Хорошевский  55.790387   \n",
              "100189       Ходынский бульвар          Северный   Хорошевский  55.790387   \n",
              "100190       Ходынский бульвар          Северный   Хорошевский  55.790387   \n",
              "100191       Ходынский бульвар          Северный   Хорошевский  55.790387   \n",
              "\n",
              "        longitude  \n",
              "0       37.714462  \n",
              "1       37.673337  \n",
              "2       37.669516  \n",
              "3       37.573036  \n",
              "4       37.572181  \n",
              "...           ...  \n",
              "100187  37.530400  \n",
              "100188  37.530400  \n",
              "100189  37.530400  \n",
              "100190  37.530400  \n",
              "100191  37.530400  \n",
              "\n",
              "[100192 rows x 11 columns]"
            ]
          },
          "execution_count": 157,
          "metadata": {},
          "output_type": "execute_result"
        }
      ]
    },
    {
      "cell_type": "code",
      "metadata": {
        "id": "Xe4HibhoTmGI",
        "outputId": "6c70c51d-9e79-4ced-ac73-c1e992225dce"
      },
      "source": [
        "check_street = district_df[district_df['street'].isna()]\n",
        "check_street"
      ],
      "execution_count": null,
      "outputs": [
        {
          "data": {
            "text/html": [
              "<div>\n",
              "<style scoped>\n",
              "    .dataframe tbody tr th:only-of-type {\n",
              "        vertical-align: middle;\n",
              "    }\n",
              "\n",
              "    .dataframe tbody tr th {\n",
              "        vertical-align: top;\n",
              "    }\n",
              "\n",
              "    .dataframe thead th {\n",
              "        text-align: right;\n",
              "    }\n",
              "</style>\n",
              "<table border=\"1\" class=\"dataframe\">\n",
              "  <thead>\n",
              "    <tr style=\"text-align: right;\">\n",
              "      <th></th>\n",
              "      <th>id</th>\n",
              "      <th>object_name</th>\n",
              "      <th>chain</th>\n",
              "      <th>object_type</th>\n",
              "      <th>address</th>\n",
              "      <th>number</th>\n",
              "      <th>street</th>\n",
              "      <th>adm_district</th>\n",
              "      <th>city_district</th>\n",
              "      <th>lattitude</th>\n",
              "      <th>longitude</th>\n",
              "    </tr>\n",
              "  </thead>\n",
              "  <tbody>\n",
              "    <tr>\n",
              "      <td>2840</td>\n",
              "      <td>20199</td>\n",
              "      <td>это</td>\n",
              "      <td>нет</td>\n",
              "      <td>кафе</td>\n",
              "      <td>город Москва, город Зеленоград, корпус 401</td>\n",
              "      <td>35</td>\n",
              "      <td>None</td>\n",
              "      <td>Зеленоградский</td>\n",
              "      <td>Матушкино</td>\n",
              "      <td>56.000396</td>\n",
              "      <td>37.208767</td>\n",
              "    </tr>\n",
              "    <tr>\n",
              "      <td>2841</td>\n",
              "      <td>68113</td>\n",
              "      <td>френдс</td>\n",
              "      <td>нет</td>\n",
              "      <td>кафе</td>\n",
              "      <td>город Москва, город Зеленоград, корпус 435</td>\n",
              "      <td>34</td>\n",
              "      <td>None</td>\n",
              "      <td>Зеленоградский</td>\n",
              "      <td>Матушкино</td>\n",
              "      <td>55.995987</td>\n",
              "      <td>37.211471</td>\n",
              "    </tr>\n",
              "    <tr>\n",
              "      <td>2842</td>\n",
              "      <td>20105</td>\n",
              "      <td>кафе граф монте-кристо</td>\n",
              "      <td>нет</td>\n",
              "      <td>кафе</td>\n",
              "      <td>город Москва, город Зеленоград, корпус 436</td>\n",
              "      <td>40</td>\n",
              "      <td>None</td>\n",
              "      <td>Зеленоградский</td>\n",
              "      <td>Матушкино</td>\n",
              "      <td>55.995589</td>\n",
              "      <td>37.211309</td>\n",
              "    </tr>\n",
              "    <tr>\n",
              "      <td>2843</td>\n",
              "      <td>22982</td>\n",
              "      <td>альфорно</td>\n",
              "      <td>нет</td>\n",
              "      <td>кафе</td>\n",
              "      <td>город Москва, город Зеленоград, корпус 438</td>\n",
              "      <td>49</td>\n",
              "      <td>None</td>\n",
              "      <td>Зеленоградский</td>\n",
              "      <td>Матушкино</td>\n",
              "      <td>55.993656</td>\n",
              "      <td>37.212980</td>\n",
              "    </tr>\n",
              "    <tr>\n",
              "      <td>2844</td>\n",
              "      <td>22982</td>\n",
              "      <td>альфорно</td>\n",
              "      <td>нет</td>\n",
              "      <td>кафе</td>\n",
              "      <td>город Москва, город Зеленоград, корпус 438</td>\n",
              "      <td>49</td>\n",
              "      <td>None</td>\n",
              "      <td>Зеленоградский</td>\n",
              "      <td>Матушкино</td>\n",
              "      <td>55.993656</td>\n",
              "      <td>37.212980</td>\n",
              "    </tr>\n",
              "    <tr>\n",
              "      <td>...</td>\n",
              "      <td>...</td>\n",
              "      <td>...</td>\n",
              "      <td>...</td>\n",
              "      <td>...</td>\n",
              "      <td>...</td>\n",
              "      <td>...</td>\n",
              "      <td>...</td>\n",
              "      <td>...</td>\n",
              "      <td>...</td>\n",
              "      <td>...</td>\n",
              "      <td>...</td>\n",
              "    </tr>\n",
              "    <tr>\n",
              "      <td>81118</td>\n",
              "      <td>220595</td>\n",
              "      <td>пекарня № 1</td>\n",
              "      <td>нет</td>\n",
              "      <td>кафетерий</td>\n",
              "      <td>город Москва, город Зеленоград, корпус 1627</td>\n",
              "      <td>6</td>\n",
              "      <td>None</td>\n",
              "      <td>Зеленоградский</td>\n",
              "      <td>Крюково</td>\n",
              "      <td>55.970935</td>\n",
              "      <td>37.152215</td>\n",
              "    </tr>\n",
              "    <tr>\n",
              "      <td>81121</td>\n",
              "      <td>220978</td>\n",
              "      <td>бар суши takai</td>\n",
              "      <td>нет</td>\n",
              "      <td>кафе</td>\n",
              "      <td>город Москва, город Зеленоград, корпус 1602А</td>\n",
              "      <td>28</td>\n",
              "      <td>None</td>\n",
              "      <td>Зеленоградский</td>\n",
              "      <td>Крюково</td>\n",
              "      <td>55.974332</td>\n",
              "      <td>37.149691</td>\n",
              "    </tr>\n",
              "    <tr>\n",
              "      <td>81136</td>\n",
              "      <td>211676</td>\n",
              "      <td>никольский</td>\n",
              "      <td>нет</td>\n",
              "      <td>ресторан</td>\n",
              "      <td>город Москва, город Зеленоград, корпус 532</td>\n",
              "      <td>120</td>\n",
              "      <td>None</td>\n",
              "      <td>Зеленоградский</td>\n",
              "      <td>Савелки</td>\n",
              "      <td>55.992729</td>\n",
              "      <td>37.256935</td>\n",
              "    </tr>\n",
              "    <tr>\n",
              "      <td>97815</td>\n",
              "      <td>220587</td>\n",
              "      <td>пицца паоло</td>\n",
              "      <td>да</td>\n",
              "      <td>кафетерий</td>\n",
              "      <td>город Москва, город Зеленоград, корпус 1627</td>\n",
              "      <td>0</td>\n",
              "      <td>None</td>\n",
              "      <td>Зеленоградский</td>\n",
              "      <td>Крюково</td>\n",
              "      <td>55.970935</td>\n",
              "      <td>37.152215</td>\n",
              "    </tr>\n",
              "    <tr>\n",
              "      <td>97816</td>\n",
              "      <td>220587</td>\n",
              "      <td>пицца паоло</td>\n",
              "      <td>да</td>\n",
              "      <td>кафетерий</td>\n",
              "      <td>город Москва, город Зеленоград, корпус 1627</td>\n",
              "      <td>0</td>\n",
              "      <td>None</td>\n",
              "      <td>Зеленоградский</td>\n",
              "      <td>Крюково</td>\n",
              "      <td>55.970935</td>\n",
              "      <td>37.152215</td>\n",
              "    </tr>\n",
              "  </tbody>\n",
              "</table>\n",
              "<p>198 rows × 11 columns</p>\n",
              "</div>"
            ],
            "text/plain": [
              "           id             object_name chain object_type  \\\n",
              "2840    20199                     это   нет        кафе   \n",
              "2841    68113                  френдс   нет        кафе   \n",
              "2842    20105  кафе граф монте-кристо   нет        кафе   \n",
              "2843    22982                альфорно   нет        кафе   \n",
              "2844    22982                альфорно   нет        кафе   \n",
              "...       ...                     ...   ...         ...   \n",
              "81118  220595             пекарня № 1   нет   кафетерий   \n",
              "81121  220978          бар суши takai   нет        кафе   \n",
              "81136  211676              никольский   нет    ресторан   \n",
              "97815  220587             пицца паоло    да   кафетерий   \n",
              "97816  220587             пицца паоло    да   кафетерий   \n",
              "\n",
              "                                            address  number street  \\\n",
              "2840     город Москва, город Зеленоград, корпус 401      35   None   \n",
              "2841     город Москва, город Зеленоград, корпус 435      34   None   \n",
              "2842     город Москва, город Зеленоград, корпус 436      40   None   \n",
              "2843     город Москва, город Зеленоград, корпус 438      49   None   \n",
              "2844     город Москва, город Зеленоград, корпус 438      49   None   \n",
              "...                                             ...     ...    ...   \n",
              "81118   город Москва, город Зеленоград, корпус 1627       6   None   \n",
              "81121  город Москва, город Зеленоград, корпус 1602А      28   None   \n",
              "81136    город Москва, город Зеленоград, корпус 532     120   None   \n",
              "97815   город Москва, город Зеленоград, корпус 1627       0   None   \n",
              "97816   город Москва, город Зеленоград, корпус 1627       0   None   \n",
              "\n",
              "         adm_district city_district  lattitude  longitude  \n",
              "2840   Зеленоградский     Матушкино  56.000396  37.208767  \n",
              "2841   Зеленоградский     Матушкино  55.995987  37.211471  \n",
              "2842   Зеленоградский     Матушкино  55.995589  37.211309  \n",
              "2843   Зеленоградский     Матушкино  55.993656  37.212980  \n",
              "2844   Зеленоградский     Матушкино  55.993656  37.212980  \n",
              "...               ...           ...        ...        ...  \n",
              "81118  Зеленоградский       Крюково  55.970935  37.152215  \n",
              "81121  Зеленоградский       Крюково  55.974332  37.149691  \n",
              "81136  Зеленоградский       Савелки  55.992729  37.256935  \n",
              "97815  Зеленоградский       Крюково  55.970935  37.152215  \n",
              "97816  Зеленоградский       Крюково  55.970935  37.152215  \n",
              "\n",
              "[198 rows x 11 columns]"
            ]
          },
          "execution_count": 167,
          "metadata": {},
          "output_type": "execute_result"
        }
      ]
    },
    {
      "cell_type": "markdown",
      "metadata": {
        "id": "C7vNXS2uTmGI"
      },
      "source": [
        "198 пропусков, можем удалить."
      ]
    },
    {
      "cell_type": "code",
      "metadata": {
        "id": "-11bCtz_TmGI",
        "outputId": "d3637230-4e3b-460c-b2b4-82a752b68293"
      },
      "source": [
        "district_df.dropna(subset=['street'], inplace=True)\n",
        "district_df['street'].isna().sum()"
      ],
      "execution_count": null,
      "outputs": [
        {
          "data": {
            "text/plain": [
              "0"
            ]
          },
          "execution_count": 168,
          "metadata": {},
          "output_type": "execute_result"
        }
      ]
    },
    {
      "cell_type": "code",
      "metadata": {
        "scrolled": true,
        "id": "ieSg214uTmGJ",
        "outputId": "b90c1ea4-1d6e-400c-f8d2-3ea8088b8623"
      },
      "source": [
        "top_street = df.groupby('street', as_index=False).agg({'object_name':'count'})\n",
        "top_street.columns = ['street', 'objects']\n",
        "top_street = top_street.sort_values(by='objects', ascending = False)\n",
        "top_street10 = top_street.head(10)\n",
        "#top_street10\n",
        "\n",
        "fig = go.Figure(data=[go.Table(\n",
        "    header=dict(values=list(top_street10.columns),\n",
        "                fill_color='paleturquoise',\n",
        "                align='left'),\n",
        "    cells=dict(values=[top_street10.street, top_street10.objects],\n",
        "               fill_color='lavender',\n",
        "               align='left'))\n",
        "])\n",
        "\n",
        "fig.show()\n",
        "                                                                                 "
      ],
      "execution_count": null,
      "outputs": [
        {
          "data": {
            "application/vnd.plotly.v1+json": {
              "config": {
                "plotlyServerURL": "https://plot.ly"
              },
              "data": [
                {
                  "cells": {
                    "align": "left",
                    "fill": {
                      "color": "lavender"
                    },
                    "values": [
                      [
                        " проспект Мира",
                        " Профсоюзная улица",
                        " Ленинградский проспект",
                        " Пресненская набережная",
                        " Варшавское шоссе",
                        " Ленинский проспект",
                        " проспект Вернадского",
                        " Кутузовский проспект",
                        " Каширское шоссе",
                        " Кировоградская улица"
                      ],
                      [
                        204,
                        182,
                        171,
                        167,
                        164,
                        147,
                        132,
                        114,
                        112,
                        110
                      ]
                    ]
                  },
                  "header": {
                    "align": "left",
                    "fill": {
                      "color": "paleturquoise"
                    },
                    "values": [
                      "street",
                      "objects"
                    ]
                  },
                  "type": "table"
                }
              ],
              "layout": {
                "template": {
                  "data": {
                    "bar": [
                      {
                        "error_x": {
                          "color": "#2a3f5f"
                        },
                        "error_y": {
                          "color": "#2a3f5f"
                        },
                        "marker": {
                          "line": {
                            "color": "#E5ECF6",
                            "width": 0.5
                          }
                        },
                        "type": "bar"
                      }
                    ],
                    "barpolar": [
                      {
                        "marker": {
                          "line": {
                            "color": "#E5ECF6",
                            "width": 0.5
                          }
                        },
                        "type": "barpolar"
                      }
                    ],
                    "carpet": [
                      {
                        "aaxis": {
                          "endlinecolor": "#2a3f5f",
                          "gridcolor": "white",
                          "linecolor": "white",
                          "minorgridcolor": "white",
                          "startlinecolor": "#2a3f5f"
                        },
                        "baxis": {
                          "endlinecolor": "#2a3f5f",
                          "gridcolor": "white",
                          "linecolor": "white",
                          "minorgridcolor": "white",
                          "startlinecolor": "#2a3f5f"
                        },
                        "type": "carpet"
                      }
                    ],
                    "choropleth": [
                      {
                        "colorbar": {
                          "outlinewidth": 0,
                          "ticks": ""
                        },
                        "type": "choropleth"
                      }
                    ],
                    "contour": [
                      {
                        "colorbar": {
                          "outlinewidth": 0,
                          "ticks": ""
                        },
                        "colorscale": [
                          [
                            0,
                            "#0d0887"
                          ],
                          [
                            0.1111111111,
                            "#46039f"
                          ],
                          [
                            0.2222222222,
                            "#7201a8"
                          ],
                          [
                            0.3333333333,
                            "#9c179e"
                          ],
                          [
                            0.4444444444,
                            "#bd3786"
                          ],
                          [
                            0.5555555556,
                            "#d8576b"
                          ],
                          [
                            0.6666666667,
                            "#ed7953"
                          ],
                          [
                            0.7777777778,
                            "#fb9f3a"
                          ],
                          [
                            0.8888888889,
                            "#fdca26"
                          ],
                          [
                            1,
                            "#f0f921"
                          ]
                        ],
                        "type": "contour"
                      }
                    ],
                    "contourcarpet": [
                      {
                        "colorbar": {
                          "outlinewidth": 0,
                          "ticks": ""
                        },
                        "type": "contourcarpet"
                      }
                    ],
                    "heatmap": [
                      {
                        "colorbar": {
                          "outlinewidth": 0,
                          "ticks": ""
                        },
                        "colorscale": [
                          [
                            0,
                            "#0d0887"
                          ],
                          [
                            0.1111111111,
                            "#46039f"
                          ],
                          [
                            0.2222222222,
                            "#7201a8"
                          ],
                          [
                            0.3333333333,
                            "#9c179e"
                          ],
                          [
                            0.4444444444,
                            "#bd3786"
                          ],
                          [
                            0.5555555556,
                            "#d8576b"
                          ],
                          [
                            0.6666666667,
                            "#ed7953"
                          ],
                          [
                            0.7777777778,
                            "#fb9f3a"
                          ],
                          [
                            0.8888888889,
                            "#fdca26"
                          ],
                          [
                            1,
                            "#f0f921"
                          ]
                        ],
                        "type": "heatmap"
                      }
                    ],
                    "heatmapgl": [
                      {
                        "colorbar": {
                          "outlinewidth": 0,
                          "ticks": ""
                        },
                        "colorscale": [
                          [
                            0,
                            "#0d0887"
                          ],
                          [
                            0.1111111111,
                            "#46039f"
                          ],
                          [
                            0.2222222222,
                            "#7201a8"
                          ],
                          [
                            0.3333333333,
                            "#9c179e"
                          ],
                          [
                            0.4444444444,
                            "#bd3786"
                          ],
                          [
                            0.5555555556,
                            "#d8576b"
                          ],
                          [
                            0.6666666667,
                            "#ed7953"
                          ],
                          [
                            0.7777777778,
                            "#fb9f3a"
                          ],
                          [
                            0.8888888889,
                            "#fdca26"
                          ],
                          [
                            1,
                            "#f0f921"
                          ]
                        ],
                        "type": "heatmapgl"
                      }
                    ],
                    "histogram": [
                      {
                        "marker": {
                          "colorbar": {
                            "outlinewidth": 0,
                            "ticks": ""
                          }
                        },
                        "type": "histogram"
                      }
                    ],
                    "histogram2d": [
                      {
                        "colorbar": {
                          "outlinewidth": 0,
                          "ticks": ""
                        },
                        "colorscale": [
                          [
                            0,
                            "#0d0887"
                          ],
                          [
                            0.1111111111,
                            "#46039f"
                          ],
                          [
                            0.2222222222,
                            "#7201a8"
                          ],
                          [
                            0.3333333333,
                            "#9c179e"
                          ],
                          [
                            0.4444444444,
                            "#bd3786"
                          ],
                          [
                            0.5555555556,
                            "#d8576b"
                          ],
                          [
                            0.6666666667,
                            "#ed7953"
                          ],
                          [
                            0.7777777778,
                            "#fb9f3a"
                          ],
                          [
                            0.8888888889,
                            "#fdca26"
                          ],
                          [
                            1,
                            "#f0f921"
                          ]
                        ],
                        "type": "histogram2d"
                      }
                    ],
                    "histogram2dcontour": [
                      {
                        "colorbar": {
                          "outlinewidth": 0,
                          "ticks": ""
                        },
                        "colorscale": [
                          [
                            0,
                            "#0d0887"
                          ],
                          [
                            0.1111111111,
                            "#46039f"
                          ],
                          [
                            0.2222222222,
                            "#7201a8"
                          ],
                          [
                            0.3333333333,
                            "#9c179e"
                          ],
                          [
                            0.4444444444,
                            "#bd3786"
                          ],
                          [
                            0.5555555556,
                            "#d8576b"
                          ],
                          [
                            0.6666666667,
                            "#ed7953"
                          ],
                          [
                            0.7777777778,
                            "#fb9f3a"
                          ],
                          [
                            0.8888888889,
                            "#fdca26"
                          ],
                          [
                            1,
                            "#f0f921"
                          ]
                        ],
                        "type": "histogram2dcontour"
                      }
                    ],
                    "mesh3d": [
                      {
                        "colorbar": {
                          "outlinewidth": 0,
                          "ticks": ""
                        },
                        "type": "mesh3d"
                      }
                    ],
                    "parcoords": [
                      {
                        "line": {
                          "colorbar": {
                            "outlinewidth": 0,
                            "ticks": ""
                          }
                        },
                        "type": "parcoords"
                      }
                    ],
                    "scatter": [
                      {
                        "marker": {
                          "colorbar": {
                            "outlinewidth": 0,
                            "ticks": ""
                          }
                        },
                        "type": "scatter"
                      }
                    ],
                    "scatter3d": [
                      {
                        "line": {
                          "colorbar": {
                            "outlinewidth": 0,
                            "ticks": ""
                          }
                        },
                        "marker": {
                          "colorbar": {
                            "outlinewidth": 0,
                            "ticks": ""
                          }
                        },
                        "type": "scatter3d"
                      }
                    ],
                    "scattercarpet": [
                      {
                        "marker": {
                          "colorbar": {
                            "outlinewidth": 0,
                            "ticks": ""
                          }
                        },
                        "type": "scattercarpet"
                      }
                    ],
                    "scattergeo": [
                      {
                        "marker": {
                          "colorbar": {
                            "outlinewidth": 0,
                            "ticks": ""
                          }
                        },
                        "type": "scattergeo"
                      }
                    ],
                    "scattergl": [
                      {
                        "marker": {
                          "colorbar": {
                            "outlinewidth": 0,
                            "ticks": ""
                          }
                        },
                        "type": "scattergl"
                      }
                    ],
                    "scattermapbox": [
                      {
                        "marker": {
                          "colorbar": {
                            "outlinewidth": 0,
                            "ticks": ""
                          }
                        },
                        "type": "scattermapbox"
                      }
                    ],
                    "scatterpolar": [
                      {
                        "marker": {
                          "colorbar": {
                            "outlinewidth": 0,
                            "ticks": ""
                          }
                        },
                        "type": "scatterpolar"
                      }
                    ],
                    "scatterpolargl": [
                      {
                        "marker": {
                          "colorbar": {
                            "outlinewidth": 0,
                            "ticks": ""
                          }
                        },
                        "type": "scatterpolargl"
                      }
                    ],
                    "scatterternary": [
                      {
                        "marker": {
                          "colorbar": {
                            "outlinewidth": 0,
                            "ticks": ""
                          }
                        },
                        "type": "scatterternary"
                      }
                    ],
                    "surface": [
                      {
                        "colorbar": {
                          "outlinewidth": 0,
                          "ticks": ""
                        },
                        "colorscale": [
                          [
                            0,
                            "#0d0887"
                          ],
                          [
                            0.1111111111,
                            "#46039f"
                          ],
                          [
                            0.2222222222,
                            "#7201a8"
                          ],
                          [
                            0.3333333333,
                            "#9c179e"
                          ],
                          [
                            0.4444444444,
                            "#bd3786"
                          ],
                          [
                            0.5555555556,
                            "#d8576b"
                          ],
                          [
                            0.6666666667,
                            "#ed7953"
                          ],
                          [
                            0.7777777778,
                            "#fb9f3a"
                          ],
                          [
                            0.8888888889,
                            "#fdca26"
                          ],
                          [
                            1,
                            "#f0f921"
                          ]
                        ],
                        "type": "surface"
                      }
                    ],
                    "table": [
                      {
                        "cells": {
                          "fill": {
                            "color": "#EBF0F8"
                          },
                          "line": {
                            "color": "white"
                          }
                        },
                        "header": {
                          "fill": {
                            "color": "#C8D4E3"
                          },
                          "line": {
                            "color": "white"
                          }
                        },
                        "type": "table"
                      }
                    ]
                  },
                  "layout": {
                    "annotationdefaults": {
                      "arrowcolor": "#2a3f5f",
                      "arrowhead": 0,
                      "arrowwidth": 1
                    },
                    "colorscale": {
                      "diverging": [
                        [
                          0,
                          "#8e0152"
                        ],
                        [
                          0.1,
                          "#c51b7d"
                        ],
                        [
                          0.2,
                          "#de77ae"
                        ],
                        [
                          0.3,
                          "#f1b6da"
                        ],
                        [
                          0.4,
                          "#fde0ef"
                        ],
                        [
                          0.5,
                          "#f7f7f7"
                        ],
                        [
                          0.6,
                          "#e6f5d0"
                        ],
                        [
                          0.7,
                          "#b8e186"
                        ],
                        [
                          0.8,
                          "#7fbc41"
                        ],
                        [
                          0.9,
                          "#4d9221"
                        ],
                        [
                          1,
                          "#276419"
                        ]
                      ],
                      "sequential": [
                        [
                          0,
                          "#0d0887"
                        ],
                        [
                          0.1111111111,
                          "#46039f"
                        ],
                        [
                          0.2222222222,
                          "#7201a8"
                        ],
                        [
                          0.3333333333,
                          "#9c179e"
                        ],
                        [
                          0.4444444444,
                          "#bd3786"
                        ],
                        [
                          0.5555555556,
                          "#d8576b"
                        ],
                        [
                          0.6666666667,
                          "#ed7953"
                        ],
                        [
                          0.7777777778,
                          "#fb9f3a"
                        ],
                        [
                          0.8888888889,
                          "#fdca26"
                        ],
                        [
                          1,
                          "#f0f921"
                        ]
                      ],
                      "sequentialminus": [
                        [
                          0,
                          "#0d0887"
                        ],
                        [
                          0.1111111111,
                          "#46039f"
                        ],
                        [
                          0.2222222222,
                          "#7201a8"
                        ],
                        [
                          0.3333333333,
                          "#9c179e"
                        ],
                        [
                          0.4444444444,
                          "#bd3786"
                        ],
                        [
                          0.5555555556,
                          "#d8576b"
                        ],
                        [
                          0.6666666667,
                          "#ed7953"
                        ],
                        [
                          0.7777777778,
                          "#fb9f3a"
                        ],
                        [
                          0.8888888889,
                          "#fdca26"
                        ],
                        [
                          1,
                          "#f0f921"
                        ]
                      ]
                    },
                    "colorway": [
                      "#636efa",
                      "#EF553B",
                      "#00cc96",
                      "#ab63fa",
                      "#FFA15A",
                      "#19d3f3",
                      "#FF6692",
                      "#B6E880",
                      "#FF97FF",
                      "#FECB52"
                    ],
                    "font": {
                      "color": "#2a3f5f"
                    },
                    "geo": {
                      "bgcolor": "white",
                      "lakecolor": "white",
                      "landcolor": "#E5ECF6",
                      "showlakes": true,
                      "showland": true,
                      "subunitcolor": "white"
                    },
                    "hoverlabel": {
                      "align": "left"
                    },
                    "hovermode": "closest",
                    "mapbox": {
                      "style": "light"
                    },
                    "paper_bgcolor": "white",
                    "plot_bgcolor": "#E5ECF6",
                    "polar": {
                      "angularaxis": {
                        "gridcolor": "white",
                        "linecolor": "white",
                        "ticks": ""
                      },
                      "bgcolor": "#E5ECF6",
                      "radialaxis": {
                        "gridcolor": "white",
                        "linecolor": "white",
                        "ticks": ""
                      }
                    },
                    "scene": {
                      "xaxis": {
                        "backgroundcolor": "#E5ECF6",
                        "gridcolor": "white",
                        "gridwidth": 2,
                        "linecolor": "white",
                        "showbackground": true,
                        "ticks": "",
                        "zerolinecolor": "white"
                      },
                      "yaxis": {
                        "backgroundcolor": "#E5ECF6",
                        "gridcolor": "white",
                        "gridwidth": 2,
                        "linecolor": "white",
                        "showbackground": true,
                        "ticks": "",
                        "zerolinecolor": "white"
                      },
                      "zaxis": {
                        "backgroundcolor": "#E5ECF6",
                        "gridcolor": "white",
                        "gridwidth": 2,
                        "linecolor": "white",
                        "showbackground": true,
                        "ticks": "",
                        "zerolinecolor": "white"
                      }
                    },
                    "shapedefaults": {
                      "line": {
                        "color": "#2a3f5f"
                      }
                    },
                    "ternary": {
                      "aaxis": {
                        "gridcolor": "white",
                        "linecolor": "white",
                        "ticks": ""
                      },
                      "baxis": {
                        "gridcolor": "white",
                        "linecolor": "white",
                        "ticks": ""
                      },
                      "bgcolor": "#E5ECF6",
                      "caxis": {
                        "gridcolor": "white",
                        "linecolor": "white",
                        "ticks": ""
                      }
                    },
                    "title": {
                      "x": 0.05
                    },
                    "xaxis": {
                      "automargin": true,
                      "gridcolor": "white",
                      "linecolor": "white",
                      "ticks": "",
                      "zerolinecolor": "white",
                      "zerolinewidth": 2
                    },
                    "yaxis": {
                      "automargin": true,
                      "gridcolor": "white",
                      "linecolor": "white",
                      "ticks": "",
                      "zerolinecolor": "white",
                      "zerolinewidth": 2
                    }
                  }
                }
              }
            },
            "text/html": [
              "<div>\n",
              "        \n",
              "        \n",
              "            <div id=\"47be1de0-08b4-42ff-9326-9ee6ebb90194\" class=\"plotly-graph-div\" style=\"height:525px; width:100%;\"></div>\n",
              "            <script type=\"text/javascript\">\n",
              "                require([\"plotly\"], function(Plotly) {\n",
              "                    window.PLOTLYENV=window.PLOTLYENV || {};\n",
              "                    \n",
              "                if (document.getElementById(\"47be1de0-08b4-42ff-9326-9ee6ebb90194\")) {\n",
              "                    Plotly.newPlot(\n",
              "                        '47be1de0-08b4-42ff-9326-9ee6ebb90194',\n",
              "                        [{\"cells\": {\"align\": \"left\", \"fill\": {\"color\": \"lavender\"}, \"values\": [[\" \\u043f\\u0440\\u043e\\u0441\\u043f\\u0435\\u043a\\u0442 \\u041c\\u0438\\u0440\\u0430\", \" \\u041f\\u0440\\u043e\\u0444\\u0441\\u043e\\u044e\\u0437\\u043d\\u0430\\u044f \\u0443\\u043b\\u0438\\u0446\\u0430\", \" \\u041b\\u0435\\u043d\\u0438\\u043d\\u0433\\u0440\\u0430\\u0434\\u0441\\u043a\\u0438\\u0439 \\u043f\\u0440\\u043e\\u0441\\u043f\\u0435\\u043a\\u0442\", \" \\u041f\\u0440\\u0435\\u0441\\u043d\\u0435\\u043d\\u0441\\u043a\\u0430\\u044f \\u043d\\u0430\\u0431\\u0435\\u0440\\u0435\\u0436\\u043d\\u0430\\u044f\", \" \\u0412\\u0430\\u0440\\u0448\\u0430\\u0432\\u0441\\u043a\\u043e\\u0435 \\u0448\\u043e\\u0441\\u0441\\u0435\", \" \\u041b\\u0435\\u043d\\u0438\\u043d\\u0441\\u043a\\u0438\\u0439 \\u043f\\u0440\\u043e\\u0441\\u043f\\u0435\\u043a\\u0442\", \" \\u043f\\u0440\\u043e\\u0441\\u043f\\u0435\\u043a\\u0442 \\u0412\\u0435\\u0440\\u043d\\u0430\\u0434\\u0441\\u043a\\u043e\\u0433\\u043e\", \" \\u041a\\u0443\\u0442\\u0443\\u0437\\u043e\\u0432\\u0441\\u043a\\u0438\\u0439 \\u043f\\u0440\\u043e\\u0441\\u043f\\u0435\\u043a\\u0442\", \" \\u041a\\u0430\\u0448\\u0438\\u0440\\u0441\\u043a\\u043e\\u0435 \\u0448\\u043e\\u0441\\u0441\\u0435\", \" \\u041a\\u0438\\u0440\\u043e\\u0432\\u043e\\u0433\\u0440\\u0430\\u0434\\u0441\\u043a\\u0430\\u044f \\u0443\\u043b\\u0438\\u0446\\u0430\"], [204, 182, 171, 167, 164, 147, 132, 114, 112, 110]]}, \"header\": {\"align\": \"left\", \"fill\": {\"color\": \"paleturquoise\"}, \"values\": [\"street\", \"objects\"]}, \"type\": \"table\"}],\n",
              "                        {\"template\": {\"data\": {\"bar\": [{\"error_x\": {\"color\": \"#2a3f5f\"}, \"error_y\": {\"color\": \"#2a3f5f\"}, \"marker\": {\"line\": {\"color\": \"#E5ECF6\", \"width\": 0.5}}, \"type\": \"bar\"}], \"barpolar\": [{\"marker\": {\"line\": {\"color\": \"#E5ECF6\", \"width\": 0.5}}, \"type\": \"barpolar\"}], \"carpet\": [{\"aaxis\": {\"endlinecolor\": \"#2a3f5f\", \"gridcolor\": \"white\", \"linecolor\": \"white\", \"minorgridcolor\": \"white\", \"startlinecolor\": \"#2a3f5f\"}, \"baxis\": {\"endlinecolor\": \"#2a3f5f\", \"gridcolor\": \"white\", \"linecolor\": \"white\", \"minorgridcolor\": \"white\", \"startlinecolor\": \"#2a3f5f\"}, \"type\": \"carpet\"}], \"choropleth\": [{\"colorbar\": {\"outlinewidth\": 0, \"ticks\": \"\"}, \"type\": \"choropleth\"}], \"contour\": [{\"colorbar\": {\"outlinewidth\": 0, \"ticks\": \"\"}, \"colorscale\": [[0.0, \"#0d0887\"], [0.1111111111111111, \"#46039f\"], [0.2222222222222222, \"#7201a8\"], [0.3333333333333333, \"#9c179e\"], [0.4444444444444444, \"#bd3786\"], [0.5555555555555556, \"#d8576b\"], [0.6666666666666666, \"#ed7953\"], [0.7777777777777778, \"#fb9f3a\"], [0.8888888888888888, \"#fdca26\"], [1.0, \"#f0f921\"]], \"type\": \"contour\"}], \"contourcarpet\": [{\"colorbar\": {\"outlinewidth\": 0, \"ticks\": \"\"}, \"type\": \"contourcarpet\"}], \"heatmap\": [{\"colorbar\": {\"outlinewidth\": 0, \"ticks\": \"\"}, \"colorscale\": [[0.0, \"#0d0887\"], [0.1111111111111111, \"#46039f\"], [0.2222222222222222, \"#7201a8\"], [0.3333333333333333, \"#9c179e\"], [0.4444444444444444, \"#bd3786\"], [0.5555555555555556, \"#d8576b\"], [0.6666666666666666, \"#ed7953\"], [0.7777777777777778, \"#fb9f3a\"], [0.8888888888888888, \"#fdca26\"], [1.0, \"#f0f921\"]], \"type\": \"heatmap\"}], \"heatmapgl\": [{\"colorbar\": {\"outlinewidth\": 0, \"ticks\": \"\"}, \"colorscale\": [[0.0, \"#0d0887\"], [0.1111111111111111, \"#46039f\"], [0.2222222222222222, \"#7201a8\"], [0.3333333333333333, \"#9c179e\"], [0.4444444444444444, \"#bd3786\"], [0.5555555555555556, \"#d8576b\"], [0.6666666666666666, \"#ed7953\"], [0.7777777777777778, \"#fb9f3a\"], [0.8888888888888888, \"#fdca26\"], [1.0, \"#f0f921\"]], \"type\": \"heatmapgl\"}], \"histogram\": [{\"marker\": {\"colorbar\": {\"outlinewidth\": 0, \"ticks\": \"\"}}, \"type\": \"histogram\"}], \"histogram2d\": [{\"colorbar\": {\"outlinewidth\": 0, \"ticks\": \"\"}, \"colorscale\": [[0.0, \"#0d0887\"], [0.1111111111111111, \"#46039f\"], [0.2222222222222222, \"#7201a8\"], [0.3333333333333333, \"#9c179e\"], [0.4444444444444444, \"#bd3786\"], [0.5555555555555556, \"#d8576b\"], [0.6666666666666666, \"#ed7953\"], [0.7777777777777778, \"#fb9f3a\"], [0.8888888888888888, \"#fdca26\"], [1.0, \"#f0f921\"]], \"type\": \"histogram2d\"}], \"histogram2dcontour\": [{\"colorbar\": {\"outlinewidth\": 0, \"ticks\": \"\"}, \"colorscale\": [[0.0, \"#0d0887\"], [0.1111111111111111, \"#46039f\"], [0.2222222222222222, \"#7201a8\"], [0.3333333333333333, \"#9c179e\"], [0.4444444444444444, \"#bd3786\"], [0.5555555555555556, \"#d8576b\"], [0.6666666666666666, \"#ed7953\"], [0.7777777777777778, \"#fb9f3a\"], [0.8888888888888888, \"#fdca26\"], [1.0, \"#f0f921\"]], \"type\": \"histogram2dcontour\"}], \"mesh3d\": [{\"colorbar\": {\"outlinewidth\": 0, \"ticks\": \"\"}, \"type\": \"mesh3d\"}], \"parcoords\": [{\"line\": {\"colorbar\": {\"outlinewidth\": 0, \"ticks\": \"\"}}, \"type\": \"parcoords\"}], \"scatter\": [{\"marker\": {\"colorbar\": {\"outlinewidth\": 0, \"ticks\": \"\"}}, \"type\": \"scatter\"}], \"scatter3d\": [{\"line\": {\"colorbar\": {\"outlinewidth\": 0, \"ticks\": \"\"}}, \"marker\": {\"colorbar\": {\"outlinewidth\": 0, \"ticks\": \"\"}}, \"type\": \"scatter3d\"}], \"scattercarpet\": [{\"marker\": {\"colorbar\": {\"outlinewidth\": 0, \"ticks\": \"\"}}, \"type\": \"scattercarpet\"}], \"scattergeo\": [{\"marker\": {\"colorbar\": {\"outlinewidth\": 0, \"ticks\": \"\"}}, \"type\": \"scattergeo\"}], \"scattergl\": [{\"marker\": {\"colorbar\": {\"outlinewidth\": 0, \"ticks\": \"\"}}, \"type\": \"scattergl\"}], \"scattermapbox\": [{\"marker\": {\"colorbar\": {\"outlinewidth\": 0, \"ticks\": \"\"}}, \"type\": \"scattermapbox\"}], \"scatterpolar\": [{\"marker\": {\"colorbar\": {\"outlinewidth\": 0, \"ticks\": \"\"}}, \"type\": \"scatterpolar\"}], \"scatterpolargl\": [{\"marker\": {\"colorbar\": {\"outlinewidth\": 0, \"ticks\": \"\"}}, \"type\": \"scatterpolargl\"}], \"scatterternary\": [{\"marker\": {\"colorbar\": {\"outlinewidth\": 0, \"ticks\": \"\"}}, \"type\": \"scatterternary\"}], \"surface\": [{\"colorbar\": {\"outlinewidth\": 0, \"ticks\": \"\"}, \"colorscale\": [[0.0, \"#0d0887\"], [0.1111111111111111, \"#46039f\"], [0.2222222222222222, \"#7201a8\"], [0.3333333333333333, \"#9c179e\"], [0.4444444444444444, \"#bd3786\"], [0.5555555555555556, \"#d8576b\"], [0.6666666666666666, \"#ed7953\"], [0.7777777777777778, \"#fb9f3a\"], [0.8888888888888888, \"#fdca26\"], [1.0, \"#f0f921\"]], \"type\": \"surface\"}], \"table\": [{\"cells\": {\"fill\": {\"color\": \"#EBF0F8\"}, \"line\": {\"color\": \"white\"}}, \"header\": {\"fill\": {\"color\": \"#C8D4E3\"}, \"line\": {\"color\": \"white\"}}, \"type\": \"table\"}]}, \"layout\": {\"annotationdefaults\": {\"arrowcolor\": \"#2a3f5f\", \"arrowhead\": 0, \"arrowwidth\": 1}, \"colorscale\": {\"diverging\": [[0, \"#8e0152\"], [0.1, \"#c51b7d\"], [0.2, \"#de77ae\"], [0.3, \"#f1b6da\"], [0.4, \"#fde0ef\"], [0.5, \"#f7f7f7\"], [0.6, \"#e6f5d0\"], [0.7, \"#b8e186\"], [0.8, \"#7fbc41\"], [0.9, \"#4d9221\"], [1, \"#276419\"]], \"sequential\": [[0.0, \"#0d0887\"], [0.1111111111111111, \"#46039f\"], [0.2222222222222222, \"#7201a8\"], [0.3333333333333333, \"#9c179e\"], [0.4444444444444444, \"#bd3786\"], [0.5555555555555556, \"#d8576b\"], [0.6666666666666666, \"#ed7953\"], [0.7777777777777778, \"#fb9f3a\"], [0.8888888888888888, \"#fdca26\"], [1.0, \"#f0f921\"]], \"sequentialminus\": [[0.0, \"#0d0887\"], [0.1111111111111111, \"#46039f\"], [0.2222222222222222, \"#7201a8\"], [0.3333333333333333, \"#9c179e\"], [0.4444444444444444, \"#bd3786\"], [0.5555555555555556, \"#d8576b\"], [0.6666666666666666, \"#ed7953\"], [0.7777777777777778, \"#fb9f3a\"], [0.8888888888888888, \"#fdca26\"], [1.0, \"#f0f921\"]]}, \"colorway\": [\"#636efa\", \"#EF553B\", \"#00cc96\", \"#ab63fa\", \"#FFA15A\", \"#19d3f3\", \"#FF6692\", \"#B6E880\", \"#FF97FF\", \"#FECB52\"], \"font\": {\"color\": \"#2a3f5f\"}, \"geo\": {\"bgcolor\": \"white\", \"lakecolor\": \"white\", \"landcolor\": \"#E5ECF6\", \"showlakes\": true, \"showland\": true, \"subunitcolor\": \"white\"}, \"hoverlabel\": {\"align\": \"left\"}, \"hovermode\": \"closest\", \"mapbox\": {\"style\": \"light\"}, \"paper_bgcolor\": \"white\", \"plot_bgcolor\": \"#E5ECF6\", \"polar\": {\"angularaxis\": {\"gridcolor\": \"white\", \"linecolor\": \"white\", \"ticks\": \"\"}, \"bgcolor\": \"#E5ECF6\", \"radialaxis\": {\"gridcolor\": \"white\", \"linecolor\": \"white\", \"ticks\": \"\"}}, \"scene\": {\"xaxis\": {\"backgroundcolor\": \"#E5ECF6\", \"gridcolor\": \"white\", \"gridwidth\": 2, \"linecolor\": \"white\", \"showbackground\": true, \"ticks\": \"\", \"zerolinecolor\": \"white\"}, \"yaxis\": {\"backgroundcolor\": \"#E5ECF6\", \"gridcolor\": \"white\", \"gridwidth\": 2, \"linecolor\": \"white\", \"showbackground\": true, \"ticks\": \"\", \"zerolinecolor\": \"white\"}, \"zaxis\": {\"backgroundcolor\": \"#E5ECF6\", \"gridcolor\": \"white\", \"gridwidth\": 2, \"linecolor\": \"white\", \"showbackground\": true, \"ticks\": \"\", \"zerolinecolor\": \"white\"}}, \"shapedefaults\": {\"line\": {\"color\": \"#2a3f5f\"}}, \"ternary\": {\"aaxis\": {\"gridcolor\": \"white\", \"linecolor\": \"white\", \"ticks\": \"\"}, \"baxis\": {\"gridcolor\": \"white\", \"linecolor\": \"white\", \"ticks\": \"\"}, \"bgcolor\": \"#E5ECF6\", \"caxis\": {\"gridcolor\": \"white\", \"linecolor\": \"white\", \"ticks\": \"\"}}, \"title\": {\"x\": 0.05}, \"xaxis\": {\"automargin\": true, \"gridcolor\": \"white\", \"linecolor\": \"white\", \"ticks\": \"\", \"zerolinecolor\": \"white\", \"zerolinewidth\": 2}, \"yaxis\": {\"automargin\": true, \"gridcolor\": \"white\", \"linecolor\": \"white\", \"ticks\": \"\", \"zerolinecolor\": \"white\", \"zerolinewidth\": 2}}}},\n",
              "                        {\"responsive\": true}\n",
              "                    ).then(function(){\n",
              "                            \n",
              "var gd = document.getElementById('47be1de0-08b4-42ff-9326-9ee6ebb90194');\n",
              "var x = new MutationObserver(function (mutations, observer) {{\n",
              "        var display = window.getComputedStyle(gd).display;\n",
              "        if (!display || display === 'none') {{\n",
              "            console.log([gd, 'removed!']);\n",
              "            Plotly.purge(gd);\n",
              "            observer.disconnect();\n",
              "        }}\n",
              "}});\n",
              "\n",
              "// Listen for the removal of the full notebook cells\n",
              "var notebookContainer = gd.closest('#notebook-container');\n",
              "if (notebookContainer) {{\n",
              "    x.observe(notebookContainer, {childList: true});\n",
              "}}\n",
              "\n",
              "// Listen for the clearing of the current output cell\n",
              "var outputEl = gd.closest('.output');\n",
              "if (outputEl) {{\n",
              "    x.observe(outputEl, {childList: true});\n",
              "}}\n",
              "\n",
              "                        })\n",
              "                };\n",
              "                });\n",
              "            </script>\n",
              "        </div>"
            ]
          },
          "metadata": {},
          "output_type": "display_data"
        }
      ]
    },
    {
      "cell_type": "code",
      "metadata": {
        "id": "QLPZ1MPBTmGJ",
        "outputId": "b2d9369b-da60-4225-d3ac-f0347e5517a4"
      },
      "source": [
        "data_dis = district_df[['street', 'city_district']]\n",
        "top_10_dis = top_street10.merge(data_dis, how='left', on='street')\n",
        "top_10_dis.pivot_table(index=['street', 'city_district']).sort_values(by='objects', ascending=False)\n"
      ],
      "execution_count": null,
      "outputs": [
        {
          "data": {
            "text/html": [
              "<div>\n",
              "<style scoped>\n",
              "    .dataframe tbody tr th:only-of-type {\n",
              "        vertical-align: middle;\n",
              "    }\n",
              "\n",
              "    .dataframe tbody tr th {\n",
              "        vertical-align: top;\n",
              "    }\n",
              "\n",
              "    .dataframe thead th {\n",
              "        text-align: right;\n",
              "    }\n",
              "</style>\n",
              "<table border=\"1\" class=\"dataframe\">\n",
              "  <thead>\n",
              "    <tr style=\"text-align: right;\">\n",
              "      <th></th>\n",
              "      <th></th>\n",
              "      <th>objects</th>\n",
              "    </tr>\n",
              "    <tr>\n",
              "      <th>street</th>\n",
              "      <th>city_district</th>\n",
              "      <th></th>\n",
              "    </tr>\n",
              "  </thead>\n",
              "  <tbody>\n",
              "    <tr>\n",
              "      <td rowspan=\"6\" valign=\"top\">проспект Мира</td>\n",
              "      <td>Ярославский</td>\n",
              "      <td>204</td>\n",
              "    </tr>\n",
              "    <tr>\n",
              "      <td>Свиблово</td>\n",
              "      <td>204</td>\n",
              "    </tr>\n",
              "    <tr>\n",
              "      <td>Ростокино</td>\n",
              "      <td>204</td>\n",
              "    </tr>\n",
              "    <tr>\n",
              "      <td>Останкинский</td>\n",
              "      <td>204</td>\n",
              "    </tr>\n",
              "    <tr>\n",
              "      <td>Мещанский</td>\n",
              "      <td>204</td>\n",
              "    </tr>\n",
              "    <tr>\n",
              "      <td>Алексеевский</td>\n",
              "      <td>204</td>\n",
              "    </tr>\n",
              "    <tr>\n",
              "      <td rowspan=\"6\" valign=\"top\">Профсоюзная улица</td>\n",
              "      <td>Обручевский</td>\n",
              "      <td>182</td>\n",
              "    </tr>\n",
              "    <tr>\n",
              "      <td>Академический</td>\n",
              "      <td>182</td>\n",
              "    </tr>\n",
              "    <tr>\n",
              "      <td>Коньково</td>\n",
              "      <td>182</td>\n",
              "    </tr>\n",
              "    <tr>\n",
              "      <td>Теплый Стан</td>\n",
              "      <td>182</td>\n",
              "    </tr>\n",
              "    <tr>\n",
              "      <td>Черемушки</td>\n",
              "      <td>182</td>\n",
              "    </tr>\n",
              "    <tr>\n",
              "      <td>Ясенево</td>\n",
              "      <td>182</td>\n",
              "    </tr>\n",
              "    <tr>\n",
              "      <td rowspan=\"4\" valign=\"top\">Ленинградский проспект</td>\n",
              "      <td>Аэропорт</td>\n",
              "      <td>171</td>\n",
              "    </tr>\n",
              "    <tr>\n",
              "      <td>Хорошевский</td>\n",
              "      <td>171</td>\n",
              "    </tr>\n",
              "    <tr>\n",
              "      <td>Сокол</td>\n",
              "      <td>171</td>\n",
              "    </tr>\n",
              "    <tr>\n",
              "      <td>Беговой</td>\n",
              "      <td>171</td>\n",
              "    </tr>\n",
              "    <tr>\n",
              "      <td>Пресненская набережная</td>\n",
              "      <td>Пресненский</td>\n",
              "      <td>167</td>\n",
              "    </tr>\n",
              "    <tr>\n",
              "      <td rowspan=\"8\" valign=\"top\">Варшавское шоссе</td>\n",
              "      <td>Нагатино-Садовники</td>\n",
              "      <td>164</td>\n",
              "    </tr>\n",
              "    <tr>\n",
              "      <td>Донской</td>\n",
              "      <td>164</td>\n",
              "    </tr>\n",
              "    <tr>\n",
              "      <td>Нагорный</td>\n",
              "      <td>164</td>\n",
              "    </tr>\n",
              "    <tr>\n",
              "      <td>Южное Бутово</td>\n",
              "      <td>164</td>\n",
              "    </tr>\n",
              "    <tr>\n",
              "      <td>Чертаново Южное</td>\n",
              "      <td>164</td>\n",
              "    </tr>\n",
              "    <tr>\n",
              "      <td>Новомосковский</td>\n",
              "      <td>164</td>\n",
              "    </tr>\n",
              "    <tr>\n",
              "      <td>Чертаново Центральное</td>\n",
              "      <td>164</td>\n",
              "    </tr>\n",
              "    <tr>\n",
              "      <td>Чертаново Северное</td>\n",
              "      <td>164</td>\n",
              "    </tr>\n",
              "    <tr>\n",
              "      <td rowspan=\"8\" valign=\"top\">Ленинский проспект</td>\n",
              "      <td>Ломоносовский</td>\n",
              "      <td>147</td>\n",
              "    </tr>\n",
              "    <tr>\n",
              "      <td>Тропарево-Никулино</td>\n",
              "      <td>147</td>\n",
              "    </tr>\n",
              "    <tr>\n",
              "      <td>Якиманка</td>\n",
              "      <td>147</td>\n",
              "    </tr>\n",
              "    <tr>\n",
              "      <td>Теплый Стан</td>\n",
              "      <td>147</td>\n",
              "    </tr>\n",
              "    <tr>\n",
              "      <td>Проспект Вернадского</td>\n",
              "      <td>147</td>\n",
              "    </tr>\n",
              "    <tr>\n",
              "      <td>Обручевский</td>\n",
              "      <td>147</td>\n",
              "    </tr>\n",
              "    <tr>\n",
              "      <td>Донской</td>\n",
              "      <td>147</td>\n",
              "    </tr>\n",
              "    <tr>\n",
              "      <td>Гагаринский</td>\n",
              "      <td>147</td>\n",
              "    </tr>\n",
              "    <tr>\n",
              "      <td rowspan=\"6\" valign=\"top\">проспект Вернадского</td>\n",
              "      <td>Новомосковский</td>\n",
              "      <td>132</td>\n",
              "    </tr>\n",
              "    <tr>\n",
              "      <td>Тропарево-Никулино</td>\n",
              "      <td>132</td>\n",
              "    </tr>\n",
              "    <tr>\n",
              "      <td>Раменки</td>\n",
              "      <td>132</td>\n",
              "    </tr>\n",
              "    <tr>\n",
              "      <td>Проспект Вернадского</td>\n",
              "      <td>132</td>\n",
              "    </tr>\n",
              "    <tr>\n",
              "      <td>Гагаринский</td>\n",
              "      <td>132</td>\n",
              "    </tr>\n",
              "    <tr>\n",
              "      <td>Ломоносовский</td>\n",
              "      <td>132</td>\n",
              "    </tr>\n",
              "    <tr>\n",
              "      <td rowspan=\"2\" valign=\"top\">Кутузовский проспект</td>\n",
              "      <td>Фили-Давыдково</td>\n",
              "      <td>114</td>\n",
              "    </tr>\n",
              "    <tr>\n",
              "      <td>Дорогомилово</td>\n",
              "      <td>114</td>\n",
              "    </tr>\n",
              "    <tr>\n",
              "      <td rowspan=\"5\" valign=\"top\">Каширское шоссе</td>\n",
              "      <td>Москворечье-Сабурово</td>\n",
              "      <td>112</td>\n",
              "    </tr>\n",
              "    <tr>\n",
              "      <td>Нагатинский Затон</td>\n",
              "      <td>112</td>\n",
              "    </tr>\n",
              "    <tr>\n",
              "      <td>Орехово-Борисово Северное</td>\n",
              "      <td>112</td>\n",
              "    </tr>\n",
              "    <tr>\n",
              "      <td>Орехово-Борисово Южное</td>\n",
              "      <td>112</td>\n",
              "    </tr>\n",
              "    <tr>\n",
              "      <td>Нагатино-Садовники</td>\n",
              "      <td>112</td>\n",
              "    </tr>\n",
              "    <tr>\n",
              "      <td rowspan=\"3\" valign=\"top\">Кировоградская улица</td>\n",
              "      <td>Чертаново Северное</td>\n",
              "      <td>110</td>\n",
              "    </tr>\n",
              "    <tr>\n",
              "      <td>Чертаново Центральное</td>\n",
              "      <td>110</td>\n",
              "    </tr>\n",
              "    <tr>\n",
              "      <td>Чертаново Южное</td>\n",
              "      <td>110</td>\n",
              "    </tr>\n",
              "  </tbody>\n",
              "</table>\n",
              "</div>"
            ],
            "text/plain": [
              "                                                   objects\n",
              "street                  city_district                     \n",
              " проспект Мира          Ярославский                    204\n",
              "                        Свиблово                       204\n",
              "                        Ростокино                      204\n",
              "                        Останкинский                   204\n",
              "                        Мещанский                      204\n",
              "                        Алексеевский                   204\n",
              " Профсоюзная улица      Обручевский                    182\n",
              "                        Академический                  182\n",
              "                        Коньково                       182\n",
              "                        Теплый Стан                    182\n",
              "                        Черемушки                      182\n",
              "                        Ясенево                        182\n",
              " Ленинградский проспект Аэропорт                       171\n",
              "                        Хорошевский                    171\n",
              "                        Сокол                          171\n",
              "                        Беговой                        171\n",
              " Пресненская набережная Пресненский                    167\n",
              " Варшавское шоссе       Нагатино-Садовники             164\n",
              "                        Донской                        164\n",
              "                        Нагорный                       164\n",
              "                        Южное Бутово                   164\n",
              "                        Чертаново Южное                164\n",
              "                        Новомосковский                 164\n",
              "                        Чертаново Центральное          164\n",
              "                        Чертаново Северное             164\n",
              " Ленинский проспект     Ломоносовский                  147\n",
              "                        Тропарево-Никулино             147\n",
              "                        Якиманка                       147\n",
              "                        Теплый Стан                    147\n",
              "                        Проспект Вернадского           147\n",
              "                        Обручевский                    147\n",
              "                        Донской                        147\n",
              "                        Гагаринский                    147\n",
              " проспект Вернадского   Новомосковский                 132\n",
              "                        Тропарево-Никулино             132\n",
              "                        Раменки                        132\n",
              "                        Проспект Вернадского           132\n",
              "                        Гагаринский                    132\n",
              "                        Ломоносовский                  132\n",
              " Кутузовский проспект   Фили-Давыдково                 114\n",
              "                        Дорогомилово                   114\n",
              " Каширское шоссе        Москворечье-Сабурово           112\n",
              "                        Нагатинский Затон              112\n",
              "                        Орехово-Борисово Северное      112\n",
              "                        Орехово-Борисово Южное         112\n",
              "                        Нагатино-Садовники             112\n",
              " Кировоградская улица   Чертаново Северное             110\n",
              "                        Чертаново Центральное          110\n",
              "                        Чертаново Южное                110"
            ]
          },
          "execution_count": 171,
          "metadata": {},
          "output_type": "execute_result"
        }
      ]
    },
    {
      "cell_type": "code",
      "metadata": {
        "id": "MiYhYgJlTmGJ",
        "outputId": "f930401a-cf51-42bd-ace5-3dfc216b8b72"
      },
      "source": [
        "top_streets_distr = (top_10_dis\n",
        "               .pivot_table(index=['street', 'city_district'], values='objects', aggfunc='count')\n",
        "               .sort_values(by='objects', ascending = False)\n",
        "               .reset_index()) \n",
        "            \n",
        "top10_streets_distr = top_streets_distr.head(11)\n",
        "top10_streets_distr"
      ],
      "execution_count": null,
      "outputs": [
        {
          "data": {
            "text/html": [
              "<div>\n",
              "<style scoped>\n",
              "    .dataframe tbody tr th:only-of-type {\n",
              "        vertical-align: middle;\n",
              "    }\n",
              "\n",
              "    .dataframe tbody tr th {\n",
              "        vertical-align: top;\n",
              "    }\n",
              "\n",
              "    .dataframe thead th {\n",
              "        text-align: right;\n",
              "    }\n",
              "</style>\n",
              "<table border=\"1\" class=\"dataframe\">\n",
              "  <thead>\n",
              "    <tr style=\"text-align: right;\">\n",
              "      <th></th>\n",
              "      <th>street</th>\n",
              "      <th>city_district</th>\n",
              "      <th>objects</th>\n",
              "    </tr>\n",
              "  </thead>\n",
              "  <tbody>\n",
              "    <tr>\n",
              "      <td>0</td>\n",
              "      <td>Пресненская набережная</td>\n",
              "      <td>Пресненский</td>\n",
              "      <td>5775</td>\n",
              "    </tr>\n",
              "    <tr>\n",
              "      <td>1</td>\n",
              "      <td>проспект Мира</td>\n",
              "      <td>Свиблово</td>\n",
              "      <td>3604</td>\n",
              "    </tr>\n",
              "    <tr>\n",
              "      <td>2</td>\n",
              "      <td>Кировоградская улица</td>\n",
              "      <td>Чертаново Центральное</td>\n",
              "      <td>2947</td>\n",
              "    </tr>\n",
              "    <tr>\n",
              "      <td>3</td>\n",
              "      <td>Кутузовский проспект</td>\n",
              "      <td>Фили-Давыдково</td>\n",
              "      <td>1703</td>\n",
              "    </tr>\n",
              "    <tr>\n",
              "      <td>4</td>\n",
              "      <td>проспект Вернадского</td>\n",
              "      <td>Раменки</td>\n",
              "      <td>902</td>\n",
              "    </tr>\n",
              "    <tr>\n",
              "      <td>5</td>\n",
              "      <td>Профсоюзная улица</td>\n",
              "      <td>Черемушки</td>\n",
              "      <td>647</td>\n",
              "    </tr>\n",
              "    <tr>\n",
              "      <td>6</td>\n",
              "      <td>Профсоюзная улица</td>\n",
              "      <td>Обручевский</td>\n",
              "      <td>430</td>\n",
              "    </tr>\n",
              "    <tr>\n",
              "      <td>7</td>\n",
              "      <td>Ленинский проспект</td>\n",
              "      <td>Обручевский</td>\n",
              "      <td>414</td>\n",
              "    </tr>\n",
              "    <tr>\n",
              "      <td>8</td>\n",
              "      <td>проспект Вернадского</td>\n",
              "      <td>Тропарево-Никулино</td>\n",
              "      <td>403</td>\n",
              "    </tr>\n",
              "    <tr>\n",
              "      <td>9</td>\n",
              "      <td>Ленинградский проспект</td>\n",
              "      <td>Аэропорт</td>\n",
              "      <td>335</td>\n",
              "    </tr>\n",
              "    <tr>\n",
              "      <td>10</td>\n",
              "      <td>Кутузовский проспект</td>\n",
              "      <td>Дорогомилово</td>\n",
              "      <td>301</td>\n",
              "    </tr>\n",
              "  </tbody>\n",
              "</table>\n",
              "</div>"
            ],
            "text/plain": [
              "                     street          city_district  objects\n",
              "0    Пресненская набережная            Пресненский     5775\n",
              "1             проспект Мира               Свиблово     3604\n",
              "2      Кировоградская улица  Чертаново Центральное     2947\n",
              "3      Кутузовский проспект         Фили-Давыдково     1703\n",
              "4      проспект Вернадского                Раменки      902\n",
              "5         Профсоюзная улица              Черемушки      647\n",
              "6         Профсоюзная улица            Обручевский      430\n",
              "7        Ленинский проспект            Обручевский      414\n",
              "8      проспект Вернадского     Тропарево-Никулино      403\n",
              "9    Ленинградский проспект               Аэропорт      335\n",
              "10     Кутузовский проспект           Дорогомилово      301"
            ]
          },
          "execution_count": 191,
          "metadata": {},
          "output_type": "execute_result"
        }
      ]
    },
    {
      "cell_type": "markdown",
      "metadata": {
        "id": "_IynmSm3TmGJ"
      },
      "source": [
        "Мы получили топ-10 улиц, которые проходят сразу по нескольким районам Москвы. Самое большее количество объектов общественного питания расположены в следующих районах Москвы: Хорошевском, Пресненском, Свиблово. Визуализируем результат."
      ]
    },
    {
      "cell_type": "code",
      "metadata": {
        "id": "g8GYITglTmGJ",
        "outputId": "56fe2545-440c-4405-d4f7-8e1d3e9287ce"
      },
      "source": [
        "fig,ax = plt.subplots(figsize = (10,8))\n",
        "ax = sns.barplot(x='objects', y='street', data=top_street10, palette=\"mako\")\n",
        "ax.set_xlabel('Количество объектов')\n",
        "ax.set_ylabel('Название улицы')\n",
        "ax.set_title('Топ-10 улиц по количеству объектов общественного питания')\n",
        "ax.yaxis.grid(False) \n",
        "ax.xaxis.grid(True)\n",
        "plt.show()"
      ],
      "execution_count": null,
      "outputs": [
        {
          "data": {
            "image/png": "[encoded data removed]",
            "text/plain": [
              "<Figure size 720x576 with 1 Axes>"
            ]
          },
          "metadata": {
            "needs_background": "light"
          },
          "output_type": "display_data"
        }
      ]
    },
    {
      "cell_type": "code",
      "metadata": {
        "id": "LAoInyhFTmGJ",
        "outputId": "1aa4ec50-9df1-4f2a-fcbf-50ac761a8e0e"
      },
      "source": [
        "fig,ax = plt.subplots(figsize = (10,8))\n",
        "ax = sns.barplot(x='objects', y='city_district', data=top10_streets_distr, palette=\"mako\")\n",
        "ax.set_xlabel('Количество объектов')\n",
        "ax.set_ylabel('Название района')\n",
        "ax.set_title('Топ-10 районов по количеству объектов общественного питания')\n",
        "ax.yaxis.grid(False) \n",
        "ax.xaxis.grid(True)\n",
        "plt.show()"
      ],
      "execution_count": null,
      "outputs": [
        {
          "data": {
            "image/png": "[encoded data removed]",
            "text/plain": [
              "<Figure size 720x576 with 1 Axes>"
            ]
          },
          "metadata": {
            "needs_background": "light"
          },
          "output_type": "display_data"
        }
      ]
    },
    {
      "cell_type": "markdown",
      "metadata": {
        "id": "ijdshn4pTmGJ"
      },
      "source": [
        "**Улицы и районы с одним объектом общественного питания.**"
      ]
    },
    {
      "cell_type": "code",
      "metadata": {
        "id": "188rXVlhTmGK",
        "outputId": "fbcfc876-a934-4154-a246-5576ac1fc8af"
      },
      "source": [
        "one_street_dist = district_df.pivot_table(index=['street', 'city_district'],\\\n",
        "                                          values='id', aggfunc='count').reset_index().query('id == 1')\n",
        "one_street_dist"
      ],
      "execution_count": null,
      "outputs": [
        {
          "data": {
            "text/html": [
              "<div>\n",
              "<style scoped>\n",
              "    .dataframe tbody tr th:only-of-type {\n",
              "        vertical-align: middle;\n",
              "    }\n",
              "\n",
              "    .dataframe tbody tr th {\n",
              "        vertical-align: top;\n",
              "    }\n",
              "\n",
              "    .dataframe thead th {\n",
              "        text-align: right;\n",
              "    }\n",
              "</style>\n",
              "<table border=\"1\" class=\"dataframe\">\n",
              "  <thead>\n",
              "    <tr style=\"text-align: right;\">\n",
              "      <th></th>\n",
              "      <th>street</th>\n",
              "      <th>city_district</th>\n",
              "      <th>id</th>\n",
              "    </tr>\n",
              "  </thead>\n",
              "  <tbody>\n",
              "    <tr>\n",
              "      <td>2</td>\n",
              "      <td>1-й Балтийский переулок</td>\n",
              "      <td>Аэропорт</td>\n",
              "      <td>1</td>\n",
              "    </tr>\n",
              "    <tr>\n",
              "      <td>3</td>\n",
              "      <td>1-й Басманный переулок</td>\n",
              "      <td>Красносельский</td>\n",
              "      <td>1</td>\n",
              "    </tr>\n",
              "    <tr>\n",
              "      <td>4</td>\n",
              "      <td>1-й Ботанический проезд</td>\n",
              "      <td>Свиблово</td>\n",
              "      <td>1</td>\n",
              "    </tr>\n",
              "    <tr>\n",
              "      <td>7</td>\n",
              "      <td>1-й Вешняковский проезд</td>\n",
              "      <td>Рязанский</td>\n",
              "      <td>1</td>\n",
              "    </tr>\n",
              "    <tr>\n",
              "      <td>9</td>\n",
              "      <td>1-й Голутвинский переулок</td>\n",
              "      <td>Якиманка</td>\n",
              "      <td>1</td>\n",
              "    </tr>\n",
              "    <tr>\n",
              "      <td>...</td>\n",
              "      <td>...</td>\n",
              "      <td>...</td>\n",
              "      <td>...</td>\n",
              "    </tr>\n",
              "    <tr>\n",
              "      <td>2309</td>\n",
              "      <td>улица Знаменка</td>\n",
              "      <td>Арбат</td>\n",
              "      <td>1</td>\n",
              "    </tr>\n",
              "    <tr>\n",
              "      <td>2310</td>\n",
              "      <td>улица Каманина</td>\n",
              "      <td>Лианозово</td>\n",
              "      <td>1</td>\n",
              "    </tr>\n",
              "    <tr>\n",
              "      <td>2313</td>\n",
              "      <td>улица Миклухо-Маклая</td>\n",
              "      <td>Коньково</td>\n",
              "      <td>1</td>\n",
              "    </tr>\n",
              "    <tr>\n",
              "      <td>2314</td>\n",
              "      <td>улица Обручева</td>\n",
              "      <td>Обручевский</td>\n",
              "      <td>1</td>\n",
              "    </tr>\n",
              "    <tr>\n",
              "      <td>2315</td>\n",
              "      <td>улица Сергея Макеева</td>\n",
              "      <td>Пресненский</td>\n",
              "      <td>1</td>\n",
              "    </tr>\n",
              "  </tbody>\n",
              "</table>\n",
              "<p>723 rows × 3 columns</p>\n",
              "</div>"
            ],
            "text/plain": [
              "                          street   city_district  id\n",
              "2        1-й Балтийский переулок        Аэропорт   1\n",
              "3         1-й Басманный переулок  Красносельский   1\n",
              "4        1-й Ботанический проезд        Свиблово   1\n",
              "7        1-й Вешняковский проезд       Рязанский   1\n",
              "9      1-й Голутвинский переулок        Якиманка   1\n",
              "...                          ...             ...  ..\n",
              "2309              улица Знаменка           Арбат   1\n",
              "2310              улица Каманина       Лианозово   1\n",
              "2313        улица Миклухо-Маклая        Коньково   1\n",
              "2314              улица Обручева     Обручевский   1\n",
              "2315        улица Сергея Макеева     Пресненский   1\n",
              "\n",
              "[723 rows x 3 columns]"
            ]
          },
          "execution_count": 123,
          "metadata": {},
          "output_type": "execute_result"
        }
      ]
    },
    {
      "cell_type": "code",
      "metadata": {
        "id": "nSlHkInpTmGK",
        "outputId": "8e8e4453-a23e-47f6-c0c6-de072788e601"
      },
      "source": [
        "one_street_dist['street'].unique()"
      ],
      "execution_count": null,
      "outputs": [
        {
          "data": {
            "text/plain": [
              "array([' 1-й Балтийский переулок', ' 1-й Басманный переулок',\n",
              "       ' 1-й Ботанический проезд', ' 1-й Вешняковский проезд',\n",
              "       ' 1-й Голутвинский переулок', ' 1-й Заречный переулок',\n",
              "       ' 1-й Зачатьевский переулок', ' 1-й Кирпичный переулок',\n",
              "       ' 1-й Кожевнический переулок', ' 1-й Кожуховский проезд',\n",
              "       ' 1-й Коптельский переулок', ' 1-й Котельнический переулок',\n",
              "       ' 1-й Краснокурсантский проезд', ' 1-й Курьяновский проезд',\n",
              "       ' 1-й Лучевой просек', ' 1-й Люсиновский переулок',\n",
              "       ' 1-й Магистральный тупик', ' 1-й Монетчиковский переулок',\n",
              "       ' 1-й Николощеповский переулок', ' 1-й Новокузнецкий переулок',\n",
              "       ' 1-й Обыденский переулок', ' 1-й Рижский переулок',\n",
              "       ' 1-й Саратовский проезд', ' 1-й Сельскохозяйственный проезд',\n",
              "       ' 1-й Сетуньский проезд', ' 1-й Силикатный проезд',\n",
              "       ' 1-й Спасоналивковский переулок', ' 1-й Тушинский проезд',\n",
              "       ' 1-й проезд Марьиной Рощи', ' 1-я Аэропортовская улица',\n",
              "       ' 1-я Боевская улица', ' 1-я Ватутинская улица',\n",
              "       ' 1-я Гражданская улица', ' 1-я Дубровская улица',\n",
              "       ' 1-я Карачаровская улица', ' 1-я Миусская улица',\n",
              "       ' 1-я Напрудная улица', ' 1-я Пугачёвская улица',\n",
              "       ' 1-я Чоботовская аллея',\n",
              "       ' 1-я линия Хорошёвского Серебряного Бора', ' 11-я Парковая улица',\n",
              "       ' 12-й проезд Марьиной Рощи', ' 13-я Парковая улица',\n",
              "       ' 14-я Парковая улица', ' 17-й проезд Марьиной Рощи',\n",
              "       ' 2-й Балтийский переулок', ' 2-й Боткинский проезд',\n",
              "       ' 2-й Верхний Михайловский проезд', ' 2-й Вышеславцев переулок',\n",
              "       ' 2-й Иртышский проезд', ' 2-й Кабельный проезд',\n",
              "       ' 2-й Кадашёвский переулок', ' 2-й Колобовский переулок',\n",
              "       ' 2-й Красносельский переулок', ' 2-й Курьяновский проезд',\n",
              "       ' 2-й Лучевой просек', ' 2-й Магистральный тупик',\n",
              "       ' 2-й Неопалимовский переулок', ' 2-й Новокузнецкий переулок',\n",
              "       ' 2-й Новоподмосковный переулок', ' 2-й Обыденский переулок',\n",
              "       ' 2-й Полевой переулок', ' 2-й Рощинский проезд',\n",
              "       ' 2-й Сельскохозяйственный проезд', ' 2-й Сетуньский проезд',\n",
              "       ' 2-й Стрелецкий проезд', ' 2-й Хуторской переулок',\n",
              "       ' 2-й Щемиловский переулок', ' 2-й Южнопортовый проезд',\n",
              "       ' 2-й квартал Капотня', ' 2-я Барышевская улица',\n",
              "       ' 2-я Гражданская улица', ' 2-я Дубровская улица',\n",
              "       ' 2-я Квесисская улица', ' 2-я Напрудная улица',\n",
              "       ' 2-я Прядильная улица', ' 2-я Сокольническая улица',\n",
              "       ' 2-я Филёвская улица', ' 2-я Ямская улица',\n",
              "       ' 2-я улица Бухвостова', ' 2-я улица Марьиной Рощи',\n",
              "       ' 2-я улица Энтузиастов', ' 3-й Дорожный проезд',\n",
              "       ' 3-й Кадашёвский переулок', ' 3-й Кожуховский проезд',\n",
              "       ' 3-й Лихачёвский переулок', ' 3-й Лучевой просек',\n",
              "       ' 3-й Павловский переулок', ' 3-й Стрелецкий проезд',\n",
              "       ' 3-й Угрешский проезд', ' 3-й проезд Подбельского',\n",
              "       ' 3-я Железногорская улица', ' 3-я Новоостанкинская улица',\n",
              "       ' 3-я Парковая улица', ' 3-я Песчаная улица',\n",
              "       ' 3-я Подрезковская улица', ' 3-я Северная линия',\n",
              "       ' 3-я Черепковская улица',\n",
              "       ' 34-й километр Московской Кольцевой Автодороги',\n",
              "       ' 39-й километр Калужского шоссе', ' 4-й Вешняковский проезд',\n",
              "       ' 4-й Вятский переулок', ' 4-й Кожевнический переулок',\n",
              "       ' 4-й Рощинский проезд', ' 4-я Гражданская улица',\n",
              "       ' 4-я Кабельная улица', ' 5-й Котельнический переулок',\n",
              "       ' 5-й Монетчиковский переулок', ' 5-й Рощинский проезд',\n",
              "       ' 5-й проезд Марьиной Рощи', ' 5-й проезд Подбельского',\n",
              "       ' 5-я Парковая улица', ' 6-й Лучевой просек',\n",
              "       ' 6-я Кожуховская улица', ' 6-я улица Лазенки',\n",
              "       ' 6-я улица Новые Сады', ' 7-й Ростовский переулок',\n",
              "       ' 7-я Северная линия', ' 7-я улица Лазенки',\n",
              "       ' 8-й проезд Марьиной Рощи', ' 8-я улица Соколиной Горы',\n",
              "       ' Авиационный переулок', ' Автомобильный проезд',\n",
              "       ' Алымов переулок', ' Аминьевское шоссе', ' Анадырский проезд',\n",
              "       ' Андреево-Забелинская улица', ' Андроньевская площадь',\n",
              "       ' Анненская улица', ' Анненский проезд', ' Армавирская улица',\n",
              "       ' Армейская улица', ' Архангельский переулок',\n",
              "       ' Астрадамский проезд', ' Ащеулов переулок', ' Аэрофлотская улица',\n",
              "       ' Бабаевская улица', ' Базовая улица', ' Балтийская улица',\n",
              "       ' Банный проезд', ' Барабанный переулок', ' Басовская улица',\n",
              "       ' Беговая улица', ' Берниковская набережная',\n",
              "       ' Бескудниковский бульвар', ' Бескудниковский переулок',\n",
              "       ' Бескудниковский проезд', ' Библиотечная улица',\n",
              "       ' Богоявленский переулок', ' Больничный переулок',\n",
              "       ' Большая Академическая улица', ' Большая Бутовская улица',\n",
              "       ' Большая Внуковская улица', ' Большая Октябрьская улица',\n",
              "       ' Большая Серпуховская улица', ' Большая Ширяевская улица',\n",
              "       ' Большая Юшуньская улица', ' Большой Афанасьевский переулок',\n",
              "       ' Большой Гнездниковский переулок', ' Большой Знаменский переулок',\n",
              "       ' Большой Казённый переулок', ' Большой Кисельный переулок',\n",
              "       ' Большой Кисловский переулок',\n",
              "       ' Большой Николопесковский переулок',\n",
              "       ' Большой Полуярославский переулок',\n",
              "       ' Большой Предтеченский переулок', ' Большой Симоновский переулок',\n",
              "       ' Большой Строченовский переулок',\n",
              "       ' Большой Трёхсвятительский переулок', ' Боровая улица',\n",
              "       ' Боровский проезд', ' Боровское шоссе', ' Ботанический переулок',\n",
              "       ' Бродников переулок', ' Брошевский переулок', ' Будайская улица',\n",
              "       ' Будайский проезд', ' Бутиковский переулок',\n",
              "       ' Вагоноремонтная улица', ' Варсонофьевский переулок',\n",
              "       ' Велозаводская улица', ' Вербная улица',\n",
              "       ' Верхний Золоторожский переулок', ' Верхняя улица',\n",
              "       ' Винницкая улица', ' Волгоградский проспект',\n",
              "       ' Волоколамское шоссе', ' Волоцкой переулок',\n",
              "       ' Воротниковский переулок', ' Врачебный проезд',\n",
              "       ' Выползов переулок', ' Высокая улица', ' Вяземская улица',\n",
              "       ' Газгольдерная улица', ' Газетный переулок', ' Гаражная улица',\n",
              "       ' Гвардейская улица', ' Гжатская улица', ' Гжельский переулок',\n",
              "       ' Глазовский переулок', ' Глебовская улица', ' Глинистый переулок',\n",
              "       ' Глинищевский переулок', ' Головинское шоссе',\n",
              "       ' Гольяновская улица', ' Гончарная набережная', ' Городская улица',\n",
              "       ' Госпитальный переулок', ' Гранатный переулок',\n",
              "       ' Гродненская улица', ' Дегтярный переулок', ' Делегатская улица',\n",
              "       ' Денежный переулок', ' Дивизионная улица',\n",
              "       ' Дмитровский переулок', ' Докучаев переулок', ' Донская улица',\n",
              "       ' Егорьевский проезд', ' Елоховский проезд', ' Есенинский бульвар',\n",
              "       ' Живарев переулок', ' Живописная улица', ' Жигулёвская улица',\n",
              "       ' Жуков проезд', ' Заводской проезд', ' Зарайская улица',\n",
              "       ' Звонарский переулок', ' Зеленодольская улица',\n",
              "       ' Зелёный проспект', ' Зубарев переулок', ' Зюзинская улица',\n",
              "       ' Иваньковское шоссе', ' Ижорская улица', ' Ижорский проезд',\n",
              "       ' Изваринская улица', ' Известковый переулок',\n",
              "       ' Измайловская площадь', ' Икшинская улица', ' Иловайская улица',\n",
              "       ' Институтский переулок', ' Интернациональная улица',\n",
              "       ' Калибровская улица', ' Калошин переулок',\n",
              "       ' Канатчиковский проезд', ' Карельский бульвар',\n",
              "       ' Каскадная улица', ' Каширский проезд', ' Каширское шоссе',\n",
              "       ' Кирпичная улица', ' Кожевнический проезд', ' Козицкий переулок',\n",
              "       ' Композиторская улица', ' Конаковский проезд',\n",
              "       ' Кондрашёвский тупик', ' Кооперативная улица',\n",
              "       ' Коптевский бульвар', ' Костомаровская набережная',\n",
              "       ' Красногвардейский бульвар', ' Красноказарменный проезд',\n",
              "       ' Кремлёвская набережная', ' Кривоарбатский переулок',\n",
              "       ' Крюковская площадь', ' Кузьминская улица', ' Кулаков переулок',\n",
              "       ' Кунцевская улица', ' Курганская улица', ' Кучин переулок',\n",
              "       ' Ландышевая улица', ' Лениногорская улица',\n",
              "       ' Леонтьевский переулок', ' Лефортовский переулок',\n",
              "       ' Лечебная улица', ' Линейный проезд', ' Лонгиновская улица',\n",
              "       ' Лосевская улица', ' Лосиноостровская улица', ' Лужнецкий проезд',\n",
              "       ' Лыщиков переулок', ' Магаданская улица', ' Мажоров переулок',\n",
              "       ' Малая Андроньевская улица', ' Малая Переяславская улица',\n",
              "       ' Малая Тульская улица', ' Малый Власьевский переулок',\n",
              "       ' Малый Златоустинский переулок', ' Малый Знаменский переулок',\n",
              "       ' Малый Ивановский переулок', ' Малый Казённый переулок',\n",
              "       ' Малый Каретный переулок', ' Малый Конюшковский переулок',\n",
              "       ' Малый Коптевский проезд', ' Малый Лёвшинский переулок',\n",
              "       ' Малый Николопесковский переулок',\n",
              "       ' Малый Полуярославский переулок', ' Малый Путинковский переулок',\n",
              "       ' Малый Саввинский переулок', ' Малый Татарский переулок',\n",
              "       ' Малый Толмачёвский переулок', ' Мамоновский переулок',\n",
              "       ' Мансуровский переулок', ' Мариупольская улица',\n",
              "       ' Мартеновская улица', ' Машкинское шоссе', ' Международная улица',\n",
              "       ' Мерзляковский переулок', ' Миллионная улица',\n",
              "       ' Минаевский переулок', ' Минская улица', ' Мирской переулок',\n",
              "       ' Миусская площадь', ' Михневский проезд', ' Мишина улица',\n",
              "       ' Молодёжная улица', ' Мрузовский переулок', ' Нагорный бульвар',\n",
              "       ' Напрудный переулок', ' Нарвская улица', ' Наро-Фоминская улица',\n",
              "       ' Народный проспект', ' Научный проезд', ' Нахимовский проспект',\n",
              "       ' Нелидовская улица', ' Неманский проезд', ' Несвижский переулок',\n",
              "       ' Нижний Журавлёв переулок', ' Нижний Кисельный переулок',\n",
              "       ' Никитский бульвар', ' Никитский переулок',\n",
              "       ' Новобутовский проезд', ' Нововладыкинский проезд',\n",
              "       ' Новогиреевская улица', ' Новолучанская улица',\n",
              "       ' Новоостаповская улица', ' Новопресненский переулок',\n",
              "       ' Новорублёвская улица', ' Новорязанская улица',\n",
              "       ' Новосибирская улица', ' Новохорошёвский проезд',\n",
              "       ' Норильская улица', ' Озёрная аллея', ' Окружной проезд',\n",
              "       ' Окская улица', ' Олонецкая улица', ' Олонецкий проезд',\n",
              "       ' Оренбургская улица', ' Орехово-Зуевский проезд',\n",
              "       ' Остаповский проезд', ' Осташковская улица', ' Отрадный проезд',\n",
              "       ' Парковая улица', ' Парусный проезд', ' Педагогическая улица',\n",
              "       ' Пенягинская улица', ' Перекопская улица', ' Перовский проезд',\n",
              "       ' Пестовский переулок', ' Песчаная улица', ' Песчаный переулок',\n",
              "       ' Петроверигский переулок', ' Петровско-Разумовская аллея',\n",
              "       ' Печорская улица', ' Пионерская улица', ' Платовская улица',\n",
              "       ' Плетешковский переулок', ' Плотников переулок',\n",
              "       ' Подколокольный переулок', ' Подольская улица',\n",
              "       ' Подсосенский переулок', ' Пожарский переулок',\n",
              "       ' Полтавская улица', ' Попов проезд', ' Посланников переулок',\n",
              "       ' Походный проезд', ' Прибрежный проезд', ' Причальный проезд',\n",
              "       ' Проезд № 4806', ' Производственная улица', ' Прокатная улица',\n",
              "       ' Просторная улица', ' Проточный переулок', ' Прохладная улица',\n",
              "       ' Пуговишников переулок', ' Пулковская улица',\n",
              "       ' Пыжёвский переулок', ' Пяловская улица', ' Радужная улица',\n",
              "       ' Рижский проезд', ' Родниковая улица', ' Ростокинская улица',\n",
              "       ' Рублёвское шоссе', ' Рубцов переулок', ' Русаковская набережная',\n",
              "       ' Садовая-Сухаревская улица', ' Садовнический проезд',\n",
              "       ' Салтыковская улица', ' Сверчков переулок', ' Свободный проспект',\n",
              "       ' Севастопольский проспект', ' Северодвинская улица',\n",
              "       ' Сеченовский переулок', ' Сибирский проезд', ' Сивашская улица',\n",
              "       ' Симферопольский проезд', ' Синельниковская улица',\n",
              "       ' Сиреневый бульвар', ' Скатертный переулок',\n",
              "       ' Скорняжный переулок', ' Соймоновский проезд', ' Солнечная аллея',\n",
              "       ' Солнечногорский проезд', ' Сормовский проезд', ' Сосновая аллея',\n",
              "       ' Софийская набережная', ' Союзный проспект',\n",
              "       ' Спартаковская площадь', ' Спартаковский переулок',\n",
              "       ' Спортивная улица', ' Спортивный проезд',\n",
              "       ' Средний Кондратьевский переулок',\n",
              "       ' Средний Овчинниковский переулок',\n",
              "       ' Средняя Калитниковская улица', ' Средняя Первомайская улица',\n",
              "       ' Сретенский тупик', ' Стандартная улица',\n",
              "       ' Староалексеевская улица', ' Староконюшенный переулок',\n",
              "       ' Старомарьинское шоссе', ' Старомонетный переулок',\n",
              "       ' Староникольская улица', ' Старослободская улица',\n",
              "       ' Столовый переулок', ' Стрелецкая улица',\n",
              "       ' Стрельбищенский переулок', ' Стройковская улица',\n",
              "       ' Стромынский переулок', ' Сумская улица', ' Сухонская улица',\n",
              "       ' Таганрогская улица', ' Таможенный проезд', ' Тарусская улица',\n",
              "       ' Тарханская улица', ' Таёжная улица', ' Театральная аллея',\n",
              "       ' Тенистый проезд', ' Тессинский переулок', ' Тестовская улица',\n",
              "       ' Тетеринский переулок', ' Тимирязевский проезд', ' Тихая улица',\n",
              "       ' Тихвинский переулок', ' Тихий тупик', ' Триумфальная площадь',\n",
              "       ' Трифоновская улица', ' Троилинский переулок', ' Троицкая улица',\n",
              "       ' Троицкий бульвар', ' Тургеневская площадь', ' Уржумская улица',\n",
              "       ' Успенский переулок', ' Утренняя улица', ' Учинская улица',\n",
              "       ' Фармацевтический проезд', ' Федеративный проспект',\n",
              "       ' Федоскинская улица', ' Феодосийская улица',\n",
              "       ' Фестивальная улица', ' Физическая улица',\n",
              "       ' Филипповский переулок', ' Фролов переулок', ' Фруктовая улица',\n",
              "       ' Хавская улица', ' Хвалынский бульвар', ' Хилков переулок',\n",
              "       ' Хитровский переулок', ' Хлебный переулок', ' Хлыновский тупик',\n",
              "       ' Хованская улица', ' Хохловский переулок',\n",
              "       ' Центральный проспект', ' Челюскинская улица',\n",
              "       ' Чермянская улица', ' Чермянский проезд',\n",
              "       ' Черниговский переулок', ' Черницынский проезд',\n",
              "       ' Черноморский бульвар', ' Чукотский проезд', ' Чуксин тупик',\n",
              "       ' Шепелюгинская улица', ' Шипиловский проезд',\n",
              "       ' Штурвальная улица', ' Шубинский переулок', ' Щёлковский проезд',\n",
              "       ' Электрический переулок', ' Юбилейная улица', ' Юрловский проезд',\n",
              "       ' Якиманский переулок', ' Ялтинская улица', ' Янтарный проезд',\n",
              "       ' Ясногорская улица', ' Яузский бульвар', ' Яхромская улица',\n",
              "       ' деревня Бабенки', ' деревня Бунчиха', ' деревня Верхнее Валуево',\n",
              "       ' деревня Внуково', ' деревня Голохвастово', ' деревня Десна',\n",
              "       ' деревня Картмазово', ' деревня Колотилово', ' деревня Крёкшино',\n",
              "       ' деревня Ликова', ' деревня Мостовское', ' деревня Поповка',\n",
              "       ' деревня Пыхтино', ' деревня Рассудово',\n",
              "       ' деревня Сенькино-Секерино', ' деревня Столбово',\n",
              "       ' деревня Фоминское', ' деревня Шаганино', ' деревня Яковлевское',\n",
              "       ' деревня Ясенки', ' квартал № 30', ' квартал № 80',\n",
              "       ' переулок Васнецова', ' переулок Красина',\n",
              "       ' переулок Маяковского', ' переулок Расковой',\n",
              "       ' переулок Хользунова', ' площадь Журавлёва', ' посёлок Акулово',\n",
              "       ' посёлок Газопровод', ' посёлок Курилово', ' посёлок Остафьево',\n",
              "       ' посёлок Первомайское', ' проезд Добролюбова',\n",
              "       ' проезд Донелайтиса', ' проезд Досфлота', ' проезд Нансена',\n",
              "       ' проезд Черепановых', ' проезд Якушкина',\n",
              "       ' проектируемый проезд № 1980', ' проспект 40 лет Октября',\n",
              "       ' проспект 60-летия Октября', ' проспект Вернадского',\n",
              "       ' проспект Мира', ' улица 1-й километр Объездной Дороги',\n",
              "       ' улица 800-летия Москвы', ' улица 9 Мая',\n",
              "       ' улица Авиаконструктора Микояна', ' улица Авиаторов',\n",
              "       ' улица Айвазовского', ' улица Академика Арцимовича',\n",
              "       ' улица Академика Комарова', ' улица Академика Опарина',\n",
              "       ' улица Академика Павлова', ' улица Академика Петровского',\n",
              "       ' улица Академика Пилюгина', ' улица Академика Понтрягина',\n",
              "       ' улица Академика Семёнова', ' улица Академика Скрябина',\n",
              "       ' улица Алексея Дикого', ' улица Анатолия Живова',\n",
              "       ' улица Артюхиной', ' улица Атарбекова', ' улица Барклая',\n",
              "       ' улица Благуша', ' улица Богданова', ' улица Богородский Вал',\n",
              "       ' улица Бориса Жигулёнкова', ' улица Брусилова',\n",
              "       ' улица Васильцовский Стан', ' улица Верхние Поля',\n",
              "       ' улица Воронцово Поле', ' улица Вторая Пятилетка',\n",
              "       ' улица Высоцкого', ' улица Гамалеи', ' улица Гарибальди',\n",
              "       ' улица Генерала Ермолова', ' улица Гончарова',\n",
              "       ' улица Госпитальный Вал', ' улица Девятая Рота',\n",
              "       ' улица Демьяна Бедного', ' улица Дмитрия Рябинкина',\n",
              "       ' улица Достоевского', ' улица Дубки', ' улица Евгения Родионова',\n",
              "       ' улица Екатерины Будановой', ' улица Жебрунова',\n",
              "       ' улица Жуковского', ' улица Захарьинские Дворики',\n",
              "       ' улица Зенитчиков', ' улица Знаменка', ' улица Знаменские Садки',\n",
              "       ' улица Инессы Арманд', ' улица Капотня', ' улица Каховка',\n",
              "       ' улица Клочкова', ' улица Коминтерна', ' улица Константинова',\n",
              "       ' улица Корнея Чуковского', ' улица Кошкина',\n",
              "       ' улица Красных Зорь', ' улица Кржижановского',\n",
              "       ' улица Крутицкий Вал', ' улица Кубинка', ' улица Кутузова',\n",
              "       ' улица Кухмистерова', ' улица Лапина', ' улица Лефортовский Вал',\n",
              "       ' улица Линии Октябрьской Железной Дороги', ' улица Льва Яшина',\n",
              "       ' улица Максимова', ' улица Малая Ордынка',\n",
              "       ' улица Малые Каменщики', ' улица Маршала Мерецкова',\n",
              "       ' улица Маршала Новикова', ' улица Марьинский Парк',\n",
              "       ' улица Медведева', ' улица Медиков', ' улица Можайский Вал',\n",
              "       ' улица Молодцова', ' улица Намёткина', ' улица Недорубова',\n",
              "       ' улица Немчинова', ' улица Нижние Поля', ' улица Никитина',\n",
              "       ' улица Николаева', ' улица Новая Дорога', ' улица Павла Андреева',\n",
              "       ' улица Панфилова', ' улица Паперника', ' улица Пивченкова',\n",
              "       ' улица Подвойского', ' улица Подольских Курсантов',\n",
              "       ' улица Полины Осипенко', ' улица Поляны', ' улица Пржевальского',\n",
              "       ' улица Радио', ' улица Раевского', ' улица Ращупкина',\n",
              "       ' улица Ремизова', ' улица Рогова', ' улица Рогожский Посёлок',\n",
              "       ' улица Рокотова', ' улица Рословка', ' улица Ротерта',\n",
              "       ' улица Рудневой', ' улица Савельева', ' улица Сайкина',\n",
              "       ' улица Саляма Адиля', ' улица Советской Армии',\n",
              "       ' улица Старые Кузьминки', ' улица Степана Шутова',\n",
              "       ' улица Строителей', ' улица Сущёвский Вал', ' улица Талалихина',\n",
              "       ' улица Удальцова', ' улица Уткина', ' улица Фадеева',\n",
              "       ' улица Фонвизина', ' улица Фёдора Полетаева', ' улица Шеногина',\n",
              "       ' улица Школа-интернат', ' улица Шумилова', ' улица Шумкина',\n",
              "       ' улица Шухова', ' улица Щорса', ' шоссе Фрезер',\n",
              "       '1-й Нагатинский проезд', '1-я Тверская-Ямская улица',\n",
              "       '5-й Котельнический переулок', 'Алтуфьевское шоссе',\n",
              "       'Большая Бронная улица', 'Большая Серпуховская улица',\n",
              "       'Варшавское шоссе', 'Вознесенский переулок', 'Вспольный переулок',\n",
              "       'Дербеневская улица', 'Калашный переулок', 'Киевская улица',\n",
              "       'Коровинское шоссе', 'Краснобогатырская улица',\n",
              "       'Ленинский проспект', 'Медынская улица', 'Митинская улица',\n",
              "       'Нижний Таганский тупик', 'Новоданиловская набережная',\n",
              "       'Погодинская улица', 'Полевая улица', 'Поречная улица',\n",
              "       'Проектируемый проезд N 5231', 'Профсоюзная улица',\n",
              "       'Садовая-Сухаревская улица', 'Софийская набережная',\n",
              "       'Суворовская площадь', 'Таганская улица', 'Тушинская улица',\n",
              "       'Чертановская улица', 'Шарикоподшипниковская улица',\n",
              "       'Школьная улица', 'проезд Добролюбова', 'улица Земляной Вал',\n",
              "       'улица Знаменка', 'улица Каманина', 'улица Миклухо-Маклая',\n",
              "       'улица Обручева', 'улица Сергея Макеева'], dtype=object)"
            ]
          },
          "execution_count": 124,
          "metadata": {},
          "output_type": "execute_result"
        }
      ]
    },
    {
      "cell_type": "code",
      "metadata": {
        "id": "Q71keHfKTmGK",
        "outputId": "d72b2d2d-b943-486b-e35f-03c3386e1fce"
      },
      "source": [
        "len(one_street_dist['street'].unique())"
      ],
      "execution_count": null,
      "outputs": [
        {
          "data": {
            "text/plain": [
              "707"
            ]
          },
          "execution_count": 125,
          "metadata": {},
          "output_type": "execute_result"
        }
      ]
    },
    {
      "cell_type": "code",
      "metadata": {
        "id": "oCkF8OT2TmGK",
        "outputId": "e8426595-bece-494e-8477-feb72cf8d77d"
      },
      "source": [
        "len(one_street_dist['city_district'].unique())"
      ],
      "execution_count": null,
      "outputs": [
        {
          "data": {
            "text/plain": [
              "112"
            ]
          },
          "execution_count": 126,
          "metadata": {},
          "output_type": "execute_result"
        }
      ]
    },
    {
      "cell_type": "markdown",
      "metadata": {
        "id": "W15_lpdsTmGK"
      },
      "source": [
        "На 707 улицах в 112 районах находится только по 1 заведению."
      ]
    },
    {
      "cell_type": "markdown",
      "metadata": {
        "id": "kjeHoCnRTmGK"
      },
      "source": [
        "**Распределение количества посадочных мест для улиц с большим количеством объектов общественного питания.**"
      ]
    },
    {
      "cell_type": "code",
      "metadata": {
        "scrolled": false,
        "id": "K76ChZDyTmGK",
        "outputId": "b3c067f9-624b-46d6-ac0b-eb8c14c90104"
      },
      "source": [
        "top10_streets_list = top_street10['street'].to_list()\n",
        "top10_streets_data = df.query('street in @top10_streets_list')\n",
        "\n",
        "fig,ax = plt.subplots(figsize = (12,8))\n",
        "plt.title('Распределение количества посадочных мест для улиц с большим количеством объектов общественного питания')\n",
        "ax = sns.boxplot(x = 'number', y = 'street', data = top10_streets_data, palette=\"mako\")\n",
        "ax.set(xlabel='Число объектов общепита', ylabel='Топ-10 улиц с большим количеством объектов общественного питания')\n",
        "ax.set(xlim=(0, 300))\n",
        "ax.yaxis.grid(False) \n",
        "ax.xaxis.grid(True)"
      ],
      "execution_count": null,
      "outputs": [
        {
          "data": {
            "image/png": "[encoded data removed]",
            "text/plain": [
              "<Figure size 864x576 with 1 Axes>"
            ]
          },
          "metadata": {
            "needs_background": "light"
          },
          "output_type": "display_data"
        }
      ]
    },
    {
      "cell_type": "markdown",
      "metadata": {
        "id": "KHzssMcqTmGK"
      },
      "source": [
        "Основное число посадочных мест не доходит до 100. Заведения с бОльным числом посадочных мест находятся на Кутузовском проспекте, проспекте Мира, с меньшим - на Пресненской набережной, Профсоюзной улице, Варшавском шоссе."
      ]
    },
    {
      "cell_type": "code",
      "metadata": {
        "id": "BUqG0DpdTmGK",
        "outputId": "080d2f38-b976-426e-a47d-e533bf32c955"
      },
      "source": [
        "\n",
        "print ('Среднее количество посадочных мест для улиц с большим количеством объектов общественного питания: ',\\\n",
        "      top10_streets_data['number'].median())\n",
        "print ('Среднее количество посадочных мест для всех улиц: ', df['number'].median())"
      ],
      "execution_count": null,
      "outputs": [
        {
          "name": "stdout",
          "output_type": "stream",
          "text": [
            "Среднее количество посадочных мест для улиц с большим количеством объектов общественного питания:  40.0\n",
            "Среднее количество посадочных мест для всех улиц:  40.0\n"
          ]
        }
      ]
    },
    {
      "cell_type": "markdown",
      "metadata": {
        "id": "76N5lobQTmGK"
      },
      "source": [
        "По средним (медианным) значениям разницы в числе посадочных мест нет. Сравним графики."
      ]
    },
    {
      "cell_type": "code",
      "metadata": {
        "id": "MdGkB0mtTmGK",
        "outputId": "6cad1690-05a4-4997-bef4-43b490d06d2e"
      },
      "source": [
        "plt.figure(figsize=(8,5))\n",
        "sns.distplot(top10_streets_data['number'])\n",
        "plt.xlim(0, 300);\n",
        "plt.title('Распределение количества посадочных мест для наиболее проходимых улиц')\n",
        "plt.xlabel(\"Количество посадочных мест\")\n",
        "plt.show()"
      ],
      "execution_count": null,
      "outputs": [
        {
          "data": {
            "image/png": "[encoded data removed]",
            "text/plain": [
              "<Figure size 576x360 with 1 Axes>"
            ]
          },
          "metadata": {
            "needs_background": "light"
          },
          "output_type": "display_data"
        }
      ]
    },
    {
      "cell_type": "code",
      "metadata": {
        "id": "GC5bo12qTmGK",
        "outputId": "dd129312-5541-4adf-cfe8-5c8e2e76d592"
      },
      "source": [
        "plt.figure(figsize=(8,5))\n",
        "sns.distplot(df['number'])\n",
        "plt.xlim(0, 300);\n",
        "plt.title('Распределение количества посадочных мест для всех заведений')\n",
        "plt.xlabel(\"Количество посадочных мест\")\n",
        "plt.show()"
      ],
      "execution_count": null,
      "outputs": [
        {
          "data": {
            "image/png": "[encoded data removed]",
            "text/plain": [
              "<Figure size 576x360 with 1 Axes>"
            ]
          },
          "metadata": {
            "needs_background": "light"
          },
          "output_type": "display_data"
        }
      ]
    },
    {
      "cell_type": "markdown",
      "metadata": {
        "id": "DFAoNlGBTmGK"
      },
      "source": [
        "Нет разницы между количеством посадочных мест для улиц с большим числом объектов общественного питания и для всех улиц. Заметно явное преобладание заведений с числом мест от 0 до 30, основная масса не превышает 100 мест."
      ]
    },
    {
      "cell_type": "markdown",
      "metadata": {
        "id": "1ogI5atVTmGK"
      },
      "source": [
        "**Общий вывод**"
      ]
    },
    {
      "cell_type": "markdown",
      "metadata": {
        "id": "0u89j8zxTmGL"
      },
      "source": [
        "В Москве больше всего объектов общественного питания типа кафе, 6099, что в 2,3 раза больше, чем столовых, их 2587. На третьем месте рестораны, 2285. Самые нераспространенные объекты - отдел кулинарии в магазине, их 273.\n",
        " \n",
        "Несетевых объектов в 4,2 раза больше, чем сетевых, 81% и 19% соответственно.\n",
        " \n",
        "Из сетевых заведений самыми распространенными являются предприятия быстрого питания (41%), отделы кулинарии (29%)  и рестораны (24%). Сетевых столовых практически нет.\n",
        " \n",
        "В среднем в сетевых заведениях 40 посадочных мест. Их количество колеблется от 0 до 580, но это значение является аномальным. У 7ми типов объектов сетевого общепита основное количество посадочных мест не доходит до 100, и только у двух - превышает 100 - у ресторанов и столовых. Также для 90% сетевых заведений характерно иметь не более 10 заведений в сети. Для 60% сетевых заведений характерное число посадочных мест не превышает 50.\n",
        " \n",
        "При рассмотрении всех заведений можно сделать вывод, что столовые предоставляют в среднем самое большое количество посадочных мест (103), затем идут рестораны (80) и бары (35).\n",
        " \n",
        "В топ-10 улиц по количеству объектов общественного питания входят проспект Мира (204), Профсоюзная улица (182),  Ленинградский проспект (171),  Пресненская набережная (167), Варшавское шоссе (164), Ленинский проспект (147),  проспект Вернадского (132),  Кутузовский проспект (114),  Каширское шоссе (112),  Кировоградская улица (110).  Самое большее количество объектов общественного питания расположены в следующих районах Москвы: Пресненский, Свиблово, Чертаново Центральное, Фили-Давыдково, Раменки, Черемушки, Обручевский, Тропарево-Никулино, Аэропорт, Дорогомилово.\n",
        " \n",
        "На 707 улицах в 112 районах находится только по 1 заведению общественного питания.\n",
        " \n",
        "Заведения с бОльным числом посадочных мест находятся на Кутузовском проспекте, проспекте Мира, с меньшим - на Пресненской набережной, Профсоюзной улице, Варшавском шоссе. Основное число посадочных мест не доходит до 100. \n",
        " \n",
        "Мы не выявили разницы между количеством посадочных мест для улиц с большим числом объектов общественного питания и для всех улиц. Заметно явное преобладание заведений с числом мест от 0 до 30, основная масса не превышает 100 мест.\n",
        "\n",
        " \n"
      ]
    },
    {
      "cell_type": "markdown",
      "metadata": {
        "id": "HdIBxKeNTmGL"
      },
      "source": [
        "**Рекомендации**"
      ]
    },
    {
      "cell_type": "markdown",
      "metadata": {
        "id": "tELMFBBZTmGL"
      },
      "source": [
        "Исходя из полученных данных, можно рекомендовать среднестатистические параметры для нового заведения: тип - кафе или ресторан, число посадочных мест - 40 для кафе и 60 - 70 для ресторана, несетевое. \n",
        "\n",
        "Для открытия первого заведения стоит рассматривать улицы с большой проходимостью, на которых расположено много объектов общественного питания: проспект Мира, Профсоюзную улицу,  Ленинградский проспект,  Пресненскую набережную, Варшавское шоссе.\n",
        "\n",
        "Самое большее количество объектов общественного питания расположены в следующих районах Москвы: Пресненский, Свиблово, Чертаново Центральное, Фили-Давыдково, Раменки.\n",
        "\n"
      ]
    },
    {
      "cell_type": "markdown",
      "metadata": {
        "id": "MoFyVjqaTmGL"
      },
      "source": [
        "**ПРЕЗЕНТАЦИЯ:** https://drive.google.com/file/d/1G4wejRK5Na7jIcoYZBVYNXfbnjBotju9/view?usp=sharing"
      ]
    },
    {
      "cell_type": "code",
      "metadata": {
        "id": "hC6m1U9XTmGL"
      },
      "source": [
        ""
      ],
      "execution_count": null,
      "outputs": []
    }
  ]
}